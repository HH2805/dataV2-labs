{
 "cells": [
  {
   "cell_type": "markdown",
   "metadata": {},
   "source": [
    "# Handling Skewed Data"
   ]
  },
  {
   "cell_type": "code",
   "execution_count": 36,
   "metadata": {},
   "outputs": [],
   "source": [
    "import numpy as np"
   ]
  },
  {
   "cell_type": "code",
   "execution_count": 37,
   "metadata": {},
   "outputs": [],
   "source": [
    "pareto = np.random.pareto(a=3, size=1000)"
   ]
  },
  {
   "cell_type": "code",
   "execution_count": 38,
   "metadata": {},
   "outputs": [],
   "source": [
    "import matplotlib.pyplot as plt\n",
    "%matplotlib inline"
   ]
  },
  {
   "cell_type": "code",
   "execution_count": 39,
   "metadata": {},
   "outputs": [
    {
     "data": {
      "text/plain": [
       "(array([216., 173., 109., 113.,  64.,  60.,  50.,  23.,  21.,  20.,  20.,\n",
       "         21.,   6.,   9.,   9.,   5.,  11.,  12.,   3.,   2.,   1.,   6.,\n",
       "          4.,   5.,   5.,   3.,   1.,   3.,   1.,   3.,   3.,   1.,   2.,\n",
       "          0.,   1.,   0.,   0.,   1.,   1.,   1.,   1.,   1.,   1.,   0.,\n",
       "          0.,   0.,   1.,   0.,   0.,   0.,   0.,   0.,   0.,   1.,   0.,\n",
       "          0.,   1.,   1.,   0.,   1.,   0.,   0.,   0.,   0.,   0.,   0.,\n",
       "          0.,   0.,   0.,   0.,   0.,   0.,   0.,   0.,   0.,   0.,   0.,\n",
       "          0.,   0.,   0.,   0.,   0.,   0.,   0.,   1.,   0.,   0.,   0.,\n",
       "          0.,   0.,   0.,   0.,   1.,   0.,   0.,   0.,   0.,   0.,   0.,\n",
       "          0.,   0.,   0.,   0.,   0.,   0.,   1.]),\n",
       " array([7.65906462e-04, 9.26193254e-02, 1.84472744e-01, 2.76326163e-01,\n",
       "        3.68179582e-01, 4.60033001e-01, 5.51886420e-01, 6.43739839e-01,\n",
       "        7.35593258e-01, 8.27446677e-01, 9.19300096e-01, 1.01115351e+00,\n",
       "        1.10300693e+00, 1.19486035e+00, 1.28671377e+00, 1.37856719e+00,\n",
       "        1.47042061e+00, 1.56227403e+00, 1.65412745e+00, 1.74598087e+00,\n",
       "        1.83783429e+00, 1.92968770e+00, 2.02154112e+00, 2.11339454e+00,\n",
       "        2.20524796e+00, 2.29710138e+00, 2.38895480e+00, 2.48080822e+00,\n",
       "        2.57266164e+00, 2.66451506e+00, 2.75636848e+00, 2.84822189e+00,\n",
       "        2.94007531e+00, 3.03192873e+00, 3.12378215e+00, 3.21563557e+00,\n",
       "        3.30748899e+00, 3.39934241e+00, 3.49119583e+00, 3.58304925e+00,\n",
       "        3.67490266e+00, 3.76675608e+00, 3.85860950e+00, 3.95046292e+00,\n",
       "        4.04231634e+00, 4.13416976e+00, 4.22602318e+00, 4.31787660e+00,\n",
       "        4.40973002e+00, 4.50158344e+00, 4.59343685e+00, 4.68529027e+00,\n",
       "        4.77714369e+00, 4.86899711e+00, 4.96085053e+00, 5.05270395e+00,\n",
       "        5.14455737e+00, 5.23641079e+00, 5.32826421e+00, 5.42011762e+00,\n",
       "        5.51197104e+00, 5.60382446e+00, 5.69567788e+00, 5.78753130e+00,\n",
       "        5.87938472e+00, 5.97123814e+00, 6.06309156e+00, 6.15494498e+00,\n",
       "        6.24679840e+00, 6.33865181e+00, 6.43050523e+00, 6.52235865e+00,\n",
       "        6.61421207e+00, 6.70606549e+00, 6.79791891e+00, 6.88977233e+00,\n",
       "        6.98162575e+00, 7.07347917e+00, 7.16533259e+00, 7.25718600e+00,\n",
       "        7.34903942e+00, 7.44089284e+00, 7.53274626e+00, 7.62459968e+00,\n",
       "        7.71645310e+00, 7.80830652e+00, 7.90015994e+00, 7.99201336e+00,\n",
       "        8.08386677e+00, 8.17572019e+00, 8.26757361e+00, 8.35942703e+00,\n",
       "        8.45128045e+00, 8.54313387e+00, 8.63498729e+00, 8.72684071e+00,\n",
       "        8.81869413e+00, 8.91054755e+00, 9.00240096e+00, 9.09425438e+00,\n",
       "        9.18610780e+00, 9.27796122e+00, 9.36981464e+00, 9.46166806e+00,\n",
       "        9.55352148e+00, 9.64537490e+00, 9.73722832e+00]),\n",
       " <BarContainer object of 106 artists>)"
      ]
     },
     "execution_count": 39,
     "metadata": {},
     "output_type": "execute_result"
    },
    {
     "data": {
      "image/png": "[encoded data removed]",
      "text/plain": [
       "<Figure size 432x288 with 1 Axes>"
      ]
     },
     "metadata": {
      "needs_background": "light"
     },
     "output_type": "display_data"
    }
   ],
   "source": [
    "plt.hist(pareto, bins='auto')"
   ]
  },
  {
   "cell_type": "code",
   "execution_count": 41,
   "metadata": {},
   "outputs": [],
   "source": [
    "import pandas as pd"
   ]
  },
  {
   "cell_type": "code",
   "execution_count": 42,
   "metadata": {},
   "outputs": [
    {
     "data": {
      "text/html": [
       "<div>\n",
       "<style scoped>\n",
       "    .dataframe tbody tr th:only-of-type {\n",
       "        vertical-align: middle;\n",
       "    }\n",
       "\n",
       "    .dataframe tbody tr th {\n",
       "        vertical-align: top;\n",
       "    }\n",
       "\n",
       "    .dataframe thead th {\n",
       "        text-align: right;\n",
       "    }\n",
       "</style>\n",
       "<table border=\"1\" class=\"dataframe\">\n",
       "  <thead>\n",
       "    <tr style=\"text-align: right;\">\n",
       "      <th></th>\n",
       "      <th>0</th>\n",
       "    </tr>\n",
       "  </thead>\n",
       "  <tbody>\n",
       "    <tr>\n",
       "      <th>count</th>\n",
       "      <td>1000.000000</td>\n",
       "    </tr>\n",
       "    <tr>\n",
       "      <th>mean</th>\n",
       "      <td>0.517936</td>\n",
       "    </tr>\n",
       "    <tr>\n",
       "      <th>std</th>\n",
       "      <td>0.808735</td>\n",
       "    </tr>\n",
       "    <tr>\n",
       "      <th>min</th>\n",
       "      <td>0.000766</td>\n",
       "    </tr>\n",
       "    <tr>\n",
       "      <th>25%</th>\n",
       "      <td>0.106195</td>\n",
       "    </tr>\n",
       "    <tr>\n",
       "      <th>50%</th>\n",
       "      <td>0.278889</td>\n",
       "    </tr>\n",
       "    <tr>\n",
       "      <th>75%</th>\n",
       "      <td>0.568746</td>\n",
       "    </tr>\n",
       "    <tr>\n",
       "      <th>max</th>\n",
       "      <td>9.737228</td>\n",
       "    </tr>\n",
       "  </tbody>\n",
       "</table>\n",
       "</div>"
      ],
      "text/plain": [
       "                 0\n",
       "count  1000.000000\n",
       "mean      0.517936\n",
       "std       0.808735\n",
       "min       0.000766\n",
       "25%       0.106195\n",
       "50%       0.278889\n",
       "75%       0.568746\n",
       "max       9.737228"
      ]
     },
     "execution_count": 42,
     "metadata": {},
     "output_type": "execute_result"
    }
   ],
   "source": [
    "pd.DataFrame(pareto).describe()"
   ]
  },
  {
   "cell_type": "code",
   "execution_count": 43,
   "metadata": {},
   "outputs": [
    {
     "data": {
      "text/plain": [
       "(array([  2.,   2.,   2.,   1.,   0.,   4.,  11.,   8.,  12.,   9.,  21.,\n",
       "         25.,  32.,  40.,  68.,  73.,  92.,  93., 120., 102.,  89.,  62.,\n",
       "         46.,  34.,  28.,  13.,   5.,   3.,   3.]),\n",
       " array([-7.17445051e+00, -6.84857440e+00, -6.52269830e+00, -6.19682220e+00,\n",
       "        -5.87094609e+00, -5.54506999e+00, -5.21919388e+00, -4.89331778e+00,\n",
       "        -4.56744168e+00, -4.24156557e+00, -3.91568947e+00, -3.58981336e+00,\n",
       "        -3.26393726e+00, -2.93806116e+00, -2.61218505e+00, -2.28630895e+00,\n",
       "        -1.96043284e+00, -1.63455674e+00, -1.30868063e+00, -9.82804531e-01,\n",
       "        -6.56928427e-01, -3.31052323e-01, -5.17621850e-03,  3.20699886e-01,\n",
       "         6.46575990e-01,  9.72452094e-01,  1.29832820e+00,  1.62420430e+00,\n",
       "         1.95008041e+00,  2.27595651e+00]),\n",
       " <BarContainer object of 29 artists>)"
      ]
     },
     "execution_count": 43,
     "metadata": {},
     "output_type": "execute_result"
    },
    {
     "data": {
      "image/png": "[encoded data removed]",
      "text/plain": [
       "<Figure size 432x288 with 1 Axes>"
      ]
     },
     "metadata": {
      "needs_background": "light"
     },
     "output_type": "display_data"
    }
   ],
   "source": [
    "plt.hist(np.log(pareto), bins='auto')"
   ]
  },
  {
   "cell_type": "code",
   "execution_count": 46,
   "metadata": {},
   "outputs": [
    {
     "data": {
      "text/plain": [
       "(array([  4.,   2.,   1.,   9.,  12.,  16.,  17.,  28.,  40.,  44.,  85.,\n",
       "         82.,  90.,  96., 115.,  95.,  73.,  59.,  41.,  34.,  21.,  19.,\n",
       "          7.,   3.,   4.,   0.,   3.]),\n",
       " array([0.48799747, 0.51642636, 0.54485526, 0.57328415, 0.60171304,\n",
       "        0.63014193, 0.65857082, 0.68699971, 0.7154286 , 0.74385749,\n",
       "        0.77228638, 0.80071527, 0.82914417, 0.85757306, 0.88600195,\n",
       "        0.91443084, 0.94285973, 0.97128862, 0.99971751, 1.0281464 ,\n",
       "        1.05657529, 1.08500419, 1.11343308, 1.14186197, 1.17029086,\n",
       "        1.19871975, 1.22714864, 1.25557753]),\n",
       " <BarContainer object of 27 artists>)"
      ]
     },
     "execution_count": 46,
     "metadata": {},
     "output_type": "execute_result"
    },
    {
     "data": {
      "image/png": "[encoded data removed]",
      "text/plain": [
       "<Figure size 432x288 with 1 Axes>"
      ]
     },
     "metadata": {
      "needs_background": "light"
     },
     "output_type": "display_data"
    }
   ],
   "source": [
    "plt.hist(np.power(pareto, 1/10), bins='auto')"
   ]
  },
  {
   "cell_type": "code",
   "execution_count": 14,
   "metadata": {},
   "outputs": [],
   "source": [
    "from scipy.stats import skewnorm"
   ]
  },
  {
   "cell_type": "code",
   "execution_count": 31,
   "metadata": {},
   "outputs": [],
   "source": [
    "skewed = skewnorm.rvs(-10, size=1000) "
   ]
  },
  {
   "cell_type": "code",
   "execution_count": 47,
   "metadata": {},
   "outputs": [
    {
     "data": {
      "text/plain": [
       "(array([  2.,   0.,   1.,   0.,   3.,   3.,   8.,  10.,  14.,  25.,  34.,\n",
       "         46.,  55.,  73.,  73.,  85., 111., 116., 125., 135.,  69.,  12.]),\n",
       " array([-3.64275381, -3.46524976, -3.28774571, -3.11024166, -2.93273761,\n",
       "        -2.75523355, -2.5777295 , -2.40022545, -2.2227214 , -2.04521735,\n",
       "        -1.8677133 , -1.69020924, -1.51270519, -1.33520114, -1.15769709,\n",
       "        -0.98019304, -0.80268899, -0.62518494, -0.44768088, -0.27017683,\n",
       "        -0.09267278,  0.08483127,  0.26233532]),\n",
       " <BarContainer object of 22 artists>)"
      ]
     },
     "execution_count": 47,
     "metadata": {},
     "output_type": "execute_result"
    },
    {
     "data": {
      "image/png": "[encoded data removed]",
      "text/plain": [
       "<Figure size 432x288 with 1 Axes>"
      ]
     },
     "metadata": {
      "needs_background": "light"
     },
     "output_type": "display_data"
    }
   ],
   "source": [
    "plt.hist(skewed, bins='auto')"
   ]
  },
  {
   "cell_type": "code",
   "execution_count": 48,
   "metadata": {},
   "outputs": [
    {
     "data": {
      "text/plain": [
       "(array([  2.,   0.,   1.,   0.,   3.,   3.,   8.,  10.,  14.,  25.,  34.,\n",
       "         46.,  55.,  73.,  73.,  85., 111., 116., 125., 135.,  69.,  12.]),\n",
       " array([ 6.35724619,  6.53475024,  6.71225429,  6.88975834,  7.06726239,\n",
       "         7.24476645,  7.4222705 ,  7.59977455,  7.7772786 ,  7.95478265,\n",
       "         8.1322867 ,  8.30979076,  8.48729481,  8.66479886,  8.84230291,\n",
       "         9.01980696,  9.19731101,  9.37481506,  9.55231912,  9.72982317,\n",
       "         9.90732722, 10.08483127, 10.26233532]),\n",
       " <BarContainer object of 22 artists>)"
      ]
     },
     "execution_count": 48,
     "metadata": {},
     "output_type": "execute_result"
    },
    {
     "data": {
      "image/png": "[encoded data removed]",
      "text/plain": [
       "<Figure size 432x288 with 1 Axes>"
      ]
     },
     "metadata": {
      "needs_background": "light"
     },
     "output_type": "display_data"
    }
   ],
   "source": [
    "plt.hist(skewed + 10, bins='auto')"
   ]
  },
  {
   "cell_type": "code",
   "execution_count": 49,
   "metadata": {},
   "outputs": [
    {
     "data": {
      "text/plain": [
       "(array([ 28.,  85., 113., 114.,  93., 111.,  95.,  93.,  86.,  74.,  56.,\n",
       "         29.,  17.,   4.,   2.]),\n",
       " array([  576.65616508,  2447.11754087,  4317.57891666,  6188.04029245,\n",
       "         8058.50166824,  9928.96304403, 11799.42441982, 13669.88579561,\n",
       "        15540.3471714 , 17410.80854719, 19281.26992298, 21151.73129877,\n",
       "        23022.19267456, 24892.65405035, 26763.11542614, 28633.57680193]),\n",
       " <BarContainer object of 15 artists>)"
      ]
     },
     "execution_count": 49,
     "metadata": {},
     "output_type": "execute_result"
    },
    {
     "data": {
      "image/png": "[encoded data removed]",
      "text/plain": [
       "<Figure size 432x288 with 1 Axes>"
      ]
     },
     "metadata": {
      "needs_background": "light"
     },
     "output_type": "display_data"
    }
   ],
   "source": [
    "plt.hist(np.exp(skewed + 10), bins='auto')"
   ]
  },
  {
   "cell_type": "code",
   "execution_count": 53,
   "metadata": {},
   "outputs": [
    {
     "data": {
      "text/plain": [
       "(array([  8.,  30.,  62.,  85.,  96.,  87.,  96., 105., 106.,  96., 101.,\n",
       "         73.,  38.,  14.,   3.]),\n",
       " array([  419646.11834563,  1190826.78598226,  1962007.4536189 ,\n",
       "         2733188.12125554,  3504368.78889218,  4275549.45652881,\n",
       "         5046730.12416545,  5817910.79180209,  6589091.45943873,\n",
       "         7360272.12707536,  8131452.794712  ,  8902633.46234864,\n",
       "         9673814.12998528, 10444994.79762192, 11216175.46525855,\n",
       "        11987356.13289519]),\n",
       " <BarContainer object of 15 artists>)"
      ]
     },
     "execution_count": 53,
     "metadata": {},
     "output_type": "execute_result"
    },
    {
     "data": {
      "image/png": "[encoded data removed]",
      "text/plain": [
       "<Figure size 432x288 with 1 Axes>"
      ]
     },
     "metadata": {
      "needs_background": "light"
     },
     "output_type": "display_data"
    }
   ],
   "source": [
    "plt.hist((skewed + 10)**7, bins='auto')"
   ]
  },
  {
   "cell_type": "code",
   "execution_count": 100,
   "metadata": {},
   "outputs": [],
   "source": [
    "x = np.linspace(0.5, 1, 100)"
   ]
  },
  {
   "cell_type": "code",
   "execution_count": 101,
   "metadata": {},
   "outputs": [
    {
     "data": {
      "text/plain": [
       "array([0.5       , 0.50505051, 0.51010101, 0.51515152, 0.52020202,\n",
       "       0.52525253, 0.53030303, 0.53535354, 0.54040404, 0.54545455,\n",
       "       0.55050505, 0.55555556, 0.56060606, 0.56565657, 0.57070707,\n",
       "       0.57575758, 0.58080808, 0.58585859, 0.59090909, 0.5959596 ,\n",
       "       0.6010101 , 0.60606061, 0.61111111, 0.61616162, 0.62121212,\n",
       "       0.62626263, 0.63131313, 0.63636364, 0.64141414, 0.64646465,\n",
       "       0.65151515, 0.65656566, 0.66161616, 0.66666667, 0.67171717,\n",
       "       0.67676768, 0.68181818, 0.68686869, 0.69191919, 0.6969697 ,\n",
       "       0.7020202 , 0.70707071, 0.71212121, 0.71717172, 0.72222222,\n",
       "       0.72727273, 0.73232323, 0.73737374, 0.74242424, 0.74747475,\n",
       "       0.75252525, 0.75757576, 0.76262626, 0.76767677, 0.77272727,\n",
       "       0.77777778, 0.78282828, 0.78787879, 0.79292929, 0.7979798 ,\n",
       "       0.8030303 , 0.80808081, 0.81313131, 0.81818182, 0.82323232,\n",
       "       0.82828283, 0.83333333, 0.83838384, 0.84343434, 0.84848485,\n",
       "       0.85353535, 0.85858586, 0.86363636, 0.86868687, 0.87373737,\n",
       "       0.87878788, 0.88383838, 0.88888889, 0.89393939, 0.8989899 ,\n",
       "       0.9040404 , 0.90909091, 0.91414141, 0.91919192, 0.92424242,\n",
       "       0.92929293, 0.93434343, 0.93939394, 0.94444444, 0.94949495,\n",
       "       0.95454545, 0.95959596, 0.96464646, 0.96969697, 0.97474747,\n",
       "       0.97979798, 0.98484848, 0.98989899, 0.99494949, 1.        ])"
      ]
     },
     "execution_count": 101,
     "metadata": {},
     "output_type": "execute_result"
    }
   ],
   "source": [
    "x"
   ]
  },
  {
   "cell_type": "code",
   "execution_count": 106,
   "metadata": {},
   "outputs": [],
   "source": [
    "y = x ** 10 + 0.15 *np.random.randn(len(x))"
   ]
  },
  {
   "cell_type": "code",
   "execution_count": 107,
   "metadata": {},
   "outputs": [],
   "source": [
    "df = pd.DataFrame({'x': x, 'y': y})"
   ]
  },
  {
   "cell_type": "code",
   "execution_count": 108,
   "metadata": {},
   "outputs": [],
   "source": [
    "import seaborn as sns"
   ]
  },
  {
   "cell_type": "code",
   "execution_count": 109,
   "metadata": {},
   "outputs": [
    {
     "data": {
      "text/plain": [
       "<AxesSubplot:xlabel='x', ylabel='y'>"
      ]
     },
     "execution_count": 109,
     "metadata": {},
     "output_type": "execute_result"
    },
    {
     "data": {
      "image/png": "[encoded data removed]",
      "text/plain": [
       "<Figure size 432x288 with 1 Axes>"
      ]
     },
     "metadata": {
      "needs_background": "light"
     },
     "output_type": "display_data"
    }
   ],
   "source": [
    "sns.scatterplot(x='x', y='y', data=df)"
   ]
  },
  {
   "cell_type": "code",
   "execution_count": 110,
   "metadata": {},
   "outputs": [
    {
     "data": {
      "text/html": [
       "<div>\n",
       "<style scoped>\n",
       "    .dataframe tbody tr th:only-of-type {\n",
       "        vertical-align: middle;\n",
       "    }\n",
       "\n",
       "    .dataframe tbody tr th {\n",
       "        vertical-align: top;\n",
       "    }\n",
       "\n",
       "    .dataframe thead th {\n",
       "        text-align: right;\n",
       "    }\n",
       "</style>\n",
       "<table border=\"1\" class=\"dataframe\">\n",
       "  <thead>\n",
       "    <tr style=\"text-align: right;\">\n",
       "      <th></th>\n",
       "      <th>x</th>\n",
       "      <th>y</th>\n",
       "    </tr>\n",
       "  </thead>\n",
       "  <tbody>\n",
       "    <tr>\n",
       "      <th>x</th>\n",
       "      <td>1.000000</td>\n",
       "      <td>0.735485</td>\n",
       "    </tr>\n",
       "    <tr>\n",
       "      <th>y</th>\n",
       "      <td>0.735485</td>\n",
       "      <td>1.000000</td>\n",
       "    </tr>\n",
       "  </tbody>\n",
       "</table>\n",
       "</div>"
      ],
      "text/plain": [
       "          x         y\n",
       "x  1.000000  0.735485\n",
       "y  0.735485  1.000000"
      ]
     },
     "execution_count": 110,
     "metadata": {},
     "output_type": "execute_result"
    }
   ],
   "source": [
    "df.corr()"
   ]
  },
  {
   "cell_type": "code",
   "execution_count": 111,
   "metadata": {},
   "outputs": [
    {
     "name": "stderr",
     "output_type": "stream",
     "text": [
      "/Users/work/.local/share/virtualenvs/ironhack-UuIfidyp/lib/python3.7/site-packages/pandas/core/series.py:726: RuntimeWarning: invalid value encountered in sqrt\n",
      "  result = getattr(ufunc, method)(*inputs, **kwargs)\n"
     ]
    },
    {
     "data": {
      "text/plain": [
       "<AxesSubplot:xlabel='x', ylabel='y'>"
      ]
     },
     "execution_count": 111,
     "metadata": {},
     "output_type": "execute_result"
    },
    {
     "data": {
      "image/png": "[encoded data removed]",
      "text/plain": [
       "<Figure size 432x288 with 1 Axes>"
      ]
     },
     "metadata": {
      "needs_background": "light"
     },
     "output_type": "display_data"
    }
   ],
   "source": [
    "sns.scatterplot(x='x', y=np.sqrt(df['y']), data=df)"
   ]
  },
  {
   "cell_type": "code",
   "execution_count": 120,
   "metadata": {},
   "outputs": [],
   "source": [
    "df['sqrt'] = np.power(df['y'], 1/4)"
   ]
  },
  {
   "cell_type": "code",
   "execution_count": 121,
   "metadata": {},
   "outputs": [
    {
     "data": {
      "text/html": [
       "<div>\n",
       "<style scoped>\n",
       "    .dataframe tbody tr th:only-of-type {\n",
       "        vertical-align: middle;\n",
       "    }\n",
       "\n",
       "    .dataframe tbody tr th {\n",
       "        vertical-align: top;\n",
       "    }\n",
       "\n",
       "    .dataframe thead th {\n",
       "        text-align: right;\n",
       "    }\n",
       "</style>\n",
       "<table border=\"1\" class=\"dataframe\">\n",
       "  <thead>\n",
       "    <tr style=\"text-align: right;\">\n",
       "      <th></th>\n",
       "      <th>x</th>\n",
       "      <th>y</th>\n",
       "      <th>sqrt</th>\n",
       "    </tr>\n",
       "  </thead>\n",
       "  <tbody>\n",
       "    <tr>\n",
       "      <th>x</th>\n",
       "      <td>1.000000</td>\n",
       "      <td>0.735485</td>\n",
       "      <td>0.793946</td>\n",
       "    </tr>\n",
       "    <tr>\n",
       "      <th>y</th>\n",
       "      <td>0.735485</td>\n",
       "      <td>1.000000</td>\n",
       "      <td>0.916771</td>\n",
       "    </tr>\n",
       "    <tr>\n",
       "      <th>sqrt</th>\n",
       "      <td>0.793946</td>\n",
       "      <td>0.916771</td>\n",
       "      <td>1.000000</td>\n",
       "    </tr>\n",
       "  </tbody>\n",
       "</table>\n",
       "</div>"
      ],
      "text/plain": [
       "             x         y      sqrt\n",
       "x     1.000000  0.735485  0.793946\n",
       "y     0.735485  1.000000  0.916771\n",
       "sqrt  0.793946  0.916771  1.000000"
      ]
     },
     "execution_count": 121,
     "metadata": {},
     "output_type": "execute_result"
    }
   ],
   "source": [
    "df.corr()"
   ]
  },
  {
   "cell_type": "code",
   "execution_count": null,
   "metadata": {},
   "outputs": [],
   "source": []
  }
 ],
 "metadata": {
  "kernelspec": {
   "display_name": "Python 3",
   "language": "python",
   "name": "python3"
  },
  "language_info": {
   "codemirror_mode": {
    "name": "ipython",
    "version": 3
   },
   "file_extension": ".py",
   "mimetype": "text/x-python",
   "name": "python",
   "nbconvert_exporter": "python",
   "pygments_lexer": "ipython3",
   "version": "3.7.9"
  }
 },
 "nbformat": 4,
 "nbformat_minor": 4
}
