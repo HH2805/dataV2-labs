{
 "cells": [
  {
   "cell_type": "markdown",
   "metadata": {},
   "source": [
    "# Handling Skewed Data"
   ]
  },
  {
   "cell_type": "code",
   "execution_count": 1,
   "metadata": {},
   "outputs": [],
   "source": [
    "import numpy as np\n",
    "import matplotlib.pyplot as plt\n",
    "%matplotlib inline"
   ]
  },
  {
   "cell_type": "code",
   "execution_count": 2,
   "metadata": {},
   "outputs": [],
   "source": [
    "pareto = np.random.pareto(a=3, size=1000)"
   ]
  },
  {
   "cell_type": "code",
   "execution_count": 3,
   "metadata": {},
   "outputs": [
    {
     "data": {
      "text/plain": [
       "(array([244., 164., 113.,  91.,  73.,  57.,  39.,  38.,  34.,  19.,  15.,\n",
       "         21.,  14.,   9.,   8.,   6.,   6.,   9.,   2.,   3.,   2.,   2.,\n",
       "          1.,   2.,   4.,   5.,   2.,   3.,   1.,   1.,   1.,   0.,   1.,\n",
       "          0.,   0.,   0.,   0.,   0.,   1.,   0.,   0.,   0.,   0.,   0.,\n",
       "          1.,   0.,   0.,   0.,   0.,   1.,   0.,   1.,   0.,   0.,   0.,\n",
       "          0.,   0.,   1.,   0.,   1.,   0.,   1.,   0.,   0.,   1.,   0.,\n",
       "          1.,   0.,   0.,   0.,   0.,   0.,   0.,   0.,   0.,   0.,   0.,\n",
       "          0.,   0.,   0.,   0.,   0.,   0.,   0.,   0.,   0.,   0.,   0.,\n",
       "          0.,   0.,   0.,   0.,   0.,   0.,   1.]),\n",
       " array([4.53696951e-04, 9.90819206e-02, 1.97710144e-01, 2.96338368e-01,\n",
       "        3.94966592e-01, 4.93594815e-01, 5.92223039e-01, 6.90851263e-01,\n",
       "        7.89479486e-01, 8.88107710e-01, 9.86735934e-01, 1.08536416e+00,\n",
       "        1.18399238e+00, 1.28262060e+00, 1.38124883e+00, 1.47987705e+00,\n",
       "        1.57850528e+00, 1.67713350e+00, 1.77576172e+00, 1.87438995e+00,\n",
       "        1.97301817e+00, 2.07164639e+00, 2.17027462e+00, 2.26890284e+00,\n",
       "        2.36753107e+00, 2.46615929e+00, 2.56478751e+00, 2.66341574e+00,\n",
       "        2.76204396e+00, 2.86067218e+00, 2.95930041e+00, 3.05792863e+00,\n",
       "        3.15655685e+00, 3.25518508e+00, 3.35381330e+00, 3.45244153e+00,\n",
       "        3.55106975e+00, 3.64969797e+00, 3.74832620e+00, 3.84695442e+00,\n",
       "        3.94558264e+00, 4.04421087e+00, 4.14283909e+00, 4.24146732e+00,\n",
       "        4.34009554e+00, 4.43872376e+00, 4.53735199e+00, 4.63598021e+00,\n",
       "        4.73460843e+00, 4.83323666e+00, 4.93186488e+00, 5.03049310e+00,\n",
       "        5.12912133e+00, 5.22774955e+00, 5.32637778e+00, 5.42500600e+00,\n",
       "        5.52363422e+00, 5.62226245e+00, 5.72089067e+00, 5.81951889e+00,\n",
       "        5.91814712e+00, 6.01677534e+00, 6.11540356e+00, 6.21403179e+00,\n",
       "        6.31266001e+00, 6.41128824e+00, 6.50991646e+00, 6.60854468e+00,\n",
       "        6.70717291e+00, 6.80580113e+00, 6.90442935e+00, 7.00305758e+00,\n",
       "        7.10168580e+00, 7.20031403e+00, 7.29894225e+00, 7.39757047e+00,\n",
       "        7.49619870e+00, 7.59482692e+00, 7.69345514e+00, 7.79208337e+00,\n",
       "        7.89071159e+00, 7.98933981e+00, 8.08796804e+00, 8.18659626e+00,\n",
       "        8.28522449e+00, 8.38385271e+00, 8.48248093e+00, 8.58110916e+00,\n",
       "        8.67973738e+00, 8.77836560e+00, 8.87699383e+00, 8.97562205e+00,\n",
       "        9.07425028e+00, 9.17287850e+00, 9.27150672e+00, 9.37013495e+00]),\n",
       " <BarContainer object of 95 artists>)"
      ]
     },
     "execution_count": 3,
     "metadata": {},
     "output_type": "execute_result"
    },
    {
     "data": {
      "image/png": "[encoded data removed]",
      "text/plain": [
       "<Figure size 432x288 with 1 Axes>"
      ]
     },
     "metadata": {
      "needs_background": "light"
     },
     "output_type": "display_data"
    }
   ],
   "source": [
    "plt.hist(pareto, bins='auto')"
   ]
  },
  {
   "cell_type": "code",
   "execution_count": 4,
   "metadata": {},
   "outputs": [],
   "source": [
    "import pandas as pd"
   ]
  },
  {
   "cell_type": "code",
   "execution_count": 5,
   "metadata": {},
   "outputs": [
    {
     "data": {
      "text/html": [
       "<div>\n",
       "<style scoped>\n",
       "    .dataframe tbody tr th:only-of-type {\n",
       "        vertical-align: middle;\n",
       "    }\n",
       "\n",
       "    .dataframe tbody tr th {\n",
       "        vertical-align: top;\n",
       "    }\n",
       "\n",
       "    .dataframe thead th {\n",
       "        text-align: right;\n",
       "    }\n",
       "</style>\n",
       "<table border=\"1\" class=\"dataframe\">\n",
       "  <thead>\n",
       "    <tr style=\"text-align: right;\">\n",
       "      <th></th>\n",
       "      <th>0</th>\n",
       "    </tr>\n",
       "  </thead>\n",
       "  <tbody>\n",
       "    <tr>\n",
       "      <th>count</th>\n",
       "      <td>1000.000000</td>\n",
       "    </tr>\n",
       "    <tr>\n",
       "      <th>mean</th>\n",
       "      <td>0.500278</td>\n",
       "    </tr>\n",
       "    <tr>\n",
       "      <th>std</th>\n",
       "      <td>0.752292</td>\n",
       "    </tr>\n",
       "    <tr>\n",
       "      <th>min</th>\n",
       "      <td>0.000454</td>\n",
       "    </tr>\n",
       "    <tr>\n",
       "      <th>25%</th>\n",
       "      <td>0.103297</td>\n",
       "    </tr>\n",
       "    <tr>\n",
       "      <th>50%</th>\n",
       "      <td>0.268560</td>\n",
       "    </tr>\n",
       "    <tr>\n",
       "      <th>75%</th>\n",
       "      <td>0.598944</td>\n",
       "    </tr>\n",
       "    <tr>\n",
       "      <th>max</th>\n",
       "      <td>9.370135</td>\n",
       "    </tr>\n",
       "  </tbody>\n",
       "</table>\n",
       "</div>"
      ],
      "text/plain": [
       "                 0\n",
       "count  1000.000000\n",
       "mean      0.500278\n",
       "std       0.752292\n",
       "min       0.000454\n",
       "25%       0.103297\n",
       "50%       0.268560\n",
       "75%       0.598944\n",
       "max       9.370135"
      ]
     },
     "execution_count": 5,
     "metadata": {},
     "output_type": "execute_result"
    }
   ],
   "source": [
    "pd.DataFrame(pareto).describe()"
   ]
  },
  {
   "cell_type": "code",
   "execution_count": 6,
   "metadata": {},
   "outputs": [
    {
     "data": {
      "text/plain": [
       "(array([  2.,   1.,   0.,   1.,   1.,   6.,   4.,   4.,   8.,  14.,  12.,\n",
       "         22.,  24.,  35.,  60.,  71.,  83.,  90.,  88., 118., 108.,  90.,\n",
       "         66.,  44.,  21.,  17.,   2.,   7.,   1.]),\n",
       " array([-7.69808109, -7.3554739 , -7.01286671, -6.67025951, -6.32765232,\n",
       "        -5.98504513, -5.64243794, -5.29983074, -4.95722355, -4.61461636,\n",
       "        -4.27200916, -3.92940197, -3.58679478, -3.24418759, -2.90158039,\n",
       "        -2.5589732 , -2.21636601, -1.87375882, -1.53115162, -1.18854443,\n",
       "        -0.84593724, -0.50333004, -0.16072285,  0.18188434,  0.52449153,\n",
       "         0.86709873,  1.20970592,  1.55231311,  1.89492031,  2.2375275 ]),\n",
       " <BarContainer object of 29 artists>)"
      ]
     },
     "execution_count": 6,
     "metadata": {},
     "output_type": "execute_result"
    },
    {
     "data": {
      "image/png": "[encoded data removed]",
      "text/plain": [
       "<Figure size 432x288 with 1 Axes>"
      ]
     },
     "metadata": {
      "needs_background": "light"
     },
     "output_type": "display_data"
    }
   ],
   "source": [
    "plt.hist(np.log(pareto), bins='auto')"
   ]
  },
  {
   "cell_type": "code",
   "execution_count": 7,
   "metadata": {},
   "outputs": [
    {
     "data": {
      "text/plain": [
       "(array([  3.,   0.,   4.,   5.,   9.,  14.,  18.,  29.,  34.,  55.,  78.,\n",
       "         93.,  92.,  92., 113.,  99.,  85.,  65.,  50.,  26.,  17.,   9.,\n",
       "          2.,   3.,   4.,   1.]),\n",
       " array([0.46310192, 0.49339653, 0.52369114, 0.55398575, 0.58428036,\n",
       "        0.61457496, 0.64486957, 0.67516418, 0.70545879, 0.7357534 ,\n",
       "        0.766048  , 0.79634261, 0.82663722, 0.85693183, 0.88722644,\n",
       "        0.91752104, 0.94781565, 0.97811026, 1.00840487, 1.03869947,\n",
       "        1.06899408, 1.09928869, 1.1295833 , 1.15987791, 1.19017251,\n",
       "        1.22046712, 1.25076173]),\n",
       " <BarContainer object of 26 artists>)"
      ]
     },
     "execution_count": 7,
     "metadata": {},
     "output_type": "execute_result"
    },
    {
     "data": {
      "image/png": "[encoded data removed]",
      "text/plain": [
       "<Figure size 432x288 with 1 Axes>"
      ]
     },
     "metadata": {
      "needs_background": "light"
     },
     "output_type": "display_data"
    }
   ],
   "source": [
    "plt.hist(np.power(pareto, 1/10), bins='auto')"
   ]
  },
  {
   "cell_type": "code",
   "execution_count": 8,
   "metadata": {},
   "outputs": [],
   "source": [
    "from scipy.stats import skewnorm"
   ]
  },
  {
   "cell_type": "code",
   "execution_count": 9,
   "metadata": {},
   "outputs": [],
   "source": [
    "skewed = skewnorm.rvs(-10, size=1000) "
   ]
  },
  {
   "cell_type": "code",
   "execution_count": 10,
   "metadata": {},
   "outputs": [
    {
     "data": {
      "text/plain": [
       "(array([  1.,   0.,   1.,   0.,   0.,   1.,   1.,   6.,  10.,   5.,  14.,\n",
       "         15.,  43.,  29.,  59.,  65.,  67.,  77.,  93., 142., 104., 126.,\n",
       "         94.,  47.]),\n",
       " array([-3.71233511, -3.55139969, -3.39046426, -3.22952884, -3.06859341,\n",
       "        -2.90765799, -2.74672256, -2.58578714, -2.42485171, -2.26391629,\n",
       "        -2.10298086, -1.94204544, -1.78111001, -1.62017459, -1.45923917,\n",
       "        -1.29830374, -1.13736832, -0.97643289, -0.81549747, -0.65456204,\n",
       "        -0.49362662, -0.33269119, -0.17175577, -0.01082034,  0.15011508]),\n",
       " <BarContainer object of 24 artists>)"
      ]
     },
     "execution_count": 10,
     "metadata": {},
     "output_type": "execute_result"
    },
    {
     "data": {
      "image/png": "[encoded data removed]",
      "text/plain": [
       "<Figure size 432x288 with 1 Axes>"
      ]
     },
     "metadata": {
      "needs_background": "light"
     },
     "output_type": "display_data"
    }
   ],
   "source": [
    "plt.hist(skewed, bins='auto')"
   ]
  },
  {
   "cell_type": "code",
   "execution_count": 11,
   "metadata": {},
   "outputs": [
    {
     "data": {
      "text/plain": [
       "(array([  1.,   0.,   1.,   0.,   0.,   1.,   1.,   6.,  10.,   5.,  14.,\n",
       "         15.,  43.,  29.,  59.,  65.,  67.,  77.,  93., 142., 104., 126.,\n",
       "         94.,  47.]),\n",
       " array([ 6.28766489,  6.44860031,  6.60953574,  6.77047116,  6.93140659,\n",
       "         7.09234201,  7.25327744,  7.41421286,  7.57514829,  7.73608371,\n",
       "         7.89701914,  8.05795456,  8.21888999,  8.37982541,  8.54076083,\n",
       "         8.70169626,  8.86263168,  9.02356711,  9.18450253,  9.34543796,\n",
       "         9.50637338,  9.66730881,  9.82824423,  9.98917966, 10.15011508]),\n",
       " <BarContainer object of 24 artists>)"
      ]
     },
     "execution_count": 11,
     "metadata": {},
     "output_type": "execute_result"
    },
    {
     "data": {
      "image/png": "[encoded data removed]",
      "text/plain": [
       "<Figure size 432x288 with 1 Axes>"
      ]
     },
     "metadata": {
      "needs_background": "light"
     },
     "output_type": "display_data"
    }
   ],
   "source": [
    "plt.hist(skewed + 10, bins='auto')"
   ]
  },
  {
   "cell_type": "code",
   "execution_count": 12,
   "metadata": {},
   "outputs": [
    {
     "data": {
      "text/plain": [
       "(array([ 20.,  56., 103., 105.,  95., 101., 129.,  80.,  88.,  79.,  59.,\n",
       "         45.,  35.,   5.]),\n",
       " array([  537.89581353,  2327.62093395,  4117.34605437,  5907.07117479,\n",
       "         7696.79629521,  9486.52141563, 11276.24653604, 13065.97165646,\n",
       "        14855.69677688, 16645.4218973 , 18435.14701772, 20224.87213814,\n",
       "        22014.59725856, 23804.32237897, 25594.04749939]),\n",
       " <BarContainer object of 14 artists>)"
      ]
     },
     "execution_count": 12,
     "metadata": {},
     "output_type": "execute_result"
    },
    {
     "data": {
      "image/png": "[encoded data removed]",
      "text/plain": [
       "<Figure size 432x288 with 1 Axes>"
      ]
     },
     "metadata": {
      "needs_background": "light"
     },
     "output_type": "display_data"
    }
   ],
   "source": [
    "plt.hist(np.exp(skewed + 10), bins='auto')"
   ]
  },
  {
   "cell_type": "code",
   "execution_count": 13,
   "metadata": {},
   "outputs": [
    {
     "data": {
      "text/plain": [
       "(array([  4.,  21.,  29.,  63.,  88.,  89.,  82.,  95., 133.,  85.,  91.,\n",
       "         84.,  73.,  52.,  11.]),\n",
       " array([  388531.02994679,  1102584.29613716,  1816637.56232754,\n",
       "         2530690.82851791,  3244744.09470829,  3958797.36089866,\n",
       "         4672850.62708903,  5386903.89327941,  6100957.15946978,\n",
       "         6815010.42566016,  7529063.69185053,  8243116.9580409 ,\n",
       "         8957170.22423128,  9671223.49042165, 10385276.75661203,\n",
       "        11099330.0228024 ]),\n",
       " <BarContainer object of 15 artists>)"
      ]
     },
     "execution_count": 13,
     "metadata": {},
     "output_type": "execute_result"
    },
    {
     "data": {
      "image/png": "[encoded data removed]",
      "text/plain": [
       "<Figure size 432x288 with 1 Axes>"
      ]
     },
     "metadata": {
      "needs_background": "light"
     },
     "output_type": "display_data"
    }
   ],
   "source": [
    "plt.hist((skewed + 10)**7, bins='auto')"
   ]
  },
  {
   "cell_type": "code",
   "execution_count": 14,
   "metadata": {},
   "outputs": [
    {
     "data": {
      "text/plain": [
       "array([0.5       , 0.50505051, 0.51010101, 0.51515152, 0.52020202,\n",
       "       0.52525253, 0.53030303, 0.53535354, 0.54040404, 0.54545455,\n",
       "       0.55050505, 0.55555556, 0.56060606, 0.56565657, 0.57070707,\n",
       "       0.57575758, 0.58080808, 0.58585859, 0.59090909, 0.5959596 ,\n",
       "       0.6010101 , 0.60606061, 0.61111111, 0.61616162, 0.62121212,\n",
       "       0.62626263, 0.63131313, 0.63636364, 0.64141414, 0.64646465,\n",
       "       0.65151515, 0.65656566, 0.66161616, 0.66666667, 0.67171717,\n",
       "       0.67676768, 0.68181818, 0.68686869, 0.69191919, 0.6969697 ,\n",
       "       0.7020202 , 0.70707071, 0.71212121, 0.71717172, 0.72222222,\n",
       "       0.72727273, 0.73232323, 0.73737374, 0.74242424, 0.74747475,\n",
       "       0.75252525, 0.75757576, 0.76262626, 0.76767677, 0.77272727,\n",
       "       0.77777778, 0.78282828, 0.78787879, 0.79292929, 0.7979798 ,\n",
       "       0.8030303 , 0.80808081, 0.81313131, 0.81818182, 0.82323232,\n",
       "       0.82828283, 0.83333333, 0.83838384, 0.84343434, 0.84848485,\n",
       "       0.85353535, 0.85858586, 0.86363636, 0.86868687, 0.87373737,\n",
       "       0.87878788, 0.88383838, 0.88888889, 0.89393939, 0.8989899 ,\n",
       "       0.9040404 , 0.90909091, 0.91414141, 0.91919192, 0.92424242,\n",
       "       0.92929293, 0.93434343, 0.93939394, 0.94444444, 0.94949495,\n",
       "       0.95454545, 0.95959596, 0.96464646, 0.96969697, 0.97474747,\n",
       "       0.97979798, 0.98484848, 0.98989899, 0.99494949, 1.        ])"
      ]
     },
     "execution_count": 14,
     "metadata": {},
     "output_type": "execute_result"
    }
   ],
   "source": [
    "x = np.linspace(0.5, 1, 100)\n",
    "x"
   ]
  },
  {
   "cell_type": "code",
   "execution_count": 15,
   "metadata": {},
   "outputs": [],
   "source": [
    "y = x ** 10 + 0.15 *np.random.randn(len(x))"
   ]
  },
  {
   "cell_type": "code",
   "execution_count": 16,
   "metadata": {},
   "outputs": [],
   "source": [
    "df = pd.DataFrame({'x': x, 'y': y})"
   ]
  },
  {
   "cell_type": "code",
   "execution_count": 17,
   "metadata": {},
   "outputs": [],
   "source": [
    "import seaborn as sns"
   ]
  },
  {
   "cell_type": "code",
   "execution_count": 18,
   "metadata": {},
   "outputs": [
    {
     "data": {
      "text/plain": [
       "<AxesSubplot:xlabel='x', ylabel='y'>"
      ]
     },
     "execution_count": 18,
     "metadata": {},
     "output_type": "execute_result"
    },
    {
     "data": {
      "image/png": "[encoded data removed]",
      "text/plain": [
       "<Figure size 432x288 with 1 Axes>"
      ]
     },
     "metadata": {
      "needs_background": "light"
     },
     "output_type": "display_data"
    }
   ],
   "source": [
    "sns.scatterplot(x='x', y='y', data=df)"
   ]
  },
  {
   "cell_type": "code",
   "execution_count": 19,
   "metadata": {},
   "outputs": [
    {
     "data": {
      "text/html": [
       "<div>\n",
       "<style scoped>\n",
       "    .dataframe tbody tr th:only-of-type {\n",
       "        vertical-align: middle;\n",
       "    }\n",
       "\n",
       "    .dataframe tbody tr th {\n",
       "        vertical-align: top;\n",
       "    }\n",
       "\n",
       "    .dataframe thead th {\n",
       "        text-align: right;\n",
       "    }\n",
       "</style>\n",
       "<table border=\"1\" class=\"dataframe\">\n",
       "  <thead>\n",
       "    <tr style=\"text-align: right;\">\n",
       "      <th></th>\n",
       "      <th>x</th>\n",
       "      <th>y</th>\n",
       "    </tr>\n",
       "  </thead>\n",
       "  <tbody>\n",
       "    <tr>\n",
       "      <th>x</th>\n",
       "      <td>1.000000</td>\n",
       "      <td>0.757713</td>\n",
       "    </tr>\n",
       "    <tr>\n",
       "      <th>y</th>\n",
       "      <td>0.757713</td>\n",
       "      <td>1.000000</td>\n",
       "    </tr>\n",
       "  </tbody>\n",
       "</table>\n",
       "</div>"
      ],
      "text/plain": [
       "          x         y\n",
       "x  1.000000  0.757713\n",
       "y  0.757713  1.000000"
      ]
     },
     "execution_count": 19,
     "metadata": {},
     "output_type": "execute_result"
    }
   ],
   "source": [
    "df.corr()"
   ]
  },
  {
   "cell_type": "code",
   "execution_count": 20,
   "metadata": {},
   "outputs": [
    {
     "name": "stderr",
     "output_type": "stream",
     "text": [
      "C:\\Users\\mailb\\Anaconda3\\lib\\site-packages\\pandas\\core\\series.py:726: RuntimeWarning: invalid value encountered in sqrt\n",
      "  result = getattr(ufunc, method)(*inputs, **kwargs)\n"
     ]
    },
    {
     "data": {
      "text/html": [
       "<div>\n",
       "<style scoped>\n",
       "    .dataframe tbody tr th:only-of-type {\n",
       "        vertical-align: middle;\n",
       "    }\n",
       "\n",
       "    .dataframe tbody tr th {\n",
       "        vertical-align: top;\n",
       "    }\n",
       "\n",
       "    .dataframe thead th {\n",
       "        text-align: right;\n",
       "    }\n",
       "</style>\n",
       "<table border=\"1\" class=\"dataframe\">\n",
       "  <thead>\n",
       "    <tr style=\"text-align: right;\">\n",
       "      <th></th>\n",
       "      <th>x</th>\n",
       "      <th>y</th>\n",
       "      <th>y2</th>\n",
       "    </tr>\n",
       "  </thead>\n",
       "  <tbody>\n",
       "    <tr>\n",
       "      <th>0</th>\n",
       "      <td>0.500000</td>\n",
       "      <td>-0.089269</td>\n",
       "      <td>NaN</td>\n",
       "    </tr>\n",
       "    <tr>\n",
       "      <th>1</th>\n",
       "      <td>0.505051</td>\n",
       "      <td>0.119020</td>\n",
       "      <td>0.344993</td>\n",
       "    </tr>\n",
       "    <tr>\n",
       "      <th>2</th>\n",
       "      <td>0.510101</td>\n",
       "      <td>-0.243789</td>\n",
       "      <td>NaN</td>\n",
       "    </tr>\n",
       "    <tr>\n",
       "      <th>3</th>\n",
       "      <td>0.515152</td>\n",
       "      <td>-0.137428</td>\n",
       "      <td>NaN</td>\n",
       "    </tr>\n",
       "    <tr>\n",
       "      <th>4</th>\n",
       "      <td>0.520202</td>\n",
       "      <td>-0.061161</td>\n",
       "      <td>NaN</td>\n",
       "    </tr>\n",
       "    <tr>\n",
       "      <th>...</th>\n",
       "      <td>...</td>\n",
       "      <td>...</td>\n",
       "      <td>...</td>\n",
       "    </tr>\n",
       "    <tr>\n",
       "      <th>95</th>\n",
       "      <td>0.979798</td>\n",
       "      <td>0.618945</td>\n",
       "      <td>0.786731</td>\n",
       "    </tr>\n",
       "    <tr>\n",
       "      <th>96</th>\n",
       "      <td>0.984848</td>\n",
       "      <td>0.805858</td>\n",
       "      <td>0.897696</td>\n",
       "    </tr>\n",
       "    <tr>\n",
       "      <th>97</th>\n",
       "      <td>0.989899</td>\n",
       "      <td>1.130927</td>\n",
       "      <td>1.063450</td>\n",
       "    </tr>\n",
       "    <tr>\n",
       "      <th>98</th>\n",
       "      <td>0.994949</td>\n",
       "      <td>1.069676</td>\n",
       "      <td>1.034252</td>\n",
       "    </tr>\n",
       "    <tr>\n",
       "      <th>99</th>\n",
       "      <td>1.000000</td>\n",
       "      <td>0.867539</td>\n",
       "      <td>0.931418</td>\n",
       "    </tr>\n",
       "  </tbody>\n",
       "</table>\n",
       "<p>100 rows × 3 columns</p>\n",
       "</div>"
      ],
      "text/plain": [
       "           x         y        y2\n",
       "0   0.500000 -0.089269       NaN\n",
       "1   0.505051  0.119020  0.344993\n",
       "2   0.510101 -0.243789       NaN\n",
       "3   0.515152 -0.137428       NaN\n",
       "4   0.520202 -0.061161       NaN\n",
       "..       ...       ...       ...\n",
       "95  0.979798  0.618945  0.786731\n",
       "96  0.984848  0.805858  0.897696\n",
       "97  0.989899  1.130927  1.063450\n",
       "98  0.994949  1.069676  1.034252\n",
       "99  1.000000  0.867539  0.931418\n",
       "\n",
       "[100 rows x 3 columns]"
      ]
     },
     "execution_count": 20,
     "metadata": {},
     "output_type": "execute_result"
    }
   ],
   "source": [
    "df['y2']=np.sqrt(df['y'])\n",
    "df"
   ]
  },
  {
   "cell_type": "code",
   "execution_count": 21,
   "metadata": {},
   "outputs": [
    {
     "data": {
      "text/plain": [
       "<AxesSubplot:xlabel='x', ylabel='y2'>"
      ]
     },
     "execution_count": 21,
     "metadata": {},
     "output_type": "execute_result"
    },
    {
     "data": {
      "image/png": "[encoded data removed]",
      "text/plain": [
       "<Figure size 432x288 with 1 Axes>"
      ]
     },
     "metadata": {
      "needs_background": "light"
     },
     "output_type": "display_data"
    }
   ],
   "source": [
    "sns.scatterplot(x='x', y='y2', data=df)"
   ]
  },
  {
   "cell_type": "code",
   "execution_count": 22,
   "metadata": {},
   "outputs": [
    {
     "data": {
      "text/html": [
       "<div>\n",
       "<style scoped>\n",
       "    .dataframe tbody tr th:only-of-type {\n",
       "        vertical-align: middle;\n",
       "    }\n",
       "\n",
       "    .dataframe tbody tr th {\n",
       "        vertical-align: top;\n",
       "    }\n",
       "\n",
       "    .dataframe thead th {\n",
       "        text-align: right;\n",
       "    }\n",
       "</style>\n",
       "<table border=\"1\" class=\"dataframe\">\n",
       "  <thead>\n",
       "    <tr style=\"text-align: right;\">\n",
       "      <th></th>\n",
       "      <th>x</th>\n",
       "      <th>y</th>\n",
       "      <th>y2</th>\n",
       "    </tr>\n",
       "  </thead>\n",
       "  <tbody>\n",
       "    <tr>\n",
       "      <th>x</th>\n",
       "      <td>1.000000</td>\n",
       "      <td>0.757713</td>\n",
       "      <td>0.700656</td>\n",
       "    </tr>\n",
       "    <tr>\n",
       "      <th>y</th>\n",
       "      <td>0.757713</td>\n",
       "      <td>1.000000</td>\n",
       "      <td>0.963269</td>\n",
       "    </tr>\n",
       "    <tr>\n",
       "      <th>y2</th>\n",
       "      <td>0.700656</td>\n",
       "      <td>0.963269</td>\n",
       "      <td>1.000000</td>\n",
       "    </tr>\n",
       "  </tbody>\n",
       "</table>\n",
       "</div>"
      ],
      "text/plain": [
       "           x         y        y2\n",
       "x   1.000000  0.757713  0.700656\n",
       "y   0.757713  1.000000  0.963269\n",
       "y2  0.700656  0.963269  1.000000"
      ]
     },
     "execution_count": 22,
     "metadata": {},
     "output_type": "execute_result"
    }
   ],
   "source": [
    "df.corr()"
   ]
  },
  {
   "cell_type": "code",
   "execution_count": 23,
   "metadata": {},
   "outputs": [],
   "source": [
    "df[\"y3\"] = np.power(df['y'], 1/3)"
   ]
  },
  {
   "cell_type": "code",
   "execution_count": 24,
   "metadata": {},
   "outputs": [
    {
     "data": {
      "text/html": [
       "<div>\n",
       "<style scoped>\n",
       "    .dataframe tbody tr th:only-of-type {\n",
       "        vertical-align: middle;\n",
       "    }\n",
       "\n",
       "    .dataframe tbody tr th {\n",
       "        vertical-align: top;\n",
       "    }\n",
       "\n",
       "    .dataframe thead th {\n",
       "        text-align: right;\n",
       "    }\n",
       "</style>\n",
       "<table border=\"1\" class=\"dataframe\">\n",
       "  <thead>\n",
       "    <tr style=\"text-align: right;\">\n",
       "      <th></th>\n",
       "      <th>x</th>\n",
       "      <th>y</th>\n",
       "      <th>y2</th>\n",
       "      <th>y3</th>\n",
       "    </tr>\n",
       "  </thead>\n",
       "  <tbody>\n",
       "    <tr>\n",
       "      <th>x</th>\n",
       "      <td>1.000000</td>\n",
       "      <td>0.757713</td>\n",
       "      <td>0.700656</td>\n",
       "      <td>0.680478</td>\n",
       "    </tr>\n",
       "    <tr>\n",
       "      <th>y</th>\n",
       "      <td>0.757713</td>\n",
       "      <td>1.000000</td>\n",
       "      <td>0.963269</td>\n",
       "      <td>0.926998</td>\n",
       "    </tr>\n",
       "    <tr>\n",
       "      <th>y2</th>\n",
       "      <td>0.700656</td>\n",
       "      <td>0.963269</td>\n",
       "      <td>1.000000</td>\n",
       "      <td>0.993303</td>\n",
       "    </tr>\n",
       "    <tr>\n",
       "      <th>y3</th>\n",
       "      <td>0.680478</td>\n",
       "      <td>0.926998</td>\n",
       "      <td>0.993303</td>\n",
       "      <td>1.000000</td>\n",
       "    </tr>\n",
       "  </tbody>\n",
       "</table>\n",
       "</div>"
      ],
      "text/plain": [
       "           x         y        y2        y3\n",
       "x   1.000000  0.757713  0.700656  0.680478\n",
       "y   0.757713  1.000000  0.963269  0.926998\n",
       "y2  0.700656  0.963269  1.000000  0.993303\n",
       "y3  0.680478  0.926998  0.993303  1.000000"
      ]
     },
     "execution_count": 24,
     "metadata": {},
     "output_type": "execute_result"
    }
   ],
   "source": [
    "df.corr()"
   ]
  },
  {
   "cell_type": "code",
   "execution_count": 25,
   "metadata": {},
   "outputs": [
    {
     "data": {
      "text/plain": [
       "<AxesSubplot:xlabel='x', ylabel='y3'>"
      ]
     },
     "execution_count": 25,
     "metadata": {},
     "output_type": "execute_result"
    },
    {
     "data": {
      "image/png": "[encoded data removed]",
      "text/plain": [
       "<Figure size 432x288 with 1 Axes>"
      ]
     },
     "metadata": {
      "needs_background": "light"
     },
     "output_type": "display_data"
    }
   ],
   "source": [
    "sns.scatterplot(x='x', y=\"y3\", data=df)"
   ]
  },
  {
   "cell_type": "code",
   "execution_count": null,
   "metadata": {},
   "outputs": [],
   "source": []
  }
 ],
 "metadata": {
  "kernelspec": {
   "display_name": "Python 3",
   "language": "python",
   "name": "python3"
  },
  "language_info": {
   "codemirror_mode": {
    "name": "ipython",
    "version": 3
   },
   "file_extension": ".py",
   "mimetype": "text/x-python",
   "name": "python",
   "nbconvert_exporter": "python",
   "pygments_lexer": "ipython3",
   "version": "3.8.5"
  }
 },
 "nbformat": 4,
 "nbformat_minor": 4
}
