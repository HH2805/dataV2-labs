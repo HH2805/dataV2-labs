{
 "cells": [
  {
   "cell_type": "markdown",
   "metadata": {},
   "source": [
    "# Ceci est un titre de niveau 1"
   ]
  },
  {
   "cell_type": "markdown",
   "metadata": {},
   "source": [
    "Observations"
   ]
  },
  {
   "cell_type": "code",
   "execution_count": 24,
   "metadata": {},
   "outputs": [],
   "source": [
    "import pandas as pd\n",
    "import numpy as np"
   ]
  },
  {
   "cell_type": "code",
   "execution_count": 31,
   "metadata": {},
   "outputs": [
    {
     "data": {
      "text/html": [
       "<div>\n",
       "<style scoped>\n",
       "    .dataframe tbody tr th:only-of-type {\n",
       "        vertical-align: middle;\n",
       "    }\n",
       "\n",
       "    .dataframe tbody tr th {\n",
       "        vertical-align: top;\n",
       "    }\n",
       "\n",
       "    .dataframe thead th {\n",
       "        text-align: right;\n",
       "    }\n",
       "</style>\n",
       "<table border=\"1\" class=\"dataframe\">\n",
       "  <thead>\n",
       "    <tr style=\"text-align: right;\">\n",
       "      <th></th>\n",
       "      <th>Year</th>\n",
       "      <th>Hobbyist</th>\n",
       "      <th>ConvertedComp</th>\n",
       "      <th>Country</th>\n",
       "      <th>EdLevel</th>\n",
       "      <th>Employment</th>\n",
       "      <th>JobSat</th>\n",
       "      <th>OrgSize</th>\n",
       "      <th>UndergradMajor</th>\n",
       "      <th>YearsCodePro</th>\n",
       "      <th>Data scientist or machine learning specialist</th>\n",
       "      <th>Database administrator</th>\n",
       "      <th>Data or business analyst</th>\n",
       "      <th>Engineer, data</th>\n",
       "    </tr>\n",
       "  </thead>\n",
       "  <tbody>\n",
       "    <tr>\n",
       "      <th>0</th>\n",
       "      <td>2017</td>\n",
       "      <td>Yes, both</td>\n",
       "      <td>43750.00000</td>\n",
       "      <td>United Kingdom</td>\n",
       "      <td>Bachelor's degree</td>\n",
       "      <td>Employed full-time</td>\n",
       "      <td>4.0</td>\n",
       "      <td>2 to 9 employees</td>\n",
       "      <td>Computer science</td>\n",
       "      <td>2.0</td>\n",
       "      <td>1</td>\n",
       "      <td>1</td>\n",
       "      <td>NaN</td>\n",
       "      <td>NaN</td>\n",
       "    </tr>\n",
       "    <tr>\n",
       "      <th>1</th>\n",
       "      <td>2017</td>\n",
       "      <td>Yes, I program as a hobby</td>\n",
       "      <td>51282.05128</td>\n",
       "      <td>Denmark</td>\n",
       "      <td>Some college/university study without earning ...</td>\n",
       "      <td>Employed part-time</td>\n",
       "      <td>10.0</td>\n",
       "      <td>100 to 499 employees</td>\n",
       "      <td>Computer science</td>\n",
       "      <td>3.0</td>\n",
       "      <td>1</td>\n",
       "      <td>0</td>\n",
       "      <td>NaN</td>\n",
       "      <td>NaN</td>\n",
       "    </tr>\n",
       "    <tr>\n",
       "      <th>2</th>\n",
       "      <td>2017</td>\n",
       "      <td>No</td>\n",
       "      <td>25000.00000</td>\n",
       "      <td>Israel</td>\n",
       "      <td>Some college/university study without earning ...</td>\n",
       "      <td>Employed full-time</td>\n",
       "      <td>6.0</td>\n",
       "      <td>5,000 to 9,999 employees</td>\n",
       "      <td>Computer science</td>\n",
       "      <td>4.0</td>\n",
       "      <td>1</td>\n",
       "      <td>0</td>\n",
       "      <td>NaN</td>\n",
       "      <td>NaN</td>\n",
       "    </tr>\n",
       "    <tr>\n",
       "      <th>3</th>\n",
       "      <td>2017</td>\n",
       "      <td>Yes, I program as a hobby</td>\n",
       "      <td>100000.00000</td>\n",
       "      <td>United States</td>\n",
       "      <td>Some college/university study without earning ...</td>\n",
       "      <td>Employed full-time</td>\n",
       "      <td>5.0</td>\n",
       "      <td>20 to 99 employees</td>\n",
       "      <td>Computer science</td>\n",
       "      <td>15.0</td>\n",
       "      <td>0</td>\n",
       "      <td>1</td>\n",
       "      <td>NaN</td>\n",
       "      <td>NaN</td>\n",
       "    </tr>\n",
       "    <tr>\n",
       "      <th>4</th>\n",
       "      <td>2017</td>\n",
       "      <td>Yes, both</td>\n",
       "      <td>27000.00000</td>\n",
       "      <td>Ukraine</td>\n",
       "      <td>Master's degree</td>\n",
       "      <td>Employed full-time</td>\n",
       "      <td>7.0</td>\n",
       "      <td>100 to 499 employees</td>\n",
       "      <td>Computer science</td>\n",
       "      <td>5.0</td>\n",
       "      <td>0</td>\n",
       "      <td>1</td>\n",
       "      <td>NaN</td>\n",
       "      <td>NaN</td>\n",
       "    </tr>\n",
       "  </tbody>\n",
       "</table>\n",
       "</div>"
      ],
      "text/plain": [
       "   Year                   Hobbyist  ConvertedComp         Country  \\\n",
       "0  2017                  Yes, both    43750.00000  United Kingdom   \n",
       "1  2017  Yes, I program as a hobby    51282.05128         Denmark   \n",
       "2  2017                         No    25000.00000          Israel   \n",
       "3  2017  Yes, I program as a hobby   100000.00000   United States   \n",
       "4  2017                  Yes, both    27000.00000         Ukraine   \n",
       "\n",
       "                                             EdLevel          Employment  \\\n",
       "0                                  Bachelor's degree  Employed full-time   \n",
       "1  Some college/university study without earning ...  Employed part-time   \n",
       "2  Some college/university study without earning ...  Employed full-time   \n",
       "3  Some college/university study without earning ...  Employed full-time   \n",
       "4                                    Master's degree  Employed full-time   \n",
       "\n",
       "   JobSat                   OrgSize    UndergradMajor  YearsCodePro  \\\n",
       "0     4.0          2 to 9 employees  Computer science           2.0   \n",
       "1    10.0      100 to 499 employees  Computer science           3.0   \n",
       "2     6.0  5,000 to 9,999 employees  Computer science           4.0   \n",
       "3     5.0        20 to 99 employees  Computer science          15.0   \n",
       "4     7.0      100 to 499 employees  Computer science           5.0   \n",
       "\n",
       "   Data scientist or machine learning specialist  Database administrator  \\\n",
       "0                                              1                       1   \n",
       "1                                              1                       0   \n",
       "2                                              1                       0   \n",
       "3                                              0                       1   \n",
       "4                                              0                       1   \n",
       "\n",
       "   Data or business analyst  Engineer, data  \n",
       "0                       NaN             NaN  \n",
       "1                       NaN             NaN  \n",
       "2                       NaN             NaN  \n",
       "3                       NaN             NaN  \n",
       "4                       NaN             NaN  "
      ]
     },
     "execution_count": 31,
     "metadata": {},
     "output_type": "execute_result"
    }
   ],
   "source": [
    "salary = pd.read_csv('./data/data_survey0.csv')\n",
    "salary.head()"
   ]
  },
  {
   "cell_type": "code",
   "execution_count": 32,
   "metadata": {},
   "outputs": [
    {
     "data": {
      "text/plain": [
       "(33601, 14)"
      ]
     },
     "execution_count": 32,
     "metadata": {},
     "output_type": "execute_result"
    }
   ],
   "source": [
    "salary.shape"
   ]
  },
  {
   "cell_type": "code",
   "execution_count": 33,
   "metadata": {},
   "outputs": [
    {
     "data": {
      "text/plain": [
       "United States     9098\n",
       "Germany           2403\n",
       "United Kingdom    2386\n",
       "India             2101\n",
       "Canada            1355\n",
       "                  ... \n",
       "Saint Lucia          1\n",
       "Seychelles           1\n",
       "Isle of Man          1\n",
       "Djibouti             1\n",
       "Chad                 1\n",
       "Name: Country, Length: 180, dtype: int64"
      ]
     },
     "execution_count": 33,
     "metadata": {},
     "output_type": "execute_result"
    }
   ],
   "source": [
    "salary.Country.value_counts()"
   ]
  },
  {
   "cell_type": "code",
   "execution_count": 34,
   "metadata": {},
   "outputs": [
    {
     "data": {
      "text/plain": [
       "Index(['Year', 'Hobbyist', 'ConvertedComp', 'Country', 'EdLevel', 'Employment',\n",
       "       'JobSat', 'OrgSize', 'UndergradMajor', 'YearsCodePro',\n",
       "       'Data scientist or machine learning specialist',\n",
       "       'Database administrator', 'Data or business analyst', 'Engineer, data'],\n",
       "      dtype='object')"
      ]
     },
     "execution_count": 34,
     "metadata": {},
     "output_type": "execute_result"
    }
   ],
   "source": [
    "salary.columns"
   ]
  },
  {
   "cell_type": "code",
   "execution_count": 46,
   "metadata": {},
   "outputs": [],
   "source": [
    "salary.columns = ['Year', 'Hobbyist', 'Salary (USD,Annual)', 'Country', 'Education Level', 'Employment Status',\n",
    "       'Job Satisfaction', 'Org Size', 'Primary Field of Study', 'Years of Coding Professionnally',\n",
    "       'Data scientist or Machine Learning Specialist',\n",
    "       'DB Administrator', 'Data / Business Analyst', 'Data Engineer']"
   ]
  },
  {
   "cell_type": "code",
   "execution_count": 47,
   "metadata": {},
   "outputs": [
    {
     "data": {
      "text/html": [
       "<div>\n",
       "<style scoped>\n",
       "    .dataframe tbody tr th:only-of-type {\n",
       "        vertical-align: middle;\n",
       "    }\n",
       "\n",
       "    .dataframe tbody tr th {\n",
       "        vertical-align: top;\n",
       "    }\n",
       "\n",
       "    .dataframe thead th {\n",
       "        text-align: right;\n",
       "    }\n",
       "</style>\n",
       "<table border=\"1\" class=\"dataframe\">\n",
       "  <thead>\n",
       "    <tr style=\"text-align: right;\">\n",
       "      <th></th>\n",
       "      <th>Year</th>\n",
       "      <th>Hobbyist</th>\n",
       "      <th>Salary (USD,Annual)</th>\n",
       "      <th>Country</th>\n",
       "      <th>Education Level</th>\n",
       "      <th>Employment Status</th>\n",
       "      <th>Job Satisfaction</th>\n",
       "      <th>Org Size</th>\n",
       "      <th>Primary Field of Study</th>\n",
       "      <th>Years of Coding Professionnally</th>\n",
       "      <th>Data scientist or Machine Learning Specialist</th>\n",
       "      <th>DB Administrator</th>\n",
       "      <th>Data / Business Analyst</th>\n",
       "      <th>Data Engineer</th>\n",
       "    </tr>\n",
       "  </thead>\n",
       "  <tbody>\n",
       "    <tr>\n",
       "      <th>29959</th>\n",
       "      <td>2020</td>\n",
       "      <td>Yes</td>\n",
       "      <td>4716.0</td>\n",
       "      <td>Ukraine</td>\n",
       "      <td>Doctoral degree</td>\n",
       "      <td>Employed full-time</td>\n",
       "      <td>4.0</td>\n",
       "      <td>100 to 499 employees</td>\n",
       "      <td>Natural science</td>\n",
       "      <td>NaN</td>\n",
       "      <td>1</td>\n",
       "      <td>0</td>\n",
       "      <td>0.0</td>\n",
       "      <td>0.0</td>\n",
       "    </tr>\n",
       "  </tbody>\n",
       "</table>\n",
       "</div>"
      ],
      "text/plain": [
       "       Year Hobbyist  Salary (USD,Annual)  Country  Education Level  \\\n",
       "29959  2020      Yes               4716.0  Ukraine  Doctoral degree   \n",
       "\n",
       "        Employment Status  Job Satisfaction              Org Size  \\\n",
       "29959  Employed full-time               4.0  100 to 499 employees   \n",
       "\n",
       "      Primary Field of Study  Years of Coding Professionnally  \\\n",
       "29959        Natural science                              NaN   \n",
       "\n",
       "       Data scientist or Machine Learning Specialist  DB Administrator  \\\n",
       "29959                                              1                 0   \n",
       "\n",
       "       Data / Business Analyst  Data Engineer  \n",
       "29959                      0.0            0.0  "
      ]
     },
     "execution_count": 47,
     "metadata": {},
     "output_type": "execute_result"
    }
   ],
   "source": [
    "salary.sample()"
   ]
  },
  {
   "cell_type": "code",
   "execution_count": 76,
   "metadata": {},
   "outputs": [
    {
     "data": {
      "text/plain": [
       "array(['Afghanistan', 'Albania', 'Algeria', 'Andorra', 'Argentina',\n",
       "       'Armenia', 'Australia', 'Austria', 'Azerbaijan', 'Bahamas',\n",
       "       'Bahrain', 'Bangladesh', 'Barbados', 'Belarus', 'Belgium', 'Benin',\n",
       "       'Bermuda', 'Bhutan', 'Bolivia', 'Bosnia-Herzegovina', 'Botswana',\n",
       "       'Brazil', 'Brunei Darussalam', 'Bulgaria', 'Burkina Faso',\n",
       "       'Cambodia', 'Cameroon', 'Canada', 'Chad', 'Chile', 'China',\n",
       "       'Colombia', 'Costa Rica', \"Cote d'Ivoire\", 'Croatia', 'Cuba',\n",
       "       'Cyprus', 'Czech Republic', 'Democratic Republic of the Congo',\n",
       "       'Denmark', 'Djibouti', 'Dominican Republic', 'Ecuador', 'Egypt',\n",
       "       'El Salvador', 'Estonia', 'Ethiopia', 'Fiji', 'Finland', 'France',\n",
       "       'Gambia', 'Georgia', 'Germany', 'Ghana', 'Greece', 'Guatemala',\n",
       "       'Guinea', 'Guyana', 'Haiti', 'Honduras', 'Hong Kong',\n",
       "       'Hong Kong (S.A.R.)', 'Hungary', 'I prefer not to say', 'Iceland',\n",
       "       'India', 'Indonesia', 'Iran', 'Iraq', 'Ireland', 'Isle of Man',\n",
       "       'Israel', 'Italy', 'Jamaica', 'Japan', 'Jordan', 'Kazakhstan',\n",
       "       'Kenya', 'Kosovo', 'Kuwait', 'Kyrgyzstan',\n",
       "       \"Lao People's Democratic Republic\", 'Latvia', 'Lebanon', 'Lesotho',\n",
       "       'Libyan Arab Jamahiriya', 'Liechtenstein', 'Lithuania',\n",
       "       'Luxembourg', 'Macedonia', 'Madagascar', 'Malawi', 'Malaysia',\n",
       "       'Maldives', 'Mali', 'Malta', 'Mauritius', 'Mexico', 'Moldavia',\n",
       "       'Mongolia', 'Montenegro', 'Morocco', 'Mozambique', 'Myanmar',\n",
       "       'Namibia', 'Nepal', 'Netherlands', 'New Caledonia (French)',\n",
       "       'New Zealand', 'Nicaragua', 'Nigeria', 'Nomadic', 'Norway', 'Oman',\n",
       "       'Other Country (Not Listed Above)', 'Pakistan', 'Panama',\n",
       "       'Paraguay', 'Peru', 'Philippines', 'Poland', 'Portugal',\n",
       "       'Puerto Rico', 'Qatar', 'Republic of Moldova', 'Romania',\n",
       "       'Russian Federation', 'Rwanda', 'Saint Lucia',\n",
       "       'Saint Vincent and the Grenadines', 'Saudi Arabia', 'Senegal',\n",
       "       'Serbia', 'Seychelles', 'Singapore', 'Slovak Republic', 'Slovenia',\n",
       "       'Somalia', 'South Africa', 'South Korea', 'Spain', 'Sri Lanka',\n",
       "       'Sudan', 'Suriname', 'Swaziland', 'Sweden', 'Switzerland',\n",
       "       'Syrian Arab Republic', 'Taiwan', 'Tajikistan', 'Tanzania',\n",
       "       'Thailand', 'Togo', 'Trinidad and Tobago', 'Tunisia', 'Turkey',\n",
       "       'Uganda', 'Ukraine', 'United Arab Emirates', 'United Kingdom',\n",
       "       'United States', 'Uruguay', 'Uzbekistan', 'Venezuela', 'Vietnam',\n",
       "       'Virgin Islands (USA)', 'Yemen', 'Zaire', 'Zambia', 'Zimbabwe'],\n",
       "      dtype=object)"
      ]
     },
     "execution_count": 76,
     "metadata": {},
     "output_type": "execute_result"
    }
   ],
   "source": [
    "salary = salary.replace(to_replace =\"Viet Nam\", value =\"Vietnam\").replace(to_replace =\"United Republic of Tanzania\", value =\"Tanzania\").replace(to_replace =\"Republic of Korea\", value =\"South Korea\").replace(to_replace =\"Slovakia\", value =\"Slovak Republic\").replace(to_replace =\"The former Yugoslav Republic of Macedonia\", value =\"Macedonia\").replace(to_replace =\"Iran, Islamic Republic of...\", value =\"Iran\").replace(to_replace =\"CÃ´te d'Ivoire\", value =\"Cote d'Ivoire\").replace(to_replace =\"C√¥te d'Ivoire\", value =\"Cote d'Ivoire\").replace(to_replace =\"Venezuela, Bolivarian Republic of...\", value =\"Venezuela\").replace(to_replace =\"Congo, Republic of the...\", value =\"Democratic Republic of the Congo\").replace(to_replace =\"Bosnia and Herzegovina\", value =\"Bosnia-Herzegovina\")\n",
    "salary.sort_values(by='Country')['Country'].unique()"
   ]
  },
  {
   "cell_type": "code",
   "execution_count": null,
   "metadata": {},
   "outputs": [],
   "source": []
  }
 ],
 "metadata": {
  "kernelspec": {
   "display_name": "Python 3",
   "language": "python",
   "name": "python3"
  },
  "language_info": {
   "codemirror_mode": {
    "name": "ipython",
    "version": 3
   },
   "file_extension": ".py",
   "mimetype": "text/x-python",
   "name": "python",
   "nbconvert_exporter": "python",
   "pygments_lexer": "ipython3",
   "version": "3.8.5"
  }
 },
 "nbformat": 4,
 "nbformat_minor": 4
}
