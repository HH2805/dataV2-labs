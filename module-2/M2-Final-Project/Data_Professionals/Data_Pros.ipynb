{
 "cells": [
  {
   "cell_type": "markdown",
   "metadata": {},
   "source": [
    "## Project: Visualizing Real World Data - Data jobs Salaries"
   ]
  },
  {
   "cell_type": "markdown",
   "metadata": {},
   "source": [
    "![img](../survey_img.png)"
   ]
  },
  {
   "cell_type": "markdown",
   "metadata": {},
   "source": [
    "### Overview"
   ]
  },
  {
   "cell_type": "markdown",
   "metadata": {},
   "source": [
    "\n",
    "The goal of this project was to practice creating and interpreting different types of visualizations using real world data.\n",
    "\n",
    "I have chosen to study a dataset of around 19,000 women's shoes and their associated product information. The dataset is the public extract of one of the databases sold by Datafiniti, a database provider for business. The public extract was downloaded from Kaggle.\n",
    "\n",
    "Each line of the dataset is a respondent to the survey. The features are country, job position, salary, job satisfaction and more.\n",
    "\n",
    "The dataset used was uploaded at https://www.kaggle.com/phuchuynguyen/salary-and-moredata-scientist-analyst-engineer\n",
    "It is in a .csv format\n",
    "The survey questionnaire is included in the repo.  https://developer.datafiniti.co/docs/product-data-schema"
   ]
  },
  {
   "cell_type": "markdown",
   "metadata": {},
   "source": [
    "## Libraries\n",
    "Pandas and numpy will be needed for the analysis of the data.\n",
    "Seaborn will be needed for vizualisations."
   ]
  },
  {
   "cell_type": "code",
   "execution_count": 1,
   "metadata": {},
   "outputs": [],
   "source": [
    "import pandas as pd\n",
    "import numpy as np\n",
    "import seaborn as sns"
   ]
  },
  {
   "cell_type": "code",
   "execution_count": 2,
   "metadata": {},
   "outputs": [],
   "source": [
    "# Let's import and assign it to a variable named `initial_survey_results`.\n",
    "sal = pd.read_csv('../data/initial_survey_results.csv')"
   ]
  },
  {
   "cell_type": "markdown",
   "metadata": {},
   "source": [
    "# 1. Preparing the data.\n",
    "Let's see how the data looks by using pandas methods like 'shape', `head()`, `info()` and `dtypes`."
   ]
  },
  {
   "cell_type": "code",
   "execution_count": 3,
   "metadata": {},
   "outputs": [
    {
     "name": "stdout",
     "output_type": "stream",
     "text": [
      "This dataset has 33601 observations and 14 features.\n"
     ]
    }
   ],
   "source": [
    "# Let's find out the total number of rows and columns in the dataset using the “.shape” method.\n",
    "sal.shape\n",
    "print(f'This dataset has {sal.shape[0]} observations and {sal.shape[1]} features.')"
   ]
  },
  {
   "cell_type": "code",
   "execution_count": 4,
   "metadata": {},
   "outputs": [
    {
     "data": {
      "text/html": [
       "<div>\n",
       "<style scoped>\n",
       "    .dataframe tbody tr th:only-of-type {\n",
       "        vertical-align: middle;\n",
       "    }\n",
       "\n",
       "    .dataframe tbody tr th {\n",
       "        vertical-align: top;\n",
       "    }\n",
       "\n",
       "    .dataframe thead th {\n",
       "        text-align: right;\n",
       "    }\n",
       "</style>\n",
       "<table border=\"1\" class=\"dataframe\">\n",
       "  <thead>\n",
       "    <tr style=\"text-align: right;\">\n",
       "      <th></th>\n",
       "      <th>Year</th>\n",
       "      <th>Hobbyist</th>\n",
       "      <th>ConvertedComp</th>\n",
       "      <th>Country</th>\n",
       "      <th>EdLevel</th>\n",
       "      <th>Employment</th>\n",
       "      <th>JobSat</th>\n",
       "      <th>OrgSize</th>\n",
       "      <th>UndergradMajor</th>\n",
       "      <th>YearsCodePro</th>\n",
       "      <th>Data scientist or machine learning specialist</th>\n",
       "      <th>Database administrator</th>\n",
       "      <th>Data or business analyst</th>\n",
       "      <th>Engineer, data</th>\n",
       "    </tr>\n",
       "  </thead>\n",
       "  <tbody>\n",
       "    <tr>\n",
       "      <th>16656</th>\n",
       "      <td>2019</td>\n",
       "      <td>Yes</td>\n",
       "      <td>100000.0</td>\n",
       "      <td>United States</td>\n",
       "      <td>Bachelor's degree</td>\n",
       "      <td>Employed full-time</td>\n",
       "      <td>4.0</td>\n",
       "      <td>10,000 or more employees</td>\n",
       "      <td>Mathematics or statistics</td>\n",
       "      <td>2.0</td>\n",
       "      <td>1</td>\n",
       "      <td>1</td>\n",
       "      <td>1.0</td>\n",
       "      <td>0.0</td>\n",
       "    </tr>\n",
       "    <tr>\n",
       "      <th>32421</th>\n",
       "      <td>2020</td>\n",
       "      <td>Yes</td>\n",
       "      <td>37816.0</td>\n",
       "      <td>Canada</td>\n",
       "      <td>Some college/university study without earning ...</td>\n",
       "      <td>Employed full-time</td>\n",
       "      <td>8.0</td>\n",
       "      <td>NaN</td>\n",
       "      <td>Computer science</td>\n",
       "      <td>2.0</td>\n",
       "      <td>0</td>\n",
       "      <td>1</td>\n",
       "      <td>0.0</td>\n",
       "      <td>0.0</td>\n",
       "    </tr>\n",
       "    <tr>\n",
       "      <th>12130</th>\n",
       "      <td>2018</td>\n",
       "      <td>No</td>\n",
       "      <td>5424.0</td>\n",
       "      <td>Pakistan</td>\n",
       "      <td>Bachelor's degree</td>\n",
       "      <td>Independent contractor, freelancer, or self-em...</td>\n",
       "      <td>9.0</td>\n",
       "      <td>NaN</td>\n",
       "      <td>Another engineering discipline</td>\n",
       "      <td>8.0</td>\n",
       "      <td>0</td>\n",
       "      <td>0</td>\n",
       "      <td>1.0</td>\n",
       "      <td>NaN</td>\n",
       "    </tr>\n",
       "    <tr>\n",
       "      <th>15758</th>\n",
       "      <td>2019</td>\n",
       "      <td>No</td>\n",
       "      <td>172000.0</td>\n",
       "      <td>United States</td>\n",
       "      <td>Bachelor's degree</td>\n",
       "      <td>Employed full-time</td>\n",
       "      <td>8.0</td>\n",
       "      <td>1,000 to 4,999 employees</td>\n",
       "      <td>Social science</td>\n",
       "      <td>7.0</td>\n",
       "      <td>1</td>\n",
       "      <td>0</td>\n",
       "      <td>1.0</td>\n",
       "      <td>0.0</td>\n",
       "    </tr>\n",
       "    <tr>\n",
       "      <th>25766</th>\n",
       "      <td>2020</td>\n",
       "      <td>Yes</td>\n",
       "      <td>65000.0</td>\n",
       "      <td>United States</td>\n",
       "      <td>Master's degree</td>\n",
       "      <td>Employed full-time</td>\n",
       "      <td>6.0</td>\n",
       "      <td>10,000 or more employees</td>\n",
       "      <td>Information systems</td>\n",
       "      <td>3.0</td>\n",
       "      <td>0</td>\n",
       "      <td>1</td>\n",
       "      <td>1.0</td>\n",
       "      <td>1.0</td>\n",
       "    </tr>\n",
       "  </tbody>\n",
       "</table>\n",
       "</div>"
      ],
      "text/plain": [
       "       Year Hobbyist  ConvertedComp        Country  \\\n",
       "16656  2019      Yes       100000.0  United States   \n",
       "32421  2020      Yes        37816.0         Canada   \n",
       "12130  2018       No         5424.0       Pakistan   \n",
       "15758  2019       No       172000.0  United States   \n",
       "25766  2020      Yes        65000.0  United States   \n",
       "\n",
       "                                                 EdLevel  \\\n",
       "16656                                  Bachelor's degree   \n",
       "32421  Some college/university study without earning ...   \n",
       "12130                                  Bachelor's degree   \n",
       "15758                                  Bachelor's degree   \n",
       "25766                                    Master's degree   \n",
       "\n",
       "                                              Employment  JobSat  \\\n",
       "16656                                 Employed full-time     4.0   \n",
       "32421                                 Employed full-time     8.0   \n",
       "12130  Independent contractor, freelancer, or self-em...     9.0   \n",
       "15758                                 Employed full-time     8.0   \n",
       "25766                                 Employed full-time     6.0   \n",
       "\n",
       "                        OrgSize                  UndergradMajor  YearsCodePro  \\\n",
       "16656  10,000 or more employees       Mathematics or statistics           2.0   \n",
       "32421                       NaN                Computer science           2.0   \n",
       "12130                       NaN  Another engineering discipline           8.0   \n",
       "15758  1,000 to 4,999 employees                  Social science           7.0   \n",
       "25766  10,000 or more employees             Information systems           3.0   \n",
       "\n",
       "       Data scientist or machine learning specialist  Database administrator  \\\n",
       "16656                                              1                       1   \n",
       "32421                                              0                       1   \n",
       "12130                                              0                       0   \n",
       "15758                                              1                       0   \n",
       "25766                                              0                       1   \n",
       "\n",
       "       Data or business analyst  Engineer, data  \n",
       "16656                       1.0             0.0  \n",
       "32421                       0.0             0.0  \n",
       "12130                       1.0             NaN  \n",
       "15758                       1.0             0.0  \n",
       "25766                       1.0             1.0  "
      ]
     },
     "execution_count": 4,
     "metadata": {},
     "output_type": "execute_result"
    }
   ],
   "source": [
    "# Let's print 5 random rows of our dataset for a first look at the features and at some of the values.\n",
    "sal.sample(5) "
   ]
  },
  {
   "cell_type": "markdown",
   "metadata": {},
   "source": [
    "**Comments:**\n",
    "\n",
    "We can see from this row sample that:\n",
    "- there seems to be a significant number of missing data in the last 2 columns.\n",
    "- The column names are not self-explanatory.\n",
    "- The order of the columns is not logical."
   ]
  },
  {
   "cell_type": "markdown",
   "metadata": {},
   "source": [
    "**Selecting features**"
   ]
  },
  {
   "cell_type": "markdown",
   "metadata": {},
   "source": [
    "We will not need all columns in this project. Let's drop those that are the least interesting for our analysis."
   ]
  },
  {
   "cell_type": "code",
   "execution_count": 5,
   "metadata": {},
   "outputs": [
    {
     "name": "stdout",
     "output_type": "stream",
     "text": [
      "(33601, 11)\n"
     ]
    },
    {
     "data": {
      "text/html": [
       "<div>\n",
       "<style scoped>\n",
       "    .dataframe tbody tr th:only-of-type {\n",
       "        vertical-align: middle;\n",
       "    }\n",
       "\n",
       "    .dataframe tbody tr th {\n",
       "        vertical-align: top;\n",
       "    }\n",
       "\n",
       "    .dataframe thead th {\n",
       "        text-align: right;\n",
       "    }\n",
       "</style>\n",
       "<table border=\"1\" class=\"dataframe\">\n",
       "  <thead>\n",
       "    <tr style=\"text-align: right;\">\n",
       "      <th></th>\n",
       "      <th>Year</th>\n",
       "      <th>ConvertedComp</th>\n",
       "      <th>Country</th>\n",
       "      <th>EdLevel</th>\n",
       "      <th>Employment</th>\n",
       "      <th>JobSat</th>\n",
       "      <th>OrgSize</th>\n",
       "      <th>Data scientist or machine learning specialist</th>\n",
       "      <th>Database administrator</th>\n",
       "      <th>Data or business analyst</th>\n",
       "      <th>Engineer, data</th>\n",
       "    </tr>\n",
       "  </thead>\n",
       "  <tbody>\n",
       "    <tr>\n",
       "      <th>30521</th>\n",
       "      <td>2020</td>\n",
       "      <td>23352.0</td>\n",
       "      <td>Germany</td>\n",
       "      <td>Professional degree</td>\n",
       "      <td>Independent contractor, freelancer, or self-em...</td>\n",
       "      <td>4.0</td>\n",
       "      <td>2 to 9 employees</td>\n",
       "      <td>0</td>\n",
       "      <td>1</td>\n",
       "      <td>0.0</td>\n",
       "      <td>0.0</td>\n",
       "    </tr>\n",
       "  </tbody>\n",
       "</table>\n",
       "</div>"
      ],
      "text/plain": [
       "       Year  ConvertedComp  Country              EdLevel  \\\n",
       "30521  2020        23352.0  Germany  Professional degree   \n",
       "\n",
       "                                              Employment  JobSat  \\\n",
       "30521  Independent contractor, freelancer, or self-em...     4.0   \n",
       "\n",
       "                OrgSize  Data scientist or machine learning specialist  \\\n",
       "30521  2 to 9 employees                                              0   \n",
       "\n",
       "       Database administrator  Data or business analyst  Engineer, data  \n",
       "30521                       1                       0.0             0.0  "
      ]
     },
     "execution_count": 5,
     "metadata": {},
     "output_type": "execute_result"
    }
   ],
   "source": [
    "sal.drop(['Hobbyist', 'UndergradMajor','YearsCodePro'], axis=1, inplace=True, errors='ignore')\n",
    "#check \n",
    "print(sal.shape)\n",
    "sal.sample()"
   ]
  },
  {
   "cell_type": "markdown",
   "metadata": {},
   "source": [
    "**Renaming and Reordering Columns**"
   ]
  },
  {
   "cell_type": "markdown",
   "metadata": {},
   "source": [
    "Current column names are not always self-explanatory. Let's rename the columns to make it easier to understand what the data is about."
   ]
  },
  {
   "cell_type": "code",
   "execution_count": 6,
   "metadata": {},
   "outputs": [
    {
     "data": {
      "text/html": [
       "<div>\n",
       "<style scoped>\n",
       "    .dataframe tbody tr th:only-of-type {\n",
       "        vertical-align: middle;\n",
       "    }\n",
       "\n",
       "    .dataframe tbody tr th {\n",
       "        vertical-align: top;\n",
       "    }\n",
       "\n",
       "    .dataframe thead th {\n",
       "        text-align: right;\n",
       "    }\n",
       "</style>\n",
       "<table border=\"1\" class=\"dataframe\">\n",
       "  <thead>\n",
       "    <tr style=\"text-align: right;\">\n",
       "      <th></th>\n",
       "      <th>Year</th>\n",
       "      <th>Country</th>\n",
       "      <th>Data Scientist or Machine Learning Specialist</th>\n",
       "      <th>Database Administrator</th>\n",
       "      <th>Data/Business Analyst</th>\n",
       "      <th>Data Engineer</th>\n",
       "      <th>Education Level</th>\n",
       "      <th>Employment Status</th>\n",
       "      <th>Org Size</th>\n",
       "      <th>Salary (USD, Annual)</th>\n",
       "      <th>Job Satisfaction</th>\n",
       "    </tr>\n",
       "  </thead>\n",
       "  <tbody>\n",
       "    <tr>\n",
       "      <th>13948</th>\n",
       "      <td>2019</td>\n",
       "      <td>Canada</td>\n",
       "      <td>0</td>\n",
       "      <td>1</td>\n",
       "      <td>0.0</td>\n",
       "      <td>0.0</td>\n",
       "      <td>Bachelor's degree</td>\n",
       "      <td>Employed full-time</td>\n",
       "      <td>2 to 9 employees</td>\n",
       "      <td>28650.0</td>\n",
       "      <td>2.0</td>\n",
       "    </tr>\n",
       "  </tbody>\n",
       "</table>\n",
       "</div>"
      ],
      "text/plain": [
       "       Year Country  Data Scientist or Machine Learning Specialist  \\\n",
       "13948  2019  Canada                                              0   \n",
       "\n",
       "       Database Administrator  Data/Business Analyst  Data Engineer  \\\n",
       "13948                       1                    0.0            0.0   \n",
       "\n",
       "         Education Level   Employment Status          Org Size  \\\n",
       "13948  Bachelor's degree  Employed full-time  2 to 9 employees   \n",
       "\n",
       "       Salary (USD, Annual)  Job Satisfaction  \n",
       "13948               28650.0               2.0  "
      ]
     },
     "execution_count": 6,
     "metadata": {},
     "output_type": "execute_result"
    }
   ],
   "source": [
    "sal.columns = ['Year', 'Salary (USD, Annual)', 'Country', 'Education Level', 'Employment Status',\n",
    "       'Job Satisfaction', 'Org Size', 'Data Scientist or Machine Learning Specialist',\n",
    "       'Database Administrator', 'Data/Business Analyst', 'Data Engineer']\n",
    "sal = sal[['Year', 'Country', 'Data Scientist or Machine Learning Specialist', 'Database Administrator', 'Data/Business Analyst', 'Data Engineer','Education Level',\n",
    "     'Employment Status','Org Size', 'Salary (USD, Annual)', 'Job Satisfaction']]\n",
    "#check \n",
    "sal.sample()"
   ]
  },
  {
   "cell_type": "markdown",
   "metadata": {},
   "source": [
    "**Data Types**"
   ]
  },
  {
   "cell_type": "code",
   "execution_count": 7,
   "metadata": {},
   "outputs": [
    {
     "data": {
      "text/plain": [
       "Year                                               int64\n",
       "Country                                           object\n",
       "Data Scientist or Machine Learning Specialist      int64\n",
       "Database Administrator                             int64\n",
       "Data/Business Analyst                            float64\n",
       "Data Engineer                                    float64\n",
       "Education Level                                   object\n",
       "Employment Status                                 object\n",
       "Org Size                                          object\n",
       "Salary (USD, Annual)                             float64\n",
       "Job Satisfaction                                 float64\n",
       "dtype: object"
      ]
     },
     "execution_count": 7,
     "metadata": {},
     "output_type": "execute_result"
    }
   ],
   "source": [
    "sal.dtypes"
   ]
  },
  {
   "cell_type": "markdown",
   "metadata": {},
   "source": [
    "**Comments:**\n",
    "\n",
    "We can see that our data is both categorical (Country, education level, employment status and organization size), and numeric (salary, year, and job satisfaction).\n",
    "\n",
    "Actually the data type for Job Satisfaction is ordinal (measured from 1 to 10 instead from \"not satisfied\" to \"extremely satisfied\"), meaning that it can be considered both categorical and numeric.\n",
    "\n",
    "The data type for the job position columns is not harmonized: \"Data Scientist\" and \"DB Administrators\" have integer values, while \"Data Analyst\" and \"Data Engineer\" have float values."
   ]
  },
  {
   "cell_type": "markdown",
   "metadata": {},
   "source": [
    "**Comments:**\n",
    "Let's start by harmonizing the data types for the 4 job position columns."
   ]
  },
  {
   "cell_type": "code",
   "execution_count": 8,
   "metadata": {},
   "outputs": [],
   "source": [
    "sal.loc[:,['Data Scientist or Machine Learning Specialist','Database Administrator','Data Engineer','Data/Business Analyst']] = sal.loc[:,['Data Scientist or Machine Learning Specialist','Database Administrator','Data Engineer','Data/Business Analyst']].astype(str)"
   ]
  },
  {
   "cell_type": "markdown",
   "metadata": {},
   "source": [
    "**Comments:**\n",
    "Let's also change the data type for Salary from float to integer. We don't need that kind of detailing!"
   ]
  },
  {
   "cell_type": "code",
   "execution_count": 9,
   "metadata": {},
   "outputs": [
    {
     "data": {
      "text/plain": [
       "Year                                               int64\n",
       "Country                                           object\n",
       "Data Scientist or Machine Learning Specialist     object\n",
       "Database Administrator                            object\n",
       "Data/Business Analyst                             object\n",
       "Data Engineer                                     object\n",
       "Education Level                                   object\n",
       "Employment Status                                 object\n",
       "Org Size                                          object\n",
       "Salary (USD, Annual)                               int32\n",
       "Job Satisfaction                                 float64\n",
       "dtype: object"
      ]
     },
     "execution_count": 9,
     "metadata": {},
     "output_type": "execute_result"
    }
   ],
   "source": [
    "sal['Salary (USD, Annual)'] = sal['Salary (USD, Annual)'].astype('int')\n",
    "#check\n",
    "sal.dtypes"
   ]
  },
  {
   "cell_type": "markdown",
   "metadata": {},
   "source": [
    "**Comments:**\n",
    "\n",
    "Now let's convert the data type for 'Org Size' from string to integer. This way we may study the potential correlations between organization size and other features.\n",
    "\n",
    "To convert the data type we need to get rid of missing values first. Let's assume that when an individual did not answer that's because he did not know the answer."
   ]
  },
  {
   "cell_type": "code",
   "execution_count": 10,
   "metadata": {},
   "outputs": [
    {
     "data": {
      "text/plain": [
       "20 to 99 employees                                    6861\n",
       "100 to 499 employees                                  5332\n",
       "10,000 or more employees                              4360\n",
       "2 to 9 employees                                      4087\n",
       "10 to 19 employees                                    3538\n",
       "1,000 to 4,999 employees                              3331\n",
       "500 to 999 employees                                  1889\n",
       "5,000 to 9,999 employees                              1408\n",
       "Just me - I am a freelancer, sole proprietor, etc.    1063\n",
       "I don't know                                            26\n",
       "I prefer not to answer                                   9\n",
       "Name: Org Size, dtype: int64"
      ]
     },
     "execution_count": 10,
     "metadata": {},
     "output_type": "execute_result"
    }
   ],
   "source": [
    "sal['Org Size'].value_counts()"
   ]
  },
  {
   "cell_type": "code",
   "execution_count": 11,
   "metadata": {},
   "outputs": [],
   "source": [
    "sal['Org Size'].fillna(\"I don't know\", inplace=True)"
   ]
  },
  {
   "cell_type": "code",
   "execution_count": 12,
   "metadata": {},
   "outputs": [
    {
     "name": "stdout",
     "output_type": "stream",
     "text": [
      "Year                                               int64\n",
      "Country                                           object\n",
      "Data Scientist or Machine Learning Specialist     object\n",
      "Database Administrator                            object\n",
      "Data/Business Analyst                             object\n",
      "Data Engineer                                     object\n",
      "Education Level                                   object\n",
      "Employment Status                                 object\n",
      "Organization Size                                  int32\n",
      "Salary (USD, Annual)                               int32\n",
      "Job Satisfaction                                 float64\n",
      "dtype: object\n",
      "(31869, 11)\n"
     ]
    }
   ],
   "source": [
    "sal.loc[sal['Org Size']=='I prefer not to answer', 'Organization Size'] = '0'\n",
    "sal.loc[sal['Org Size']==\"I don't know\", 'Organization Size'] = '0'\n",
    "sal.loc[sal['Org Size']== '0', 'Organization Size'] = '0'\n",
    "sal.loc[sal['Org Size']=='Just me - I am a freelancer, sole proprietor, etc.', 'Organization Size'] ='1'\n",
    "sal.loc[sal['Org Size']=='2 to 9 employees', 'Organization Size'] ='9'\n",
    "sal.loc[sal['Org Size']=='10 to 19 employees', 'Organization Size'] ='19'\n",
    "sal.loc[sal['Org Size']=='20 to 99 employees', 'Organization Size'] ='99'\n",
    "sal.loc[sal['Org Size']=='100 to 499 employees', 'Organization Size'] ='499'\n",
    "sal.loc[sal['Org Size']=='500 to 999 employees', 'Organization Size'] ='999'\n",
    "sal.loc[sal['Org Size']=='1,000 to 4,999 employees', 'Organization Size'] ='4999'\n",
    "sal.loc[sal['Org Size']=='5,000 to 9,999 employees', 'Organization Size'] ='9999'\n",
    "sal.loc[sal['Org Size']=='10,000 or more employees', 'Organization Size'] ='10000'\n",
    "\n",
    "sal = sal[sal['Organization Size']!='0']\n",
    "sal = sal[['Year', 'Country', 'Data Scientist or Machine Learning Specialist',\n",
    "       'Database Administrator', 'Data/Business Analyst', 'Data Engineer',\n",
    "       'Education Level', 'Employment Status', 'Organization Size',\n",
    "       'Salary (USD, Annual)', 'Job Satisfaction']]\n",
    "sal['Organization Size'] = sal['Organization Size'].astype('int')\n",
    "\n",
    "# check\n",
    "print(sal.dtypes)\n",
    "print(sal.shape)"
   ]
  },
  {
   "cell_type": "markdown",
   "metadata": {},
   "source": [
    "**Streamlining data in cells**\n",
    "Let's have a look at the distinct values in each column, starting with Salary."
   ]
  },
  {
   "cell_type": "code",
   "execution_count": 13,
   "metadata": {},
   "outputs": [
    {
     "name": "stdout",
     "output_type": "stream",
     "text": [
      "We initially have 177 distinct countries in our dataset. Let us print it and examine it.\n"
     ]
    },
    {
     "data": {
      "text/plain": [
       "array(['Afghanistan', 'Albania', 'Algeria', 'Andorra', 'Argentina',\n",
       "       'Armenia', 'Australia', 'Austria', 'Azerbaijan', 'Bahamas',\n",
       "       'Bahrain', 'Bangladesh', 'Barbados', 'Belarus', 'Belgium', 'Benin',\n",
       "       'Bermuda', 'Bhutan', 'Bolivia', 'Bosnia and Herzegovina',\n",
       "       'Bosnia-Herzegovina', 'Botswana', 'Brazil', 'Brunei Darussalam',\n",
       "       'Bulgaria', 'Burkina Faso', 'Cambodia', 'Cameroon', 'Canada',\n",
       "       'Chad', 'Chile', 'China', 'Colombia', 'Congo, Republic of the...',\n",
       "       'Costa Rica', 'Croatia', 'Cuba', 'Cyprus', 'Czech Republic',\n",
       "       \"CÃ´te d'Ivoire\", 'Democratic Republic of the Congo', 'Denmark',\n",
       "       'Djibouti', 'Dominican Republic', 'Ecuador', 'Egypt',\n",
       "       'El Salvador', 'Estonia', 'Ethiopia', 'Fiji', 'Finland', 'France',\n",
       "       'Gambia', 'Georgia', 'Germany', 'Ghana', 'Greece', 'Guatemala',\n",
       "       'Guinea', 'Guyana', 'Haiti', 'Honduras', 'Hong Kong',\n",
       "       'Hong Kong (S.A.R.)', 'Hungary', 'I prefer not to say', 'Iceland',\n",
       "       'India', 'Indonesia', 'Iran', 'Iran, Islamic Republic of...',\n",
       "       'Iraq', 'Ireland', 'Isle of Man', 'Israel', 'Italy', 'Jamaica',\n",
       "       'Japan', 'Jordan', 'Kazakhstan', 'Kenya', 'Kosovo', 'Kuwait',\n",
       "       'Kyrgyzstan', \"Lao People's Democratic Republic\", 'Latvia',\n",
       "       'Lebanon', 'Lesotho', 'Libyan Arab Jamahiriya', 'Liechtenstein',\n",
       "       'Lithuania', 'Luxembourg', 'Macedonia', 'Madagascar', 'Malawi',\n",
       "       'Malaysia', 'Maldives', 'Mali', 'Malta', 'Mauritius', 'Mexico',\n",
       "       'Moldavia', 'Mongolia', 'Montenegro', 'Morocco', 'Mozambique',\n",
       "       'Myanmar', 'Namibia', 'Nepal', 'Netherlands',\n",
       "       'New Caledonia (French)', 'New Zealand', 'Nicaragua', 'Nigeria',\n",
       "       'Nomadic', 'Norway', 'Oman', 'Other Country (Not Listed Above)',\n",
       "       'Pakistan', 'Panama', 'Paraguay', 'Peru', 'Philippines', 'Poland',\n",
       "       'Portugal', 'Puerto Rico', 'Qatar', 'Republic of Korea',\n",
       "       'Republic of Moldova', 'Romania', 'Russian Federation', 'Rwanda',\n",
       "       'Saint Vincent and the Grenadines', 'Saudi Arabia', 'Senegal',\n",
       "       'Serbia', 'Seychelles', 'Singapore', 'Slovak Republic', 'Slovakia',\n",
       "       'Slovenia', 'Somalia', 'South Africa', 'South Korea', 'Spain',\n",
       "       'Sri Lanka', 'Sudan', 'Suriname', 'Swaziland', 'Sweden',\n",
       "       'Switzerland', 'Syrian Arab Republic', 'Taiwan', 'Tajikistan',\n",
       "       'Tanzania', 'Thailand',\n",
       "       'The former Yugoslav Republic of Macedonia', 'Togo',\n",
       "       'Trinidad and Tobago', 'Tunisia', 'Turkey', 'Uganda', 'Ukraine',\n",
       "       'United Arab Emirates', 'United Kingdom',\n",
       "       'United Republic of Tanzania', 'United States', 'Uruguay',\n",
       "       'Uzbekistan', 'Venezuela', 'Venezuela, Bolivarian Republic of...',\n",
       "       'Viet Nam', 'Vietnam', 'Virgin Islands (USA)', 'Yemen', 'Zambia',\n",
       "       'Zimbabwe'], dtype=object)"
      ]
     },
     "execution_count": 13,
     "metadata": {},
     "output_type": "execute_result"
    }
   ],
   "source": [
    "print(f'We initially have {sal.Country.nunique()} distinct countries in our dataset. Let us print it and examine it.')\n",
    "sal.sort_values(by='Country')['Country'].unique()"
   ]
  },
  {
   "cell_type": "code",
   "execution_count": 14,
   "metadata": {},
   "outputs": [
    {
     "name": "stdout",
     "output_type": "stream",
     "text": [
      "By printing the list of distinct values we can see that some are duplicates under a different name, like \"Hong Kong\" and \"Hong Kong (S.A.R.)\".\n",
      "\n",
      "After streamlining our new list of countries is now as follows:  ['Afghanistan' 'Albania' 'Algeria' 'Andorra' 'Argentina' 'Armenia'\n",
      " 'Australia' 'Austria' 'Azerbaijan' 'Bahamas' 'Bahrain' 'Bangladesh'\n",
      " 'Barbados' 'Belarus' 'Belgium' 'Benin' 'Bermuda' 'Bhutan' 'Bolivia'\n",
      " 'Bosnia-Herzegovina' 'Botswana' 'Brazil' 'Brunei Darussalam' 'Bulgaria'\n",
      " 'Burkina Faso' 'Cambodia' 'Cameroon' 'Canada' 'Chad' 'Chile' 'China'\n",
      " 'Colombia' 'Costa Rica' \"Cote d'Ivoire\" 'Croatia' 'Cuba' 'Cyprus'\n",
      " 'Czech Republic' 'Democratic Republic of Congo' 'Denmark' 'Djibouti'\n",
      " 'Dominican Republic' 'Ecuador' 'Egypt' 'El Salvador' 'Estonia' 'Ethiopia'\n",
      " 'Fiji' 'Finland' 'France' 'Gambia' 'Georgia' 'Germany' 'Ghana' 'Greece'\n",
      " 'Guatemala' 'Guinea' 'Guyana' 'Haiti' 'Honduras' 'Hong Kong' 'Hungary'\n",
      " 'I prefer not to say' 'Iceland' 'India' 'Indonesia' 'Iran' 'Iraq'\n",
      " 'Ireland' 'Isle of Man' 'Israel' 'Italy' 'Jamaica' 'Japan' 'Jordan'\n",
      " 'Kazakhstan' 'Kenya' 'Kosovo' 'Kuwait' 'Kyrgyzstan'\n",
      " \"Lao People's Democratic Republic\" 'Latvia' 'Lebanon' 'Lesotho' 'Libya'\n",
      " 'Liechtenstein' 'Lithuania' 'Luxembourg' 'Macedonia' 'Madagascar'\n",
      " 'Malawi' 'Malaysia' 'Maldives' 'Mali' 'Malta' 'Mauritius' 'Mexico'\n",
      " 'Moldavia' 'Mongolia' 'Montenegro' 'Morocco' 'Mozambique' 'Myanmar'\n",
      " 'Namibia' 'Nepal' 'Netherlands' 'New Caledonia (French)' 'New Zealand'\n",
      " 'Nicaragua' 'Nigeria' 'Nomadic' 'Norway' 'Oman'\n",
      " 'Other Country (Not Listed Above)' 'Pakistan' 'Panama' 'Paraguay' 'Peru'\n",
      " 'Philippines' 'Poland' 'Portugal' 'Puerto Rico' 'Qatar'\n",
      " 'Republic of the Congo' 'Romania' 'Russian Federation' 'Rwanda'\n",
      " 'Saint Vincent and the Grenadines' 'Saudi Arabia' 'Senegal' 'Serbia'\n",
      " 'Seychelles' 'Singapore' 'Slovak Republic' 'Slovenia' 'Somalia'\n",
      " 'South Africa' 'South Korea' 'Spain' 'Sri Lanka' 'Sudan' 'Suriname'\n",
      " 'Swaziland' 'Sweden' 'Switzerland' 'Syria' 'Taiwan' 'Tajikistan'\n",
      " 'Tanzania' 'Thailand' 'Togo' 'Trinidad and Tobago' 'Tunisia' 'Turkey'\n",
      " 'Uganda' 'Ukraine' 'United Arab Emirates' 'United Kingdom'\n",
      " 'United States' 'Uruguay' 'Uzbekistan' 'Venezuela' 'Vietnam'\n",
      " 'Virgin Islands (USA)' 'Yemen' 'Zambia' 'Zimbabwe'].\n",
      "\n",
      "Which means we have streamlined our \"Country\" column to 167 distinct values.\n"
     ]
    }
   ],
   "source": [
    "print(f'By printing the list of distinct values we can see that some are duplicates under a different name, like \"Hong Kong\" and \"Hong Kong (S.A.R.)\".')\n",
    "print()\n",
    "\n",
    "Countrydict = {\"Bosnia and Herzegovina\":\"Bosnia-Herzegovina\",\n",
    "               \"Syrian Arab Republic\":\"Syria\",\n",
    "               \"Republic of Moldova\":\"Moldavia\",\n",
    "               \"Libyan Arab Jamahiriya\":\"Libya\",\n",
    "               \"Hong Kong (S.A.R.)\":\"Hong Kong\",\n",
    "               \"Viet Nam\":\"Vietnam\",\n",
    "               \"United Republic of Tanzania\":\"Tanzania\",\n",
    "               \"Republic of Korea\":\"South Korea\",\n",
    "                  \"Slovakia\":\"Slovak Republic\",\n",
    "                  \"The former Yugoslav Republic of Macedonia\":\"Macedonia\",\n",
    "                  \"Iran, Islamic Republic of...\":\"Iran\",\n",
    "                    \"CÃ´te d'Ivoire\":\"Cote d'Ivoire\",\n",
    "                  \"C√¥te d'Ivoire\":\"Cote d'Ivoire\",\n",
    "                  \"Venezuela, Bolivarian Republic of...\":\"Venezuela\",\n",
    "                  \"Congo, Republic of the...\":\"Republic of the Congo\",\n",
    "                   \"Democratic Republic of the Congo\":\"Democratic Republic of Congo\"}\n",
    "\n",
    "sal.replace({'Country':Countrydict}, inplace=True)  \n",
    "\n",
    "#check\n",
    "\n",
    "print(f\"After streamlining our new list of countries is now as follows:  {sal.sort_values(by='Country')['Country'].unique()}.\")\n",
    "print()\n",
    "print(f'Which means we have streamlined our \"Country\" column to {sal.Country.nunique()} distinct values.')"
   ]
  },
  {
   "cell_type": "markdown",
   "metadata": {},
   "source": [
    "**Comments:**\n",
    "We know that the survey data covers 4 editions of the survey (2017,2018,2019 and 2020).\n",
    "To be able to study potential changes from one year to the other, let's decide to drop the countries that have NOT participated in all 4 editions.\n",
    "And let's also drop those countries with less than 30 respondents each year, as those would not be representative of anything but themselves. "
   ]
  },
  {
   "cell_type": "code",
   "execution_count": 15,
   "metadata": {},
   "outputs": [
    {
     "name": "stdout",
     "output_type": "stream",
     "text": [
      "                Year                        \n",
      "Year            2017    2018    2019    2020\n",
      "Country                                     \n",
      "Albania          2.0    11.0    14.0     4.0\n",
      "Argentina       11.0    47.0    82.0    48.0\n",
      "Armenia          2.0     7.0    11.0     3.0\n",
      "Australia       56.0   261.0   299.0   200.0\n",
      "Austria         26.0    89.0   122.0    69.0\n",
      "...              ...     ...     ...     ...\n",
      "United States  749.0  2797.0  3312.0  1872.0\n",
      "Uruguay          1.0    11.0    23.0    17.0\n",
      "Venezuela        6.0     8.0    13.0    12.0\n",
      "Vietnam          2.0    13.0    18.0    23.0\n",
      "Zimbabwe         1.0     5.0     3.0     6.0\n",
      "\n",
      "[88 rows x 4 columns]\n"
     ]
    }
   ],
   "source": [
    "yearrep = sal.pivot_table(index=['Country'], columns = ['Year'], aggfunc = {'Year':'count'})\n",
    "pd.DataFrame(yearrep)\n",
    "yearrep = yearrep.dropna()\n",
    "print(yearrep)"
   ]
  },
  {
   "cell_type": "code",
   "execution_count": 16,
   "metadata": {},
   "outputs": [
    {
     "data": {
      "text/html": [
       "<div>\n",
       "<style scoped>\n",
       "    .dataframe tbody tr th:only-of-type {\n",
       "        vertical-align: middle;\n",
       "    }\n",
       "\n",
       "    .dataframe tbody tr th {\n",
       "        vertical-align: top;\n",
       "    }\n",
       "\n",
       "    .dataframe thead tr th {\n",
       "        text-align: left;\n",
       "    }\n",
       "\n",
       "    .dataframe thead tr:last-of-type th {\n",
       "        text-align: right;\n",
       "    }\n",
       "</style>\n",
       "<table border=\"1\" class=\"dataframe\">\n",
       "  <thead>\n",
       "    <tr>\n",
       "      <th></th>\n",
       "      <th colspan=\"4\" halign=\"left\">Year</th>\n",
       "    </tr>\n",
       "    <tr>\n",
       "      <th>Year</th>\n",
       "      <th>2017</th>\n",
       "      <th>2018</th>\n",
       "      <th>2019</th>\n",
       "      <th>2020</th>\n",
       "    </tr>\n",
       "    <tr>\n",
       "      <th>Country</th>\n",
       "      <th></th>\n",
       "      <th></th>\n",
       "      <th></th>\n",
       "      <th></th>\n",
       "    </tr>\n",
       "  </thead>\n",
       "  <tbody>\n",
       "    <tr>\n",
       "      <th>Australia</th>\n",
       "      <td>56.0</td>\n",
       "      <td>261.0</td>\n",
       "      <td>299.0</td>\n",
       "      <td>200.0</td>\n",
       "    </tr>\n",
       "    <tr>\n",
       "      <th>Brazil</th>\n",
       "      <td>49.0</td>\n",
       "      <td>240.0</td>\n",
       "      <td>289.0</td>\n",
       "      <td>260.0</td>\n",
       "    </tr>\n",
       "    <tr>\n",
       "      <th>Canada</th>\n",
       "      <td>149.0</td>\n",
       "      <td>399.0</td>\n",
       "      <td>458.0</td>\n",
       "      <td>277.0</td>\n",
       "    </tr>\n",
       "    <tr>\n",
       "      <th>France</th>\n",
       "      <td>83.0</td>\n",
       "      <td>238.0</td>\n",
       "      <td>313.0</td>\n",
       "      <td>220.0</td>\n",
       "    </tr>\n",
       "    <tr>\n",
       "      <th>Germany</th>\n",
       "      <td>215.0</td>\n",
       "      <td>706.0</td>\n",
       "      <td>834.0</td>\n",
       "      <td>528.0</td>\n",
       "    </tr>\n",
       "    <tr>\n",
       "      <th>India</th>\n",
       "      <td>117.0</td>\n",
       "      <td>588.0</td>\n",
       "      <td>772.0</td>\n",
       "      <td>539.0</td>\n",
       "    </tr>\n",
       "    <tr>\n",
       "      <th>Italy</th>\n",
       "      <td>40.0</td>\n",
       "      <td>141.0</td>\n",
       "      <td>233.0</td>\n",
       "      <td>149.0</td>\n",
       "    </tr>\n",
       "    <tr>\n",
       "      <th>Netherlands</th>\n",
       "      <td>43.0</td>\n",
       "      <td>181.0</td>\n",
       "      <td>291.0</td>\n",
       "      <td>183.0</td>\n",
       "    </tr>\n",
       "    <tr>\n",
       "      <th>Poland</th>\n",
       "      <td>43.0</td>\n",
       "      <td>123.0</td>\n",
       "      <td>245.0</td>\n",
       "      <td>141.0</td>\n",
       "    </tr>\n",
       "    <tr>\n",
       "      <th>Russian Federation</th>\n",
       "      <td>30.0</td>\n",
       "      <td>208.0</td>\n",
       "      <td>236.0</td>\n",
       "      <td>141.0</td>\n",
       "    </tr>\n",
       "    <tr>\n",
       "      <th>Spain</th>\n",
       "      <td>50.0</td>\n",
       "      <td>185.0</td>\n",
       "      <td>251.0</td>\n",
       "      <td>183.0</td>\n",
       "    </tr>\n",
       "    <tr>\n",
       "      <th>Sweden</th>\n",
       "      <td>39.0</td>\n",
       "      <td>137.0</td>\n",
       "      <td>204.0</td>\n",
       "      <td>124.0</td>\n",
       "    </tr>\n",
       "    <tr>\n",
       "      <th>Switzerland</th>\n",
       "      <td>33.0</td>\n",
       "      <td>123.0</td>\n",
       "      <td>186.0</td>\n",
       "      <td>104.0</td>\n",
       "    </tr>\n",
       "    <tr>\n",
       "      <th>United Kingdom</th>\n",
       "      <td>266.0</td>\n",
       "      <td>744.0</td>\n",
       "      <td>761.0</td>\n",
       "      <td>476.0</td>\n",
       "    </tr>\n",
       "    <tr>\n",
       "      <th>United States</th>\n",
       "      <td>749.0</td>\n",
       "      <td>2797.0</td>\n",
       "      <td>3312.0</td>\n",
       "      <td>1872.0</td>\n",
       "    </tr>\n",
       "  </tbody>\n",
       "</table>\n",
       "</div>"
      ],
      "text/plain": [
       "                     Year                        \n",
       "Year                 2017    2018    2019    2020\n",
       "Country                                          \n",
       "Australia            56.0   261.0   299.0   200.0\n",
       "Brazil               49.0   240.0   289.0   260.0\n",
       "Canada              149.0   399.0   458.0   277.0\n",
       "France               83.0   238.0   313.0   220.0\n",
       "Germany             215.0   706.0   834.0   528.0\n",
       "India               117.0   588.0   772.0   539.0\n",
       "Italy                40.0   141.0   233.0   149.0\n",
       "Netherlands          43.0   181.0   291.0   183.0\n",
       "Poland               43.0   123.0   245.0   141.0\n",
       "Russian Federation   30.0   208.0   236.0   141.0\n",
       "Spain                50.0   185.0   251.0   183.0\n",
       "Sweden               39.0   137.0   204.0   124.0\n",
       "Switzerland          33.0   123.0   186.0   104.0\n",
       "United Kingdom      266.0   744.0   761.0   476.0\n",
       "United States       749.0  2797.0  3312.0  1872.0"
      ]
     },
     "execution_count": 16,
     "metadata": {},
     "output_type": "execute_result"
    }
   ],
   "source": [
    "yearrep_f = yearrep[yearrep.iloc[:,[0,1,2,3]]>=30]\n",
    "yearrep_f = yearrep_f.dropna()\n",
    "yearrep_f"
   ]
  },
  {
   "cell_type": "code",
   "execution_count": 17,
   "metadata": {},
   "outputs": [
    {
     "name": "stdout",
     "output_type": "stream",
     "text": [
      "We are finally down to a list of 15 countries, in a dataset of 23114 rows and 11 columns.\n"
     ]
    }
   ],
   "source": [
    "countries_tokeep = set(list(yearrep_f.index))\n",
    "sal = sal[sal.Country.isin(countries_tokeep)]\n",
    "print(f'We are finally down to a list of {sal.Country.nunique()} countries, in a dataset of {sal.shape[0]} rows and {sal.shape[1]} columns.')"
   ]
  },
  {
   "cell_type": "markdown",
   "metadata": {},
   "source": [
    "Now let's look at the values in the job columns."
   ]
  },
  {
   "cell_type": "code",
   "execution_count": 18,
   "metadata": {},
   "outputs": [
    {
     "name": "stdout",
     "output_type": "stream",
     "text": [
      "['1' '0']\n",
      "['1' '0']\n",
      "['nan' '0.0' '1.0']\n",
      "['nan' '0.0' '1.0']\n"
     ]
    }
   ],
   "source": [
    "print(sal['Database Administrator'].unique())\n",
    "print(sal['Data Scientist or Machine Learning Specialist'].unique())\n",
    "print(sal['Data/Business Analyst'].unique())\n",
    "print(sal['Data Engineer'].unique())"
   ]
  },
  {
   "cell_type": "markdown",
   "metadata": {},
   "source": [
    "We will assume that when an individual did not provide any answer, that's because he/she meant 'No'.\n",
    "Let's streamline the data to have a binary 'yes or no' answer."
   ]
  },
  {
   "cell_type": "code",
   "execution_count": 19,
   "metadata": {},
   "outputs": [
    {
     "name": "stdout",
     "output_type": "stream",
     "text": [
      "['Yes' 'No']\n",
      "['Yes' 'No']\n",
      "['No' 'Yes']\n",
      "['No' 'Yes']\n"
     ]
    }
   ],
   "source": [
    "jobdict = {\"1\":\"Yes\", \"1.0\":\"Yes\", \"0\":\"No\", \"0.0\":\"No\", \"nan\":\"No\"}\n",
    "sal.replace({'Database Administrator':jobdict,'Data Scientist or Machine Learning Specialist':jobdict,'Data/Business Analyst':jobdict,'Data Engineer':jobdict}, inplace=True)  \n",
    "\n",
    "#check\n",
    "print(sal['Database Administrator'].unique())\n",
    "print(sal['Data Scientist or Machine Learning Specialist'].unique())\n",
    "print(sal['Data/Business Analyst'].unique())\n",
    "print(sal['Data Engineer'].unique())"
   ]
  },
  {
   "cell_type": "markdown",
   "metadata": {},
   "source": [
    "Let' create a new data feature with the position held, and hide the old features."
   ]
  },
  {
   "cell_type": "code",
   "execution_count": 20,
   "metadata": {},
   "outputs": [
    {
     "data": {
      "text/plain": [
       "Index(['Year', 'Country', 'Data Scientist or Machine Learning Specialist',\n",
       "       'Database Administrator', 'Data/Business Analyst', 'Data Engineer',\n",
       "       'Education Level', 'Employment Status', 'Organization Size',\n",
       "       'Salary (USD, Annual)', 'Job Satisfaction'],\n",
       "      dtype='object')"
      ]
     },
     "execution_count": 20,
     "metadata": {},
     "output_type": "execute_result"
    }
   ],
   "source": [
    "sal.columns"
   ]
  },
  {
   "cell_type": "code",
   "execution_count": 21,
   "metadata": {},
   "outputs": [
    {
     "data": {
      "text/html": [
       "<div>\n",
       "<style scoped>\n",
       "    .dataframe tbody tr th:only-of-type {\n",
       "        vertical-align: middle;\n",
       "    }\n",
       "\n",
       "    .dataframe tbody tr th {\n",
       "        vertical-align: top;\n",
       "    }\n",
       "\n",
       "    .dataframe thead th {\n",
       "        text-align: right;\n",
       "    }\n",
       "</style>\n",
       "<table border=\"1\" class=\"dataframe\">\n",
       "  <thead>\n",
       "    <tr style=\"text-align: right;\">\n",
       "      <th></th>\n",
       "      <th>Year</th>\n",
       "      <th>Country</th>\n",
       "      <th>Job Position</th>\n",
       "      <th>Education Level</th>\n",
       "      <th>Employment Status</th>\n",
       "      <th>Salary (USD, Annual)</th>\n",
       "      <th>Job Satisfaction</th>\n",
       "      <th>Organization Size</th>\n",
       "    </tr>\n",
       "  </thead>\n",
       "  <tbody>\n",
       "    <tr>\n",
       "      <th>23058</th>\n",
       "      <td>2019</td>\n",
       "      <td>Poland</td>\n",
       "      <td>Data / Business Analyst</td>\n",
       "      <td>Master's degree</td>\n",
       "      <td>Employed full-time</td>\n",
       "      <td>29184</td>\n",
       "      <td>6.0</td>\n",
       "      <td>10000</td>\n",
       "    </tr>\n",
       "  </tbody>\n",
       "</table>\n",
       "</div>"
      ],
      "text/plain": [
       "       Year Country             Job Position  Education Level  \\\n",
       "23058  2019  Poland  Data / Business Analyst  Master's degree   \n",
       "\n",
       "        Employment Status  Salary (USD, Annual)  Job Satisfaction  \\\n",
       "23058  Employed full-time                 29184               6.0   \n",
       "\n",
       "       Organization Size  \n",
       "23058              10000  "
      ]
     },
     "execution_count": 21,
     "metadata": {},
     "output_type": "execute_result"
    }
   ],
   "source": [
    "sal.loc[sal['Data Scientist or Machine Learning Specialist']=='Yes', 'Job Position'] ='Data Scientist | ML Specialist'\n",
    "sal.loc[sal['Database Administrator']=='Yes', 'Job Position'] ='Database Administrator'\n",
    "sal.loc[sal['Data Engineer']=='Yes', 'Job Position'] ='Data Engineer'\n",
    "sal.loc[sal['Data/Business Analyst']=='Yes', 'Job Position'] ='Data / Business Analyst'\n",
    "sal = sal[['Year', 'Country', 'Job Position','Education Level', 'Employment Status','Salary (USD, Annual)', 'Job Satisfaction', \n",
    "       'Organization Size']]\n",
    "sal.sample()"
   ]
  },
  {
   "cell_type": "markdown",
   "metadata": {},
   "source": [
    "As for the other columns the data is in line with the survey questionnaire. No change is deemed necessary."
   ]
  },
  {
   "cell_type": "code",
   "execution_count": 22,
   "metadata": {},
   "outputs": [
    {
     "name": "stdout",
     "output_type": "stream",
     "text": [
      "[\"Bachelor's degree\"\n",
      " \"Some college/university study without earning a bachelor's degree\"\n",
      " \"Master's degree\" 'Secondary school' 'Doctoral degree'\n",
      " 'Professional degree' 'I prefer not to answer'\n",
      " 'Primary/elementary school' 'I never completed any formal education'\n",
      " 'Associate degree' nan]\n",
      "['Employed full-time' 'Employed part-time'\n",
      " 'Independent contractor, freelancer, or self-employed']\n",
      "[ 0.  1.  2.  3.  4.  5.  6.  7.  8.  9. 10. nan]\n"
     ]
    }
   ],
   "source": [
    "print(sal['Education Level'].unique())\n",
    "print(sal['Employment Status'].unique())\n",
    "print(sal.sort_values(['Job Satisfaction'])['Job Satisfaction'].unique())"
   ]
  },
  {
   "cell_type": "markdown",
   "metadata": {},
   "source": [
    "**Missing Data**\n",
    "\n",
    "Finally let's check the missing data."
   ]
  },
  {
   "cell_type": "code",
   "execution_count": 23,
   "metadata": {},
   "outputs": [
    {
     "data": {
      "text/plain": [
       "Year                    0.000000\n",
       "Country                 0.000000\n",
       "Job Position            0.000000\n",
       "Education Level         1.341179\n",
       "Employment Status       0.000000\n",
       "Salary (USD, Annual)    0.000000\n",
       "Job Satisfaction        0.086528\n",
       "Organization Size       0.000000\n",
       "dtype: float64"
      ]
     },
     "execution_count": 23,
     "metadata": {},
     "output_type": "execute_result"
    }
   ],
   "source": [
    "sal.isna().sum()*100/len(sal)"
   ]
  },
  {
   "cell_type": "markdown",
   "metadata": {},
   "source": [
    "As to the other missing values, they all represent a very small percentage of our dataset, so we'll decide to drop the lines."
   ]
  },
  {
   "cell_type": "code",
   "execution_count": 24,
   "metadata": {},
   "outputs": [
    {
     "data": {
      "text/plain": [
       "Year                    0\n",
       "Country                 0\n",
       "Job Position            0\n",
       "Education Level         0\n",
       "Employment Status       0\n",
       "Salary (USD, Annual)    0\n",
       "Job Satisfaction        0\n",
       "Organization Size       0\n",
       "dtype: int64"
      ]
     },
     "execution_count": 24,
     "metadata": {},
     "output_type": "execute_result"
    }
   ],
   "source": [
    "sal.dropna(inplace=True)\n",
    "# check\n",
    "sal.isna().sum()"
   ]
  },
  {
   "cell_type": "markdown",
   "metadata": {},
   "source": [
    "**Redundant Data**\n",
    "Now let's see if some rows are duplicated."
   ]
  },
  {
   "cell_type": "code",
   "execution_count": 25,
   "metadata": {},
   "outputs": [
    {
     "name": "stdout",
     "output_type": "stream",
     "text": [
      "Number of Duplicated Rows: 844\n",
      "Percentage of duplicated rows: 3.704191353960939%\n"
     ]
    }
   ],
   "source": [
    "print(\"Number of Duplicated Rows:\", sal.duplicated().sum())\n",
    "print(f'Percentage of duplicated rows: {sal.duplicated().sum()*100/len(sal)}%')"
   ]
  },
  {
   "cell_type": "markdown",
   "metadata": {},
   "source": [
    "We do have duplicated rows. However, they are a very small proportion of the total observations. And given the type of information collected, it could very well be that distinct individuals gave the same answers to all the survey questions. Hence we'll keep the duplicated rows. "
   ]
  },
  {
   "cell_type": "code",
   "execution_count": 26,
   "metadata": {},
   "outputs": [
    {
     "data": {
      "text/html": [
       "<div>\n",
       "<style scoped>\n",
       "    .dataframe tbody tr th:only-of-type {\n",
       "        vertical-align: middle;\n",
       "    }\n",
       "\n",
       "    .dataframe tbody tr th {\n",
       "        vertical-align: top;\n",
       "    }\n",
       "\n",
       "    .dataframe thead th {\n",
       "        text-align: right;\n",
       "    }\n",
       "</style>\n",
       "<table border=\"1\" class=\"dataframe\">\n",
       "  <thead>\n",
       "    <tr style=\"text-align: right;\">\n",
       "      <th></th>\n",
       "      <th>Year</th>\n",
       "      <th>Country</th>\n",
       "      <th>Job Position</th>\n",
       "      <th>Education Level</th>\n",
       "      <th>Employment Status</th>\n",
       "      <th>Salary (USD, Annual)</th>\n",
       "      <th>Job Satisfaction</th>\n",
       "      <th>Organization Size</th>\n",
       "    </tr>\n",
       "  </thead>\n",
       "  <tbody>\n",
       "    <tr>\n",
       "      <th>0</th>\n",
       "      <td>2017</td>\n",
       "      <td>United Kingdom</td>\n",
       "      <td>Database Administrator</td>\n",
       "      <td>Bachelor's degree</td>\n",
       "      <td>Employed full-time</td>\n",
       "      <td>43750</td>\n",
       "      <td>4.0</td>\n",
       "      <td>9</td>\n",
       "    </tr>\n",
       "    <tr>\n",
       "      <th>1</th>\n",
       "      <td>2017</td>\n",
       "      <td>United States</td>\n",
       "      <td>Database Administrator</td>\n",
       "      <td>Some college/university study without earning ...</td>\n",
       "      <td>Employed full-time</td>\n",
       "      <td>100000</td>\n",
       "      <td>5.0</td>\n",
       "      <td>99</td>\n",
       "    </tr>\n",
       "    <tr>\n",
       "      <th>2</th>\n",
       "      <td>2017</td>\n",
       "      <td>United States</td>\n",
       "      <td>Database Administrator</td>\n",
       "      <td>Bachelor's degree</td>\n",
       "      <td>Employed full-time</td>\n",
       "      <td>120000</td>\n",
       "      <td>10.0</td>\n",
       "      <td>99</td>\n",
       "    </tr>\n",
       "  </tbody>\n",
       "</table>\n",
       "</div>"
      ],
      "text/plain": [
       "   Year         Country            Job Position  \\\n",
       "0  2017  United Kingdom  Database Administrator   \n",
       "1  2017   United States  Database Administrator   \n",
       "2  2017   United States  Database Administrator   \n",
       "\n",
       "                                     Education Level   Employment Status  \\\n",
       "0                                  Bachelor's degree  Employed full-time   \n",
       "1  Some college/university study without earning ...  Employed full-time   \n",
       "2                                  Bachelor's degree  Employed full-time   \n",
       "\n",
       "   Salary (USD, Annual)  Job Satisfaction  Organization Size  \n",
       "0                 43750               4.0                  9  \n",
       "1                100000               5.0                 99  \n",
       "2                120000              10.0                 99  "
      ]
     },
     "execution_count": 26,
     "metadata": {},
     "output_type": "execute_result"
    }
   ],
   "source": [
    "#Finally, let's reset the index of our dataset.\n",
    "sal.reset_index(inplace=True, drop=True)\n",
    "sal.head(3)"
   ]
  },
  {
   "cell_type": "markdown",
   "metadata": {},
   "source": [
    "# 2. A first look at the basic statistics (continued on Tableau Public)\n"
   ]
  },
  {
   "cell_type": "code",
   "execution_count": 27,
   "metadata": {},
   "outputs": [
    {
     "name": "stdout",
     "output_type": "stream",
     "text": [
      "At this stage our dataset has 22785 observations and 8 features.\n"
     ]
    }
   ],
   "source": [
    "print(f'At this stage our dataset has {sal.shape[0]} observations and {sal.shape[1]} features.')"
   ]
  },
  {
   "cell_type": "code",
   "execution_count": 28,
   "metadata": {},
   "outputs": [
    {
     "data": {
      "text/html": [
       "<div>\n",
       "<style scoped>\n",
       "    .dataframe tbody tr th:only-of-type {\n",
       "        vertical-align: middle;\n",
       "    }\n",
       "\n",
       "    .dataframe tbody tr th {\n",
       "        vertical-align: top;\n",
       "    }\n",
       "\n",
       "    .dataframe thead th {\n",
       "        text-align: right;\n",
       "    }\n",
       "</style>\n",
       "<table border=\"1\" class=\"dataframe\">\n",
       "  <thead>\n",
       "    <tr style=\"text-align: right;\">\n",
       "      <th></th>\n",
       "      <th>Year</th>\n",
       "      <th>Salary (USD, Annual)</th>\n",
       "      <th>Job Satisfaction</th>\n",
       "      <th>Organization Size</th>\n",
       "    </tr>\n",
       "  </thead>\n",
       "  <tbody>\n",
       "    <tr>\n",
       "      <th>count</th>\n",
       "      <td>22785.000000</td>\n",
       "      <td>22785.000000</td>\n",
       "      <td>22785.000000</td>\n",
       "      <td>22785.000000</td>\n",
       "    </tr>\n",
       "    <tr>\n",
       "      <th>mean</th>\n",
       "      <td>2018.755760</td>\n",
       "      <td>72160.279658</td>\n",
       "      <td>6.186921</td>\n",
       "      <td>2794.435989</td>\n",
       "    </tr>\n",
       "    <tr>\n",
       "      <th>std</th>\n",
       "      <td>0.907014</td>\n",
       "      <td>49525.001439</td>\n",
       "      <td>1.920502</td>\n",
       "      <td>3974.913256</td>\n",
       "    </tr>\n",
       "    <tr>\n",
       "      <th>min</th>\n",
       "      <td>2017.000000</td>\n",
       "      <td>0.000000</td>\n",
       "      <td>0.000000</td>\n",
       "      <td>1.000000</td>\n",
       "    </tr>\n",
       "    <tr>\n",
       "      <th>25%</th>\n",
       "      <td>2018.000000</td>\n",
       "      <td>36324.000000</td>\n",
       "      <td>5.000000</td>\n",
       "      <td>99.000000</td>\n",
       "    </tr>\n",
       "    <tr>\n",
       "      <th>50%</th>\n",
       "      <td>2019.000000</td>\n",
       "      <td>63642.000000</td>\n",
       "      <td>6.000000</td>\n",
       "      <td>499.000000</td>\n",
       "    </tr>\n",
       "    <tr>\n",
       "      <th>75%</th>\n",
       "      <td>2019.000000</td>\n",
       "      <td>99240.000000</td>\n",
       "      <td>8.000000</td>\n",
       "      <td>4999.000000</td>\n",
       "    </tr>\n",
       "    <tr>\n",
       "      <th>max</th>\n",
       "      <td>2020.000000</td>\n",
       "      <td>299436.000000</td>\n",
       "      <td>10.000000</td>\n",
       "      <td>10000.000000</td>\n",
       "    </tr>\n",
       "  </tbody>\n",
       "</table>\n",
       "</div>"
      ],
      "text/plain": [
       "               Year  Salary (USD, Annual)  Job Satisfaction  Organization Size\n",
       "count  22785.000000          22785.000000      22785.000000       22785.000000\n",
       "mean    2018.755760          72160.279658          6.186921        2794.435989\n",
       "std        0.907014          49525.001439          1.920502        3974.913256\n",
       "min     2017.000000              0.000000          0.000000           1.000000\n",
       "25%     2018.000000          36324.000000          5.000000          99.000000\n",
       "50%     2019.000000          63642.000000          6.000000         499.000000\n",
       "75%     2019.000000          99240.000000          8.000000        4999.000000\n",
       "max     2020.000000         299436.000000         10.000000       10000.000000"
      ]
     },
     "execution_count": 28,
     "metadata": {},
     "output_type": "execute_result"
    }
   ],
   "source": [
    "sal.describe()"
   ]
  },
  {
   "cell_type": "code",
   "execution_count": 29,
   "metadata": {},
   "outputs": [
    {
     "name": "stdout",
     "output_type": "stream",
     "text": [
      "The first interesting thing to mention is that the minimum salary is zero, which is hard to believe. Assuming that the O answer is a mistake, we'll need to drop the lines under a certain value.\n",
      "If we set that value at 1200 USD, we will only be dropping 0.005968839148562651 of our data.\n",
      "Considering that this is not significant, we will proceed deleting the rows under 1200 USD salary.\n"
     ]
    }
   ],
   "source": [
    "print(\"The first interesting thing to mention is that the minimum salary is zero, which is hard to believe. Assuming that the O answer is a mistake, we'll need to drop the lines under a certain value.\")\n",
    "print(f\"If we set that value at 1200 USD, we will only be dropping {len(sal[sal['Salary (USD, Annual)']<=1200])/len(sal)} of our data.\")\n",
    "print(\"Considering that this is not significant, we will proceed deleting the rows under 1200 USD salary.\")\n"
   ]
  },
  {
   "cell_type": "markdown",
   "metadata": {},
   "source": [
    "**Final, clean dataset**"
   ]
  },
  {
   "cell_type": "code",
   "execution_count": 30,
   "metadata": {},
   "outputs": [
    {
     "name": "stdout",
     "output_type": "stream",
     "text": [
      "Our final dataset has 22660 observations and 8 features.\n"
     ]
    }
   ],
   "source": [
    "sal = sal[sal['Salary (USD, Annual)']>=1000]\n",
    "sal.shape\n",
    "print(f'Our final dataset has {sal.shape[0]} observations and {sal.shape[1]} features.')"
   ]
  },
  {
   "cell_type": "markdown",
   "metadata": {},
   "source": [
    "We'll save our clean data into a new csv named 'clean_survey_results.csv'."
   ]
  },
  {
   "cell_type": "code",
   "execution_count": 31,
   "metadata": {},
   "outputs": [],
   "source": [
    "sal.to_csv('../data/clean_survey_results.csv')"
   ]
  },
  {
   "cell_type": "code",
   "execution_count": 32,
   "metadata": {},
   "outputs": [
    {
     "data": {
      "text/html": [
       "<div>\n",
       "<style scoped>\n",
       "    .dataframe tbody tr th:only-of-type {\n",
       "        vertical-align: middle;\n",
       "    }\n",
       "\n",
       "    .dataframe tbody tr th {\n",
       "        vertical-align: top;\n",
       "    }\n",
       "\n",
       "    .dataframe thead th {\n",
       "        text-align: right;\n",
       "    }\n",
       "</style>\n",
       "<table border=\"1\" class=\"dataframe\">\n",
       "  <thead>\n",
       "    <tr style=\"text-align: right;\">\n",
       "      <th></th>\n",
       "      <th>Year</th>\n",
       "      <th>Salary (USD, Annual)</th>\n",
       "      <th>Job Satisfaction</th>\n",
       "      <th>Organization Size</th>\n",
       "    </tr>\n",
       "  </thead>\n",
       "  <tbody>\n",
       "    <tr>\n",
       "      <th>count</th>\n",
       "      <td>22660.000000</td>\n",
       "      <td>22660.000000</td>\n",
       "      <td>22660.000000</td>\n",
       "      <td>22660.000000</td>\n",
       "    </tr>\n",
       "    <tr>\n",
       "      <th>mean</th>\n",
       "      <td>2018.756973</td>\n",
       "      <td>72556.592586</td>\n",
       "      <td>6.187555</td>\n",
       "      <td>2797.883583</td>\n",
       "    </tr>\n",
       "    <tr>\n",
       "      <th>std</th>\n",
       "      <td>0.906178</td>\n",
       "      <td>49372.310405</td>\n",
       "      <td>1.919572</td>\n",
       "      <td>3975.751969</td>\n",
       "    </tr>\n",
       "    <tr>\n",
       "      <th>min</th>\n",
       "      <td>2017.000000</td>\n",
       "      <td>1005.000000</td>\n",
       "      <td>0.000000</td>\n",
       "      <td>1.000000</td>\n",
       "    </tr>\n",
       "    <tr>\n",
       "      <th>25%</th>\n",
       "      <td>2018.000000</td>\n",
       "      <td>36716.000000</td>\n",
       "      <td>5.000000</td>\n",
       "      <td>99.000000</td>\n",
       "    </tr>\n",
       "    <tr>\n",
       "      <th>50%</th>\n",
       "      <td>2019.000000</td>\n",
       "      <td>64000.000000</td>\n",
       "      <td>6.000000</td>\n",
       "      <td>499.000000</td>\n",
       "    </tr>\n",
       "    <tr>\n",
       "      <th>75%</th>\n",
       "      <td>2019.000000</td>\n",
       "      <td>100000.000000</td>\n",
       "      <td>8.000000</td>\n",
       "      <td>4999.000000</td>\n",
       "    </tr>\n",
       "    <tr>\n",
       "      <th>max</th>\n",
       "      <td>2020.000000</td>\n",
       "      <td>299436.000000</td>\n",
       "      <td>10.000000</td>\n",
       "      <td>10000.000000</td>\n",
       "    </tr>\n",
       "  </tbody>\n",
       "</table>\n",
       "</div>"
      ],
      "text/plain": [
       "               Year  Salary (USD, Annual)  Job Satisfaction  Organization Size\n",
       "count  22660.000000          22660.000000      22660.000000       22660.000000\n",
       "mean    2018.756973          72556.592586          6.187555        2797.883583\n",
       "std        0.906178          49372.310405          1.919572        3975.751969\n",
       "min     2017.000000           1005.000000          0.000000           1.000000\n",
       "25%     2018.000000          36716.000000          5.000000          99.000000\n",
       "50%     2019.000000          64000.000000          6.000000         499.000000\n",
       "75%     2019.000000         100000.000000          8.000000        4999.000000\n",
       "max     2020.000000         299436.000000         10.000000       10000.000000"
      ]
     },
     "execution_count": 32,
     "metadata": {},
     "output_type": "execute_result"
    }
   ],
   "source": [
    "# Let's go back to our basic statistics.\n",
    "sal.describe()"
   ]
  },
  {
   "cell_type": "code",
   "execution_count": 33,
   "metadata": {},
   "outputs": [
    {
     "name": "stdout",
     "output_type": "stream",
     "text": [
      "First we can see that mean and median are not aligned when Salary is concerned. The mean (72556.59258605473 USD) is much higher than the median (64000.0 USD) , which means that we probably have some ouliers at the high end.\n"
     ]
    }
   ],
   "source": [
    "print(f\"First we can see that mean and median are not aligned when Salary is concerned. The mean ({sal['Salary (USD, Annual)'].mean()} USD) is much higher than the median ({sal['Salary (USD, Annual)'].median()} USD) , which means that we probably have some ouliers at the high end.\")\n"
   ]
  },
  {
   "cell_type": "markdown",
   "metadata": {},
   "source": [
    "**Boxplots & Histograms**"
   ]
  },
  {
   "cell_type": "markdown",
   "metadata": {},
   "source": [
    "Let's create boxplots and histograms to check on the distribution and outliers in particular."
   ]
  },
  {
   "cell_type": "markdown",
   "metadata": {},
   "source": [
    "##### Salary"
   ]
  },
  {
   "cell_type": "code",
   "execution_count": 34,
   "metadata": {},
   "outputs": [
    {
     "data": {
      "text/plain": [
       "<AxesSubplot:xlabel='Salary (USD, Annual)'>"
      ]
     },
     "execution_count": 34,
     "metadata": {},
     "output_type": "execute_result"
    },
    {
     "data": {
      "image/png": "[encoded data removed]",
      "text/plain": [
       "<Figure size 432x288 with 1 Axes>"
      ]
     },
     "metadata": {
      "needs_background": "light"
     },
     "output_type": "display_data"
    }
   ],
   "source": [
    "sns.boxplot(data = sal, x = sal['Salary (USD, Annual)'])"
   ]
  },
  {
   "cell_type": "code",
   "execution_count": 35,
   "metadata": {},
   "outputs": [
    {
     "name": "stdout",
     "output_type": "stream",
     "text": [
      "We can see that we have a lot of extreme values / outliers as defined by the dots above the right skewer. If we define the outliers as the top 10%, they are the salaries above 140000.0.\n",
      "The max salary is USD 299436, hence about 2.1 times higher than the 90% percentile.\n",
      "It is tempting to delete the outliers, however let's keep in mind that 1/ It is usual to have outliers in salary datasets. 2/ Our dataset covers 15 countries. So this global boxplot covers data from high-wage countries like the USA and lower-wage countries like Poland. It is normal to have outliers and we would be better off keeping those at this stage. Let's not delete any info before we study the info by country.\n"
     ]
    }
   ],
   "source": [
    "# Number of outliers by column:\n",
    "outliers_amount = len(sal)*0.1\n",
    "print(f\"We can see that we have a lot of extreme values / outliers as defined by the dots above the right skewer. If we define the outliers as the top 10%, they are the salaries above {sal['Salary (USD, Annual)'].quantile(0.90).round(1)}.\")\n",
    "print(f\"The max salary is USD {sal['Salary (USD, Annual)'].max()}, hence about {(sal['Salary (USD, Annual)'].max()/sal['Salary (USD, Annual)'].quantile(0.90)).round(1)} times higher than the 90% percentile.\")\n",
    "print(f\"It is tempting to delete the outliers, however let's keep in mind that 1/ It is usual to have outliers in salary datasets. 2/ Our dataset covers {sal.Country.nunique()} countries. So this global boxplot covers data from high-wage countries like the USA and lower-wage countries like Poland. It is normal to have outliers and we would be better off keeping those at this stage. Let's not delete any info before we study the info by country.\")"
   ]
  },
  {
   "cell_type": "code",
   "execution_count": 36,
   "metadata": {},
   "outputs": [
    {
     "data": {
      "text/plain": [
       "<AxesSubplot:xlabel='Salary (USD, Annual)', ylabel='Count'>"
      ]
     },
     "execution_count": 36,
     "metadata": {},
     "output_type": "execute_result"
    },
    {
     "data": {
      "image/png": "[encoded data removed]",
      "text/plain": [
       "<Figure size 432x288 with 1 Axes>"
      ]
     },
     "metadata": {
      "needs_background": "light"
     },
     "output_type": "display_data"
    }
   ],
   "source": [
    "sns.histplot(data = sal, x = sal['Salary (USD, Annual)'], bins = 50)"
   ]
  },
  {
   "cell_type": "markdown",
   "metadata": {},
   "source": [
    "**Comments:**\n",
    "\n",
    "distribution biaisée sur la droite (long tail)"
   ]
  },
  {
   "cell_type": "markdown",
   "metadata": {},
   "source": [
    "##### Job Satisfaction"
   ]
  },
  {
   "cell_type": "code",
   "execution_count": 37,
   "metadata": {},
   "outputs": [
    {
     "data": {
      "text/plain": [
       "<AxesSubplot:xlabel='Job Satisfaction'>"
      ]
     },
     "execution_count": 37,
     "metadata": {},
     "output_type": "execute_result"
    },
    {
     "data": {
      "image/png": "[encoded data removed]",
      "text/plain": [
       "<Figure size 432x288 with 1 Axes>"
      ]
     },
     "metadata": {
      "needs_background": "light"
     },
     "output_type": "display_data"
    }
   ],
   "source": [
    "sns.violinplot(data = sal, x = sal['Job Satisfaction'])"
   ]
  },
  {
   "cell_type": "code",
   "execution_count": 38,
   "metadata": {},
   "outputs": [
    {
     "data": {
      "text/plain": [
       "<AxesSubplot:xlabel='Job Satisfaction', ylabel='Count'>"
      ]
     },
     "execution_count": 38,
     "metadata": {},
     "output_type": "execute_result"
    },
    {
     "data": {
      "image/png": "[encoded data removed]",
      "text/plain": [
       "<Figure size 432x288 with 1 Axes>"
      ]
     },
     "metadata": {
      "needs_background": "light"
     },
     "output_type": "display_data"
    }
   ],
   "source": [
    "sns.histplot(data = sal, x = sal['Job Satisfaction'])"
   ]
  },
  {
   "cell_type": "markdown",
   "metadata": {},
   "source": [
    "****Comments:****\n",
    "\n",
    "distribution biaisée sur la gauche"
   ]
  },
  {
   "cell_type": "markdown",
   "metadata": {},
   "source": [
    "**Scatter Matrix**"
   ]
  },
  {
   "cell_type": "code",
   "execution_count": 39,
   "metadata": {},
   "outputs": [
    {
     "data": {
      "text/plain": [
       "<seaborn.axisgrid.PairGrid at 0x1c82e9ae310>"
      ]
     },
     "execution_count": 39,
     "metadata": {},
     "output_type": "execute_result"
    },
    {
     "data": {
      "image/png": "[encoded data removed]",
      "text/plain": [
       "<Figure size 720x720 with 20 Axes>"
      ]
     },
     "metadata": {
      "needs_background": "light"
     },
     "output_type": "display_data"
    }
   ],
   "source": [
    "g = sns.pairplot(sal, diag_kind = 'kde', plot_kws = {'alpha': 0.6, 's': 80, 'edgecolor': 'k'})\n",
    "g.map(sns.scatterplot)"
   ]
  },
  {
   "cell_type": "markdown",
   "metadata": {},
   "source": [
    "# 3. Probability Analysis\n"
   ]
  },
  {
   "cell_type": "markdown",
   "metadata": {},
   "source": [
    "Let's see if we can assume that our salary data can be generalized to the whole population of data professionals. Let's study this just in the USA where we have the most data."
   ]
  },
  {
   "cell_type": "markdown",
   "metadata": {},
   "source": [
    "First let's calculate confidence intervals for the mean salary of the general population of US data professionals.\n",
    "We'll use Student's law to calculate the standard deviation of the bell-shaped curve."
   ]
  },
  {
   "cell_type": "code",
   "execution_count": 40,
   "metadata": {},
   "outputs": [],
   "source": [
    "import math\n",
    "import scipy.stats\n",
    "\n",
    "# Variables\n",
    "US_sample = sal[sal['Country'] == 'United States']['Salary (USD, Annual)']\n",
    "alpha = 0.95\n",
    "df = len(US_sample) - 1\n",
    "loc = np.mean(US_sample)\n",
    "scale = np.std(US_sample)/np.sqrt(df)\n",
    "sample_quasi_std = np.std(US_sample) * math.sqrt((len(US_sample) / df))\n",
    "tstudent_std = sample_quasi_std / math.sqrt(len(US_sample));\n",
    "\n",
    "# Confidence interval\n",
    "interval = scipy.stats.t.interval(alpha, df, loc, scale=tstudent_std)"
   ]
  },
  {
   "cell_type": "code",
   "execution_count": 41,
   "metadata": {},
   "outputs": [
    {
     "name": "stdout",
     "output_type": "stream",
     "text": [
      "We have calculated that the confidence interval for the general population mean salary in the general population is (104454.72713348301, 106436.22645985108). Which means that the actual mean is 991.0 above or below our sample mean.\n"
     ]
    }
   ],
   "source": [
    "print(f\"We have calculated that the confidence interval for the general population mean salary in the general population is {interval}. Which means that the actual mean is {(interval[1] - US_sample.mean()).round(0)} above or below our sample mean.\")"
   ]
  },
  {
   "cell_type": "code",
   "execution_count": 42,
   "metadata": {},
   "outputs": [
    {
     "name": "stdout",
     "output_type": "stream",
     "text": [
      "46979.876394399456\n",
      "505.42299689553346\n"
     ]
    }
   ],
   "source": [
    "sigma = np.std(US_sample)\n",
    "print(sigma)\n",
    "sigma_gen = sigma/np.sqrt(US_sample.count()-1)\n",
    "print(sigma_gen)"
   ]
  },
  {
   "cell_type": "code",
   "execution_count": 43,
   "metadata": {},
   "outputs": [
    {
     "name": "stdout",
     "output_type": "stream",
     "text": [
      "****Comments:**** We can be 95% confident that our sample mean is close to the mean of the general population. By 'close' we mean in the range of 2 standard deviations around the mean of the general population. That's a range of USD 1010.0 above or below the mean.\n",
      "This is not really surprising because our sample is quite large. The larger the sample, the closer its mean to the mean of the general population.\n"
     ]
    }
   ],
   "source": [
    "print(f\"****Comments:**** We can be 95% confident that our sample mean is close to the mean of the general population. By 'close' we mean in the range of 2 standard deviations around the mean of the general population. That's a range of USD {2*sigma_gen.round(0)} above or below the mean.\")\n",
    "print('This is not really surprising because our sample is quite large. The larger the sample, the closer its mean to the mean of the general population.')"
   ]
  },
  {
   "cell_type": "markdown",
   "metadata": {},
   "source": [
    "Now let's assume that the average salary for data professionals in the US over 2017-2020 is USD 105,000 and test if this hypothesis is worth rejecting, using the p-value method in Python."
   ]
  },
  {
   "cell_type": "code",
   "execution_count": 44,
   "metadata": {},
   "outputs": [
    {
     "name": "stdout",
     "output_type": "stream",
     "text": [
      "p-value:  0.37812912232337725\n",
      "We cannot reject our hypothesis about the mean annual salary.\n"
     ]
    }
   ],
   "source": [
    "# This is a two-sided test for the null hypothesis that the expected value (mean) of a sample of independent observations is equal to the given population mean.\n",
    "# Ho: the mean annual salary for the whole population is equal to $105,000.\n",
    "# Ha: the mean annual salary for the whole population is different from $105,000.\n",
    "\n",
    "from scipy.stats import ttest_1samp\n",
    "alpha = 0.05;\n",
    "US_sample = sal[sal['Country'] == 'United States']['Salary (USD, Annual)']\n",
    "\n",
    "st, p = ttest_1samp(US_sample, 105000)\n",
    "print('p-value: ', p)\n",
    "print(\"Null hypothesis rejected\") if p < alpha else print(\"We cannot reject our hypothesis about the mean annual salary.\")\n"
   ]
  },
  {
   "cell_type": "markdown",
   "metadata": {},
   "source": [
    "It is not unreasonable to suppose that the general mean salary is 105,000."
   ]
  },
  {
   "cell_type": "markdown",
   "metadata": {},
   "source": [
    "(Analysis of the dataset to be continued on Tableau Public)"
   ]
  }
 ],
 "metadata": {
  "kernelspec": {
   "display_name": "Python 3",
   "language": "python",
   "name": "python3"
  },
  "language_info": {
   "codemirror_mode": {
    "name": "ipython",
    "version": 3
   },
   "file_extension": ".py",
   "mimetype": "text/x-python",
   "name": "python",
   "nbconvert_exporter": "python",
   "pygments_lexer": "ipython3",
   "version": "3.8.5"
  }
 },
 "nbformat": 4,
 "nbformat_minor": 4
}
