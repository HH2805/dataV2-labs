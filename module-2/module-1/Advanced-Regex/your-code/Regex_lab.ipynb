{
 "cells": [
  {
   "cell_type": "markdown",
   "metadata": {},
   "source": [
    "# Regular Expressions - Helene practice\n",
    "\n",
    "Sometimes, we would like to perform more complex manipulations of our string. This is where regular expressions come in handy. In the cell below, return all characters that are upper case from the string specified below."
   ]
  },
  {
   "cell_type": "code",
   "execution_count": 2,
   "metadata": {},
   "outputs": [],
   "source": [
    "import re"
   ]
  },
  {
   "cell_type": "code",
   "execution_count": 3,
   "metadata": {},
   "outputs": [],
   "source": [
    "data = ['123abc', 'abc_123', 'JohnSmith 1', 'ABBY@4', 'JANE']"
   ]
  },
  {
   "cell_type": "markdown",
   "metadata": {},
   "source": [
    "In the cell below, filter the list provided and return all elements of the list containing a number. To filter the list, use the `re.search` function. Check if the function does not return `None`. You can read more about the `re.search` function [here](https://docs.python.org/3/library/re.html)."
   ]
  },
  {
   "cell_type": "code",
   "execution_count": 4,
   "metadata": {},
   "outputs": [
    {
     "name": "stdout",
     "output_type": "stream",
     "text": [
      "['123abc', 'abc_123', 'JohnSmith 1', 'ABBY@4']\n",
      "['123abc', 'abc_123', 'JohnSmith 1', 'ABBY@4']\n"
     ]
    }
   ],
   "source": [
    "# Your code here:\n",
    "filtered_data = []\n",
    "for word in data:\n",
    "    if re.search(\"\\d\", word):\n",
    "       filtered_data.append(word) \n",
    "print(filtered_data)\n",
    "\n",
    "# or    \n",
    "filtered_data =[word for word in data if re.search(\"\\d\", word)]\n",
    "print(filtered_data)\n"
   ]
  },
  {
   "cell_type": "markdown",
   "metadata": {},
   "source": [
    "In the cell below, filter the list provided and return all elements of the list containing a number and a lowercase letter."
   ]
  },
  {
   "cell_type": "code",
   "execution_count": 5,
   "metadata": {},
   "outputs": [
    {
     "name": "stdout",
     "output_type": "stream",
     "text": [
      "['123abc', 'abc_123', 'JohnSmith 1']\n"
     ]
    }
   ],
   "source": [
    "# Your code here:\n",
    "\n",
    "# Option 1\n",
    "print([word for word in data if re.search(\"\\d\", word) and re.search(\"[a-z]\", word)])\n"
   ]
  },
  {
   "cell_type": "code",
   "execution_count": 6,
   "metadata": {},
   "outputs": [
    {
     "name": "stdout",
     "output_type": "stream",
     "text": [
      "['123abc', 'abc_123', 'JohnSmith 1', 'ABBY@4', 'JANE']\n"
     ]
    }
   ],
   "source": [
    "# Your code here:\n",
    "\n",
    "# Option 2\n",
    "print([x for x in data if re.search(\"[\\d\\w]\", x)])"
   ]
  },
  {
   "cell_type": "code",
   "execution_count": 7,
   "metadata": {},
   "outputs": [],
   "source": [
    "declaration= '\"I love you, Love.\" H2484'"
   ]
  },
  {
   "cell_type": "code",
   "execution_count": 8,
   "metadata": {},
   "outputs": [
    {
     "name": "stdout",
     "output_type": "stream",
     "text": [
      "['2', '4', '8', '4']\n"
     ]
    }
   ],
   "source": [
    "print(re.findall('\\d', declaration))"
   ]
  },
  {
   "cell_type": "code",
   "execution_count": 9,
   "metadata": {},
   "outputs": [
    {
     "name": "stdout",
     "output_type": "stream",
     "text": [
      "['I', 'l', 'o', 'v', 'e', 'y', 'o', 'u', 'L', 'o', 'v', 'e', 'H', '2', '4', '8', '4']\n"
     ]
    }
   ],
   "source": [
    "print(re.findall('\\w', declaration))"
   ]
  },
  {
   "cell_type": "code",
   "execution_count": null,
   "metadata": {},
   "outputs": [],
   "source": [
    "print(re.findall('\\w+', declaration))"
   ]
  },
  {
   "cell_type": "code",
   "execution_count": null,
   "metadata": {},
   "outputs": [],
   "source": [
    "print(re.findall('[\\s]', declaration))"
   ]
  },
  {
   "cell_type": "code",
   "execution_count": null,
   "metadata": {},
   "outputs": [],
   "source": [
    "print(re.findall('[\\W]', declaration))"
   ]
  },
  {
   "cell_type": "code",
   "execution_count": null,
   "metadata": {},
   "outputs": [],
   "source": [
    "print(re.findall('\\D', declaration))"
   ]
  },
  {
   "cell_type": "code",
   "execution_count": null,
   "metadata": {},
   "outputs": [],
   "source": [
    "pattern = '[0-2]'\n",
    "re.findall(pattern, declaration)"
   ]
  },
  {
   "cell_type": "code",
   "execution_count": null,
   "metadata": {},
   "outputs": [],
   "source": [
    "pattern = '[^0-9]'\n",
    "print(re.findall(pattern, declaration))\n"
   ]
  },
  {
   "cell_type": "code",
   "execution_count": null,
   "metadata": {},
   "outputs": [],
   "source": [
    "pattern = '.'\n",
    "print(re.findall(pattern, declaration))"
   ]
  },
  {
   "cell_type": "code",
   "execution_count": null,
   "metadata": {},
   "outputs": [],
   "source": [
    "pattern = '[^a-z]'\n",
    "print(re.findall(pattern, declaration))"
   ]
  },
  {
   "cell_type": "code",
   "execution_count": null,
   "metadata": {},
   "outputs": [],
   "source": [
    "pattern = '^I love'\n",
    "print(re.findall(pattern, declaration))"
   ]
  },
  {
   "cell_type": "code",
   "execution_count": null,
   "metadata": {},
   "outputs": [],
   "source": [
    "pattern = '[Ll]ove'\n",
    "print(re.findall(pattern, declaration))"
   ]
  },
  {
   "cell_type": "code",
   "execution_count": null,
   "metadata": {},
   "outputs": [],
   "source": [
    "pattern = 'l*ove'\n",
    "print(re.findall(pattern, declaration))"
   ]
  },
  {
   "cell_type": "code",
   "execution_count": null,
   "metadata": {},
   "outputs": [],
   "source": [
    "pattern = 'l+ove'\n",
    "print(re.findall(pattern, declaration))"
   ]
  },
  {
   "cell_type": "code",
   "execution_count": null,
   "metadata": {},
   "outputs": [],
   "source": [
    "pattern = 'l?ove'\n",
    "print(re.findall(pattern, declaration))"
   ]
  },
  {
   "cell_type": "code",
   "execution_count": null,
   "metadata": {},
   "outputs": [],
   "source": [
    "text = \"Let's see how we can match the following: aw, aww, awwww, awwwwwww, awwwwwwww, awwwwwwwwwwww\"\n",
    " \n",
    "pattern = \"aw{3}\"\n",
    "print(re.findall(pattern, text))"
   ]
  },
  {
   "cell_type": "code",
   "execution_count": null,
   "metadata": {},
   "outputs": [],
   "source": [
    "pattern = \"aw{3,}\"\n",
    "print(re.findall(pattern, text))"
   ]
  },
  {
   "cell_type": "code",
   "execution_count": null,
   "metadata": {},
   "outputs": [],
   "source": [
    "pattern = \"w+\"\n",
    "print(re.findall(pattern, text))"
   ]
  },
  {
   "cell_type": "code",
   "execution_count": null,
   "metadata": {},
   "outputs": [],
   "source": [
    "pattern = \"aw{3,5}\"\n",
    "print(re.findall(pattern, text))"
   ]
  },
  {
   "cell_type": "code",
   "execution_count": null,
   "metadata": {},
   "outputs": [],
   "source": [
    "pattern = '\\w+'\n",
    "print(re.findall(pattern, declaration))"
   ]
  },
  {
   "cell_type": "code",
   "execution_count": null,
   "metadata": {},
   "outputs": [],
   "source": [
    "pattern = '\\w{4,}'\n",
    "print(re.findall(pattern, declaration))"
   ]
  },
  {
   "cell_type": "code",
   "execution_count": null,
   "metadata": {},
   "outputs": [],
   "source": [
    "pattern = '[A-Z][a-z]+'\n",
    "print(re.findall(pattern, declaration))"
   ]
  },
  {
   "cell_type": "code",
   "execution_count": null,
   "metadata": {},
   "outputs": [],
   "source": [
    "pattern = '[A-Z][a-z]+|[A-Z0-9]{2,}'\n",
    "print(re.findall(pattern, declaration))"
   ]
  },
  {
   "cell_type": "code",
   "execution_count": null,
   "metadata": {},
   "outputs": [],
   "source": [
    "pattern = '\".*\"'\n",
    "print(re.findall(pattern, declaration))"
   ]
  },
  {
   "cell_type": "code",
   "execution_count": null,
   "metadata": {},
   "outputs": [],
   "source": [
    "pattern = '\".*\"'\n",
    "print(re.findall(pattern, declaration))"
   ]
  },
  {
   "cell_type": "code",
   "execution_count": null,
   "metadata": {},
   "outputs": [],
   "source": [
    "tel = \"Mon numéro de tel est le 06.07.08.12.94\"\n",
    "pattern = '(\\d+\\W\\d+\\W\\d+\\W\\d+\\W\\d+)'\n",
    "re.findall(pattern, tel)"
   ]
  },
  {
   "cell_type": "code",
   "execution_count": null,
   "metadata": {},
   "outputs": [],
   "source": [
    "text= \"Mon numéro de tel est le 06-07-08/12.94\"\n",
    "pattern = '(\\d+\\W\\d+\\W\\d+\\W\\d+\\W\\d+)'\n",
    "re.findall(pattern, text)"
   ]
  },
  {
   "cell_type": "raw",
   "metadata": {},
   "source": [
    "text = \"Je suis fatiguée, je ferais bien une sieste\""
   ]
  },
  {
   "cell_type": "code",
   "execution_count": null,
   "metadata": {},
   "outputs": [],
   "source": [
    "pattern = \"Je suis|serai fatiguée\"\n",
    "re.findall(pattern, text)"
   ]
  },
  {
   "cell_type": "code",
   "execution_count": null,
   "metadata": {},
   "outputs": [],
   "source": [
    "re.findall(\"[Jj]e\", text)"
   ]
  },
  {
   "cell_type": "code",
   "execution_count": null,
   "metadata": {},
   "outputs": [],
   "source": [
    "re.findall(\"[^a-f]+\", text)"
   ]
  },
  {
   "cell_type": "raw",
   "metadata": {},
   "source": [
    "text = \"TerraPower, a nuclear-energy company founded by Bill Gates, is unlikely to follow through on building a demonstration reactor in China, due largely to the Trump administration’s crackdown on the country.\""
   ]
  },
  {
   "cell_type": "code",
   "execution_count": null,
   "metadata": {},
   "outputs": [],
   "source": [
    "pattern = '[A-Z][a-z]+'\n",
    "print(re.findall(pattern, text))"
   ]
  },
  {
   "cell_type": "code",
   "execution_count": null,
   "metadata": {},
   "outputs": [],
   "source": [
    "pattern = '([A-Z][a-z]+ ?[A-Z][a-z]+)|([A-Z][a-z]+)'\n",
    "print(re.findall(pattern, text))"
   ]
  },
  {
   "cell_type": "code",
   "execution_count": null,
   "metadata": {},
   "outputs": [],
   "source": [
    "pattern = '[A-Z][a-z]+ ?[A-Z][a-z]+|[A-Z][a-z]+'\n",
    "print(re.findall(pattern, text))"
   ]
  },
  {
   "cell_type": "code",
   "execution_count": null,
   "metadata": {},
   "outputs": [],
   "source": []
  },
  {
   "cell_type": "code",
   "execution_count": null,
   "metadata": {},
   "outputs": [],
   "source": []
  }
 ],
 "metadata": {
  "kernelspec": {
   "display_name": "Python 3",
   "language": "python",
   "name": "python3"
  },
  "language_info": {
   "codemirror_mode": {
    "name": "ipython",
    "version": 3
   },
   "file_extension": ".py",
   "mimetype": "text/x-python",
   "name": "python",
   "nbconvert_exporter": "python",
   "pygments_lexer": "ipython3",
   "version": "3.8.5"
  }
 },
 "nbformat": 4,
 "nbformat_minor": 4
}
