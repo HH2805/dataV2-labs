{
 "cells": [
  {
   "cell_type": "markdown",
   "metadata": {},
   "source": [
    "# Introduction to NumPy\n",
    "\n",
    "\n",
    "#### 1. Import NumPy under the name np."
   ]
  },
  {
   "cell_type": "code",
   "execution_count": 1,
   "metadata": {},
   "outputs": [],
   "source": [
    "# your code here\n",
    "import numpy as np"
   ]
  },
  {
   "cell_type": "markdown",
   "metadata": {},
   "source": [
    "#### 2. Print your NumPy version."
   ]
  },
  {
   "cell_type": "code",
   "execution_count": 2,
   "metadata": {},
   "outputs": [
    {
     "name": "stdout",
     "output_type": "stream",
     "text": [
      "1.19.2\n"
     ]
    }
   ],
   "source": [
    "# your code here\n",
    "print(np.__version__)"
   ]
  },
  {
   "cell_type": "markdown",
   "metadata": {},
   "source": [
    "#### 3. Generate a 2x3x5 3-dimensional array with random values. Assign the array to variable *a*.\n",
    "**Challenge**: there are at least three easy ways that use numpy to generate random arrays. How many ways can you find?"
   ]
  },
  {
   "cell_type": "code",
   "execution_count": 3,
   "metadata": {},
   "outputs": [
    {
     "data": {
      "text/plain": [
       "array([[[0.94121991, 0.18595371, 0.93985386, 0.98801704, 0.08611531],\n",
       "        [0.42018418, 0.55955345, 0.73986155, 0.45183607, 0.87352458],\n",
       "        [0.5552868 , 0.86504841, 0.5774121 , 0.08070268, 0.01511561]],\n",
       "\n",
       "       [[0.78020866, 0.79502231, 0.68058076, 0.67721544, 0.1162827 ],\n",
       "        [0.82294779, 0.15296158, 0.94516007, 0.95317464, 0.63175976],\n",
       "        [0.08885662, 0.86046071, 0.28522716, 0.9894853 , 0.06772949]]])"
      ]
     },
     "execution_count": 3,
     "metadata": {},
     "output_type": "execute_result"
    }
   ],
   "source": [
    "# Method 1\n",
    "a = np.random.random((2,3,5))\n",
    "a"
   ]
  },
  {
   "cell_type": "code",
   "execution_count": 4,
   "metadata": {},
   "outputs": [
    {
     "data": {
      "text/plain": [
       "array([[[0.88608519, 0.56427089, 0.05937714, 0.01908759, 0.71926881],\n",
       "        [0.2840811 , 0.68566196, 0.58220372, 0.7511817 , 0.43253849],\n",
       "        [0.81618328, 0.02002019, 0.21917688, 0.90588118, 0.02341255]],\n",
       "\n",
       "       [[0.138197  , 0.28366237, 0.47180213, 0.8897635 , 0.82765082],\n",
       "        [0.09393718, 0.95808713, 0.84103436, 0.1402316 , 0.65184632],\n",
       "        [0.17997386, 0.38110587, 0.89862479, 0.75007454, 0.72984568]]])"
      ]
     },
     "execution_count": 4,
     "metadata": {},
     "output_type": "execute_result"
    }
   ],
   "source": [
    "# Method 2\n",
    "a = np.random.sample(30).reshape(2,3,5)\n",
    "a"
   ]
  },
  {
   "cell_type": "code",
   "execution_count": 5,
   "metadata": {},
   "outputs": [
    {
     "data": {
      "text/plain": [
       "array([[[0.88608519, 0.56427089, 0.05937714, 0.01908759, 0.71926881],\n",
       "        [0.2840811 , 0.68566196, 0.58220372, 0.7511817 , 0.43253849],\n",
       "        [0.81618328, 0.02002019, 0.21917688, 0.90588118, 0.02341255]],\n",
       "\n",
       "       [[0.138197  , 0.28366237, 0.47180213, 0.8897635 , 0.82765082],\n",
       "        [0.09393718, 0.95808713, 0.84103436, 0.1402316 , 0.65184632],\n",
       "        [0.17997386, 0.38110587, 0.89862479, 0.75007454, 0.72984568]]])"
      ]
     },
     "execution_count": 5,
     "metadata": {},
     "output_type": "execute_result"
    }
   ],
   "source": [
    "# Method 3\n",
    "a = np.empty([2,3,5])\n",
    "a"
   ]
  },
  {
   "cell_type": "code",
   "execution_count": 6,
   "metadata": {},
   "outputs": [],
   "source": [
    "# Method 4\n",
    "a = np.random.randint(10,size=(2,3,5))"
   ]
  },
  {
   "cell_type": "markdown",
   "metadata": {},
   "source": [
    "#### 4. Print *a*.\n"
   ]
  },
  {
   "cell_type": "code",
   "execution_count": 7,
   "metadata": {},
   "outputs": [
    {
     "name": "stdout",
     "output_type": "stream",
     "text": [
      "[[[5 5 2 9 0]\n",
      "  [6 1 9 8 4]\n",
      "  [2 4 2 6 0]]\n",
      "\n",
      " [[3 7 6 6 0]\n",
      "  [6 0 2 3 2]\n",
      "  [2 5 2 4 3]]]\n"
     ]
    }
   ],
   "source": [
    "# your code here\n",
    "print(a)"
   ]
  },
  {
   "cell_type": "markdown",
   "metadata": {},
   "source": [
    "#### 5. Create a 5x2x3 3-dimensional array with all values equaling 1. Assign the array to variable *b*."
   ]
  },
  {
   "cell_type": "code",
   "execution_count": 8,
   "metadata": {},
   "outputs": [],
   "source": [
    "b = np.ones((5,2,3))"
   ]
  },
  {
   "cell_type": "markdown",
   "metadata": {},
   "source": [
    "#### 6. Print *b*.\n"
   ]
  },
  {
   "cell_type": "code",
   "execution_count": 9,
   "metadata": {},
   "outputs": [
    {
     "name": "stdout",
     "output_type": "stream",
     "text": [
      "[[[1. 1. 1.]\n",
      "  [1. 1. 1.]]\n",
      "\n",
      " [[1. 1. 1.]\n",
      "  [1. 1. 1.]]\n",
      "\n",
      " [[1. 1. 1.]\n",
      "  [1. 1. 1.]]\n",
      "\n",
      " [[1. 1. 1.]\n",
      "  [1. 1. 1.]]\n",
      "\n",
      " [[1. 1. 1.]\n",
      "  [1. 1. 1.]]]\n"
     ]
    }
   ],
   "source": [
    "# your code here\n",
    "print(b)"
   ]
  },
  {
   "cell_type": "markdown",
   "metadata": {},
   "source": [
    "#### 7. Do *a* and *b* have the same size? How do you prove that in Python code?"
   ]
  },
  {
   "cell_type": "code",
   "execution_count": 10,
   "metadata": {},
   "outputs": [
    {
     "data": {
      "text/plain": [
       "True"
      ]
     },
     "execution_count": 10,
     "metadata": {},
     "output_type": "execute_result"
    }
   ],
   "source": [
    "# your code here\n",
    "np.size(a) == np.size(b)"
   ]
  },
  {
   "cell_type": "markdown",
   "metadata": {},
   "source": [
    "#### 8. Are you able to add *a* and *b*? Why or why not?\n"
   ]
  },
  {
   "cell_type": "code",
   "execution_count": 11,
   "metadata": {},
   "outputs": [],
   "source": [
    "# your answer here\n",
    "# no, not the same shape"
   ]
  },
  {
   "cell_type": "markdown",
   "metadata": {},
   "source": [
    "#### 9. Transpose *b* so that it has the same structure of *a* (i.e. it should change from a 5x2x3 to a 2x3x5 array). Assign the transposed array to variable *c*."
   ]
  },
  {
   "cell_type": "code",
   "execution_count": 12,
   "metadata": {},
   "outputs": [
    {
     "name": "stdout",
     "output_type": "stream",
     "text": [
      "[[[1. 1. 1. 1. 1.]\n",
      "  [1. 1. 1. 1. 1.]\n",
      "  [1. 1. 1. 1. 1.]]\n",
      "\n",
      " [[1. 1. 1. 1. 1.]\n",
      "  [1. 1. 1. 1. 1.]\n",
      "  [1. 1. 1. 1. 1.]]]\n",
      "\n"
     ]
    },
    {
     "data": {
      "text/plain": [
       "(None, None)"
      ]
     },
     "execution_count": 12,
     "metadata": {},
     "output_type": "execute_result"
    }
   ],
   "source": [
    "# your code here\n",
    "# 1st method: \n",
    "c = np.reshape(b,(2,3,5))\n",
    "print(c), print()"
   ]
  },
  {
   "cell_type": "code",
   "execution_count": 13,
   "metadata": {},
   "outputs": [
    {
     "name": "stdout",
     "output_type": "stream",
     "text": [
      "[[[1. 1. 1. 1. 1.]\n",
      "  [1. 1. 1. 1. 1.]\n",
      "  [1. 1. 1. 1. 1.]]\n",
      "\n",
      " [[1. 1. 1. 1. 1.]\n",
      "  [1. 1. 1. 1. 1.]\n",
      "  [1. 1. 1. 1. 1.]]]\n"
     ]
    }
   ],
   "source": [
    "# your code here\n",
    "#2nd method:\n",
    "c = np.transpose(b,(1,2,0))\n",
    "print(c)"
   ]
  },
  {
   "cell_type": "markdown",
   "metadata": {},
   "source": [
    "#### 10. Try to add *a* and *c*. Now it should work. Assign the sum to variable *d*. But why does it work now?"
   ]
  },
  {
   "cell_type": "code",
   "execution_count": 14,
   "metadata": {},
   "outputs": [
    {
     "data": {
      "text/plain": [
       "array([[[ 6.,  6.,  3., 10.,  1.],\n",
       "        [ 7.,  2., 10.,  9.,  5.],\n",
       "        [ 3.,  5.,  3.,  7.,  1.]],\n",
       "\n",
       "       [[ 4.,  8.,  7.,  7.,  1.],\n",
       "        [ 7.,  1.,  3.,  4.,  3.],\n",
       "        [ 3.,  6.,  3.,  5.,  4.]]])"
      ]
     },
     "execution_count": 14,
     "metadata": {},
     "output_type": "execute_result"
    }
   ],
   "source": [
    "# your code/answer here\n",
    "d = np.add(a,c)\n",
    "d"
   ]
  },
  {
   "cell_type": "markdown",
   "metadata": {},
   "source": [
    "#### 11. Print *a* and *d*. Notice the difference and relation of the two array in terms of the values? Explain."
   ]
  },
  {
   "cell_type": "code",
   "execution_count": 15,
   "metadata": {},
   "outputs": [
    {
     "name": "stdout",
     "output_type": "stream",
     "text": [
      "[[[5 5 2 9 0]\n",
      "  [6 1 9 8 4]\n",
      "  [2 4 2 6 0]]\n",
      "\n",
      " [[3 7 6 6 0]\n",
      "  [6 0 2 3 2]\n",
      "  [2 5 2 4 3]]]\n",
      "\n",
      "[[[ 6.  6.  3. 10.  1.]\n",
      "  [ 7.  2. 10.  9.  5.]\n",
      "  [ 3.  5.  3.  7.  1.]]\n",
      "\n",
      " [[ 4.  8.  7.  7.  1.]\n",
      "  [ 7.  1.  3.  4.  3.]\n",
      "  [ 3.  6.  3.  5.  4.]]]\n"
     ]
    }
   ],
   "source": [
    "# your code/answer here\n",
    "print(a), print()\n",
    "print(d)\n",
    "# All of c values are equal to 1, so d values are equal to a values + 1."
   ]
  },
  {
   "cell_type": "markdown",
   "metadata": {},
   "source": [
    "#### 12. Multiply *a* and *c*. Assign the result to *e*."
   ]
  },
  {
   "cell_type": "code",
   "execution_count": 16,
   "metadata": {},
   "outputs": [
    {
     "data": {
      "text/plain": [
       "array([[[5., 5., 2., 9., 0.],\n",
       "        [6., 1., 9., 8., 4.],\n",
       "        [2., 4., 2., 6., 0.]],\n",
       "\n",
       "       [[3., 7., 6., 6., 0.],\n",
       "        [6., 0., 2., 3., 2.],\n",
       "        [2., 5., 2., 4., 3.]]])"
      ]
     },
     "execution_count": 16,
     "metadata": {},
     "output_type": "execute_result"
    }
   ],
   "source": [
    "# your code here\n",
    "e = np.multiply(a,c)\n",
    "e"
   ]
  },
  {
   "cell_type": "markdown",
   "metadata": {},
   "source": [
    "#### 13. Does *e* equal *a*? Why or why not?\n"
   ]
  },
  {
   "cell_type": "code",
   "execution_count": 17,
   "metadata": {},
   "outputs": [
    {
     "name": "stdout",
     "output_type": "stream",
     "text": [
      "True\n"
     ]
    }
   ],
   "source": [
    "# your code/answer here\n",
    "print((e==a).all())\n",
    "# e equals a because all of c values are equal to 1."
   ]
  },
  {
   "cell_type": "markdown",
   "metadata": {},
   "source": [
    "#### 14. Identify the max, min, and mean values in *d*. Assign those values to variables *d_max*, *d_min* and *d_mean*."
   ]
  },
  {
   "cell_type": "code",
   "execution_count": 18,
   "metadata": {},
   "outputs": [
    {
     "name": "stdout",
     "output_type": "stream",
     "text": [
      "d_min = 1.0\n",
      "d_mean = 4.8\n",
      "d_max = 10.0\n"
     ]
    }
   ],
   "source": [
    "# your code here\n",
    "d_min = np.min(d)\n",
    "d_mean = np.mean(d)\n",
    "d_max = np.max(d)\n",
    "print(f'd_min = {d_min}')\n",
    "print(f'd_mean = {d_mean}')\n",
    "print(f'd_max = {d_max}')"
   ]
  },
  {
   "cell_type": "markdown",
   "metadata": {},
   "source": [
    "#### 15. Now we want to label the values in *d*. First create an empty array *f* with the same shape (i.e. 2x3x5) as *d* using `np.empty`.\n"
   ]
  },
  {
   "cell_type": "code",
   "execution_count": 19,
   "metadata": {},
   "outputs": [
    {
     "name": "stdout",
     "output_type": "stream",
     "text": [
      "[[[5. 5. 2. 9. 0.]\n",
      "  [6. 1. 9. 8. 4.]\n",
      "  [2. 4. 2. 6. 0.]]\n",
      "\n",
      " [[3. 7. 6. 6. 0.]\n",
      "  [6. 0. 2. 3. 2.]\n",
      "  [2. 5. 2. 4. 3.]]]\n"
     ]
    }
   ],
   "source": [
    "# your code here\n",
    "f = np.empty((2,3,5))\n",
    "print(f)"
   ]
  },
  {
   "cell_type": "markdown",
   "metadata": {},
   "source": [
    "#### 16. Populate the values in *f*. \n",
    "\n",
    "For each value in *d*, if it's larger than *d_min* but smaller than *d_mean*, assign 25 to the corresponding value in *f*. If a value in *d* is larger than *d_mean* but smaller than *d_max*, assign 75 to the corresponding value in *f*. If a value equals to *d_mean*, assign 50 to the corresponding value in *f*. Assign 0 to the corresponding value(s) in *f* for *d_min* in *d*. Assign 100 to the corresponding value(s) in *f* for *d_max* in *d*. In the end, f should have only the following values: 0, 25, 50, 75, and 100.\n",
    "\n",
    "**Note**: you don't have to use Numpy in this question."
   ]
  },
  {
   "cell_type": "code",
   "execution_count": 21,
   "metadata": {},
   "outputs": [
    {
     "data": {
      "text/plain": [
       "array([[[ 75,  75,  25, 100,   0],\n",
       "        [ 75,  25, 100,  75,  75],\n",
       "        [ 25,  75,  25,  75,   0]],\n",
       "\n",
       "       [[ 25,  75,  75,  75,   0],\n",
       "        [ 75,   0,  25,  25,  25],\n",
       "        [ 25,  75,  25,  75,  25]]])"
      ]
     },
     "execution_count": 21,
     "metadata": {},
     "output_type": "execute_result"
    }
   ],
   "source": [
    "# your code here\n",
    "print(f.shape)\n",
    "print(list(range(f.shape[0])))\n",
    "print(list(range(f.shape[1])))\n",
    "print(list(range(f.shape[2])))\n",
    "\n",
    "def numconv(i,j,k):\n",
    "    if d[i,j,k] == d_min:\n",
    "        return 0  \n",
    "    if d[i,j,k] > d_min and d[i,j,k] < d_mean:\n",
    "        return 25\n",
    "    if d[i,j,k] == d_mean:\n",
    "        return 50        \n",
    "    if d[i,j,k] > d_mean and d[i,j,k] < d_max:\n",
    "        return 75\n",
    "    if d[i,j,k] == d_max:\n",
    "        return 100\n",
    "\n",
    "mylst=[numconv(i,j,k) for i in range(f.shape[0]) for j in range(f.shape[1]) for k in range(f.shape[2])]\n",
    "f=np.array(mylst).reshape(2,3,5)\n",
    "f"
   ]
  },
  {
   "cell_type": "code",
   "execution_count": 22,
   "metadata": {},
   "outputs": [
    {
     "data": {
      "text/plain": [
       "array([[[ 75,  75,  25, 100,   0],\n",
       "        [ 75,  25, 100,  75,  75],\n",
       "        [ 25,  75,  25,  75,   0]],\n",
       "\n",
       "       [[ 25,  75,  75,  75,   0],\n",
       "        [ 75,   0,  25,  25,  25],\n",
       "        [ 25,  75,  25,  75,  25]]])"
      ]
     },
     "execution_count": 22,
     "metadata": {},
     "output_type": "execute_result"
    }
   ],
   "source": [
    "# or\n",
    "\n",
    "numconv2 = lambda i,j,k : 0 if d[i,j,k] == d_min else 25 if d[i,j,k] > d_min and d[i,j,k] < d_mean else 50 if d[i,j,k] == d_mean else 75 if d[i,j,k] > d_mean and d[i,j,k] < d_max else 100\n",
    "\n",
    "mylst=[numconv2(i,j,k) for i in range(f.shape[0]) for j in range(f.shape[1]) for k in range(f.shape[2])]\n",
    "f=np.array(mylst).reshape(2,3,5)\n",
    "f"
   ]
  },
  {
   "cell_type": "code",
   "execution_count": 23,
   "metadata": {},
   "outputs": [
    {
     "data": {
      "text/plain": [
       "array([[[ 75,  75,  25, 100,   0],\n",
       "        [ 75,  25, 100,  75,  75],\n",
       "        [ 25,  75,  25,  75,   0]],\n",
       "\n",
       "       [[ 25,  75,  75,  75,   0],\n",
       "        [ 75,   0,  25,  25,  25],\n",
       "        [ 25,  75,  25,  75,  25]]])"
      ]
     },
     "execution_count": 23,
     "metadata": {},
     "output_type": "execute_result"
    }
   ],
   "source": [
    "# or\n",
    "\n",
    "numconv3 = lambda v : 0 if v == d_min else 25 if v > d_min and v < d_mean else 50 if v == d_mean else 75 if v > d_mean and v < d_max else 100\n",
    "\n",
    "mylst=[numconv3(v) for subgroup in d for lst in subgroup for v in lst]\n",
    "f=np.array(mylst).reshape(2,3,5)\n",
    "f"
   ]
  },
  {
   "cell_type": "markdown",
   "metadata": {},
   "source": [
    "#### 17. Print *d* and *f*. Do you have your expected *f*?\n",
    "For instance, if your *d* is:\n",
    "```python\n",
    "[[[1.85836099, 1.67064465, 1.62576044, 1.40243961, 1.88454931],\n",
    "[1.75354326, 1.69403643, 1.36729252, 1.61415071, 1.12104981],\n",
    "[1.72201435, 1.1862918 , 1.87078449, 1.7726778 , 1.88180042]],\n",
    "[[1.44747908, 1.31673383, 1.02000951, 1.52218947, 1.97066381],\n",
    "[1.79129243, 1.74983003, 1.96028037, 1.85166831, 1.65450881],\n",
    "[1.18068344, 1.9587381 , 1.00656599, 1.93402165, 1.73514584]]]\n",
    "```\n",
    "Your *f* should be:\n",
    "```python\n",
    "[[[ 75.,  75.,  75.,  25.,  75.],\n",
    "[ 75.,  75.,  25.,  25.,  25.],\n",
    "[ 75.,  25.,  75.,  75.,  75.]],\n",
    "[[ 25.,  25.,  25.,  25., 100.],\n",
    "[ 75.,  75.,  75.,  75.,  75.],\n",
    "[ 25.,  75.,   0.,  75.,  75.]]]\n",
    "```"
   ]
  },
  {
   "cell_type": "code",
   "execution_count": 24,
   "metadata": {},
   "outputs": [
    {
     "name": "stdout",
     "output_type": "stream",
     "text": [
      "[[[ 6.  6.  3. 10.  1.]\n",
      "  [ 7.  2. 10.  9.  5.]\n",
      "  [ 3.  5.  3.  7.  1.]]\n",
      "\n",
      " [[ 4.  8.  7.  7.  1.]\n",
      "  [ 7.  1.  3.  4.  3.]\n",
      "  [ 3.  6.  3.  5.  4.]]]\n",
      "\n",
      "d_min = 1.0\n",
      "d_mean = 4.8\n",
      "d_max = 10.0\n",
      "\n",
      "[[[ 75  75  25 100   0]\n",
      "  [ 75  25 100  75  75]\n",
      "  [ 25  75  25  75   0]]\n",
      "\n",
      " [[ 25  75  75  75   0]\n",
      "  [ 75   0  25  25  25]\n",
      "  [ 25  75  25  75  25]]]\n"
     ]
    }
   ],
   "source": [
    "# your code here\n",
    "print(d),print()\n",
    "print(f'd_min = {d_min}')\n",
    "print(f'd_mean = {d_mean}')\n",
    "print(f'd_max = {d_max}')\n",
    "print()\n",
    "print(f)"
   ]
  },
  {
   "cell_type": "markdown",
   "metadata": {},
   "source": [
    "#### 18. Bonus question: instead of using numbers (i.e. 0, 25, 50, 75, and 100), use string values  (\"min\", \"B\", \"mean\", \"D\", and \"max\") to label the array elements. "
   ]
  },
  {
   "cell_type": "code",
   "execution_count": 25,
   "metadata": {},
   "outputs": [
    {
     "name": "stdout",
     "output_type": "stream",
     "text": [
      "[[['B' 'B' 'A' 'MAX' 'MIN']\n",
      "  ['B' 'A' 'MAX' 'B' 'B']\n",
      "  ['A' 'B' 'A' 'B' 'MIN']]\n",
      "\n",
      " [['A' 'B' 'B' 'B' 'MIN']\n",
      "  ['B' 'MIN' 'A' 'A' 'A']\n",
      "  ['A' 'B' 'A' 'B' 'A']]]\n"
     ]
    }
   ],
   "source": [
    "# your code here\n",
    "numconv4 = lambda v : \"MIN\" if v == d_min else \"A\" if v > d_min and v < d_mean else \"MEAN\" if v == d_mean else \"B\" if v > d_mean and v < d_max else \"MAX\"\n",
    "\n",
    "mylst=[numconv4(v) for subgroup in d for lst in subgroup for v in lst]\n",
    "f=np.array(mylst).reshape(2,3,5)\n",
    "print(f)\n"
   ]
  },
  {
   "cell_type": "code",
   "execution_count": null,
   "metadata": {},
   "outputs": [],
   "source": []
  }
 ],
 "metadata": {
  "kernelspec": {
   "display_name": "Python 3",
   "language": "python",
   "name": "python3"
  },
  "language_info": {
   "codemirror_mode": {
    "name": "ipython",
    "version": 3
   },
   "file_extension": ".py",
   "mimetype": "text/x-python",
   "name": "python",
   "nbconvert_exporter": "python",
   "pygments_lexer": "ipython3",
   "version": "3.8.5"
  }
 },
 "nbformat": 4,
 "nbformat_minor": 4
}
