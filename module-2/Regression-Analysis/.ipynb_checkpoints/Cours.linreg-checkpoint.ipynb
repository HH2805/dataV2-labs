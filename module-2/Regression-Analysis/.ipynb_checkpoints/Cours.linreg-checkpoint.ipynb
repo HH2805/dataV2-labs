{
 "cells": [
  {
   "cell_type": "markdown",
   "metadata": {},
   "source": [
    "# Linear and Logistic Regression"
   ]
  },
  {
   "cell_type": "code",
   "execution_count": 1,
   "metadata": {},
   "outputs": [],
   "source": [
    "# Contexte\n",
    "# X, Y = 2 colonnes numériques\n",
    "# Il existe une relation linéaire entre les 2 ?\n",
    "# càd qu'il existe une relation de type Y = A * X + B\n",
    "# Y = A * X + B + epsilon, avec epsilon un bruit aléatoire de moyenne zéro, et d'écart type << 1\n",
    "\n",
    "# Géométriquement, une relation linéaire se représente par une droite\n",
    "# A = pente de la droite\n",
    "# B = point d'intersection entre la droite et l'axe des Y (ordonnées)\n",
    "\n",
    "# Pour déterminer le \"niveau\" de linéarité de la relation X-Y via le coefficient de corrélation de Pearson\n",
    "# R ~ 1 => relation linéaire, croissante\n",
    "# R ~ -1 => relation linéaire, décroissante\n",
    "\n",
    "# Problématiques :\n",
    "# 1) Il est difficile d'interpréter le coefficient R\n",
    "# 2) A, B ?\n",
    "# 3) R est une valeur comprise entre -1 et 1. Comment peut-on calculer une mesure de la pertinence de l'hypothèse\n",
    "# de linéarité entre X et Y, en terme de valeurs absolues\n",
    "# 4) Quid de la relation entre X1, ..., XP et Y ?\n",
    "# 5) Quid si Y n'est pas une colonne numérique mais une colonne binaire (0 ou 1) ?"
   ]
  },
  {
   "cell_type": "code",
   "execution_count": 17,
   "metadata": {},
   "outputs": [],
   "source": [
    "import statsmodels.api as sm"
   ]
  },
  {
   "cell_type": "code",
   "execution_count": 3,
   "metadata": {},
   "outputs": [],
   "source": [
    "import numpy as np"
   ]
  },
  {
   "cell_type": "code",
   "execution_count": 7,
   "metadata": {},
   "outputs": [],
   "source": [
    "X = np.linspace(-1, 1, 100)\n",
    "Y = X ** 3 + 0.1 * np.random.randn(100)"
   ]
  },
  {
   "cell_type": "code",
   "execution_count": 8,
   "metadata": {},
   "outputs": [
    {
     "data": {
      "text/plain": [
       "array([-0.87474435, -1.23147627, -0.89149831, -0.72827955, -0.66789238,\n",
       "       -0.71125646, -0.68651226, -0.61231549, -0.61586405, -0.65885585,\n",
       "       -0.31070556, -0.45888439, -0.42457157, -0.43348397, -0.28193061,\n",
       "       -0.34851784, -0.29225972, -0.31627676, -0.14100638, -0.23146946,\n",
       "       -0.28791101, -0.26529577, -0.21832262, -0.12141515,  0.14520053,\n",
       "       -0.21156472, -0.02378589, -0.33791989, -0.04370654, -0.03667883,\n",
       "        0.12041239, -0.07472468, -0.08998823, -0.12170538, -0.02511931,\n",
       "        0.0582022 ,  0.07063873, -0.0307415 , -0.10766698, -0.0283882 ,\n",
       "        0.13121771,  0.00455614, -0.07290195, -0.06109677, -0.03478344,\n",
       "        0.07743975,  0.01496848,  0.03897605,  0.1331016 , -0.08562316,\n",
       "        0.069317  ,  0.04616845,  0.10713873, -0.16682647,  0.02473517,\n",
       "       -0.10107674,  0.04700769,  0.06308923,  0.0208868 ,  0.03254837,\n",
       "       -0.05376063,  0.09394531, -0.01784883,  0.12677534,  0.11982858,\n",
       "        0.24448522, -0.05641737,  0.13606203, -0.03869255,  0.01461337,\n",
       "        0.13507751,  0.08459413,  0.22212081,  0.07063176,  0.09149901,\n",
       "        0.25333858,  0.19290851,  0.3476826 ,  0.26708048,  0.26310579,\n",
       "        0.0507826 ,  0.38560442,  0.41830033,  0.37716504,  0.43684617,\n",
       "        0.27847806,  0.31344802,  0.56976802,  0.40132161,  0.48675849,\n",
       "        0.65760502,  0.68374513,  0.6695387 ,  0.77069076,  0.82755429,\n",
       "        0.86072687,  0.88727017,  1.01487255,  0.91791534,  1.04766486])"
      ]
     },
     "execution_count": 8,
     "metadata": {},
     "output_type": "execute_result"
    }
   ],
   "source": [
    "Y"
   ]
  },
  {
   "cell_type": "code",
   "execution_count": 9,
   "metadata": {},
   "outputs": [],
   "source": [
    "import pandas as pd"
   ]
  },
  {
   "cell_type": "code",
   "execution_count": 10,
   "metadata": {},
   "outputs": [],
   "source": [
    "df = pd.DataFrame({'X': X, 'Y': Y})"
   ]
  },
  {
   "cell_type": "code",
   "execution_count": 11,
   "metadata": {},
   "outputs": [
    {
     "data": {
      "text/html": [
       "<div>\n",
       "<style scoped>\n",
       "    .dataframe tbody tr th:only-of-type {\n",
       "        vertical-align: middle;\n",
       "    }\n",
       "\n",
       "    .dataframe tbody tr th {\n",
       "        vertical-align: top;\n",
       "    }\n",
       "\n",
       "    .dataframe thead th {\n",
       "        text-align: right;\n",
       "    }\n",
       "</style>\n",
       "<table border=\"1\" class=\"dataframe\">\n",
       "  <thead>\n",
       "    <tr style=\"text-align: right;\">\n",
       "      <th></th>\n",
       "      <th>X</th>\n",
       "      <th>Y</th>\n",
       "    </tr>\n",
       "  </thead>\n",
       "  <tbody>\n",
       "    <tr>\n",
       "      <th>0</th>\n",
       "      <td>-1.000000</td>\n",
       "      <td>-0.874744</td>\n",
       "    </tr>\n",
       "    <tr>\n",
       "      <th>1</th>\n",
       "      <td>-0.979798</td>\n",
       "      <td>-1.231476</td>\n",
       "    </tr>\n",
       "    <tr>\n",
       "      <th>2</th>\n",
       "      <td>-0.959596</td>\n",
       "      <td>-0.891498</td>\n",
       "    </tr>\n",
       "    <tr>\n",
       "      <th>3</th>\n",
       "      <td>-0.939394</td>\n",
       "      <td>-0.728280</td>\n",
       "    </tr>\n",
       "    <tr>\n",
       "      <th>4</th>\n",
       "      <td>-0.919192</td>\n",
       "      <td>-0.667892</td>\n",
       "    </tr>\n",
       "    <tr>\n",
       "      <th>...</th>\n",
       "      <td>...</td>\n",
       "      <td>...</td>\n",
       "    </tr>\n",
       "    <tr>\n",
       "      <th>95</th>\n",
       "      <td>0.919192</td>\n",
       "      <td>0.860727</td>\n",
       "    </tr>\n",
       "    <tr>\n",
       "      <th>96</th>\n",
       "      <td>0.939394</td>\n",
       "      <td>0.887270</td>\n",
       "    </tr>\n",
       "    <tr>\n",
       "      <th>97</th>\n",
       "      <td>0.959596</td>\n",
       "      <td>1.014873</td>\n",
       "    </tr>\n",
       "    <tr>\n",
       "      <th>98</th>\n",
       "      <td>0.979798</td>\n",
       "      <td>0.917915</td>\n",
       "    </tr>\n",
       "    <tr>\n",
       "      <th>99</th>\n",
       "      <td>1.000000</td>\n",
       "      <td>1.047665</td>\n",
       "    </tr>\n",
       "  </tbody>\n",
       "</table>\n",
       "<p>100 rows × 2 columns</p>\n",
       "</div>"
      ],
      "text/plain": [
       "           X         Y\n",
       "0  -1.000000 -0.874744\n",
       "1  -0.979798 -1.231476\n",
       "2  -0.959596 -0.891498\n",
       "3  -0.939394 -0.728280\n",
       "4  -0.919192 -0.667892\n",
       "..       ...       ...\n",
       "95  0.919192  0.860727\n",
       "96  0.939394  0.887270\n",
       "97  0.959596  1.014873\n",
       "98  0.979798  0.917915\n",
       "99  1.000000  1.047665\n",
       "\n",
       "[100 rows x 2 columns]"
      ]
     },
     "execution_count": 11,
     "metadata": {},
     "output_type": "execute_result"
    }
   ],
   "source": [
    "df"
   ]
  },
  {
   "cell_type": "code",
   "execution_count": 12,
   "metadata": {},
   "outputs": [],
   "source": [
    "import seaborn as sns"
   ]
  },
  {
   "cell_type": "code",
   "execution_count": 13,
   "metadata": {},
   "outputs": [
    {
     "data": {
      "text/plain": [
       "<AxesSubplot:xlabel='X', ylabel='Y'>"
      ]
     },
     "execution_count": 13,
     "metadata": {},
     "output_type": "execute_result"
    },
    {
     "data": {
      "image/png": "[encoded data removed]",
      "text/plain": [
       "<Figure size 432x288 with 1 Axes>"
      ]
     },
     "metadata": {
      "needs_background": "light"
     },
     "output_type": "display_data"
    }
   ],
   "source": [
    "sns.scatterplot(x='X', y='Y', data=df)"
   ]
  },
  {
   "cell_type": "code",
   "execution_count": 14,
   "metadata": {},
   "outputs": [
    {
     "data": {
      "text/plain": [
       "<AxesSubplot:xlabel='X', ylabel='Y'>"
      ]
     },
     "execution_count": 14,
     "metadata": {},
     "output_type": "execute_result"
    },
    {
     "data": {
      "image/png": "[encoded data removed]",
      "text/plain": [
       "<Figure size 432x288 with 1 Axes>"
      ]
     },
     "metadata": {
      "needs_background": "light"
     },
     "output_type": "display_data"
    }
   ],
   "source": [
    "sns.regplot(x='X', y='Y', data=df)"
   ]
  },
  {
   "cell_type": "code",
   "execution_count": 64,
   "metadata": {},
   "outputs": [],
   "source": [
    "df['X2'] = np.random.randn(100)"
   ]
  },
  {
   "cell_type": "code",
   "execution_count": 69,
   "metadata": {},
   "outputs": [],
   "source": [
    "X = sm.add_constant(df[['X', 'X2']])\n",
    "lr = sm.OLS(df['Y'], X)"
   ]
  },
  {
   "cell_type": "code",
   "execution_count": 70,
   "metadata": {},
   "outputs": [],
   "source": [
    "res = lr.fit()"
   ]
  },
  {
   "cell_type": "code",
   "execution_count": 71,
   "metadata": {},
   "outputs": [
    {
     "data": {
      "text/html": [
       "<table class=\"simpletable\">\n",
       "<caption>OLS Regression Results</caption>\n",
       "<tr>\n",
       "  <th>Dep. Variable:</th>            <td>Y</td>        <th>  R-squared:         </th> <td>   0.817</td>\n",
       "</tr>\n",
       "<tr>\n",
       "  <th>Model:</th>                   <td>OLS</td>       <th>  Adj. R-squared:    </th> <td>   0.813</td>\n",
       "</tr>\n",
       "<tr>\n",
       "  <th>Method:</th>             <td>Least Squares</td>  <th>  F-statistic:       </th> <td>   216.4</td>\n",
       "</tr>\n",
       "<tr>\n",
       "  <th>Date:</th>             <td>Mon, 10 May 2021</td> <th>  Prob (F-statistic):</th> <td>1.72e-36</td>\n",
       "</tr>\n",
       "<tr>\n",
       "  <th>Time:</th>                 <td>20:20:46</td>     <th>  Log-Likelihood:    </th> <td>  31.160</td>\n",
       "</tr>\n",
       "<tr>\n",
       "  <th>No. Observations:</th>      <td>   100</td>      <th>  AIC:               </th> <td>  -56.32</td>\n",
       "</tr>\n",
       "<tr>\n",
       "  <th>Df Residuals:</th>          <td>    97</td>      <th>  BIC:               </th> <td>  -48.50</td>\n",
       "</tr>\n",
       "<tr>\n",
       "  <th>Df Model:</th>              <td>     2</td>      <th>                     </th>     <td> </td>   \n",
       "</tr>\n",
       "<tr>\n",
       "  <th>Covariance Type:</th>      <td>nonrobust</td>    <th>                     </th>     <td> </td>   \n",
       "</tr>\n",
       "</table>\n",
       "<table class=\"simpletable\">\n",
       "<tr>\n",
       "    <td></td>       <th>coef</th>     <th>std err</th>      <th>t</th>      <th>P>|t|</th>  <th>[0.025</th>    <th>0.975]</th>  \n",
       "</tr>\n",
       "<tr>\n",
       "  <th>const</th> <td>    0.0216</td> <td>    0.018</td> <td>    1.198</td> <td> 0.234</td> <td>   -0.014</td> <td>    0.057</td>\n",
       "</tr>\n",
       "<tr>\n",
       "  <th>X</th>     <td>    0.6372</td> <td>    0.031</td> <td>   20.652</td> <td> 0.000</td> <td>    0.576</td> <td>    0.698</td>\n",
       "</tr>\n",
       "<tr>\n",
       "  <th>X2</th>    <td>    0.0411</td> <td>    0.018</td> <td>    2.282</td> <td> 0.025</td> <td>    0.005</td> <td>    0.077</td>\n",
       "</tr>\n",
       "</table>\n",
       "<table class=\"simpletable\">\n",
       "<tr>\n",
       "  <th>Omnibus:</th>       <td> 0.482</td> <th>  Durbin-Watson:     </th> <td>   0.758</td>\n",
       "</tr>\n",
       "<tr>\n",
       "  <th>Prob(Omnibus):</th> <td> 0.786</td> <th>  Jarque-Bera (JB):  </th> <td>   0.449</td>\n",
       "</tr>\n",
       "<tr>\n",
       "  <th>Skew:</th>          <td>-0.158</td> <th>  Prob(JB):          </th> <td>   0.799</td>\n",
       "</tr>\n",
       "<tr>\n",
       "  <th>Kurtosis:</th>      <td> 2.912</td> <th>  Cond. No.          </th> <td>    1.74</td>\n",
       "</tr>\n",
       "</table><br/><br/>Notes:<br/>[1] Standard Errors assume that the covariance matrix of the errors is correctly specified."
      ],
      "text/plain": [
       "<class 'statsmodels.iolib.summary.Summary'>\n",
       "\"\"\"\n",
       "                            OLS Regression Results                            \n",
       "==============================================================================\n",
       "Dep. Variable:                      Y   R-squared:                       0.817\n",
       "Model:                            OLS   Adj. R-squared:                  0.813\n",
       "Method:                 Least Squares   F-statistic:                     216.4\n",
       "Date:                Mon, 10 May 2021   Prob (F-statistic):           1.72e-36\n",
       "Time:                        20:20:46   Log-Likelihood:                 31.160\n",
       "No. Observations:                 100   AIC:                            -56.32\n",
       "Df Residuals:                      97   BIC:                            -48.50\n",
       "Df Model:                           2                                         \n",
       "Covariance Type:            nonrobust                                         \n",
       "==============================================================================\n",
       "                 coef    std err          t      P>|t|      [0.025      0.975]\n",
       "------------------------------------------------------------------------------\n",
       "const          0.0216      0.018      1.198      0.234      -0.014       0.057\n",
       "X              0.6372      0.031     20.652      0.000       0.576       0.698\n",
       "X2             0.0411      0.018      2.282      0.025       0.005       0.077\n",
       "==============================================================================\n",
       "Omnibus:                        0.482   Durbin-Watson:                   0.758\n",
       "Prob(Omnibus):                  0.786   Jarque-Bera (JB):                0.449\n",
       "Skew:                          -0.158   Prob(JB):                        0.799\n",
       "Kurtosis:                       2.912   Cond. No.                         1.74\n",
       "==============================================================================\n",
       "\n",
       "Notes:\n",
       "[1] Standard Errors assume that the covariance matrix of the errors is correctly specified.\n",
       "\"\"\""
      ]
     },
     "execution_count": 71,
     "metadata": {},
     "output_type": "execute_result"
    }
   ],
   "source": [
    "res.summary()"
   ]
  },
  {
   "cell_type": "code",
   "execution_count": 26,
   "metadata": {},
   "outputs": [],
   "source": [
    "df['Z'] = 0.638 * df['X']"
   ]
  },
  {
   "cell_type": "code",
   "execution_count": 27,
   "metadata": {},
   "outputs": [
    {
     "data": {
      "text/html": [
       "<div>\n",
       "<style scoped>\n",
       "    .dataframe tbody tr th:only-of-type {\n",
       "        vertical-align: middle;\n",
       "    }\n",
       "\n",
       "    .dataframe tbody tr th {\n",
       "        vertical-align: top;\n",
       "    }\n",
       "\n",
       "    .dataframe thead th {\n",
       "        text-align: right;\n",
       "    }\n",
       "</style>\n",
       "<table border=\"1\" class=\"dataframe\">\n",
       "  <thead>\n",
       "    <tr style=\"text-align: right;\">\n",
       "      <th></th>\n",
       "      <th>X</th>\n",
       "      <th>Y</th>\n",
       "      <th>Z</th>\n",
       "    </tr>\n",
       "  </thead>\n",
       "  <tbody>\n",
       "    <tr>\n",
       "      <th>0</th>\n",
       "      <td>-1.000000</td>\n",
       "      <td>-0.874744</td>\n",
       "      <td>-0.638000</td>\n",
       "    </tr>\n",
       "    <tr>\n",
       "      <th>1</th>\n",
       "      <td>-0.979798</td>\n",
       "      <td>-1.231476</td>\n",
       "      <td>-0.625111</td>\n",
       "    </tr>\n",
       "    <tr>\n",
       "      <th>2</th>\n",
       "      <td>-0.959596</td>\n",
       "      <td>-0.891498</td>\n",
       "      <td>-0.612222</td>\n",
       "    </tr>\n",
       "    <tr>\n",
       "      <th>3</th>\n",
       "      <td>-0.939394</td>\n",
       "      <td>-0.728280</td>\n",
       "      <td>-0.599333</td>\n",
       "    </tr>\n",
       "    <tr>\n",
       "      <th>4</th>\n",
       "      <td>-0.919192</td>\n",
       "      <td>-0.667892</td>\n",
       "      <td>-0.586444</td>\n",
       "    </tr>\n",
       "    <tr>\n",
       "      <th>...</th>\n",
       "      <td>...</td>\n",
       "      <td>...</td>\n",
       "      <td>...</td>\n",
       "    </tr>\n",
       "    <tr>\n",
       "      <th>95</th>\n",
       "      <td>0.919192</td>\n",
       "      <td>0.860727</td>\n",
       "      <td>0.586444</td>\n",
       "    </tr>\n",
       "    <tr>\n",
       "      <th>96</th>\n",
       "      <td>0.939394</td>\n",
       "      <td>0.887270</td>\n",
       "      <td>0.599333</td>\n",
       "    </tr>\n",
       "    <tr>\n",
       "      <th>97</th>\n",
       "      <td>0.959596</td>\n",
       "      <td>1.014873</td>\n",
       "      <td>0.612222</td>\n",
       "    </tr>\n",
       "    <tr>\n",
       "      <th>98</th>\n",
       "      <td>0.979798</td>\n",
       "      <td>0.917915</td>\n",
       "      <td>0.625111</td>\n",
       "    </tr>\n",
       "    <tr>\n",
       "      <th>99</th>\n",
       "      <td>1.000000</td>\n",
       "      <td>1.047665</td>\n",
       "      <td>0.638000</td>\n",
       "    </tr>\n",
       "  </tbody>\n",
       "</table>\n",
       "<p>100 rows × 3 columns</p>\n",
       "</div>"
      ],
      "text/plain": [
       "           X         Y         Z\n",
       "0  -1.000000 -0.874744 -0.638000\n",
       "1  -0.979798 -1.231476 -0.625111\n",
       "2  -0.959596 -0.891498 -0.612222\n",
       "3  -0.939394 -0.728280 -0.599333\n",
       "4  -0.919192 -0.667892 -0.586444\n",
       "..       ...       ...       ...\n",
       "95  0.919192  0.860727  0.586444\n",
       "96  0.939394  0.887270  0.599333\n",
       "97  0.959596  1.014873  0.612222\n",
       "98  0.979798  0.917915  0.625111\n",
       "99  1.000000  1.047665  0.638000\n",
       "\n",
       "[100 rows x 3 columns]"
      ]
     },
     "execution_count": 27,
     "metadata": {},
     "output_type": "execute_result"
    }
   ],
   "source": [
    "df"
   ]
  },
  {
   "cell_type": "code",
   "execution_count": 28,
   "metadata": {},
   "outputs": [
    {
     "data": {
      "text/plain": [
       "<AxesSubplot:xlabel='X', ylabel='Y'>"
      ]
     },
     "execution_count": 28,
     "metadata": {},
     "output_type": "execute_result"
    },
    {
     "data": {
      "image/png": "[encoded data removed]",
      "text/plain": [
       "<Figure size 432x288 with 1 Axes>"
      ]
     },
     "metadata": {
      "needs_background": "light"
     },
     "output_type": "display_data"
    }
   ],
   "source": [
    "sns.scatterplot(x='X', y='Y', data=df)\n",
    "sns.lineplot(x='X', y='Z', data=df)"
   ]
  },
  {
   "cell_type": "code",
   "execution_count": 30,
   "metadata": {},
   "outputs": [],
   "source": [
    "df['pred'] = res.predict(df['X'])"
   ]
  },
  {
   "cell_type": "code",
   "execution_count": 31,
   "metadata": {},
   "outputs": [
    {
     "data": {
      "text/html": [
       "<div>\n",
       "<style scoped>\n",
       "    .dataframe tbody tr th:only-of-type {\n",
       "        vertical-align: middle;\n",
       "    }\n",
       "\n",
       "    .dataframe tbody tr th {\n",
       "        vertical-align: top;\n",
       "    }\n",
       "\n",
       "    .dataframe thead th {\n",
       "        text-align: right;\n",
       "    }\n",
       "</style>\n",
       "<table border=\"1\" class=\"dataframe\">\n",
       "  <thead>\n",
       "    <tr style=\"text-align: right;\">\n",
       "      <th></th>\n",
       "      <th>X</th>\n",
       "      <th>Y</th>\n",
       "      <th>Z</th>\n",
       "      <th>pred</th>\n",
       "    </tr>\n",
       "  </thead>\n",
       "  <tbody>\n",
       "    <tr>\n",
       "      <th>0</th>\n",
       "      <td>-1.000000</td>\n",
       "      <td>-0.874744</td>\n",
       "      <td>-0.638000</td>\n",
       "      <td>-0.638002</td>\n",
       "    </tr>\n",
       "    <tr>\n",
       "      <th>1</th>\n",
       "      <td>-0.979798</td>\n",
       "      <td>-1.231476</td>\n",
       "      <td>-0.625111</td>\n",
       "      <td>-0.625113</td>\n",
       "    </tr>\n",
       "    <tr>\n",
       "      <th>2</th>\n",
       "      <td>-0.959596</td>\n",
       "      <td>-0.891498</td>\n",
       "      <td>-0.612222</td>\n",
       "      <td>-0.612224</td>\n",
       "    </tr>\n",
       "    <tr>\n",
       "      <th>3</th>\n",
       "      <td>-0.939394</td>\n",
       "      <td>-0.728280</td>\n",
       "      <td>-0.599333</td>\n",
       "      <td>-0.599335</td>\n",
       "    </tr>\n",
       "    <tr>\n",
       "      <th>4</th>\n",
       "      <td>-0.919192</td>\n",
       "      <td>-0.667892</td>\n",
       "      <td>-0.586444</td>\n",
       "      <td>-0.586446</td>\n",
       "    </tr>\n",
       "    <tr>\n",
       "      <th>...</th>\n",
       "      <td>...</td>\n",
       "      <td>...</td>\n",
       "      <td>...</td>\n",
       "      <td>...</td>\n",
       "    </tr>\n",
       "    <tr>\n",
       "      <th>95</th>\n",
       "      <td>0.919192</td>\n",
       "      <td>0.860727</td>\n",
       "      <td>0.586444</td>\n",
       "      <td>0.586446</td>\n",
       "    </tr>\n",
       "    <tr>\n",
       "      <th>96</th>\n",
       "      <td>0.939394</td>\n",
       "      <td>0.887270</td>\n",
       "      <td>0.599333</td>\n",
       "      <td>0.599335</td>\n",
       "    </tr>\n",
       "    <tr>\n",
       "      <th>97</th>\n",
       "      <td>0.959596</td>\n",
       "      <td>1.014873</td>\n",
       "      <td>0.612222</td>\n",
       "      <td>0.612224</td>\n",
       "    </tr>\n",
       "    <tr>\n",
       "      <th>98</th>\n",
       "      <td>0.979798</td>\n",
       "      <td>0.917915</td>\n",
       "      <td>0.625111</td>\n",
       "      <td>0.625113</td>\n",
       "    </tr>\n",
       "    <tr>\n",
       "      <th>99</th>\n",
       "      <td>1.000000</td>\n",
       "      <td>1.047665</td>\n",
       "      <td>0.638000</td>\n",
       "      <td>0.638002</td>\n",
       "    </tr>\n",
       "  </tbody>\n",
       "</table>\n",
       "<p>100 rows × 4 columns</p>\n",
       "</div>"
      ],
      "text/plain": [
       "           X         Y         Z      pred\n",
       "0  -1.000000 -0.874744 -0.638000 -0.638002\n",
       "1  -0.979798 -1.231476 -0.625111 -0.625113\n",
       "2  -0.959596 -0.891498 -0.612222 -0.612224\n",
       "3  -0.939394 -0.728280 -0.599333 -0.599335\n",
       "4  -0.919192 -0.667892 -0.586444 -0.586446\n",
       "..       ...       ...       ...       ...\n",
       "95  0.919192  0.860727  0.586444  0.586446\n",
       "96  0.939394  0.887270  0.599333  0.599335\n",
       "97  0.959596  1.014873  0.612222  0.612224\n",
       "98  0.979798  0.917915  0.625111  0.625113\n",
       "99  1.000000  1.047665  0.638000  0.638002\n",
       "\n",
       "[100 rows x 4 columns]"
      ]
     },
     "execution_count": 31,
     "metadata": {},
     "output_type": "execute_result"
    }
   ],
   "source": [
    "df"
   ]
  },
  {
   "cell_type": "code",
   "execution_count": 32,
   "metadata": {},
   "outputs": [],
   "source": [
    "df['squared-dev'] = (df['Y'] - df['pred'])**2"
   ]
  },
  {
   "cell_type": "code",
   "execution_count": 33,
   "metadata": {},
   "outputs": [
    {
     "data": {
      "text/html": [
       "<div>\n",
       "<style scoped>\n",
       "    .dataframe tbody tr th:only-of-type {\n",
       "        vertical-align: middle;\n",
       "    }\n",
       "\n",
       "    .dataframe tbody tr th {\n",
       "        vertical-align: top;\n",
       "    }\n",
       "\n",
       "    .dataframe thead th {\n",
       "        text-align: right;\n",
       "    }\n",
       "</style>\n",
       "<table border=\"1\" class=\"dataframe\">\n",
       "  <thead>\n",
       "    <tr style=\"text-align: right;\">\n",
       "      <th></th>\n",
       "      <th>X</th>\n",
       "      <th>Y</th>\n",
       "      <th>Z</th>\n",
       "      <th>pred</th>\n",
       "      <th>squared-dev</th>\n",
       "    </tr>\n",
       "  </thead>\n",
       "  <tbody>\n",
       "    <tr>\n",
       "      <th>0</th>\n",
       "      <td>-1.000000</td>\n",
       "      <td>-0.874744</td>\n",
       "      <td>-0.638000</td>\n",
       "      <td>-0.638002</td>\n",
       "      <td>0.056047</td>\n",
       "    </tr>\n",
       "    <tr>\n",
       "      <th>1</th>\n",
       "      <td>-0.979798</td>\n",
       "      <td>-1.231476</td>\n",
       "      <td>-0.625111</td>\n",
       "      <td>-0.625113</td>\n",
       "      <td>0.367677</td>\n",
       "    </tr>\n",
       "    <tr>\n",
       "      <th>2</th>\n",
       "      <td>-0.959596</td>\n",
       "      <td>-0.891498</td>\n",
       "      <td>-0.612222</td>\n",
       "      <td>-0.612224</td>\n",
       "      <td>0.077994</td>\n",
       "    </tr>\n",
       "    <tr>\n",
       "      <th>3</th>\n",
       "      <td>-0.939394</td>\n",
       "      <td>-0.728280</td>\n",
       "      <td>-0.599333</td>\n",
       "      <td>-0.599335</td>\n",
       "      <td>0.016627</td>\n",
       "    </tr>\n",
       "    <tr>\n",
       "      <th>4</th>\n",
       "      <td>-0.919192</td>\n",
       "      <td>-0.667892</td>\n",
       "      <td>-0.586444</td>\n",
       "      <td>-0.586446</td>\n",
       "      <td>0.006633</td>\n",
       "    </tr>\n",
       "    <tr>\n",
       "      <th>...</th>\n",
       "      <td>...</td>\n",
       "      <td>...</td>\n",
       "      <td>...</td>\n",
       "      <td>...</td>\n",
       "      <td>...</td>\n",
       "    </tr>\n",
       "    <tr>\n",
       "      <th>95</th>\n",
       "      <td>0.919192</td>\n",
       "      <td>0.860727</td>\n",
       "      <td>0.586444</td>\n",
       "      <td>0.586446</td>\n",
       "      <td>0.075230</td>\n",
       "    </tr>\n",
       "    <tr>\n",
       "      <th>96</th>\n",
       "      <td>0.939394</td>\n",
       "      <td>0.887270</td>\n",
       "      <td>0.599333</td>\n",
       "      <td>0.599335</td>\n",
       "      <td>0.082907</td>\n",
       "    </tr>\n",
       "    <tr>\n",
       "      <th>97</th>\n",
       "      <td>0.959596</td>\n",
       "      <td>1.014873</td>\n",
       "      <td>0.612222</td>\n",
       "      <td>0.612224</td>\n",
       "      <td>0.162126</td>\n",
       "    </tr>\n",
       "    <tr>\n",
       "      <th>98</th>\n",
       "      <td>0.979798</td>\n",
       "      <td>0.917915</td>\n",
       "      <td>0.625111</td>\n",
       "      <td>0.625113</td>\n",
       "      <td>0.085733</td>\n",
       "    </tr>\n",
       "    <tr>\n",
       "      <th>99</th>\n",
       "      <td>1.000000</td>\n",
       "      <td>1.047665</td>\n",
       "      <td>0.638000</td>\n",
       "      <td>0.638002</td>\n",
       "      <td>0.167824</td>\n",
       "    </tr>\n",
       "  </tbody>\n",
       "</table>\n",
       "<p>100 rows × 5 columns</p>\n",
       "</div>"
      ],
      "text/plain": [
       "           X         Y         Z      pred  squared-dev\n",
       "0  -1.000000 -0.874744 -0.638000 -0.638002     0.056047\n",
       "1  -0.979798 -1.231476 -0.625111 -0.625113     0.367677\n",
       "2  -0.959596 -0.891498 -0.612222 -0.612224     0.077994\n",
       "3  -0.939394 -0.728280 -0.599333 -0.599335     0.016627\n",
       "4  -0.919192 -0.667892 -0.586444 -0.586446     0.006633\n",
       "..       ...       ...       ...       ...          ...\n",
       "95  0.919192  0.860727  0.586444  0.586446     0.075230\n",
       "96  0.939394  0.887270  0.599333  0.599335     0.082907\n",
       "97  0.959596  1.014873  0.612222  0.612224     0.162126\n",
       "98  0.979798  0.917915  0.625111  0.625113     0.085733\n",
       "99  1.000000  1.047665  0.638000  0.638002     0.167824\n",
       "\n",
       "[100 rows x 5 columns]"
      ]
     },
     "execution_count": 33,
     "metadata": {},
     "output_type": "execute_result"
    }
   ],
   "source": [
    "df"
   ]
  },
  {
   "cell_type": "code",
   "execution_count": 35,
   "metadata": {},
   "outputs": [
    {
     "data": {
      "text/plain": [
       "0.03360814920350844"
      ]
     },
     "execution_count": 35,
     "metadata": {},
     "output_type": "execute_result"
    }
   ],
   "source": [
    "df['squared-dev'].mean()"
   ]
  },
  {
   "cell_type": "code",
   "execution_count": 36,
   "metadata": {},
   "outputs": [
    {
     "data": {
      "text/plain": [
       "0.18332525522553744"
      ]
     },
     "execution_count": 36,
     "metadata": {},
     "output_type": "execute_result"
    }
   ],
   "source": [
    "np.sqrt(df['squared-dev'].mean())"
   ]
  },
  {
   "cell_type": "code",
   "execution_count": 37,
   "metadata": {},
   "outputs": [],
   "source": [
    "from sklearn.linear_model import LogisticRegression"
   ]
  },
  {
   "cell_type": "code",
   "execution_count": 57,
   "metadata": {},
   "outputs": [],
   "source": [
    "df['cat'] = df['X'] > 0# .apply(lambda x: x > 0 if np.random.randn() > 0.25 else x < 0)"
   ]
  },
  {
   "cell_type": "code",
   "execution_count": 58,
   "metadata": {},
   "outputs": [
    {
     "data": {
      "text/plain": [
       "0     False\n",
       "1     False\n",
       "2     False\n",
       "3     False\n",
       "4     False\n",
       "      ...  \n",
       "95     True\n",
       "96     True\n",
       "97     True\n",
       "98     True\n",
       "99     True\n",
       "Name: cat, Length: 100, dtype: bool"
      ]
     },
     "execution_count": 58,
     "metadata": {},
     "output_type": "execute_result"
    }
   ],
   "source": [
    "df['cat']"
   ]
  },
  {
   "cell_type": "code",
   "execution_count": 59,
   "metadata": {},
   "outputs": [
    {
     "data": {
      "text/plain": [
       "<AxesSubplot:xlabel='X', ylabel='Y'>"
      ]
     },
     "execution_count": 59,
     "metadata": {},
     "output_type": "execute_result"
    },
    {
     "data": {
      "image/png": "[encoded data removed]",
      "text/plain": [
       "<Figure size 432x288 with 1 Axes>"
      ]
     },
     "metadata": {
      "needs_background": "light"
     },
     "output_type": "display_data"
    }
   ],
   "source": [
    "sns.scatterplot(x='X', y='Y', data=df, hue='cat')"
   ]
  },
  {
   "cell_type": "code",
   "execution_count": 60,
   "metadata": {},
   "outputs": [],
   "source": [
    "logreg = LogisticRegression()"
   ]
  },
  {
   "cell_type": "code",
   "execution_count": 61,
   "metadata": {},
   "outputs": [
    {
     "data": {
      "text/plain": [
       "LogisticRegression()"
      ]
     },
     "execution_count": 61,
     "metadata": {},
     "output_type": "execute_result"
    }
   ],
   "source": [
    "logreg.fit(df['X'].values.reshape(-1, 1), df['cat'])"
   ]
  },
  {
   "cell_type": "code",
   "execution_count": 62,
   "metadata": {},
   "outputs": [
    {
     "data": {
      "text/plain": [
       "array([False, False, False, False, False, False, False, False, False,\n",
       "       False, False, False, False, False, False, False, False, False,\n",
       "       False, False, False, False, False, False, False, False, False,\n",
       "       False, False, False, False, False, False, False, False, False,\n",
       "       False, False, False, False, False, False, False, False, False,\n",
       "       False, False, False, False, False,  True,  True,  True,  True,\n",
       "        True,  True,  True,  True,  True,  True,  True,  True,  True,\n",
       "        True,  True,  True,  True,  True,  True,  True,  True,  True,\n",
       "        True,  True,  True,  True,  True,  True,  True,  True,  True,\n",
       "        True,  True,  True,  True,  True,  True,  True,  True,  True,\n",
       "        True,  True,  True,  True,  True,  True,  True,  True,  True,\n",
       "        True])"
      ]
     },
     "execution_count": 62,
     "metadata": {},
     "output_type": "execute_result"
    }
   ],
   "source": [
    "logreg.predict(df['X'].values.reshape(-1, 1))"
   ]
  },
  {
   "cell_type": "code",
   "execution_count": null,
   "metadata": {},
   "outputs": [],
   "source": []
  }
 ],
 "metadata": {
  "kernelspec": {
   "display_name": "Python 3",
   "language": "python",
   "name": "python3"
  },
  "language_info": {
   "codemirror_mode": {
    "name": "ipython",
    "version": 3
   },
   "file_extension": ".py",
   "mimetype": "text/x-python",
   "name": "python",
   "nbconvert_exporter": "python",
   "pygments_lexer": "ipython3",
   "version": "3.7.9"
  }
 },
 "nbformat": 4,
 "nbformat_minor": 4
}
