{
 "cells": [
  {
   "cell_type": "markdown",
   "metadata": {},
   "source": [
    "# Regular Expressions - Helene practice\n",
    "\n",
    "Sometimes, we would like to perform more complex manipulations of our string. This is where regular expressions come in handy. In the cell below, return all characters that are upper case from the string specified below."
   ]
  },
  {
   "cell_type": "code",
   "execution_count": 1,
   "metadata": {},
   "outputs": [],
   "source": [
    "import re"
   ]
  },
  {
   "cell_type": "code",
   "execution_count": 2,
   "metadata": {},
   "outputs": [],
   "source": [
    "data = ['123abc', 'abc123', 'JohnSmith1', 'ABBY4', 'JANE']"
   ]
  },
  {
   "cell_type": "markdown",
   "metadata": {},
   "source": [
    "In the cell below, filter the list provided and return all elements of the list containing a number. To filter the list, use the `re.search` function. Check if the function does not return `None`. You can read more about the `re.search` function [here](https://docs.python.org/3/library/re.html)."
   ]
  },
  {
   "cell_type": "code",
   "execution_count": 3,
   "metadata": {},
   "outputs": [
    {
     "name": "stdout",
     "output_type": "stream",
     "text": [
      "['123abc', 'abc123', 'JohnSmith1', 'ABBY4']\n",
      "['123abc', 'abc123', 'JohnSmith1', 'ABBY4']\n"
     ]
    }
   ],
   "source": [
    "# Your code here:\n",
    "print([word for word in data if re.search(\"\\d\", word)])\n",
    "\n",
    "#or\n",
    "\n",
    "print(re.findall('\\w*\\d+\\w*', ' '.join(data)))"
   ]
  },
  {
   "cell_type": "markdown",
   "metadata": {},
   "source": [
    "In the cell below, filter the list provided and return all elements of the list containing a number and a lowercase letter."
   ]
  },
  {
   "cell_type": "code",
   "execution_count": 32,
   "metadata": {},
   "outputs": [
    {
     "name": "stdout",
     "output_type": "stream",
     "text": [
      "['123abc', 'abc123', 'JohnSmith1']\n",
      "[]\n"
     ]
    }
   ],
   "source": [
    "# Your code here:\n",
    "\n",
    "# Option 1\n",
    "print([word for word in data if re.search(\"\\d\", word) and re.search(\"[a-z]\", word)])\n",
    "\n",
    "# Option 2\n",
    "print([x for x in data if re.search(\"(?=.\\d)(?=.[a-z]).*\", x)])"
   ]
  },
  {
   "cell_type": "code",
   "execution_count": 5,
   "metadata": {},
   "outputs": [],
   "source": [
    "declaration= '\"I love you, Love.\" H2484'"
   ]
  },
  {
   "cell_type": "code",
   "execution_count": 6,
   "metadata": {},
   "outputs": [
    {
     "name": "stdout",
     "output_type": "stream",
     "text": [
      "['2', '4', '8', '4']\n"
     ]
    }
   ],
   "source": [
    "print(re.findall('\\d', declaration))"
   ]
  },
  {
   "cell_type": "code",
   "execution_count": 7,
   "metadata": {},
   "outputs": [
    {
     "name": "stdout",
     "output_type": "stream",
     "text": [
      "['I', 'l', 'o', 'v', 'e', 'y', 'o', 'u', 'L', 'o', 'v', 'e', 'H', '2', '4', '8', '4']\n"
     ]
    }
   ],
   "source": [
    "print(re.findall('[\\w]', declaration))"
   ]
  },
  {
   "cell_type": "code",
   "execution_count": 8,
   "metadata": {},
   "outputs": [
    {
     "name": "stdout",
     "output_type": "stream",
     "text": [
      "[' ', ' ', ' ', ' ']\n"
     ]
    }
   ],
   "source": [
    "print(re.findall('[\\s]', declaration))"
   ]
  },
  {
   "cell_type": "code",
   "execution_count": 9,
   "metadata": {},
   "outputs": [
    {
     "name": "stdout",
     "output_type": "stream",
     "text": [
      "['\"', ' ', ' ', ',', ' ', '.', '\"', ' ']\n"
     ]
    }
   ],
   "source": [
    "print(re.findall('[\\W]', declaration))"
   ]
  },
  {
   "cell_type": "code",
   "execution_count": 10,
   "metadata": {},
   "outputs": [
    {
     "name": "stdout",
     "output_type": "stream",
     "text": [
      "['\"', 'I', ' ', 'l', 'o', 'v', 'e', ' ', 'y', 'o', 'u', ',', ' ', 'L', 'o', 'v', 'e', '.', '\"', ' ', 'H']\n"
     ]
    }
   ],
   "source": [
    "print(re.findall('\\D', declaration))"
   ]
  },
  {
   "cell_type": "code",
   "execution_count": 11,
   "metadata": {},
   "outputs": [
    {
     "data": {
      "text/plain": [
       "['2']"
      ]
     },
     "execution_count": 11,
     "metadata": {},
     "output_type": "execute_result"
    }
   ],
   "source": [
    "pattern = '[0-2]'\n",
    "re.findall(pattern, declaration)"
   ]
  },
  {
   "cell_type": "code",
   "execution_count": 12,
   "metadata": {},
   "outputs": [
    {
     "name": "stdout",
     "output_type": "stream",
     "text": [
      "['\"', 'I', ' ', 'l', 'o', 'v', 'e', ' ', 'y', 'o', 'u', ',', ' ', 'L', 'o', 'v', 'e', '.', '\"', ' ', 'H']\n"
     ]
    }
   ],
   "source": [
    "pattern = '[^0-9]'\n",
    "print(re.findall(pattern, declaration))\n"
   ]
  },
  {
   "cell_type": "code",
   "execution_count": 13,
   "metadata": {},
   "outputs": [
    {
     "name": "stdout",
     "output_type": "stream",
     "text": [
      "['\"', 'I', ' ', 'l', 'o', 'v', 'e', ' ', 'y', 'o', 'u', ',', ' ', 'L', 'o', 'v', 'e', '.', '\"', ' ', 'H', '2', '4', '8', '4']\n"
     ]
    }
   ],
   "source": [
    "pattern = '.'\n",
    "print(re.findall(pattern, declaration))"
   ]
  },
  {
   "cell_type": "code",
   "execution_count": 14,
   "metadata": {},
   "outputs": [
    {
     "name": "stdout",
     "output_type": "stream",
     "text": [
      "['\"', 'I', ' ', ' ', ',', ' ', 'L', '.', '\"', ' ', 'H', '2', '4', '8', '4']\n"
     ]
    }
   ],
   "source": [
    "pattern = '[^a-z]'\n",
    "print(re.findall(pattern, declaration))"
   ]
  },
  {
   "cell_type": "code",
   "execution_count": 15,
   "metadata": {},
   "outputs": [
    {
     "name": "stdout",
     "output_type": "stream",
     "text": [
      "[]\n"
     ]
    }
   ],
   "source": [
    "pattern = '^I love'\n",
    "print(re.findall(pattern, declaration))"
   ]
  },
  {
   "cell_type": "code",
   "execution_count": 16,
   "metadata": {},
   "outputs": [
    {
     "name": "stdout",
     "output_type": "stream",
     "text": [
      "['love', 'Love']\n"
     ]
    }
   ],
   "source": [
    "pattern = '[Ll]ove'\n",
    "print(re.findall(pattern, declaration))"
   ]
  },
  {
   "cell_type": "code",
   "execution_count": 17,
   "metadata": {},
   "outputs": [
    {
     "name": "stdout",
     "output_type": "stream",
     "text": [
      "['love', 'ove']\n"
     ]
    }
   ],
   "source": [
    "pattern = 'l*ove'\n",
    "print(re.findall(pattern, declaration))"
   ]
  },
  {
   "cell_type": "code",
   "execution_count": 18,
   "metadata": {},
   "outputs": [
    {
     "name": "stdout",
     "output_type": "stream",
     "text": [
      "['love']\n"
     ]
    }
   ],
   "source": [
    "pattern = 'l+ove'\n",
    "print(re.findall(pattern, declaration))"
   ]
  },
  {
   "cell_type": "code",
   "execution_count": 19,
   "metadata": {},
   "outputs": [
    {
     "name": "stdout",
     "output_type": "stream",
     "text": [
      "['love', 'ove']\n"
     ]
    }
   ],
   "source": [
    "pattern = 'l?ove'\n",
    "print(re.findall(pattern, declaration))"
   ]
  },
  {
   "cell_type": "code",
   "execution_count": 20,
   "metadata": {},
   "outputs": [
    {
     "name": "stdout",
     "output_type": "stream",
     "text": [
      "['awww', 'awww', 'awww', 'awww']\n"
     ]
    }
   ],
   "source": [
    "text = \"Let's see how we can match the following: aw, aww, awwww, awwwwwww, awwwwwwww, awwwwwwwwwwww\"\n",
    " \n",
    "pattern = \"aw{3}\"\n",
    "print(re.findall(pattern, text))"
   ]
  },
  {
   "cell_type": "code",
   "execution_count": 21,
   "metadata": {},
   "outputs": [
    {
     "name": "stdout",
     "output_type": "stream",
     "text": [
      "['awwww', 'awwwwwww', 'awwwwwwww', 'awwwwwwwwwwww']\n"
     ]
    }
   ],
   "source": [
    "pattern = \"aw{3,}\"\n",
    "print(re.findall(pattern, text))"
   ]
  },
  {
   "cell_type": "code",
   "execution_count": 22,
   "metadata": {},
   "outputs": [
    {
     "name": "stdout",
     "output_type": "stream",
     "text": [
      "['awwww', 'awwwww', 'awwwww', 'awwwww']\n"
     ]
    }
   ],
   "source": [
    "pattern = \"aw{3,5}\"\n",
    "print(re.findall(pattern, text))"
   ]
  },
  {
   "cell_type": "code",
   "execution_count": 23,
   "metadata": {},
   "outputs": [
    {
     "name": "stdout",
     "output_type": "stream",
     "text": [
      "['I', 'love', 'you', 'Love', 'H2484']\n"
     ]
    }
   ],
   "source": [
    "pattern = '\\w+'\n",
    "print(re.findall(pattern, declaration))"
   ]
  },
  {
   "cell_type": "code",
   "execution_count": 24,
   "metadata": {},
   "outputs": [
    {
     "name": "stdout",
     "output_type": "stream",
     "text": [
      "['love', 'Love', 'H2484']\n"
     ]
    }
   ],
   "source": [
    "pattern = '\\w{4,}'\n",
    "print(re.findall(pattern, declaration))"
   ]
  },
  {
   "cell_type": "code",
   "execution_count": 25,
   "metadata": {},
   "outputs": [
    {
     "name": "stdout",
     "output_type": "stream",
     "text": [
      "['Love']\n"
     ]
    }
   ],
   "source": [
    "pattern = '[A-Z][a-z]+'\n",
    "print(re.findall(pattern, declaration))"
   ]
  },
  {
   "cell_type": "code",
   "execution_count": 26,
   "metadata": {},
   "outputs": [
    {
     "name": "stdout",
     "output_type": "stream",
     "text": [
      "['Love', 'H2484']\n"
     ]
    }
   ],
   "source": [
    "pattern = '[A-Z][a-z]+|[A-Z0-9]{2,}'\n",
    "print(re.findall(pattern, declaration))"
   ]
  },
  {
   "cell_type": "code",
   "execution_count": 27,
   "metadata": {},
   "outputs": [
    {
     "name": "stdout",
     "output_type": "stream",
     "text": [
      "['\"I love you, Love.\"']\n"
     ]
    }
   ],
   "source": [
    "pattern = '\".*\"'\n",
    "print(re.findall(pattern, declaration))"
   ]
  },
  {
   "cell_type": "code",
   "execution_count": 28,
   "metadata": {},
   "outputs": [
    {
     "name": "stdout",
     "output_type": "stream",
     "text": [
      "['\"I love you, Love.\"']\n"
     ]
    }
   ],
   "source": [
    "pattern = '\".*\"'\n",
    "print(re.findall(pattern, declaration))"
   ]
  },
  {
   "cell_type": "code",
   "execution_count": 29,
   "metadata": {},
   "outputs": [
    {
     "data": {
      "text/plain": [
       "['06.07.08.12.94']"
      ]
     },
     "execution_count": 29,
     "metadata": {},
     "output_type": "execute_result"
    }
   ],
   "source": [
    "tel= \"Mon numéro de tel est le 06.07.08.12.94\"\n",
    "pattern = '(\\d+\\W\\d+\\W\\d+\\W\\d+\\W\\d+)'\n",
    "re.findall(pattern, tel)"
   ]
  },
  {
   "cell_type": "code",
   "execution_count": 30,
   "metadata": {},
   "outputs": [
    {
     "data": {
      "text/plain": [
       "['06-07-08/12.94']"
      ]
     },
     "execution_count": 30,
     "metadata": {},
     "output_type": "execute_result"
    }
   ],
   "source": [
    "text= \"Mon numéro de tel est le 06-07-08/12.94\"\n",
    "pattern = '(\\d+\\W\\d+\\W\\d+\\W\\d+\\W\\d+)'\n",
    "re.findall(pattern, text)"
   ]
  }
 ],
 "metadata": {
  "kernelspec": {
   "display_name": "Python 3",
   "language": "python",
   "name": "python3"
  },
  "language_info": {
   "codemirror_mode": {
    "name": "ipython",
    "version": 3
   },
   "file_extension": ".py",
   "mimetype": "text/x-python",
   "name": "python",
   "nbconvert_exporter": "python",
   "pygments_lexer": "ipython3",
   "version": "3.8.5"
  }
 },
 "nbformat": 4,
 "nbformat_minor": 2
}
