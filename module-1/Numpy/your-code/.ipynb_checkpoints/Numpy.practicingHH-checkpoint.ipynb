{
 "cells": [
  {
   "cell_type": "markdown",
   "metadata": {},
   "source": [
    "# Numpy"
   ]
  },
  {
   "cell_type": "code",
   "execution_count": 1,
   "metadata": {},
   "outputs": [],
   "source": [
    "import numpy as np"
   ]
  },
  {
   "cell_type": "code",
   "execution_count": 2,
   "metadata": {},
   "outputs": [
    {
     "name": "stdout",
     "output_type": "stream",
     "text": [
      "[0 1 2 3 4 5 6 7]\n",
      "(8,)\n",
      "[[0 1 2 3 4 5 6 7]]\n",
      "(1, 8)\n"
     ]
    }
   ],
   "source": [
    "# Generating a one-dimension array (vector)\n",
    "\n",
    "lst = [0,1,2,3,4,5,6,7]\n",
    "v=np.array(lst)\n",
    "print(v)\n",
    "print(v.shape)\n",
    "#v is a vector, a one-column array. Its shape has only 1 number.\n",
    "b = v.reshape(1,8)\n",
    "print(b)\n",
    "print(b.shape)"
   ]
  },
  {
   "cell_type": "code",
   "execution_count": 3,
   "metadata": {},
   "outputs": [
    {
     "name": "stdout",
     "output_type": "stream",
     "text": [
      "[[0 1 2 3]\n",
      " [4 5 6 7]]\n"
     ]
    }
   ],
   "source": [
    "# Generating a 2-dimension array (matrix)\n",
    "\n",
    "lst_lsts = [[0,1,2,3],[4,5,6,7]]\n",
    "m=np.array((lst_lsts))\n",
    "print(m)"
   ]
  },
  {
   "cell_type": "code",
   "execution_count": 4,
   "metadata": {},
   "outputs": [
    {
     "name": "stdout",
     "output_type": "stream",
     "text": [
      "[[0 1 2 3]\n",
      " [4 5 6 7]]\n"
     ]
    }
   ],
   "source": [
    "tup_lsts = ([0,1,2,3],[4,5,6,7])\n",
    "a=np.array((tup_lsts))\n",
    "print(a)"
   ]
  },
  {
   "cell_type": "code",
   "execution_count": 5,
   "metadata": {},
   "outputs": [
    {
     "name": "stdout",
     "output_type": "stream",
     "text": [
      "[[ 1  2  3  4  5]\n",
      " [10  9  8  7  6]]\n"
     ]
    }
   ],
   "source": [
    "tup_tups = ((1,2,3,4,5),(10,9,8,7,6))\n",
    "M = np.array((tup_tups))\n",
    "print(M)"
   ]
  },
  {
   "cell_type": "code",
   "execution_count": 6,
   "metadata": {},
   "outputs": [
    {
     "name": "stdout",
     "output_type": "stream",
     "text": [
      "[[ 1  2  3  4  5]\n",
      " [10  9  8  7  6]\n",
      " [ 0  1  0  1  0]]\n"
     ]
    }
   ],
   "source": [
    "lst_tups = [(1,2,3,4,5),(10,9,8,7,6),(0,1,0,1,0)]\n",
    "A = np.array((lst_tups))\n",
    "print(A)"
   ]
  },
  {
   "cell_type": "code",
   "execution_count": 7,
   "metadata": {},
   "outputs": [
    {
     "name": "stdout",
     "output_type": "stream",
     "text": [
      "[1 2 3 4 5]\n"
     ]
    }
   ],
   "source": [
    "#  Navigating a 2-dimensional array\n",
    "print(A[0])"
   ]
  },
  {
   "cell_type": "code",
   "execution_count": 8,
   "metadata": {},
   "outputs": [
    {
     "name": "stdout",
     "output_type": "stream",
     "text": [
      "[[ 1  2  3  4  5]\n",
      " [10  9  8  7  6]]\n"
     ]
    }
   ],
   "source": [
    "#  Navigating a 2-dimensional array\n",
    "print(A[0:2])"
   ]
  },
  {
   "cell_type": "code",
   "execution_count": 9,
   "metadata": {},
   "outputs": [
    {
     "name": "stdout",
     "output_type": "stream",
     "text": [
      "3\n"
     ]
    }
   ],
   "source": [
    "#  Navigating a 2-dimensional array\n",
    "print(A[0,2])"
   ]
  },
  {
   "cell_type": "code",
   "execution_count": 10,
   "metadata": {},
   "outputs": [
    {
     "name": "stdout",
     "output_type": "stream",
     "text": [
      "[[3 4]\n",
      " [8 7]\n",
      " [0 1]]\n"
     ]
    }
   ],
   "source": [
    "#  Navigating a 2-dimensional array\n",
    "print(A[:,2:4])"
   ]
  },
  {
   "cell_type": "code",
   "execution_count": 11,
   "metadata": {},
   "outputs": [
    {
     "name": "stdout",
     "output_type": "stream",
     "text": [
      "[[3 4]\n",
      " [8 7]]\n"
     ]
    }
   ],
   "source": [
    "#  Navigating a 2-dimensional array\n",
    "print(A[:2,2:4])"
   ]
  },
  {
   "cell_type": "code",
   "execution_count": 12,
   "metadata": {},
   "outputs": [
    {
     "name": "stdout",
     "output_type": "stream",
     "text": [
      "[[10  9  8]\n",
      " [ 0  1  0]]\n"
     ]
    }
   ],
   "source": [
    "#  Navigating a 2-dimensional array\n",
    "print(A[1:3,0:3])"
   ]
  },
  {
   "cell_type": "code",
   "execution_count": 13,
   "metadata": {},
   "outputs": [
    {
     "name": "stdout",
     "output_type": "stream",
     "text": [
      "[[[ 0.1848735   0.03321506 -1.78203081 -0.08265353]\n",
      "  [-0.20969977 -1.53112204  2.26025529 -0.04393107]]\n",
      "\n",
      " [[-0.52608684  1.3222538   0.02273596  0.54927984]\n",
      "  [-1.35506867 -1.31515177  0.82130016  0.610916  ]]\n",
      "\n",
      " [[-0.45897601  0.04529506 -0.49034446  0.07102277]\n",
      "  [ 1.11559076 -0.33282304 -0.98768611  0.9408022 ]]]\n"
     ]
    }
   ],
   "source": [
    "# Generating a 3-dimension array (tensor) with random numbers\n",
    "t = np.random.random((3,2,4))\n",
    "# ou\n",
    "t = np.random.randn(3,2,4)\n",
    "# ou\n",
    "t = np.random.randint(1000,size=(3,2,4))\n",
    "# ou\n",
    "t = np.empty([3,2,4])\n",
    "print(t)"
   ]
  },
  {
   "cell_type": "code",
   "execution_count": 14,
   "metadata": {},
   "outputs": [
    {
     "name": "stdout",
     "output_type": "stream",
     "text": [
      "[[ 0.1848735   0.03321506 -1.78203081 -0.08265353]\n",
      " [-0.20969977 -1.53112204  2.26025529 -0.04393107]]\n",
      "[-0.20969977 -1.53112204]\n",
      "[[ 0.02273596  0.54927984]\n",
      " [-0.49034446  0.07102277]]\n"
     ]
    }
   ],
   "source": [
    "#  Navigating a 3-dimensional array\n",
    "print(t[0])\n",
    "print(t[0,1,:2])\n",
    "print(t[1:3,0,2:4])"
   ]
  },
  {
   "cell_type": "code",
   "execution_count": 15,
   "metadata": {},
   "outputs": [
    {
     "name": "stdout",
     "output_type": "stream",
     "text": [
      "[[4 0 3 3]\n",
      " [5 8 5 7]]\n"
     ]
    }
   ],
   "source": [
    "# Operations within an array\n",
    "# Suppose a 3-dimensional array with integers\n",
    "c = np.random.randint(10,size=(2,4))\n",
    "print(c)"
   ]
  },
  {
   "cell_type": "code",
   "execution_count": 16,
   "metadata": {},
   "outputs": [
    {
     "name": "stdout",
     "output_type": "stream",
     "text": [
      "[ 9  8  8 10]\n",
      "\n",
      "[10 25]\n"
     ]
    }
   ],
   "source": [
    "    # Sums within an array:\n",
    "# You can sum along the axes of the array\n",
    "# The axis i in np.sum(array, axis=i) is the ith index of the shape of that array (zero-indexed).   \n",
    "\n",
    "print(np.sum(c, axis=0)), print()\n",
    "# sum of each column in matrix c\n",
    "\n",
    "print(np.sum(c, axis=1))\n",
    "# sum of each row in matrix c:"
   ]
  },
  {
   "cell_type": "code",
   "execution_count": 17,
   "metadata": {},
   "outputs": [
    {
     "name": "stdout",
     "output_type": "stream",
     "text": [
      "10\n",
      "\n",
      "8\n"
     ]
    }
   ],
   "source": [
    "# Other sums within the array:\n",
    "print(np.sum(c[0])),print()\n",
    "print(np.sum(c[:,1]))"
   ]
  },
  {
   "cell_type": "code",
   "execution_count": 18,
   "metadata": {},
   "outputs": [
    {
     "name": "stdout",
     "output_type": "stream",
     "text": [
      "4.0\n",
      "[4.5 4.  4.  5. ]\n"
     ]
    }
   ],
   "source": [
    "    # de même, pour la moyenne arithmétique :\n",
    "print(np.mean(c[:,1:3]))\n",
    "print(np.mean(c, axis = 0))"
   ]
  },
  {
   "cell_type": "code",
   "execution_count": 19,
   "metadata": {},
   "outputs": [
    {
     "name": "stdout",
     "output_type": "stream",
     "text": [
      "[4.5 4.  4.  5. ]\n",
      "[4 0 3 3]\n",
      "[5 8 5 7]\n",
      "[0.5 4.  1.  2. ]\n"
     ]
    }
   ],
   "source": [
    "print(np.median(c, axis = 0))\n",
    "print(np.min(c, axis = 0))\n",
    "print(np.max(c, axis = 0))\n",
    "print(np.std(c, axis = 0))"
   ]
  },
  {
   "cell_type": "code",
   "execution_count": 20,
   "metadata": {},
   "outputs": [],
   "source": [
    "# Operations between separate arrays"
   ]
  },
  {
   "cell_type": "code",
   "execution_count": 21,
   "metadata": {},
   "outputs": [
    {
     "name": "stdout",
     "output_type": "stream",
     "text": [
      "c[0] \n",
      " [4 0 3 3]\n",
      "\n",
      "c[1] \n",
      " [5 8 5 7]\n"
     ]
    }
   ],
   "source": [
    "print(\"c[0]\",\"\\n\", c[0]), print()\n",
    "print(\"c[1]\",\"\\n\", c[1])"
   ]
  },
  {
   "cell_type": "code",
   "execution_count": 22,
   "metadata": {},
   "outputs": [
    {
     "data": {
      "text/plain": [
       "array([ 9,  8,  8, 10])"
      ]
     },
     "execution_count": 22,
     "metadata": {},
     "output_type": "execute_result"
    }
   ],
   "source": [
    "x = np.add(c[0],c[1])\n",
    "x"
   ]
  },
  {
   "cell_type": "code",
   "execution_count": 23,
   "metadata": {},
   "outputs": [
    {
     "data": {
      "text/plain": [
       "array([-1, -8, -2, -4])"
      ]
     },
     "execution_count": 23,
     "metadata": {},
     "output_type": "execute_result"
    }
   ],
   "source": [
    "np.subtract(c[0],c[1])"
   ]
  },
  {
   "cell_type": "code",
   "execution_count": 24,
   "metadata": {},
   "outputs": [
    {
     "data": {
      "text/plain": [
       "array([20,  0, 15, 21])"
      ]
     },
     "execution_count": 24,
     "metadata": {},
     "output_type": "execute_result"
    }
   ],
   "source": [
    "np.multiply(c[0],c[1])"
   ]
  },
  {
   "cell_type": "code",
   "execution_count": 25,
   "metadata": {},
   "outputs": [
    {
     "data": {
      "text/plain": [
       "array([0.8       , 0.        , 0.6       , 0.42857143])"
      ]
     },
     "execution_count": 25,
     "metadata": {},
     "output_type": "execute_result"
    }
   ],
   "source": [
    "np.divide(c[0],c[1])"
   ]
  },
  {
   "cell_type": "code",
   "execution_count": 26,
   "metadata": {},
   "outputs": [
    {
     "data": {
      "text/plain": [
       "array([0.8       , 0.        , 0.6       , 0.42857143])"
      ]
     },
     "execution_count": 26,
     "metadata": {},
     "output_type": "execute_result"
    }
   ],
   "source": [
    "np.divide(c[0],c[1])"
   ]
  },
  {
   "cell_type": "code",
   "execution_count": null,
   "metadata": {},
   "outputs": [],
   "source": []
  }
 ],
 "metadata": {
  "kernelspec": {
   "display_name": "Python 3",
   "language": "python",
   "name": "python3"
  },
  "language_info": {
   "codemirror_mode": {
    "name": "ipython",
    "version": 3
   },
   "file_extension": ".py",
   "mimetype": "text/x-python",
   "name": "python",
   "nbconvert_exporter": "python",
   "pygments_lexer": "ipython3",
   "version": "3.8.5"
  }
 },
 "nbformat": 4,
 "nbformat_minor": 4
}
