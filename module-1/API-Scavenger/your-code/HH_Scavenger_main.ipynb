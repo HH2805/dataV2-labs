{
 "cells": [
  {
   "cell_type": "markdown",
   "metadata": {},
   "source": [
    "# API Scavenger Game\n",
    "\n",
    "## Challenge 1: Fork Languages\n",
    "\n",
    "You will find out how many programming languages are used among all the forks created from the main lab repo of your bootcamp."
   ]
  },
  {
   "cell_type": "code",
   "execution_count": 1,
   "metadata": {},
   "outputs": [],
   "source": [
    "# import libraries here\n",
    "import pandas as pd\n",
    "import requests\n",
    "import json\n",
    "from pandas import json_normalize\n",
    "from github import Github"
   ]
  },
  {
   "cell_type": "markdown",
   "metadata": {},
   "source": [
    "Assuming the main lab repo is ironhack-datalabs/madrid-oct-2018, you will:\n",
    "\n",
    "#### 1. Obtain the full list of forks created from the main lab repo via Github API."
   ]
  },
  {
   "cell_type": "markdown",
   "metadata": {},
   "source": [
    "To list forks, we can use the GET method. As explained in the GitHub API documentation, we need to make the request to: GET /repos/:owner/:repo/forks."
   ]
  },
  {
   "cell_type": "code",
   "execution_count": 2,
   "metadata": {},
   "outputs": [
    {
     "data": {
      "text/plain": [
       "'C:\\\\Users\\\\mailb\\\\Documents_Administrateur\\\\Ironhack\\\\DA_BOOTCAMP\\\\3.Labs\\\\dataV2-labs\\\\module-1\\\\API-Scavenger\\\\your-code'"
      ]
     },
     "execution_count": 2,
     "metadata": {},
     "output_type": "execute_result"
    }
   ],
   "source": [
    "import os\n",
    "os.getcwd()"
   ]
  },
  {
   "cell_type": "code",
   "execution_count": 3,
   "metadata": {},
   "outputs": [],
   "source": [
    "# your code here\n",
    "\n",
    "f = open('../../StackAPI/samedi_github/github_token.txt', 'r')\n",
    "github_token = f.read()\n",
    "f.close()"
   ]
  },
  {
   "cell_type": "code",
   "execution_count": 4,
   "metadata": {},
   "outputs": [
    {
     "data": {
      "text/plain": [
       "<Response [200]>"
      ]
     },
     "execution_count": 4,
     "metadata": {},
     "output_type": "execute_result"
    }
   ],
   "source": [
    "resp = requests.get('https://api.github.com/repos/ironhack-datalabs/mad-oct-2018/forks',\n",
    "                    headers={'Accept': 'application/vnd.github.v3+json',\n",
    "                             'Authorization': f'token {github_token}'})\n",
    "resp"
   ]
  },
  {
   "cell_type": "code",
   "execution_count": 5,
   "metadata": {},
   "outputs": [
    {
     "name": "stdout",
     "output_type": "stream",
     "text": [
      "<class 'bytes'>\n",
      "78947\n",
      "b'[{\"id\":335309218,\"node_id\":\"MDEwOlJlcG9zaXRvcnkzMzUzMDkyMTg=\",\"name\":\"mad-oct-2018\",\"full_name\":\"Forastierii/mad-oct-2018\",\"private\":false,\"owner\":{\"login\":\"Forastierii\",\"id\":67510604,\"node_id\":\"MDQ6VXNlcjY3NTEwNjA0\",\"avatar_url\":\"https://avatars.githubusercontent.com/u/67510604?v=4\",\"gravatar_id\":\"\",\"url\":\"https://api.github.com/users/Forastierii\",\"html_url\":\"https://github.com/Forastierii\",\"followers_url\":\"https://api.github.com/users/Forastierii/followers\",\"following_url\":\"https://api.github.com/users/Forastierii/following{/other_user}\",\"gists_url\":\"https://api.github.com/users/Forastierii/gists{/gist_id}\",\"starred_url\":\"https://api.github.com/users/Forastierii/starred{/owner}{/repo}\",\"subscriptions_url\":\"https://api.github.com/users/Forastierii/subscriptions\",\"organizations_url\":\"https://api.github.com/users/Forastierii/orgs\",\"repos_url\":\"https://api.github.com/users/Forastierii/repos\",\"events_url\":\"https://api.github.com/users/Forastierii/events{/privacy}\",\"received_events_url\":\"h'\n"
     ]
    }
   ],
   "source": [
    "print(type(resp.content))\n",
    "print(len(resp.content))\n",
    "print(resp.content[:1000])"
   ]
  },
  {
   "cell_type": "code",
   "execution_count": 6,
   "metadata": {},
   "outputs": [
    {
     "name": "stdout",
     "output_type": "stream",
     "text": [
      "<class 'list'>\n",
      "15\n",
      "{'id': 335309218, 'node_id': 'MDEwOlJlcG9zaXRvcnkzMzUzMDkyMTg=', 'name': 'mad-oct-2018', 'full_name': 'Forastierii/mad-oct-2018', 'private': False, 'owner': {'login': 'Forastierii', 'id': 67510604, 'node_id': 'MDQ6VXNlcjY3NTEwNjA0', 'avatar_url': 'https://avatars.githubusercontent.com/u/67510604?v=4', 'gravatar_id': '', 'url': 'https://api.github.com/users/Forastierii', 'html_url': 'https://github.com/Forastierii', 'followers_url': 'https://api.github.com/users/Forastierii/followers', 'following_url': 'https://api.github.com/users/Forastierii/following{/other_user}', 'gists_url': 'https://api.github.com/users/Forastierii/gists{/gist_id}', 'starred_url': 'https://api.github.com/users/Forastierii/starred{/owner}{/repo}', 'subscriptions_url': 'https://api.github.com/users/Forastierii/subscriptions', 'organizations_url': 'https://api.github.com/users/Forastierii/orgs', 'repos_url': 'https://api.github.com/users/Forastierii/repos', 'events_url': 'https://api.github.com/users/Forastierii/events{/privacy}', 'received_events_url': 'https://api.github.com/users/Forastierii/received_events', 'type': 'User', 'site_admin': False}, 'html_url': 'https://github.com/Forastierii/mad-oct-2018', 'description': 'Student labs for Ironhack data analytics bootcamp', 'fork': True, 'url': 'https://api.github.com/repos/Forastierii/mad-oct-2018', 'forks_url': 'https://api.github.com/repos/Forastierii/mad-oct-2018/forks', 'keys_url': 'https://api.github.com/repos/Forastierii/mad-oct-2018/keys{/key_id}', 'collaborators_url': 'https://api.github.com/repos/Forastierii/mad-oct-2018/collaborators{/collaborator}', 'teams_url': 'https://api.github.com/repos/Forastierii/mad-oct-2018/teams', 'hooks_url': 'https://api.github.com/repos/Forastierii/mad-oct-2018/hooks', 'issue_events_url': 'https://api.github.com/repos/Forastierii/mad-oct-2018/issues/events{/number}', 'events_url': 'https://api.github.com/repos/Forastierii/mad-oct-2018/events', 'assignees_url': 'https://api.github.com/repos/Forastierii/mad-oct-2018/assignees{/user}', 'branches_url': 'https://api.github.com/repos/Forastierii/mad-oct-2018/branches{/branch}', 'tags_url': 'https://api.github.com/repos/Forastierii/mad-oct-2018/tags', 'blobs_url': 'https://api.github.com/repos/Forastierii/mad-oct-2018/git/blobs{/sha}', 'git_tags_url': 'https://api.github.com/repos/Forastierii/mad-oct-2018/git/tags{/sha}', 'git_refs_url': 'https://api.github.com/repos/Forastierii/mad-oct-2018/git/refs{/sha}', 'trees_url': 'https://api.github.com/repos/Forastierii/mad-oct-2018/git/trees{/sha}', 'statuses_url': 'https://api.github.com/repos/Forastierii/mad-oct-2018/statuses/{sha}', 'languages_url': 'https://api.github.com/repos/Forastierii/mad-oct-2018/languages', 'stargazers_url': 'https://api.github.com/repos/Forastierii/mad-oct-2018/stargazers', 'contributors_url': 'https://api.github.com/repos/Forastierii/mad-oct-2018/contributors', 'subscribers_url': 'https://api.github.com/repos/Forastierii/mad-oct-2018/subscribers', 'subscription_url': 'https://api.github.com/repos/Forastierii/mad-oct-2018/subscription', 'commits_url': 'https://api.github.com/repos/Forastierii/mad-oct-2018/commits{/sha}', 'git_commits_url': 'https://api.github.com/repos/Forastierii/mad-oct-2018/git/commits{/sha}', 'comments_url': 'https://api.github.com/repos/Forastierii/mad-oct-2018/comments{/number}', 'issue_comment_url': 'https://api.github.com/repos/Forastierii/mad-oct-2018/issues/comments{/number}', 'contents_url': 'https://api.github.com/repos/Forastierii/mad-oct-2018/contents/{+path}', 'compare_url': 'https://api.github.com/repos/Forastierii/mad-oct-2018/compare/{base}...{head}', 'merges_url': 'https://api.github.com/repos/Forastierii/mad-oct-2018/merges', 'archive_url': 'https://api.github.com/repos/Forastierii/mad-oct-2018/{archive_format}{/ref}', 'downloads_url': 'https://api.github.com/repos/Forastierii/mad-oct-2018/downloads', 'issues_url': 'https://api.github.com/repos/Forastierii/mad-oct-2018/issues{/number}', 'pulls_url': 'https://api.github.com/repos/Forastierii/mad-oct-2018/pulls{/number}', 'milestones_url': 'https://api.github.com/repos/Forastierii/mad-oct-2018/milestones{/number}', 'notifications_url': 'https://api.github.com/repos/Forastierii/mad-oct-2018/notifications{?since,all,participating}', 'labels_url': 'https://api.github.com/repos/Forastierii/mad-oct-2018/labels{/name}', 'releases_url': 'https://api.github.com/repos/Forastierii/mad-oct-2018/releases{/id}', 'deployments_url': 'https://api.github.com/repos/Forastierii/mad-oct-2018/deployments', 'created_at': '2021-02-02T14:07:17Z', 'updated_at': '2021-02-02T14:07:19Z', 'pushed_at': '2019-08-19T11:16:55Z', 'git_url': 'git://github.com/Forastierii/mad-oct-2018.git', 'ssh_url': 'git@github.com:Forastierii/mad-oct-2018.git', 'clone_url': 'https://github.com/Forastierii/mad-oct-2018.git', 'svn_url': 'https://github.com/Forastierii/mad-oct-2018', 'homepage': '', 'size': 116995, 'stargazers_count': 0, 'watchers_count': 0, 'language': None, 'has_issues': False, 'has_projects': True, 'has_downloads': True, 'has_wiki': True, 'has_pages': False, 'forks_count': 0, 'mirror_url': None, 'archived': False, 'disabled': False, 'open_issues_count': 0, 'license': {'key': 'unlicense', 'name': 'The Unlicense', 'spdx_id': 'Unlicense', 'url': 'https://api.github.com/licenses/unlicense', 'node_id': 'MDc6TGljZW5zZTE1'}, 'forks': 0, 'open_issues': 0, 'watchers': 0, 'default_branch': 'master', 'permissions': {'admin': False, 'push': False, 'pull': True}}\n"
     ]
    }
   ],
   "source": [
    "json_resp = resp.json()\n",
    "print(type(json_resp))\n",
    "print(len(json_resp))\n",
    "print(json_resp[0])"
   ]
  },
  {
   "cell_type": "markdown",
   "metadata": {},
   "source": [
    "#### 2. Loop the JSON response to find out the language attribute of each fork. Use an array to store the language attributes of each fork.\n",
    "Hint: Each language should appear only once in your array.\n",
    "Print the language array. It should be something like: [\"Python\", \"Jupyter Notebook\", \"HTML\"]"
   ]
  },
  {
   "cell_type": "code",
   "execution_count": 7,
   "metadata": {},
   "outputs": [
    {
     "name": "stdout",
     "output_type": "stream",
     "text": [
      "<class 'set'>\n"
     ]
    },
    {
     "data": {
      "text/plain": [
       "{'HTML', 'Jupyter Notebook', None}"
      ]
     },
     "execution_count": 7,
     "metadata": {},
     "output_type": "execute_result"
    }
   ],
   "source": [
    "lang_array = {element['language'] for element in json_resp}\n",
    "print(type(lang_array))\n",
    "lang_array"
   ]
  },
  {
   "cell_type": "markdown",
   "metadata": {},
   "source": [
    "## Challenge 2: Count Commits\n",
    "#### 1. Obtain all the commits made in 2018 via API, which is a JSON array that contains multiple commit objects.\n",
    "ATtention, maximum number of commits provided by API = 30."
   ]
  },
  {
   "cell_type": "markdown",
   "metadata": {},
   "source": [
    "#### 2. Count how many commit objects are contained in the array."
   ]
  },
  {
   "cell_type": "code",
   "execution_count": 11,
   "metadata": {},
   "outputs": [
    {
     "name": "stdout",
     "output_type": "stream",
     "text": [
      "<class 'list'>\n",
      "18\n"
     ]
    },
    {
     "data": {
      "text/plain": [
       "{'sha': '2ff929fd9c6991716c55597e9112790749c64df0',\n",
       " 'node_id': 'MDY6Q29tbWl0MTUzNzIwODA0OjJmZjkyOWZkOWM2OTkxNzE2YzU1NTk3ZTkxMTI3OTA3NDljNjRkZjA=',\n",
       " 'commit': {'author': {'name': 'Michal Monselise',\n",
       "   'email': 'michal.monselise@gmail.com',\n",
       "   'date': '2018-08-09T03:44:18Z'},\n",
       "  'committer': {'name': 'Michal Monselise',\n",
       "   'email': 'michal.monselise@gmail.com',\n",
       "   'date': '2018-08-09T03:44:18Z'},\n",
       "  'message': 'blabla',\n",
       "  'tree': {'sha': 'd7f96c69bc8a73bb8f137763f0b3bd022966c1ff',\n",
       "   'url': 'https://api.github.com/repos/ironhack-datalabs/mad-oct-2018/git/trees/d7f96c69bc8a73bb8f137763f0b3bd022966c1ff'},\n",
       "  'url': 'https://api.github.com/repos/ironhack-datalabs/mad-oct-2018/git/commits/2ff929fd9c6991716c55597e9112790749c64df0',\n",
       "  'comment_count': 0,\n",
       "  'verification': {'verified': False,\n",
       "   'reason': 'unsigned',\n",
       "   'signature': None,\n",
       "   'payload': None}},\n",
       " 'url': 'https://api.github.com/repos/ironhack-datalabs/mad-oct-2018/commits/2ff929fd9c6991716c55597e9112790749c64df0',\n",
       " 'html_url': 'https://github.com/ironhack-datalabs/mad-oct-2018/commit/2ff929fd9c6991716c55597e9112790749c64df0',\n",
       " 'comments_url': 'https://api.github.com/repos/ironhack-datalabs/mad-oct-2018/commits/2ff929fd9c6991716c55597e9112790749c64df0/comments',\n",
       " 'author': {'login': 'michalmonselise',\n",
       "  'id': 7342857,\n",
       "  'node_id': 'MDQ6VXNlcjczNDI4NTc=',\n",
       "  'avatar_url': 'https://avatars.githubusercontent.com/u/7342857?v=4',\n",
       "  'gravatar_id': '',\n",
       "  'url': 'https://api.github.com/users/michalmonselise',\n",
       "  'html_url': 'https://github.com/michalmonselise',\n",
       "  'followers_url': 'https://api.github.com/users/michalmonselise/followers',\n",
       "  'following_url': 'https://api.github.com/users/michalmonselise/following{/other_user}',\n",
       "  'gists_url': 'https://api.github.com/users/michalmonselise/gists{/gist_id}',\n",
       "  'starred_url': 'https://api.github.com/users/michalmonselise/starred{/owner}{/repo}',\n",
       "  'subscriptions_url': 'https://api.github.com/users/michalmonselise/subscriptions',\n",
       "  'organizations_url': 'https://api.github.com/users/michalmonselise/orgs',\n",
       "  'repos_url': 'https://api.github.com/users/michalmonselise/repos',\n",
       "  'events_url': 'https://api.github.com/users/michalmonselise/events{/privacy}',\n",
       "  'received_events_url': 'https://api.github.com/users/michalmonselise/received_events',\n",
       "  'type': 'User',\n",
       "  'site_admin': False},\n",
       " 'committer': {'login': 'michalmonselise',\n",
       "  'id': 7342857,\n",
       "  'node_id': 'MDQ6VXNlcjczNDI4NTc=',\n",
       "  'avatar_url': 'https://avatars.githubusercontent.com/u/7342857?v=4',\n",
       "  'gravatar_id': '',\n",
       "  'url': 'https://api.github.com/users/michalmonselise',\n",
       "  'html_url': 'https://github.com/michalmonselise',\n",
       "  'followers_url': 'https://api.github.com/users/michalmonselise/followers',\n",
       "  'following_url': 'https://api.github.com/users/michalmonselise/following{/other_user}',\n",
       "  'gists_url': 'https://api.github.com/users/michalmonselise/gists{/gist_id}',\n",
       "  'starred_url': 'https://api.github.com/users/michalmonselise/starred{/owner}{/repo}',\n",
       "  'subscriptions_url': 'https://api.github.com/users/michalmonselise/subscriptions',\n",
       "  'organizations_url': 'https://api.github.com/users/michalmonselise/orgs',\n",
       "  'repos_url': 'https://api.github.com/users/michalmonselise/repos',\n",
       "  'events_url': 'https://api.github.com/users/michalmonselise/events{/privacy}',\n",
       "  'received_events_url': 'https://api.github.com/users/michalmonselise/received_events',\n",
       "  'type': 'User',\n",
       "  'site_admin': False},\n",
       " 'parents': [{'sha': 'f360c5eb6cb60d92b2a51da673e2e3b28d3a7488',\n",
       "   'url': 'https://api.github.com/repos/ironhack-datalabs/mad-oct-2018/commits/f360c5eb6cb60d92b2a51da673e2e3b28d3a7488',\n",
       "   'html_url': 'https://github.com/ironhack-datalabs/mad-oct-2018/commit/f360c5eb6cb60d92b2a51da673e2e3b28d3a7488'}]}"
      ]
     },
     "execution_count": 11,
     "metadata": {},
     "output_type": "execute_result"
    }
   ],
   "source": [
    "# your code here\n",
    "\n",
    "i = 0\n",
    "df_list = []\n",
    "headers = {\"Accept\" : \"application/vnd.github.v3+json\", \n",
    "           'Authorization': f'token {github_token}'}\n",
    "params = {'since':\"2018-01-01T00:00:00Z\", 'until':\"2018-12-31T24:00:00Z\"}\n",
    "\n",
    "while True:\n",
    "    resp = requests.get(f'https://api.github.com/repos/ironhack-datalabs/mad-oct-2018/commits?page={i}', \n",
    "                        headers = headers,\n",
    "                        params = params)\n",
    "    respjson = resp.json()\n",
    "    df_list.append(json_normalize(respjson))\n",
    "    i += 1\n",
    "    if len(respjson) < 30:\n",
    "        break\n",
    "\n",
    "print(type(respjson))\n",
    "print(len(respjson))\n",
    "respjson[0]"
   ]
  },
  {
   "cell_type": "code",
   "execution_count": 12,
   "metadata": {},
   "outputs": [
    {
     "name": "stdout",
     "output_type": "stream",
     "text": [
      "318\n"
     ]
    }
   ],
   "source": [
    "data = pd.concat(df_list, axis = 0)\n",
    "print(len(data))"
   ]
  },
  {
   "cell_type": "markdown",
   "metadata": {},
   "source": [
    "## Challenge 3: Hidden Cold Joke\n",
    "\n",
    "Using Python, call Github API to find out the cold joke contained in the 24 secret files in the following repo:\n",
    "\n",
    "https://github.com/ironhack-datalabs/scavenger\n",
    "\n",
    "The secret files are named from .0001.scavengerhunt to .0024.scavengerhunt. They are scattered randomly throughout this repo. You need to search for these files by calling the Github API, not searching the local files on your computer.\n",
    "\n",
    "#### 1. Find the secret files and their paths."
   ]
  },
  {
   "cell_type": "code",
   "execution_count": 18,
   "metadata": {},
   "outputs": [
    {
     "data": {
      "text/plain": [
       "<Response [200]>"
      ]
     },
     "execution_count": 18,
     "metadata": {},
     "output_type": "execute_result"
    }
   ],
   "source": [
    "# your code here\n",
    "resp = requests.get('https://api.github.com/search/code?q=filename:.scavengerhunt+in:path+repo:ironhack-datalabs/scavenger')\n",
    "resp"
   ]
  },
  {
   "cell_type": "code",
   "execution_count": 19,
   "metadata": {},
   "outputs": [
    {
     "name": "stdout",
     "output_type": "stream",
     "text": [
      "<class 'dict'>\n",
      "<class 'list'>\n",
      "<class 'dict'>\n",
      "[('.0023.scavengerhunt', '55417/.0023.scavengerhunt'), ('.0019.scavengerhunt', '70751/.0019.scavengerhunt'), ('.0002.scavengerhunt', '88596/.0002.scavengerhunt'), ('.0011.scavengerhunt', '50896/.0011.scavengerhunt'), ('.0006.scavengerhunt', '15024/.0006.scavengerhunt'), ('.0014.scavengerhunt', '49418/.0014.scavengerhunt'), ('.0012.scavengerhunt', '15534/.0012.scavengerhunt'), ('.0001.scavengerhunt', '98750/.0001.scavengerhunt'), ('.0018.scavengerhunt', '45525/.0018.scavengerhunt'), ('.0013.scavengerhunt', '89338/.0013.scavengerhunt'), ('.0005.scavengerhunt', '44639/.0005.scavengerhunt'), ('.0020.scavengerhunt', '55685/.0020.scavengerhunt'), ('.0024.scavengerhunt', '47222/.0024.scavengerhunt'), ('.0015.scavengerhunt', '91701/.0015.scavengerhunt'), ('.0007.scavengerhunt', '17020/.0007.scavengerhunt'), ('.0003.scavengerhunt', '60224/.0003.scavengerhunt'), ('.0022.scavengerhunt', '40303/.0022.scavengerhunt'), ('.0010.scavengerhunt', '47830/.0010.scavengerhunt'), ('.0004.scavengerhunt', '68848/.0004.scavengerhunt'), ('.0017.scavengerhunt', '70985/.0017.scavengerhunt'), ('.0008.scavengerhunt', '15534/.0008.scavengerhunt'), ('.0016.scavengerhunt', '47222/.0016.scavengerhunt'), ('.0009.scavengerhunt', '97881/.0009.scavengerhunt'), ('.0021.scavengerhunt', '30351/.0021.scavengerhunt')]\n"
     ]
    }
   ],
   "source": [
    "result_files = resp.json()\n",
    "print(type(result_files))\n",
    "print(type(result_files['items']))\n",
    "print(type(result_files['items'][0]))\n",
    "namelist = [(dict['name'], dict['path']) for dict in result_files['items']]\n",
    "print(namelist)"
   ]
  },
  {
   "cell_type": "markdown",
   "metadata": {},
   "source": [
    "#### 2.  Sort the filenames ascendingly."
   ]
  },
  {
   "cell_type": "code",
   "execution_count": 20,
   "metadata": {},
   "outputs": [
    {
     "data": {
      "text/plain": [
       "[('.0001.scavengerhunt', '98750/.0001.scavengerhunt'),\n",
       " ('.0002.scavengerhunt', '88596/.0002.scavengerhunt'),\n",
       " ('.0003.scavengerhunt', '60224/.0003.scavengerhunt'),\n",
       " ('.0004.scavengerhunt', '68848/.0004.scavengerhunt'),\n",
       " ('.0005.scavengerhunt', '44639/.0005.scavengerhunt'),\n",
       " ('.0006.scavengerhunt', '15024/.0006.scavengerhunt'),\n",
       " ('.0007.scavengerhunt', '17020/.0007.scavengerhunt'),\n",
       " ('.0008.scavengerhunt', '15534/.0008.scavengerhunt'),\n",
       " ('.0009.scavengerhunt', '97881/.0009.scavengerhunt'),\n",
       " ('.0010.scavengerhunt', '47830/.0010.scavengerhunt'),\n",
       " ('.0011.scavengerhunt', '50896/.0011.scavengerhunt'),\n",
       " ('.0012.scavengerhunt', '15534/.0012.scavengerhunt'),\n",
       " ('.0013.scavengerhunt', '89338/.0013.scavengerhunt'),\n",
       " ('.0014.scavengerhunt', '49418/.0014.scavengerhunt'),\n",
       " ('.0015.scavengerhunt', '91701/.0015.scavengerhunt'),\n",
       " ('.0016.scavengerhunt', '47222/.0016.scavengerhunt'),\n",
       " ('.0017.scavengerhunt', '70985/.0017.scavengerhunt'),\n",
       " ('.0018.scavengerhunt', '45525/.0018.scavengerhunt'),\n",
       " ('.0019.scavengerhunt', '70751/.0019.scavengerhunt'),\n",
       " ('.0020.scavengerhunt', '55685/.0020.scavengerhunt'),\n",
       " ('.0021.scavengerhunt', '30351/.0021.scavengerhunt'),\n",
       " ('.0022.scavengerhunt', '40303/.0022.scavengerhunt'),\n",
       " ('.0023.scavengerhunt', '55417/.0023.scavengerhunt'),\n",
       " ('.0024.scavengerhunt', '47222/.0024.scavengerhunt')]"
      ]
     },
     "execution_count": 20,
     "metadata": {},
     "output_type": "execute_result"
    }
   ],
   "source": [
    "# your code here\n",
    "sorted(namelist)"
   ]
  },
  {
   "cell_type": "markdown",
   "metadata": {},
   "source": [
    "#### 3. Read the content of each secret file into an array of strings.\n",
    "Since the response is encoded, you will need to send the following information in the header of your request:\n",
    "````python\n",
    "headers = {'Accept': 'application/vnd.github.v3.raw'}\n",
    "````"
   ]
  },
  {
   "cell_type": "code",
   "execution_count": 21,
   "metadata": {},
   "outputs": [
    {
     "name": "stdout",
     "output_type": "stream",
     "text": [
      "['In\\n', 'data\\n', 'science,\\n', '80\\n', 'percent\\n', 'of\\n', 'time\\n', 'spent\\n', 'is\\n', 'preparing\\n', 'data,\\n', '20\\n', 'percent\\n', 'of\\n', 'time\\n', 'is\\n', 'spent\\n', 'complaining\\n', 'about\\n', 'the\\n', 'need\\n', 'to\\n', 'prepare\\n', 'data.\\n']\n"
     ]
    }
   ],
   "source": [
    "# your code here\n",
    "content_list = []\n",
    "headers = {\"Accept\" : \"application/vnd.github.v3.raw\",'Authorization': f'token {github_token}'} \n",
    "\n",
    "for mytuple in sorted(namelist):\n",
    "    url = f'https://api.github.com/repos/ironhack-datalabs/scavenger/contents/{mytuple[1]}'\n",
    "    response = requests.get(url, headers=headers);\n",
    "    content_list.append(response.text);\n",
    "print(content_list)\n"
   ]
  },
  {
   "cell_type": "markdown",
   "metadata": {},
   "source": [
    "#### 4. Concatenate the strings in the array separating each two with a whitespace."
   ]
  },
  {
   "cell_type": "code",
   "execution_count": 22,
   "metadata": {},
   "outputs": [],
   "source": [
    "# your code here\n",
    "joke = ' '.join([text.strip('\\n') for text in content_list])"
   ]
  },
  {
   "cell_type": "markdown",
   "metadata": {},
   "source": [
    "#### 5. Print out the joke."
   ]
  },
  {
   "cell_type": "code",
   "execution_count": 23,
   "metadata": {},
   "outputs": [
    {
     "name": "stdout",
     "output_type": "stream",
     "text": [
      "In data science, 80 percent of time spent is preparing data, 20 percent of time is spent complaining about the need to prepare data.\n"
     ]
    }
   ],
   "source": [
    "# your code here\n",
    "print(joke)"
   ]
  },
  {
   "cell_type": "code",
   "execution_count": null,
   "metadata": {},
   "outputs": [],
   "source": []
  }
 ],
 "metadata": {
  "kernelspec": {
   "display_name": "Python 3",
   "language": "python",
   "name": "python3"
  },
  "language_info": {
   "codemirror_mode": {
    "name": "ipython",
    "version": 3
   },
   "file_extension": ".py",
   "mimetype": "text/x-python",
   "name": "python",
   "nbconvert_exporter": "python",
   "pygments_lexer": "ipython3",
   "version": "3.8.5"
  }
 },
 "nbformat": 4,
 "nbformat_minor": 4
}
