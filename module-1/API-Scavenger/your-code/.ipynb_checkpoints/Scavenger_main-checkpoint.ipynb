{
 "cells": [
  {
   "cell_type": "markdown",
   "metadata": {},
   "source": [
    "# API Scavenger Game\n",
    "\n",
    "## Challenge 1: Fork Languages\n",
    "\n",
    "You will find out how many programming languages are used among all the forks created from the main lab repo of your bootcamp."
   ]
  },
  {
   "cell_type": "code",
   "execution_count": 13,
   "metadata": {},
   "outputs": [],
   "source": [
    "# import libraries here\n",
    "import pandas as pd\n",
    "import requests\n",
    "import json\n",
    "from github import Github\n"
   ]
  },
  {
   "cell_type": "markdown",
   "metadata": {},
   "source": [
    "Assuming the main lab repo is ironhack-datalabs/madrid-oct-2018, you will:\n",
    "\n",
    "#### 1. Obtain the full list of forks created from the main lab repo via Github API."
   ]
  },
  {
   "cell_type": "markdown",
   "metadata": {},
   "source": [
    "To list forks, we can use the GET method. As explained in the GitHub API documentation, we need to make the request to: GET /repos/:owner/:repo/forks."
   ]
  },
  {
   "cell_type": "code",
   "execution_count": 14,
   "metadata": {},
   "outputs": [
    {
     "ename": "FileNotFoundError",
     "evalue": "[Errno 2] No such file or directory: '../StackAPI/samedi_github/github_token.txt'",
     "output_type": "error",
     "traceback": [
      "\u001b[1;31m---------------------------------------------------------------------------\u001b[0m",
      "\u001b[1;31mFileNotFoundError\u001b[0m                         Traceback (most recent call last)",
      "\u001b[1;32m<ipython-input-14-511a2e9a41a8>\u001b[0m in \u001b[0;36m<module>\u001b[1;34m\u001b[0m\n\u001b[0;32m      1\u001b[0m \u001b[1;31m# your code here\u001b[0m\u001b[1;33m\u001b[0m\u001b[1;33m\u001b[0m\u001b[1;33m\u001b[0m\u001b[0m\n\u001b[1;32m----> 2\u001b[1;33m \u001b[0mf\u001b[0m \u001b[1;33m=\u001b[0m \u001b[0mopen\u001b[0m\u001b[1;33m(\u001b[0m\u001b[1;34m'../StackAPI/samedi_github/github_token.txt'\u001b[0m\u001b[1;33m,\u001b[0m \u001b[1;34m'r'\u001b[0m\u001b[1;33m)\u001b[0m\u001b[1;33m\u001b[0m\u001b[1;33m\u001b[0m\u001b[0m\n\u001b[0m\u001b[0;32m      3\u001b[0m \u001b[0mgithub_token\u001b[0m \u001b[1;33m=\u001b[0m \u001b[0mf\u001b[0m\u001b[1;33m.\u001b[0m\u001b[0mread\u001b[0m\u001b[1;33m(\u001b[0m\u001b[1;33m)\u001b[0m\u001b[1;33m\u001b[0m\u001b[1;33m\u001b[0m\u001b[0m\n\u001b[0;32m      4\u001b[0m \u001b[0mf\u001b[0m\u001b[1;33m.\u001b[0m\u001b[0mclose\u001b[0m\u001b[1;33m(\u001b[0m\u001b[1;33m)\u001b[0m\u001b[1;33m\u001b[0m\u001b[1;33m\u001b[0m\u001b[0m\n\u001b[0;32m      5\u001b[0m \u001b[0mg\u001b[0m \u001b[1;33m=\u001b[0m \u001b[0mGithub\u001b[0m\u001b[1;33m(\u001b[0m\u001b[0mgithub_token\u001b[0m\u001b[1;33m)\u001b[0m\u001b[1;33m\u001b[0m\u001b[1;33m\u001b[0m\u001b[0m\n",
      "\u001b[1;31mFileNotFoundError\u001b[0m: [Errno 2] No such file or directory: '../StackAPI/samedi_github/github_token.txt'"
     ]
    }
   ],
   "source": [
    "# your code here\n",
    "f = open('../StackAPI/samedi_github/github_token.txt', 'r')\n",
    "github_token = f.read()\n",
    "f.close()\n",
    "g = Github(github_token)\n",
    "repo = g.get_repo(\"ironhack-datalabs/mad-oct-2018\")\n"
   ]
  },
  {
   "cell_type": "code",
   "execution_count": 5,
   "metadata": {},
   "outputs": [
    {
     "data": {
      "text/plain": [
       "<Response [200]>"
      ]
     },
     "execution_count": 5,
     "metadata": {},
     "output_type": "execute_result"
    }
   ],
   "source": [
    "response = requests.get('https://api.github.com/repos/ironhack-datalabs/madrid-oct-2018/forks')\n",
    "response"
   ]
  },
  {
   "cell_type": "code",
   "execution_count": 7,
   "metadata": {},
   "outputs": [
    {
     "data": {
      "text/plain": [
       "{'id': 335309218,\n",
       " 'node_id': 'MDEwOlJlcG9zaXRvcnkzMzUzMDkyMTg=',\n",
       " 'name': 'mad-oct-2018',\n",
       " 'full_name': 'Forastierii/mad-oct-2018',\n",
       " 'private': False,\n",
       " 'owner': {'login': 'Forastierii',\n",
       "  'id': 67510604,\n",
       "  'node_id': 'MDQ6VXNlcjY3NTEwNjA0',\n",
       "  'avatar_url': 'https://avatars.githubusercontent.com/u/67510604?v=4',\n",
       "  'gravatar_id': '',\n",
       "  'url': 'https://api.github.com/users/Forastierii',\n",
       "  'html_url': 'https://github.com/Forastierii',\n",
       "  'followers_url': 'https://api.github.com/users/Forastierii/followers',\n",
       "  'following_url': 'https://api.github.com/users/Forastierii/following{/other_user}',\n",
       "  'gists_url': 'https://api.github.com/users/Forastierii/gists{/gist_id}',\n",
       "  'starred_url': 'https://api.github.com/users/Forastierii/starred{/owner}{/repo}',\n",
       "  'subscriptions_url': 'https://api.github.com/users/Forastierii/subscriptions',\n",
       "  'organizations_url': 'https://api.github.com/users/Forastierii/orgs',\n",
       "  'repos_url': 'https://api.github.com/users/Forastierii/repos',\n",
       "  'events_url': 'https://api.github.com/users/Forastierii/events{/privacy}',\n",
       "  'received_events_url': 'https://api.github.com/users/Forastierii/received_events',\n",
       "  'type': 'User',\n",
       "  'site_admin': False},\n",
       " 'html_url': 'https://github.com/Forastierii/mad-oct-2018',\n",
       " 'description': 'Student labs for Ironhack data analytics bootcamp',\n",
       " 'fork': True,\n",
       " 'url': 'https://api.github.com/repos/Forastierii/mad-oct-2018',\n",
       " 'forks_url': 'https://api.github.com/repos/Forastierii/mad-oct-2018/forks',\n",
       " 'keys_url': 'https://api.github.com/repos/Forastierii/mad-oct-2018/keys{/key_id}',\n",
       " 'collaborators_url': 'https://api.github.com/repos/Forastierii/mad-oct-2018/collaborators{/collaborator}',\n",
       " 'teams_url': 'https://api.github.com/repos/Forastierii/mad-oct-2018/teams',\n",
       " 'hooks_url': 'https://api.github.com/repos/Forastierii/mad-oct-2018/hooks',\n",
       " 'issue_events_url': 'https://api.github.com/repos/Forastierii/mad-oct-2018/issues/events{/number}',\n",
       " 'events_url': 'https://api.github.com/repos/Forastierii/mad-oct-2018/events',\n",
       " 'assignees_url': 'https://api.github.com/repos/Forastierii/mad-oct-2018/assignees{/user}',\n",
       " 'branches_url': 'https://api.github.com/repos/Forastierii/mad-oct-2018/branches{/branch}',\n",
       " 'tags_url': 'https://api.github.com/repos/Forastierii/mad-oct-2018/tags',\n",
       " 'blobs_url': 'https://api.github.com/repos/Forastierii/mad-oct-2018/git/blobs{/sha}',\n",
       " 'git_tags_url': 'https://api.github.com/repos/Forastierii/mad-oct-2018/git/tags{/sha}',\n",
       " 'git_refs_url': 'https://api.github.com/repos/Forastierii/mad-oct-2018/git/refs{/sha}',\n",
       " 'trees_url': 'https://api.github.com/repos/Forastierii/mad-oct-2018/git/trees{/sha}',\n",
       " 'statuses_url': 'https://api.github.com/repos/Forastierii/mad-oct-2018/statuses/{sha}',\n",
       " 'languages_url': 'https://api.github.com/repos/Forastierii/mad-oct-2018/languages',\n",
       " 'stargazers_url': 'https://api.github.com/repos/Forastierii/mad-oct-2018/stargazers',\n",
       " 'contributors_url': 'https://api.github.com/repos/Forastierii/mad-oct-2018/contributors',\n",
       " 'subscribers_url': 'https://api.github.com/repos/Forastierii/mad-oct-2018/subscribers',\n",
       " 'subscription_url': 'https://api.github.com/repos/Forastierii/mad-oct-2018/subscription',\n",
       " 'commits_url': 'https://api.github.com/repos/Forastierii/mad-oct-2018/commits{/sha}',\n",
       " 'git_commits_url': 'https://api.github.com/repos/Forastierii/mad-oct-2018/git/commits{/sha}',\n",
       " 'comments_url': 'https://api.github.com/repos/Forastierii/mad-oct-2018/comments{/number}',\n",
       " 'issue_comment_url': 'https://api.github.com/repos/Forastierii/mad-oct-2018/issues/comments{/number}',\n",
       " 'contents_url': 'https://api.github.com/repos/Forastierii/mad-oct-2018/contents/{+path}',\n",
       " 'compare_url': 'https://api.github.com/repos/Forastierii/mad-oct-2018/compare/{base}...{head}',\n",
       " 'merges_url': 'https://api.github.com/repos/Forastierii/mad-oct-2018/merges',\n",
       " 'archive_url': 'https://api.github.com/repos/Forastierii/mad-oct-2018/{archive_format}{/ref}',\n",
       " 'downloads_url': 'https://api.github.com/repos/Forastierii/mad-oct-2018/downloads',\n",
       " 'issues_url': 'https://api.github.com/repos/Forastierii/mad-oct-2018/issues{/number}',\n",
       " 'pulls_url': 'https://api.github.com/repos/Forastierii/mad-oct-2018/pulls{/number}',\n",
       " 'milestones_url': 'https://api.github.com/repos/Forastierii/mad-oct-2018/milestones{/number}',\n",
       " 'notifications_url': 'https://api.github.com/repos/Forastierii/mad-oct-2018/notifications{?since,all,participating}',\n",
       " 'labels_url': 'https://api.github.com/repos/Forastierii/mad-oct-2018/labels{/name}',\n",
       " 'releases_url': 'https://api.github.com/repos/Forastierii/mad-oct-2018/releases{/id}',\n",
       " 'deployments_url': 'https://api.github.com/repos/Forastierii/mad-oct-2018/deployments',\n",
       " 'created_at': '2021-02-02T14:07:17Z',\n",
       " 'updated_at': '2021-02-02T14:07:19Z',\n",
       " 'pushed_at': '2019-08-19T11:16:55Z',\n",
       " 'git_url': 'git://github.com/Forastierii/mad-oct-2018.git',\n",
       " 'ssh_url': 'git@github.com:Forastierii/mad-oct-2018.git',\n",
       " 'clone_url': 'https://github.com/Forastierii/mad-oct-2018.git',\n",
       " 'svn_url': 'https://github.com/Forastierii/mad-oct-2018',\n",
       " 'homepage': '',\n",
       " 'size': 116995,\n",
       " 'stargazers_count': 0,\n",
       " 'watchers_count': 0,\n",
       " 'language': None,\n",
       " 'has_issues': False,\n",
       " 'has_projects': True,\n",
       " 'has_downloads': True,\n",
       " 'has_wiki': True,\n",
       " 'has_pages': False,\n",
       " 'forks_count': 0,\n",
       " 'mirror_url': None,\n",
       " 'archived': False,\n",
       " 'disabled': False,\n",
       " 'open_issues_count': 0,\n",
       " 'license': {'key': 'unlicense',\n",
       "  'name': 'The Unlicense',\n",
       "  'spdx_id': 'Unlicense',\n",
       "  'url': 'https://api.github.com/licenses/unlicense',\n",
       "  'node_id': 'MDc6TGljZW5zZTE1'},\n",
       " 'forks': 0,\n",
       " 'open_issues': 0,\n",
       " 'watchers': 0,\n",
       " 'default_branch': 'master'}"
      ]
     },
     "execution_count": 7,
     "metadata": {},
     "output_type": "execute_result"
    }
   ],
   "source": [
    "forks=response.json()\n",
    "forks[]"
   ]
  },
  {
   "cell_type": "markdown",
   "metadata": {},
   "source": [
    "#### 2. Loop the JSON response to find out the language attribute of each fork. Use an array to store the language attributes of each fork.\n",
    "Hint: Each language should appear only once in your array.\n",
    "Print the language array. It should be something like: [\"Python\", \"Jupyter Notebook\", \"HTML\"]"
   ]
  },
  {
   "cell_type": "code",
   "execution_count": null,
   "metadata": {},
   "outputs": [],
   "source": [
    "# your code here\n",
    "language_array = [language for language in response.json()]"
   ]
  },
  {
   "cell_type": "markdown",
   "metadata": {},
   "source": [
    "## Challenge 2: Count Commits\n",
    "Count how many commits were made in the month of october of 2018.\n",
    "#### 1. Obtain all the commits made in October 2018 via API, which is a JSON array that contains multiple commit objects."
   ]
  },
  {
   "cell_type": "code",
   "execution_count": null,
   "metadata": {},
   "outputs": [],
   "source": [
    "# your code here"
   ]
  },
  {
   "cell_type": "markdown",
   "metadata": {},
   "source": [
    "#### 2. Count how many commit objects are contained in the array."
   ]
  },
  {
   "cell_type": "code",
   "execution_count": null,
   "metadata": {},
   "outputs": [],
   "source": [
    "# your code here\n",
    "owner = 'ironhack-datalabs'\n",
    "repo = 'mad-oct-2018'\n",
    "\n",
    "i = 0\n",
    "\n",
    "df_list = []\n",
    "\n",
    "while True:\n",
    "    commits = requests.get(f'https://api.github.com/repos/%7Bowner%7D/%7Brepo%7D/commits?since=2018-01-01T0:0:0Z&until=2018-12-31T0:0:0Z&page=%7Bi%7D', \n",
    "                        headers={'Accept': 'application/vnd.github.v3+json'},\n",
    "                      )\n",
    "\n",
    "    results_commits = commits.json()\n",
    "\n",
    "    df_list.append(json_normalize(results_commits))\n",
    "\n",
    "    i += 1\n",
    "    if len(results_commits) < 30:\n",
    "         break\n",
    "\n",
    "data2 = pd.concat(df_list, axis = 0)\n",
    "\n",
    "print(len(data2))"
   ]
  },
  {
   "cell_type": "markdown",
   "metadata": {},
   "source": [
    "## Challenge 3: Hidden Cold Joke\n",
    "\n",
    "Using Python, call Github API to find out the cold joke contained in the 24 secret files in the following repo:\n",
    "\n",
    "https://github.com/ironhack-datalabs/scavenger\n",
    "\n",
    "The filenames of the secret files contain .scavengerhunt and they are scattered in different directories of this repo. The secret files are named from .0001.scavengerhunt to .0024.scavengerhunt. They are scattered randomly throughout this repo. You need to search for these files by calling the Github API, not searching the local files on your computer.\n",
    "\n",
    "#### 1. Find the secret files."
   ]
  },
  {
   "cell_type": "code",
   "execution_count": null,
   "metadata": {},
   "outputs": [],
   "source": [
    "# your code here"
   ]
  },
  {
   "cell_type": "markdown",
   "metadata": {},
   "source": [
    "#### 2.  Sort the filenames ascendingly."
   ]
  },
  {
   "cell_type": "code",
   "execution_count": null,
   "metadata": {},
   "outputs": [],
   "source": [
    "# your code here"
   ]
  },
  {
   "cell_type": "markdown",
   "metadata": {},
   "source": [
    "#### 3. Read the content of each secret files into an array of strings.\n",
    "Since the response is encoded, you will need to send the following information in the header of your request:\n",
    "````python\n",
    "headers = {'Accept': 'application/vnd.github.v3.raw'}\n",
    "````"
   ]
  },
  {
   "cell_type": "code",
   "execution_count": null,
   "metadata": {},
   "outputs": [],
   "source": [
    "# your code here"
   ]
  },
  {
   "cell_type": "markdown",
   "metadata": {},
   "source": [
    "#### 4. Concatenate the strings in the array separating each two with a whitespace."
   ]
  },
  {
   "cell_type": "code",
   "execution_count": null,
   "metadata": {},
   "outputs": [],
   "source": [
    "# your code here"
   ]
  },
  {
   "cell_type": "markdown",
   "metadata": {},
   "source": [
    "#### 5. Print out the joke."
   ]
  },
  {
   "cell_type": "code",
   "execution_count": null,
   "metadata": {},
   "outputs": [],
   "source": [
    "# your code here"
   ]
  }
 ],
 "metadata": {
  "kernelspec": {
   "display_name": "Python 3",
   "language": "python",
   "name": "python3"
  },
  "language_info": {
   "codemirror_mode": {
    "name": "ipython",
    "version": 3
   },
   "file_extension": ".py",
   "mimetype": "text/x-python",
   "name": "python",
   "nbconvert_exporter": "python",
   "pygments_lexer": "ipython3",
   "version": "3.8.5"
  }
 },
 "nbformat": 4,
 "nbformat_minor": 4
}
