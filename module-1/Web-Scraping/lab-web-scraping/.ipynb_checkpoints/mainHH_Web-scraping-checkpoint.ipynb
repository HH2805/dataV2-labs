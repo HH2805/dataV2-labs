{
 "cells": [
  {
   "cell_type": "markdown",
   "metadata": {},
   "source": [
    "# Web Scraping Lab\n",
    "\n",
    "You will find in this notebook some scrapy exercises to practise your scraping skills.\n",
    "\n",
    "**Tips:**\n",
    "\n",
    "- Check the response status code for each request to ensure you have obtained the intended content.\n",
    "- Print the response text in each request to understand the kind of info you are getting and its format.\n",
    "- Check for patterns in the response text to extract the data/info requested in each question.\n",
    "- Visit the urls below and take a look at their source code through Chrome DevTools. You'll need to identify the html tags, special class names, etc used in the html content you are expected to extract.\n",
    "\n",
    "**Resources**:\n",
    "- [Requests library](http://docs.python-requests.org/en/master/#the-user-guide)\n",
    "- [Beautiful Soup Doc](https://www.crummy.com/software/BeautifulSoup/bs4/doc/)\n",
    "- [Urllib](https://docs.python.org/3/library/urllib.html#module-urllib)\n",
    "- [re lib](https://docs.python.org/3/library/re.html)\n",
    "- [lxml lib](https://lxml.de/)\n",
    "- [Scrapy](https://scrapy.org/)\n",
    "- [List of HTTP status codes](https://en.wikipedia.org/wiki/List_of_HTTP_status_codes)\n",
    "- [HTML basics](http://www.simplehtmlguide.com/cheatsheet.php)\n",
    "- [CSS basics](https://www.cssbasics.com/#page_start)"
   ]
  },
  {
   "cell_type": "markdown",
   "metadata": {},
   "source": [
    "#### Below are the libraries and modules you may need. `requests`,  `BeautifulSoup` and `pandas` are already imported for you. If you prefer to use additional libraries feel free to do it."
   ]
  },
  {
   "cell_type": "code",
   "execution_count": 2,
   "metadata": {},
   "outputs": [],
   "source": [
    "import requests\n",
    "from bs4 import BeautifulSoup\n",
    "import pandas as pd"
   ]
  },
  {
   "cell_type": "markdown",
   "metadata": {},
   "source": [
    "#### Download, parse (using BeautifulSoup), and print the content from the Trending Developers page from GitHub:"
   ]
  },
  {
   "cell_type": "code",
   "execution_count": 2,
   "metadata": {},
   "outputs": [
    {
     "data": {
      "text/plain": [
       "<Response [200]>"
      ]
     },
     "execution_count": 2,
     "metadata": {},
     "output_type": "execute_result"
    }
   ],
   "source": [
    "# This is the url you will scrape in this exercise\n",
    "url_dvp = 'https://github.com/trending/developers'\n",
    "# your code here\n",
    "page = requests.get(url_dvp)\n",
    "page"
   ]
  },
  {
   "cell_type": "code",
   "execution_count": 3,
   "metadata": {},
   "outputs": [
    {
     "name": "stdout",
     "output_type": "stream",
     "text": [
      "<class 'bs4.BeautifulSoup'>\n",
      "3\n"
     ]
    }
   ],
   "source": [
    "soup = BeautifulSoup(page.content, \"lxml\")\n",
    "print(type(soup))\n",
    "print(len(soup))"
   ]
  },
  {
   "cell_type": "markdown",
   "metadata": {},
   "source": [
    "#### Display the names of the trending developers retrieved in the previous step.\n",
    "\n",
    "Your output should be a Python list of developer names. Each name should not contain any html tag.\n",
    "\n",
    "**Instructions:**\n",
    "\n",
    "1. Find out the html tag and class names used for the developer names. You can achieve this using Chrome DevTools.\n",
    "\n",
    "1. Use BeautifulSoup to extract all the html elements that contain the developer names.\n",
    "\n",
    "1. Use string manipulation techniques to replace whitespaces and linebreaks (i.e. `\\n`) in the *text* of each html element. Use a list to store the clean names.\n",
    "\n",
    "1. Print the list of names.\n",
    "\n",
    "Your output should look like below:\n",
    "\n",
    "```\n",
    "['trimstray (@trimstray)',\n",
    " 'joewalnes (JoeWalnes)',\n",
    " 'charlax (Charles-AxelDein)',\n",
    " 'ForrestKnight (ForrestKnight)',\n",
    " 'revery-ui (revery-ui)',\n",
    " 'alibaba (Alibaba)',\n",
    " 'Microsoft (Microsoft)',\n",
    " 'github (GitHub)',\n",
    " 'facebook (Facebook)',\n",
    " 'boazsegev (Bo)',\n",
    " 'google (Google)',\n",
    " 'cloudfetch',\n",
    " 'sindresorhus (SindreSorhus)',\n",
    " 'tensorflow',\n",
    " 'apache (TheApacheSoftwareFoundation)',\n",
    " 'DevonCrawford (DevonCrawford)',\n",
    " 'ARMmbed (ArmMbed)',\n",
    " 'vuejs (vuejs)',\n",
    " 'fastai (fast.ai)',\n",
    " 'QiShaoXuan (Qi)',\n",
    " 'joelparkerhenderson (JoelParkerHenderson)',\n",
    " 'torvalds (LinusTorvalds)',\n",
    " 'CyC2018',\n",
    " 'komeiji-satori (神楽坂覚々)',\n",
    " 'script-8']\n",
    " ```"
   ]
  },
  {
   "cell_type": "code",
   "execution_count": 4,
   "metadata": {},
   "outputs": [
    {
     "name": "stdout",
     "output_type": "stream",
     "text": [
      "<class 'bs4.element.ResultSet'>\n",
      "25\n",
      "<h1 class=\"h3 lh-condensed\">\n",
      "<a data-hydro-click='{\"event_type\":\"explore.click\",\"payload\":{\"click_context\":\"TRENDING_DEVELOPERS_PAGE\",\"click_target\":\"OWNER\",\"click_visual_representation\":\"TRENDING_DEVELOPER\",\"actor_id\":null,\"record_id\":11247099,\"originating_url\":\"https://github.com/trending/developers\",\"user_id\":null}}' data-hydro-click-hmac=\"ef1ca5fa12eb07591ada00a49d20f71122be37479f6c8f5ebc682e338e46fdde\" href=\"/antfu\">\n",
      "            Anthony Fu\n",
      "</a> </h1>\n"
     ]
    }
   ],
   "source": [
    "soup_names = soup.find_all('h1', {'class' : 'h3 lh-condensed'})\n",
    "print(type(soup_names))\n",
    "print(len(soup_names))\n",
    "print(soup_names[0])"
   ]
  },
  {
   "cell_type": "code",
   "execution_count": 5,
   "metadata": {},
   "outputs": [
    {
     "name": "stdout",
     "output_type": "stream",
     "text": [
      "['\\n\\n            Anthony Fu\\n ', '\\n\\n            Franck Nijhof\\n ', '\\n\\n            Stefano Gottardo\\n ', '\\n\\n            Tom Payne\\n ', '\\n\\n            Remi Rousselet\\n ', '\\n\\n            Ha Thach\\n ', '\\n\\n            Florimond Manca\\n ', '\\n\\n            Zihua Li\\n ', '\\n\\n            Adam Wathan\\n ', '\\n\\n            Dalton Hubble\\n ', '\\n\\n            Christian Muehlhaeuser\\n ', '\\n\\n            bdring\\n ', '\\n\\n            Arvid Norberg\\n ', '\\n\\n            Florian\\n ', '\\n\\n            Pedro S. Lopez\\n ', '\\n\\n            Daniel Lemire\\n ', '\\n\\n            Michael (Parker) Parker\\n ', '\\n\\n            Fons van der Plas\\n ', '\\n\\n            Kamil Kisiela\\n ', '\\n\\n            Antonio Nuno Monteiro\\n ', '\\n\\n            Hajime Hoshi\\n ', '\\n\\n            PySimpleGUI\\n ', '\\n\\n            Adam R\\n ', '\\n\\n            An Tao\\n ', '\\n\\n            Jonny Burger\\n ']\n"
     ]
    }
   ],
   "source": [
    "listofnames = [e.text for e in soup_names]\n",
    "print(listofnames)"
   ]
  },
  {
   "cell_type": "code",
   "execution_count": 6,
   "metadata": {},
   "outputs": [
    {
     "name": "stdout",
     "output_type": "stream",
     "text": [
      "['Anthony Fu', 'Franck Nijhof', 'Stefano Gottardo', 'Tom Payne', 'Remi Rousselet', 'Ha Thach', 'Florimond Manca', 'Zihua Li', 'Adam Wathan', 'Dalton Hubble', 'Christian Muehlhaeuser', 'bdring', 'Arvid Norberg', 'Florian', 'Pedro S. Lopez', 'Daniel Lemire', 'Michael (Parker) Parker', 'Fons van der Plas', 'Kamil Kisiela', 'Antonio Nuno Monteiro', 'Hajime Hoshi', 'PySimpleGUI', 'Adam R', 'An Tao', 'Jonny Burger']\n"
     ]
    }
   ],
   "source": [
    "listofnames = [e.text.strip('\\n ') for e in soup_names]\n",
    "print(listofnames)"
   ]
  },
  {
   "cell_type": "markdown",
   "metadata": {},
   "source": [
    "#### Display the trending Python repositories in GitHub.\n",
    "\n",
    "The steps to solve this problem is similar to the previous one except that you need to find out the repository names instead of developer names."
   ]
  },
  {
   "cell_type": "code",
   "execution_count": 7,
   "metadata": {},
   "outputs": [],
   "source": [
    "# This is the url you will scrape in this exercise\n",
    "url_repos = 'https://github.com/trending/python?since=daily'\n",
    "# your code here\n",
    "page = requests.get(url_repos)"
   ]
  },
  {
   "cell_type": "code",
   "execution_count": 8,
   "metadata": {},
   "outputs": [],
   "source": [
    "soup = BeautifulSoup(page.content, \"lxml\")"
   ]
  },
  {
   "cell_type": "code",
   "execution_count": 9,
   "metadata": {},
   "outputs": [
    {
     "data": {
      "text/plain": [
       "<h1 class=\"h3 lh-condensed\">\n",
       "<a data-hydro-click='{\"event_type\":\"explore.click\",\"payload\":{\"click_context\":\"TRENDING_REPOSITORIES_PAGE\",\"click_target\":\"REPOSITORY\",\"click_visual_representation\":\"REPOSITORY_NAME_HEADING\",\"actor_id\":null,\"record_id\":350557349,\"originating_url\":\"https://github.com/trending/python?since=daily\",\"user_id\":null}}' data-hydro-click-hmac=\"2c10082ca8f220b8cbe8a40844a81b0c5a80359b20beedb6828bbfe836fd4da7\" href=\"/davepl/Primes\">\n",
       "<svg aria-hidden=\"true\" class=\"octicon octicon-repo mr-1 color-text-secondary\" height=\"16\" version=\"1.1\" viewbox=\"0 0 16 16\" width=\"16\"><path d=\"M2 2.5A2.5 2.5 0 014.5 0h8.75a.75.75 0 01.75.75v12.5a.75.75 0 01-.75.75h-2.5a.75.75 0 110-1.5h1.75v-2h-8a1 1 0 00-.714 1.7.75.75 0 01-1.072 1.05A2.495 2.495 0 012 11.5v-9zm10.5-1V9h-8c-.356 0-.694.074-1 .208V2.5a1 1 0 011-1h8zM5 12.25v3.25a.25.25 0 00.4.2l1.45-1.087a.25.25 0 01.3 0L8.6 15.7a.25.25 0 00.4-.2v-3.25a.25.25 0 00-.25-.25h-3.5a.25.25 0 00-.25.25z\" fill-rule=\"evenodd\"></path></svg>\n",
       "<span class=\"text-normal\">\n",
       "        davepl /\n",
       "</span>\n",
       "      Primes\n",
       "</a> </h1>"
      ]
     },
     "execution_count": 9,
     "metadata": {},
     "output_type": "execute_result"
    }
   ],
   "source": [
    "soup_repos = soup.find_all('h1', {'class' : 'h3 lh-condensed'})\n",
    "soup_repos[0]"
   ]
  },
  {
   "cell_type": "code",
   "execution_count": 10,
   "metadata": {},
   "outputs": [
    {
     "data": {
      "text/plain": [
       "['\\n\\n\\n\\n        davepl /\\n\\n      Primes\\n ',\n",
       " '\\n\\n\\n\\n        home-assistant /\\n\\n      core\\n ',\n",
       " '\\n\\n\\n\\n        Chia-Network /\\n\\n      chia-blockchain\\n ',\n",
       " '\\n\\n\\n\\n        willmcgugan /\\n\\n      rich\\n ',\n",
       " '\\n\\n\\n\\n        Rapptz /\\n\\n      discord.py\\n ',\n",
       " '\\n\\n\\n\\n        archlinux /\\n\\n      archinstall\\n ',\n",
       " '\\n\\n\\n\\n        ytdl-org /\\n\\n      youtube-dl\\n ',\n",
       " '\\n\\n\\n\\n        donnemartin /\\n\\n      system-design-primer\\n ',\n",
       " '\\n\\n\\n\\n        bguerbas /\\n\\n      SpeedTest\\n ',\n",
       " '\\n\\n\\n\\n        python /\\n\\n      cpython\\n ',\n",
       " '\\n\\n\\n\\n        networkx /\\n\\n      networkx\\n ',\n",
       " '\\n\\n\\n\\n        owid /\\n\\n      covid-19-data\\n ',\n",
       " '\\n\\n\\n\\n        wang0618 /\\n\\n      PyWebIO\\n ',\n",
       " '\\n\\n\\n\\n        ndb796 /\\n\\n      python-for-coding-test\\n ',\n",
       " '\\n\\n\\n\\n        programthink /\\n\\n      zhao\\n ',\n",
       " '\\n\\n\\n\\n        scikit-learn /\\n\\n      scikit-learn\\n ',\n",
       " '\\n\\n\\n\\n        TheAlgorithms /\\n\\n      Python\\n ',\n",
       " '\\n\\n\\n\\n        python-telegram-bot /\\n\\n      python-telegram-bot\\n ',\n",
       " '\\n\\n\\n\\n        swisskyrepo /\\n\\n      PayloadsAllTheThings\\n ',\n",
       " '\\n\\n\\n\\n        sammchardy /\\n\\n      python-binance\\n ',\n",
       " '\\n\\n\\n\\n        vinta /\\n\\n      awesome-python\\n ',\n",
       " '\\n\\n\\n\\n        spyder-ide /\\n\\n      spyder\\n ',\n",
       " '\\n\\n\\n\\n        maurosoria /\\n\\n      dirsearch\\n ',\n",
       " '\\n\\n\\n\\n        ericaltendorf /\\n\\n      plotman\\n ',\n",
       " '\\n\\n\\n\\n        ManimCommunity /\\n\\n      manim\\n ']"
      ]
     },
     "execution_count": 10,
     "metadata": {},
     "output_type": "execute_result"
    }
   ],
   "source": [
    "listofrepos = [r.text for r in soup_repos]\n",
    "listofrepos"
   ]
  },
  {
   "cell_type": "code",
   "execution_count": 11,
   "metadata": {},
   "outputs": [
    {
     "data": {
      "text/plain": [
       "['davepl /      Primes',\n",
       " 'home-assistant /      core',\n",
       " 'Chia-Network /      chia-blockchain',\n",
       " 'willmcgugan /      rich',\n",
       " 'Rapptz /      discord.py',\n",
       " 'archlinux /      archinstall',\n",
       " 'ytdl-org /      youtube-dl',\n",
       " 'donnemartin /      system-design-primer',\n",
       " 'bguerbas /      SpeedTest',\n",
       " 'python /      cpython',\n",
       " 'networkx /      networkx',\n",
       " 'owid /      covid-19-data',\n",
       " 'wang0618 /      PyWebIO',\n",
       " 'ndb796 /      python-for-coding-test',\n",
       " 'programthink /      zhao',\n",
       " 'scikit-learn /      scikit-learn',\n",
       " 'TheAlgorithms /      Python',\n",
       " 'python-telegram-bot /      python-telegram-bot',\n",
       " 'swisskyrepo /      PayloadsAllTheThings',\n",
       " 'sammchardy /      python-binance',\n",
       " 'vinta /      awesome-python',\n",
       " 'spyder-ide /      spyder',\n",
       " 'maurosoria /      dirsearch',\n",
       " 'ericaltendorf /      plotman',\n",
       " 'ManimCommunity /      manim']"
      ]
     },
     "execution_count": 11,
     "metadata": {},
     "output_type": "execute_result"
    }
   ],
   "source": [
    "listofrepos = [''.join(r.text.strip('/ \\n').split('\\n')) for r in soup_repos]\n",
    "listofrepos"
   ]
  },
  {
   "cell_type": "markdown",
   "metadata": {},
   "source": [
    "#### Display all the image filenames from Walt Disney wikipedia page."
   ]
  },
  {
   "cell_type": "code",
   "execution_count": 12,
   "metadata": {},
   "outputs": [
    {
     "data": {
      "text/plain": [
       "<a class=\"image\" href=\"/wiki/File:Flag_of_the_United_States.svg\"><img alt=\"Flag of the United States.svg\" data-file-height=\"650\" data-file-width=\"1235\" decoding=\"async\" height=\"16\" src=\"//upload.wikimedia.org/wikipedia/en/thumb/a/a4/Flag_of_the_United_States.svg/30px-Flag_of_the_United_States.svg.png\" srcset=\"//upload.wikimedia.org/wikipedia/en/thumb/a/a4/Flag_of_the_United_States.svg/45px-Flag_of_the_United_States.svg.png 1.5x, //upload.wikimedia.org/wikipedia/en/thumb/a/a4/Flag_of_the_United_States.svg/60px-Flag_of_the_United_States.svg.png 2x\" width=\"30\"/></a>"
      ]
     },
     "execution_count": 12,
     "metadata": {},
     "output_type": "execute_result"
    }
   ],
   "source": [
    "# This is the url you will scrape in this exercise\n",
    "url_wd = 'https://en.wikipedia.org/wiki/Walt_Disney'\n",
    "# your code here\n",
    "page = requests.get(url_wd)\n",
    "soup = BeautifulSoup(page.content, \"lxml\")\n",
    "soup_wd = soup.find_all('a', class_ ='image')\n",
    "soup_wd[23]"
   ]
  },
  {
   "cell_type": "code",
   "execution_count": 13,
   "metadata": {},
   "outputs": [
    {
     "data": {
      "text/plain": [
       "['/wiki/File:Walt_Disney_1946.JPG',\n",
       " '/wiki/File:Walt_Disney_1942_signature.svg',\n",
       " '/wiki/File:Walt_Disney_envelope_ca._1921.jpg',\n",
       " '/wiki/File:Trolley_Troubles_poster.jpg',\n",
       " '/wiki/File:Walt_Disney_and_his_cartoon_creation_%22Mickey_Mouse%22_-_National_Board_of_Review_Magazine.jpg',\n",
       " '/wiki/File:Steamboat-willie.jpg',\n",
       " '/wiki/File:Walt_Disney_1935.jpg',\n",
       " '/wiki/File:Walt_Disney_Snow_white_1937_trailer_screenshot_(13).jpg',\n",
       " '/wiki/File:Disney_drawing_goofy.jpg',\n",
       " '/wiki/File:DisneySchiphol1951.jpg',\n",
       " '/wiki/File:WaltDisneyplansDisneylandDec1954.jpg',\n",
       " '/wiki/File:Walt_disney_portrait_right.jpg',\n",
       " '/wiki/File:Walt_Disney_Grave.JPG',\n",
       " '/wiki/File:Roy_O._Disney_with_Company_at_Press_Conference.jpg',\n",
       " '/wiki/File:Disney_Display_Case.JPG',\n",
       " '/wiki/File:Disney1968.jpg',\n",
       " '/wiki/File:Disneyland_Resort_logo.svg',\n",
       " '/wiki/File:Animation_disc.svg',\n",
       " '/wiki/File:P_vip.svg',\n",
       " '/wiki/File:Magic_Kingdom_castle.jpg',\n",
       " '/wiki/File:Video-x-generic.svg',\n",
       " '/wiki/File:Flag_of_Los_Angeles_County,_California.svg',\n",
       " '/wiki/File:Blank_television_set.svg',\n",
       " '/wiki/File:Flag_of_the_United_States.svg']"
      ]
     },
     "execution_count": 13,
     "metadata": {},
     "output_type": "execute_result"
    }
   ],
   "source": [
    "filelst = [e['href'] for e in soup_wd]\n",
    "filelst"
   ]
  },
  {
   "cell_type": "code",
   "execution_count": 14,
   "metadata": {},
   "outputs": [
    {
     "data": {
      "text/plain": [
       "['Walt_Disney_1946.JPG',\n",
       " 'Walt_Disney_1942_signature.svg',\n",
       " 'Walt_Disney_envelope_ca._1921.jpg',\n",
       " 'Trolley_Troubles_poster.jpg',\n",
       " 'Walt_Disney_and_his_cartoon_creation_%22Mickey_Mouse%22_-_National_Board_of_Review_Magazine.jpg',\n",
       " 'Steamboat-willie.jpg',\n",
       " 'Walt_Disney_1935.jpg',\n",
       " 'Walt_Disney_Snow_white_1937_trailer_screenshot_(13).jpg',\n",
       " 'Disney_drawing_goofy.jpg',\n",
       " 'DisneySchiphol1951.jpg',\n",
       " 'WaltDisneyplansDisneylandDec1954.jpg',\n",
       " 'Walt_disney_portrait_right.jpg',\n",
       " 'Walt_Disney_Grave.JPG',\n",
       " 'Roy_O._Disney_with_Company_at_Press_Conference.jpg',\n",
       " 'Disney_Display_Case.JPG',\n",
       " 'Disney1968.jpg',\n",
       " 'Disneyland_Resort_logo.svg',\n",
       " 'Animation_disc.svg',\n",
       " 'P_vip.svg',\n",
       " 'Magic_Kingdom_castle.jpg',\n",
       " 'Video-x-generic.svg',\n",
       " 'Flag_of_Los_Angeles_County,_California.svg',\n",
       " 'Blank_television_set.svg',\n",
       " 'Flag_of_the_United_States.svg']"
      ]
     },
     "execution_count": 14,
     "metadata": {},
     "output_type": "execute_result"
    }
   ],
   "source": [
    "filelst = [e['href'].split('wiki/File:')[1] for e in soup_wd]\n",
    "filelst"
   ]
  },
  {
   "cell_type": "markdown",
   "metadata": {},
   "source": [
    "#### Retrieve the Wikipedia page of \"Python\" below and create a list of links on that page."
   ]
  },
  {
   "cell_type": "code",
   "execution_count": 15,
   "metadata": {},
   "outputs": [
    {
     "name": "stdout",
     "output_type": "stream",
     "text": [
      "<Response [200]>\n",
      "152\n"
     ]
    },
    {
     "data": {
      "text/plain": [
       "<a href=\"https://wikimediafoundation.org/\"><img alt=\"Wikimedia Foundation\" height=\"31\" loading=\"lazy\" src=\"/static/images/footer/wikimedia-button.png\" srcset=\"/static/images/footer/wikimedia-button-1.5x.png 1.5x, /static/images/footer/wikimedia-button-2x.png 2x\" width=\"88\"/></a>"
      ]
     },
     "execution_count": 15,
     "metadata": {},
     "output_type": "execute_result"
    }
   ],
   "source": [
    "# This is the url you will scrape in this exercise\n",
    "url ='https://en.wikipedia.org/wiki/Python'\n",
    "# your code here\n",
    "page = requests.get(url)\n",
    "print(page)\n",
    "soup = BeautifulSoup(page.content, \"html\")\n",
    "soup_links = soup.find_all('a')\n",
    "print(len(soup_links))\n",
    "soup_links[150]"
   ]
  },
  {
   "cell_type": "code",
   "execution_count": 16,
   "metadata": {},
   "outputs": [
    {
     "name": "stdout",
     "output_type": "stream",
     "text": [
      "59\n"
     ]
    },
    {
     "data": {
      "text/plain": [
       "['https://en.wiktionary.org/wiki/Python',\n",
       " 'https://en.wiktionary.org/wiki/python',\n",
       " 'https://en.wikipedia.org/w/index.php?title=Special:WhatLinksHere/Python&namespace=0',\n",
       " 'https://en.wikipedia.org/w/index.php?title=Python&oldid=997582414',\n",
       " 'https://donate.wikimedia.org/wiki/Special:FundraiserRedirector?utm_source=donate&utm_medium=sidebar&utm_campaign=C13_en.wikipedia.org&uselang=en',\n",
       " 'https://www.wikidata.org/wiki/Special:EntityPage/Q747452',\n",
       " 'https://commons.wikimedia.org/wiki/Category:Python',\n",
       " 'https://af.wikipedia.org/wiki/Python',\n",
       " 'https://als.wikipedia.org/wiki/Python',\n",
       " 'https://ar.wikipedia.org/wiki/%D8%A8%D8%A7%D9%8A%D8%AB%D9%88%D9%86_(%D8%AA%D9%88%D8%B6%D9%8A%D8%AD)',\n",
       " 'https://az.wikipedia.org/wiki/Python',\n",
       " 'https://bn.wikipedia.org/wiki/%E0%A6%AA%E0%A6%BE%E0%A6%87%E0%A6%A5%E0%A6%A8_(%E0%A6%A6%E0%A7%8D%E0%A6%AC%E0%A7%8D%E0%A6%AF%E0%A6%B0%E0%A7%8D%E0%A6%A5%E0%A6%A4%E0%A6%BE_%E0%A6%A8%E0%A6%BF%E0%A6%B0%E0%A6%B8%E0%A6%A8)',\n",
       " 'https://be.wikipedia.org/wiki/Python',\n",
       " 'https://bg.wikipedia.org/wiki/%D0%9F%D0%B8%D1%82%D0%BE%D0%BD_(%D0%BF%D0%BE%D1%8F%D1%81%D0%BD%D0%B5%D0%BD%D0%B8%D0%B5)',\n",
       " 'https://cs.wikipedia.org/wiki/Python_(rozcestn%C3%ADk)',\n",
       " 'https://da.wikipedia.org/wiki/Python',\n",
       " 'https://de.wikipedia.org/wiki/Python',\n",
       " 'https://eo.wikipedia.org/wiki/Pitono_(apartigilo)',\n",
       " 'https://eu.wikipedia.org/wiki/Python_(argipena)',\n",
       " 'https://fa.wikipedia.org/wiki/%D9%BE%D8%A7%DB%8C%D8%AA%D9%88%D9%86',\n",
       " 'https://fr.wikipedia.org/wiki/Python',\n",
       " 'https://ko.wikipedia.org/wiki/%ED%8C%8C%EC%9D%B4%EC%84%A0',\n",
       " 'https://hr.wikipedia.org/wiki/Python_(razdvojba)',\n",
       " 'https://io.wikipedia.org/wiki/Pitono',\n",
       " 'https://id.wikipedia.org/wiki/Python',\n",
       " 'https://ia.wikipedia.org/wiki/Python_(disambiguation)',\n",
       " 'https://is.wikipedia.org/wiki/Python_(a%C3%B0greining)',\n",
       " 'https://it.wikipedia.org/wiki/Python_(disambigua)',\n",
       " 'https://he.wikipedia.org/wiki/%D7%A4%D7%99%D7%AA%D7%95%D7%9F',\n",
       " 'https://ka.wikipedia.org/wiki/%E1%83%9E%E1%83%98%E1%83%97%E1%83%9D%E1%83%9C%E1%83%98_(%E1%83%9B%E1%83%A0%E1%83%90%E1%83%95%E1%83%90%E1%83%9A%E1%83%9B%E1%83%9C%E1%83%98%E1%83%A8%E1%83%95%E1%83%9C%E1%83%94%E1%83%9A%E1%83%9D%E1%83%95%E1%83%90%E1%83%9C%E1%83%98)',\n",
       " 'https://kg.wikipedia.org/wiki/Mboma_(nyoka)',\n",
       " 'https://la.wikipedia.org/wiki/Python_(discretiva)',\n",
       " 'https://lb.wikipedia.org/wiki/Python',\n",
       " 'https://hu.wikipedia.org/wiki/Python_(egy%C3%A9rtelm%C5%B1s%C3%ADt%C5%91_lap)',\n",
       " 'https://mr.wikipedia.org/wiki/%E0%A4%AA%E0%A4%BE%E0%A4%AF%E0%A4%A5%E0%A5%89%E0%A4%A8_(%E0%A4%86%E0%A4%9C%E0%A5%8D%E0%A4%9E%E0%A4%BE%E0%A4%B5%E0%A4%B2%E0%A5%80_%E0%A4%AD%E0%A4%BE%E0%A4%B7%E0%A4%BE)',\n",
       " 'https://nl.wikipedia.org/wiki/Python',\n",
       " 'https://ja.wikipedia.org/wiki/%E3%83%91%E3%82%A4%E3%82%BD%E3%83%B3',\n",
       " 'https://no.wikipedia.org/wiki/Pyton',\n",
       " 'https://pl.wikipedia.org/wiki/Pyton',\n",
       " 'https://pt.wikipedia.org/wiki/Python_(desambigua%C3%A7%C3%A3o)',\n",
       " 'https://ru.wikipedia.org/wiki/Python_(%D0%B7%D0%BD%D0%B0%D1%87%D0%B5%D0%BD%D0%B8%D1%8F)',\n",
       " 'https://sk.wikipedia.org/wiki/Python',\n",
       " 'https://sr.wikipedia.org/wiki/%D0%9F%D0%B8%D1%82%D0%BE%D0%BD_(%D0%B2%D0%B8%D1%88%D0%B5%D0%B7%D0%BD%D0%B0%D1%87%D0%BD%D0%B0_%D0%BE%D0%B4%D1%80%D0%B5%D0%B4%D0%BD%D0%B8%D1%86%D0%B0)',\n",
       " 'https://sh.wikipedia.org/wiki/Python',\n",
       " 'https://fi.wikipedia.org/wiki/Python',\n",
       " 'https://sv.wikipedia.org/wiki/Pyton',\n",
       " 'https://th.wikipedia.org/wiki/%E0%B9%84%E0%B8%9E%E0%B8%97%E0%B8%AD%E0%B8%99',\n",
       " 'https://tr.wikipedia.org/wiki/Python',\n",
       " 'https://uk.wikipedia.org/wiki/%D0%9F%D1%96%D1%84%D0%BE%D0%BD',\n",
       " 'https://ur.wikipedia.org/wiki/%D9%BE%D8%A7%D8%A6%DB%8C%D8%AA%DA%BE%D9%88%D9%86',\n",
       " 'https://vi.wikipedia.org/wiki/Python',\n",
       " 'https://zh.wikipedia.org/wiki/Python_(%E6%B6%88%E6%AD%A7%E4%B9%89)',\n",
       " 'https://www.wikidata.org/wiki/Special:EntityPage/Q747452#sitelinks-wikipedia',\n",
       " 'https://foundation.wikimedia.org/wiki/Privacy_policy',\n",
       " 'https://www.mediawiki.org/wiki/Special:MyLanguage/How_to_contribute',\n",
       " 'https://stats.wikimedia.org/#/en.wikipedia.org',\n",
       " 'https://foundation.wikimedia.org/wiki/Cookie_statement',\n",
       " 'https://wikimediafoundation.org/',\n",
       " 'https://www.mediawiki.org/']"
      ]
     },
     "execution_count": 16,
     "metadata": {},
     "output_type": "execute_result"
    }
   ],
   "source": [
    "list_links = [a['href'] for a in soup_links if 'href' in a.attrs if a['href'].startswith('ht')]\n",
    "print(len(list_links))\n",
    "list_links"
   ]
  },
  {
   "cell_type": "markdown",
   "metadata": {},
   "source": [
    "#### Number of Titles that have changed in the United States Code since its last release point "
   ]
  },
  {
   "cell_type": "code",
   "execution_count": 17,
   "metadata": {},
   "outputs": [
    {
     "name": "stdout",
     "output_type": "stream",
     "text": [
      "4\n"
     ]
    }
   ],
   "source": [
    "# This is the url you will scrape in this exercise\n",
    "url_usc = 'http://uscode.house.gov/download/download.shtml'\n",
    "#your code\n",
    "page = requests.get(url_usc)\n",
    "soup_usc = BeautifulSoup(page.content, 'html')\n",
    "\n",
    "updated = soup_usc.find_all('div', {'class':'usctitlechanged'})\n",
    "print(len(updated))"
   ]
  },
  {
   "cell_type": "markdown",
   "metadata": {},
   "source": [
    "#### A Python list with the top ten FBI's Most Wanted names \n",
    "\n",
    "Your output should look like below:\n",
    "```\n",
    "['ROBERT WILLIAM FISHER',\n",
    " 'BHADRESHKUMAR CHETANBHAI PATEL',\n",
    " 'ALEJANDRO ROSALES CASTILLO',\n",
    " 'ARNOLDO JIMENEZ',\n",
    " 'JASON DEREK BROWN',\n",
    " 'ALEXIS FLORES',\n",
    " 'EUGENE PALMER',\n",
    " 'RAFAEL CARO-QUINTERO',\n",
    " 'YASER ABDEL SAID',\n",
    " 'SANTIAGO VILLALBA MEDEROS']\n",
    "```"
   ]
  },
  {
   "cell_type": "code",
   "execution_count": 18,
   "metadata": {},
   "outputs": [
    {
     "data": {
      "text/plain": [
       "['ALEJANDRO ROSALES CASTILLO',\n",
       " 'ARNOLDO JIMENEZ',\n",
       " 'JASON DEREK BROWN',\n",
       " 'ALEXIS FLORES',\n",
       " 'JOSE RODOLFO VILLARREAL-HERNANDEZ',\n",
       " 'EUGENE PALMER',\n",
       " 'RAFAEL CARO-QUINTERO',\n",
       " 'ROBERT WILLIAM FISHER',\n",
       " 'BHADRESHKUMAR CHETANBHAI PATEL',\n",
       " 'YASER ABDEL SAID']"
      ]
     },
     "execution_count": 18,
     "metadata": {},
     "output_type": "execute_result"
    }
   ],
   "source": [
    "# your code here\n",
    "page = requests.get('https://www.fbi.gov/wanted/topten')\n",
    "soup = BeautifulSoup(page.content, \"html\")\n",
    "soup = soup.find_all('h3', {'class': 'title'})\n",
    "[e.text.strip('\\n') for e in soup]"
   ]
  },
  {
   "cell_type": "markdown",
   "metadata": {},
   "source": [
    "####  Display the 20 latest earthquakes info (date, time, latitude, longitude and region name) by the EMSC as a pandas dataframe."
   ]
  },
  {
   "cell_type": "code",
   "execution_count": 19,
   "metadata": {},
   "outputs": [],
   "source": [
    "# This is the url you will scrape in this exercise\n",
    "url_earth = 'https://www.emsc-csem.org/Earthquake/'\n",
    "# your code here\n",
    "resp = requests.get(url_earth)\n",
    "soup = BeautifulSoup(resp.content, \"lxml\")\n",
    "table_earth = soup.find(id='tbody')"
   ]
  },
  {
   "cell_type": "code",
   "execution_count": 20,
   "metadata": {},
   "outputs": [
    {
     "name": "stdout",
     "output_type": "stream",
     "text": [
      "20\n",
      "<tr class=\"ligne1 normal\" id=\"967014\" onclick=\"go_details(event,967014);\"><td class=\"tabev0\"></td><td class=\"tabev0\"></td><td class=\"tabev0\"></td><td class=\"tabev6\"><b><i style=\"display:none;\">earthquake</i><a href=\"/Earthquake/earthquake.php?id=967014\">2021-04-05   14:16:56.0</a></b><i class=\"ago\" id=\"ago0\">17min ago</i></td><td class=\"tabev1\">18.41 </td><td class=\"tabev2\">S  </td><td class=\"tabev1\">71.12 </td><td class=\"tabev2\">W  </td><td class=\"tabev3\">29</td><td class=\"tabev5\" id=\"magtyp0\">ML</td><td class=\"tabev2\">2.5</td><td class=\"tb_region\" id=\"reg0\"> OFF COAST OF TARAPACA, CHILE</td><td class=\"comment updatetimeno\" id=\"upd0\" style=\"text-align:right;\">2021-04-05 14:28</td></tr>\n"
     ]
    }
   ],
   "source": [
    "rows = table_earth.find_all('tr')[:20]\n",
    "print(len(rows))\n",
    "print(rows[0])"
   ]
  },
  {
   "cell_type": "code",
   "execution_count": 21,
   "metadata": {},
   "outputs": [
    {
     "name": "stdout",
     "output_type": "stream",
     "text": [
      "['2021-04-05', '2021-04-05', '2021-04-05', '2021-04-05', '2021-04-05', '2021-04-05', '2021-04-05', '2021-04-05', '2021-04-05', '2021-04-05', '2021-04-05', '2021-04-05', '2021-04-05', '2021-04-05', '2021-04-05', '2021-04-05', '2021-04-05', '2021-04-05', '2021-04-05', '2021-04-05']\n",
      "['14:16:56.0', '14:16:17.0', '14:00:17.9', '13:47:30.4', '13:44:15.6', '13:43:08.1', '13:43:05.6', '13:40:33.4', '13:33:34.0', '13:27:58.0', '13:22:37.4', '13:19:22.5', '12:53:07.4', '12:40:35.0', '12:29:48.8', '12:27:47.9', '12:22:07.0', '12:00:55.0', '11:51:21.0', '11:48:40.4']\n",
      "['18.41', '7.20', '37.38', '58.46', '46.86', '37.56', '54.92', '39.79', '38.19', '8.06', '42.27', '33.95', '33.94', '9.67', '33.95', '33.94', '30.54', '2.00', '36.11', '33.95']\n",
      "['71.12', '126.94', '179.89', '137.11', '10.00', '36.41', '163.25', '22.01', '118.08', '116.79', '8.39', '118.35', '118.34', '80.53', '118.34', '118.34', '71.43', '96.89', '73.43', '118.34']\n",
      "['S', 'N', 'S', 'N', 'N', 'N', 'N', 'N', 'N', 'S', 'N', 'N', 'N', 'N', 'N', 'N', 'S', 'N', 'S', 'N']\n",
      "['W', 'E', 'E', 'W', 'E', 'E', 'E', 'E', 'W', 'E', 'W', 'W', 'W', 'W', 'W', 'W', 'W', 'E', 'W', 'W']\n",
      "['OFF COAST OF TARAPACA, CHILE', 'MINDANAO, PHILIPPINES', 'OFF E. COAST OF N. ISLAND, N.Z.', 'SOUTHEASTERN ALASKA', 'SWITZERLAND', 'CENTRAL TURKEY', 'OFF EAST COAST OF KAMCHATKA', 'GREECE', 'NEVADA', 'LOMBOK REGION, INDONESIA', 'SPAIN', 'GREATER LOS ANGELES AREA, CALIF.', 'GREATER LOS ANGELES AREA, CALIF.', 'PANAMA', 'GREATER LOS ANGELES AREA, CALIF.', 'GREATER LOS ANGELES AREA, CALIF.', 'COQUIMBO, CHILE', 'SIMEULUE, INDONESIA', 'OFFSHORE BIO-BIO, CHILE', 'GREATER LOS ANGELES AREA, CALIF.']\n"
     ]
    }
   ],
   "source": [
    "datetime = [x.find('td',{'class':'tabev6'}) for x in rows]\n",
    "date=[lst[0] for lst in [y.find('a').text.split('\\xa0') for y in datetime]]\n",
    "time=[lst[3] for lst in [y.find('a').text.split('\\xa0') for y in datetime]]\n",
    "print(date)\n",
    "print(time)\n",
    "\n",
    "sel = [y.find_all('td',{'class':'tabev1'}) for y in rows]\n",
    "lat = [lst[0].text.strip('\\xa0') for lst in sel]\n",
    "print(lat)\n",
    "long = [lst[1].text.strip('\\xa0') for lst in sel]\n",
    "print(long)\n",
    "sel2 = [y.find_all('td',{'class':'tabev2'}) for y in rows]\n",
    "lat2 = [lst[0].text.strip('\\xa0') for lst in sel2]\n",
    "print(lat2)\n",
    "long2 = [lst[1].text.strip('\\xa0') for lst in sel2]\n",
    "print(long2)\n",
    "\n",
    "region = [lst[1] for lst in [x.find('td',{'class':'tb_region'}).text.split('\\xa0') for x in rows]]\n",
    "print(region)"
   ]
  },
  {
   "cell_type": "code",
   "execution_count": 22,
   "metadata": {},
   "outputs": [
    {
     "name": "stdout",
     "output_type": "stream",
     "text": [
      "{'Date': ['2021-04-05', '2021-04-05', '2021-04-05', '2021-04-05', '2021-04-05', '2021-04-05', '2021-04-05', '2021-04-05', '2021-04-05', '2021-04-05', '2021-04-05', '2021-04-05', '2021-04-05', '2021-04-05', '2021-04-05', '2021-04-05', '2021-04-05', '2021-04-05', '2021-04-05', '2021-04-05'], 'Time': ['14:16:56.0', '14:16:17.0', '14:00:17.9', '13:47:30.4', '13:44:15.6', '13:43:08.1', '13:43:05.6', '13:40:33.4', '13:33:34.0', '13:27:58.0', '13:22:37.4', '13:19:22.5', '12:53:07.4', '12:40:35.0', '12:29:48.8', '12:27:47.9', '12:22:07.0', '12:00:55.0', '11:51:21.0', '11:48:40.4'], 'Latitude': ['18.41', '7.20', '37.38', '58.46', '46.86', '37.56', '54.92', '39.79', '38.19', '8.06', '42.27', '33.95', '33.94', '9.67', '33.95', '33.94', '30.54', '2.00', '36.11', '33.95'], 'Lat degrees': ['S', 'N', 'S', 'N', 'N', 'N', 'N', 'N', 'N', 'S', 'N', 'N', 'N', 'N', 'N', 'N', 'S', 'N', 'S', 'N'], 'Longitude': ['71.12', '126.94', '179.89', '137.11', '10.00', '36.41', '163.25', '22.01', '118.08', '116.79', '8.39', '118.35', '118.34', '80.53', '118.34', '118.34', '71.43', '96.89', '73.43', '118.34'], 'Long degrees': ['W', 'E', 'E', 'W', 'E', 'E', 'E', 'E', 'W', 'E', 'W', 'W', 'W', 'W', 'W', 'W', 'W', 'E', 'W', 'W'], 'Region': ['OFF COAST OF TARAPACA, CHILE', 'MINDANAO, PHILIPPINES', 'OFF E. COAST OF N. ISLAND, N.Z.', 'SOUTHEASTERN ALASKA', 'SWITZERLAND', 'CENTRAL TURKEY', 'OFF EAST COAST OF KAMCHATKA', 'GREECE', 'NEVADA', 'LOMBOK REGION, INDONESIA', 'SPAIN', 'GREATER LOS ANGELES AREA, CALIF.', 'GREATER LOS ANGELES AREA, CALIF.', 'PANAMA', 'GREATER LOS ANGELES AREA, CALIF.', 'GREATER LOS ANGELES AREA, CALIF.', 'COQUIMBO, CHILE', 'SIMEULUE, INDONESIA', 'OFFSHORE BIO-BIO, CHILE', 'GREATER LOS ANGELES AREA, CALIF.']}\n"
     ]
    }
   ],
   "source": [
    "dct= {'Date':date,'Time':time, 'Latitude':lat, 'Lat degrees':lat2, 'Longitude':long, 'Long degrees':long2, 'Region':region}\n",
    "print(dct)"
   ]
  },
  {
   "cell_type": "code",
   "execution_count": 23,
   "metadata": {},
   "outputs": [
    {
     "data": {
      "text/html": [
       "<div>\n",
       "<style scoped>\n",
       "    .dataframe tbody tr th:only-of-type {\n",
       "        vertical-align: middle;\n",
       "    }\n",
       "\n",
       "    .dataframe tbody tr th {\n",
       "        vertical-align: top;\n",
       "    }\n",
       "\n",
       "    .dataframe thead th {\n",
       "        text-align: right;\n",
       "    }\n",
       "</style>\n",
       "<table border=\"1\" class=\"dataframe\">\n",
       "  <thead>\n",
       "    <tr style=\"text-align: right;\">\n",
       "      <th></th>\n",
       "      <th>Date</th>\n",
       "      <th>Time</th>\n",
       "      <th>Latitude</th>\n",
       "      <th>Lat degrees</th>\n",
       "      <th>Longitude</th>\n",
       "      <th>Long degrees</th>\n",
       "      <th>Region</th>\n",
       "    </tr>\n",
       "  </thead>\n",
       "  <tbody>\n",
       "    <tr>\n",
       "      <th>0</th>\n",
       "      <td>2021-04-05</td>\n",
       "      <td>14:16:56.0</td>\n",
       "      <td>18.41</td>\n",
       "      <td>S</td>\n",
       "      <td>71.12</td>\n",
       "      <td>W</td>\n",
       "      <td>OFF COAST OF TARAPACA, CHILE</td>\n",
       "    </tr>\n",
       "    <tr>\n",
       "      <th>1</th>\n",
       "      <td>2021-04-05</td>\n",
       "      <td>14:16:17.0</td>\n",
       "      <td>7.20</td>\n",
       "      <td>N</td>\n",
       "      <td>126.94</td>\n",
       "      <td>E</td>\n",
       "      <td>MINDANAO, PHILIPPINES</td>\n",
       "    </tr>\n",
       "    <tr>\n",
       "      <th>2</th>\n",
       "      <td>2021-04-05</td>\n",
       "      <td>14:00:17.9</td>\n",
       "      <td>37.38</td>\n",
       "      <td>S</td>\n",
       "      <td>179.89</td>\n",
       "      <td>E</td>\n",
       "      <td>OFF E. COAST OF N. ISLAND, N.Z.</td>\n",
       "    </tr>\n",
       "    <tr>\n",
       "      <th>3</th>\n",
       "      <td>2021-04-05</td>\n",
       "      <td>13:47:30.4</td>\n",
       "      <td>58.46</td>\n",
       "      <td>N</td>\n",
       "      <td>137.11</td>\n",
       "      <td>W</td>\n",
       "      <td>SOUTHEASTERN ALASKA</td>\n",
       "    </tr>\n",
       "    <tr>\n",
       "      <th>4</th>\n",
       "      <td>2021-04-05</td>\n",
       "      <td>13:44:15.6</td>\n",
       "      <td>46.86</td>\n",
       "      <td>N</td>\n",
       "      <td>10.00</td>\n",
       "      <td>E</td>\n",
       "      <td>SWITZERLAND</td>\n",
       "    </tr>\n",
       "    <tr>\n",
       "      <th>5</th>\n",
       "      <td>2021-04-05</td>\n",
       "      <td>13:43:08.1</td>\n",
       "      <td>37.56</td>\n",
       "      <td>N</td>\n",
       "      <td>36.41</td>\n",
       "      <td>E</td>\n",
       "      <td>CENTRAL TURKEY</td>\n",
       "    </tr>\n",
       "    <tr>\n",
       "      <th>6</th>\n",
       "      <td>2021-04-05</td>\n",
       "      <td>13:43:05.6</td>\n",
       "      <td>54.92</td>\n",
       "      <td>N</td>\n",
       "      <td>163.25</td>\n",
       "      <td>E</td>\n",
       "      <td>OFF EAST COAST OF KAMCHATKA</td>\n",
       "    </tr>\n",
       "    <tr>\n",
       "      <th>7</th>\n",
       "      <td>2021-04-05</td>\n",
       "      <td>13:40:33.4</td>\n",
       "      <td>39.79</td>\n",
       "      <td>N</td>\n",
       "      <td>22.01</td>\n",
       "      <td>E</td>\n",
       "      <td>GREECE</td>\n",
       "    </tr>\n",
       "    <tr>\n",
       "      <th>8</th>\n",
       "      <td>2021-04-05</td>\n",
       "      <td>13:33:34.0</td>\n",
       "      <td>38.19</td>\n",
       "      <td>N</td>\n",
       "      <td>118.08</td>\n",
       "      <td>W</td>\n",
       "      <td>NEVADA</td>\n",
       "    </tr>\n",
       "    <tr>\n",
       "      <th>9</th>\n",
       "      <td>2021-04-05</td>\n",
       "      <td>13:27:58.0</td>\n",
       "      <td>8.06</td>\n",
       "      <td>S</td>\n",
       "      <td>116.79</td>\n",
       "      <td>E</td>\n",
       "      <td>LOMBOK REGION, INDONESIA</td>\n",
       "    </tr>\n",
       "    <tr>\n",
       "      <th>10</th>\n",
       "      <td>2021-04-05</td>\n",
       "      <td>13:22:37.4</td>\n",
       "      <td>42.27</td>\n",
       "      <td>N</td>\n",
       "      <td>8.39</td>\n",
       "      <td>W</td>\n",
       "      <td>SPAIN</td>\n",
       "    </tr>\n",
       "    <tr>\n",
       "      <th>11</th>\n",
       "      <td>2021-04-05</td>\n",
       "      <td>13:19:22.5</td>\n",
       "      <td>33.95</td>\n",
       "      <td>N</td>\n",
       "      <td>118.35</td>\n",
       "      <td>W</td>\n",
       "      <td>GREATER LOS ANGELES AREA, CALIF.</td>\n",
       "    </tr>\n",
       "    <tr>\n",
       "      <th>12</th>\n",
       "      <td>2021-04-05</td>\n",
       "      <td>12:53:07.4</td>\n",
       "      <td>33.94</td>\n",
       "      <td>N</td>\n",
       "      <td>118.34</td>\n",
       "      <td>W</td>\n",
       "      <td>GREATER LOS ANGELES AREA, CALIF.</td>\n",
       "    </tr>\n",
       "    <tr>\n",
       "      <th>13</th>\n",
       "      <td>2021-04-05</td>\n",
       "      <td>12:40:35.0</td>\n",
       "      <td>9.67</td>\n",
       "      <td>N</td>\n",
       "      <td>80.53</td>\n",
       "      <td>W</td>\n",
       "      <td>PANAMA</td>\n",
       "    </tr>\n",
       "    <tr>\n",
       "      <th>14</th>\n",
       "      <td>2021-04-05</td>\n",
       "      <td>12:29:48.8</td>\n",
       "      <td>33.95</td>\n",
       "      <td>N</td>\n",
       "      <td>118.34</td>\n",
       "      <td>W</td>\n",
       "      <td>GREATER LOS ANGELES AREA, CALIF.</td>\n",
       "    </tr>\n",
       "    <tr>\n",
       "      <th>15</th>\n",
       "      <td>2021-04-05</td>\n",
       "      <td>12:27:47.9</td>\n",
       "      <td>33.94</td>\n",
       "      <td>N</td>\n",
       "      <td>118.34</td>\n",
       "      <td>W</td>\n",
       "      <td>GREATER LOS ANGELES AREA, CALIF.</td>\n",
       "    </tr>\n",
       "    <tr>\n",
       "      <th>16</th>\n",
       "      <td>2021-04-05</td>\n",
       "      <td>12:22:07.0</td>\n",
       "      <td>30.54</td>\n",
       "      <td>S</td>\n",
       "      <td>71.43</td>\n",
       "      <td>W</td>\n",
       "      <td>COQUIMBO, CHILE</td>\n",
       "    </tr>\n",
       "    <tr>\n",
       "      <th>17</th>\n",
       "      <td>2021-04-05</td>\n",
       "      <td>12:00:55.0</td>\n",
       "      <td>2.00</td>\n",
       "      <td>N</td>\n",
       "      <td>96.89</td>\n",
       "      <td>E</td>\n",
       "      <td>SIMEULUE, INDONESIA</td>\n",
       "    </tr>\n",
       "    <tr>\n",
       "      <th>18</th>\n",
       "      <td>2021-04-05</td>\n",
       "      <td>11:51:21.0</td>\n",
       "      <td>36.11</td>\n",
       "      <td>S</td>\n",
       "      <td>73.43</td>\n",
       "      <td>W</td>\n",
       "      <td>OFFSHORE BIO-BIO, CHILE</td>\n",
       "    </tr>\n",
       "    <tr>\n",
       "      <th>19</th>\n",
       "      <td>2021-04-05</td>\n",
       "      <td>11:48:40.4</td>\n",
       "      <td>33.95</td>\n",
       "      <td>N</td>\n",
       "      <td>118.34</td>\n",
       "      <td>W</td>\n",
       "      <td>GREATER LOS ANGELES AREA, CALIF.</td>\n",
       "    </tr>\n",
       "  </tbody>\n",
       "</table>\n",
       "</div>"
      ],
      "text/plain": [
       "          Date        Time Latitude Lat degrees Longitude Long degrees  \\\n",
       "0   2021-04-05  14:16:56.0    18.41           S     71.12            W   \n",
       "1   2021-04-05  14:16:17.0     7.20           N    126.94            E   \n",
       "2   2021-04-05  14:00:17.9    37.38           S    179.89            E   \n",
       "3   2021-04-05  13:47:30.4    58.46           N    137.11            W   \n",
       "4   2021-04-05  13:44:15.6    46.86           N     10.00            E   \n",
       "5   2021-04-05  13:43:08.1    37.56           N     36.41            E   \n",
       "6   2021-04-05  13:43:05.6    54.92           N    163.25            E   \n",
       "7   2021-04-05  13:40:33.4    39.79           N     22.01            E   \n",
       "8   2021-04-05  13:33:34.0    38.19           N    118.08            W   \n",
       "9   2021-04-05  13:27:58.0     8.06           S    116.79            E   \n",
       "10  2021-04-05  13:22:37.4    42.27           N      8.39            W   \n",
       "11  2021-04-05  13:19:22.5    33.95           N    118.35            W   \n",
       "12  2021-04-05  12:53:07.4    33.94           N    118.34            W   \n",
       "13  2021-04-05  12:40:35.0     9.67           N     80.53            W   \n",
       "14  2021-04-05  12:29:48.8    33.95           N    118.34            W   \n",
       "15  2021-04-05  12:27:47.9    33.94           N    118.34            W   \n",
       "16  2021-04-05  12:22:07.0    30.54           S     71.43            W   \n",
       "17  2021-04-05  12:00:55.0     2.00           N     96.89            E   \n",
       "18  2021-04-05  11:51:21.0    36.11           S     73.43            W   \n",
       "19  2021-04-05  11:48:40.4    33.95           N    118.34            W   \n",
       "\n",
       "                              Region  \n",
       "0       OFF COAST OF TARAPACA, CHILE  \n",
       "1              MINDANAO, PHILIPPINES  \n",
       "2    OFF E. COAST OF N. ISLAND, N.Z.  \n",
       "3                SOUTHEASTERN ALASKA  \n",
       "4                        SWITZERLAND  \n",
       "5                     CENTRAL TURKEY  \n",
       "6        OFF EAST COAST OF KAMCHATKA  \n",
       "7                             GREECE  \n",
       "8                             NEVADA  \n",
       "9           LOMBOK REGION, INDONESIA  \n",
       "10                             SPAIN  \n",
       "11  GREATER LOS ANGELES AREA, CALIF.  \n",
       "12  GREATER LOS ANGELES AREA, CALIF.  \n",
       "13                            PANAMA  \n",
       "14  GREATER LOS ANGELES AREA, CALIF.  \n",
       "15  GREATER LOS ANGELES AREA, CALIF.  \n",
       "16                   COQUIMBO, CHILE  \n",
       "17               SIMEULUE, INDONESIA  \n",
       "18           OFFSHORE BIO-BIO, CHILE  \n",
       "19  GREATER LOS ANGELES AREA, CALIF.  "
      ]
     },
     "execution_count": 23,
     "metadata": {},
     "output_type": "execute_result"
    }
   ],
   "source": [
    "import pandas as pd\n",
    "df = pd.DataFrame(dct)\n",
    "df"
   ]
  },
  {
   "cell_type": "markdown",
   "metadata": {},
   "source": [
    "#### Count the number of tweets by a given Twitter account.\n",
    "Ask the user for the handle (@handle) of a twitter account. You will need to include a ***try/except block*** for account names not found. \n",
    "<br>***Hint:*** the program should count the number of tweets for any provided account."
   ]
  },
  {
   "cell_type": "code",
   "execution_count": 16,
   "metadata": {},
   "outputs": [
    {
     "name": "stdout",
     "output_type": "stream",
     "text": [
      "<Response [200]>\n",
      "None\n"
     ]
    }
   ],
   "source": [
    "# This is the url you will scrape in this exercise \n",
    "# You will need to add the account credentials to this url\n",
    "url_tw = 'https://twitter.com/paulpogba'\n",
    "# your code here\n",
    "page = requests.get(url_tw)\n",
    "print(page)\n",
    "soup = BeautifulSoup(page.content, 'lxml')\n",
    "\n",
    "A FAIRE"
   ]
  },
  {
   "cell_type": "markdown",
   "metadata": {},
   "source": [
    "#### Number of followers of a given twitter account\n",
    "Ask the user for the handle (@handle) of a twitter account. You will need to include a ***try/except block*** for account names not found. \n",
    "<br>***Hint:*** the program should count the followers for any provided account."
   ]
  },
  {
   "cell_type": "code",
   "execution_count": null,
   "metadata": {},
   "outputs": [],
   "source": [
    "A FAIRE"
   ]
  },
  {
   "cell_type": "markdown",
   "metadata": {},
   "source": [
    "#### List all language names and number of related articles in the order they appear in wikipedia.org."
   ]
  },
  {
   "cell_type": "code",
   "execution_count": 25,
   "metadata": {},
   "outputs": [
    {
     "name": "stdout",
     "output_type": "stream",
     "text": [
      "['English', 'Español', '日本語', 'Deutsch', 'Русский', 'Français', 'Italiano', '中文', 'Português', 'Polski']\n",
      "\n",
      "['6274000+', '1668000+', '1259000+', '2553000+', '1708000+', '2311000+', '1681000+', '1185000+', '1061000+', '1463000+']\n"
     ]
    },
    {
     "data": {
      "text/plain": [
       "[('English', '6274000+'),\n",
       " ('Español', '1668000+'),\n",
       " ('日本語', '1259000+'),\n",
       " ('Deutsch', '2553000+'),\n",
       " ('Русский', '1708000+'),\n",
       " ('Français', '2311000+'),\n",
       " ('Italiano', '1681000+'),\n",
       " ('中文', '1185000+'),\n",
       " ('Português', '1061000+'),\n",
       " ('Polski', '1463000+')]"
      ]
     },
     "execution_count": 25,
     "metadata": {},
     "output_type": "execute_result"
    }
   ],
   "source": [
    "# This is the url you will scrape in this exercise\n",
    "url_wiki = 'https://www.wikipedia.org/'\n",
    "# your code here\n",
    "resp = requests.get(url_wiki)\n",
    "soup = BeautifulSoup(resp.content, \"html\")\n",
    "languages = soup.find_all('div', {'class': 'central-featured-lang'})\n",
    "\n",
    "strong = [e.find_all('strong')[0].text for e in languages]\n",
    "print(strong)\n",
    "print()\n",
    "bdi = [e.find_all('bdi')[0].text for e in languages]\n",
    "articles = [''.join(e.split()) for e in bdi]\n",
    "print(articles)\n",
    "[(x,y) for x,y in zip(strong, articles)]"
   ]
  },
  {
   "cell_type": "markdown",
   "metadata": {},
   "source": [
    "#### A list with the different kind of datasets available in data.gov.uk."
   ]
  },
  {
   "cell_type": "code",
   "execution_count": 26,
   "metadata": {},
   "outputs": [
    {
     "name": "stdout",
     "output_type": "stream",
     "text": [
      "[<a class=\"govuk-link\" href=\"/search?filters%5Btopic%5D=Business+and+economy\">Business and economy</a>, <a class=\"govuk-link\" href=\"/search?filters%5Btopic%5D=Crime+and+justice\">Crime and justice</a>, <a class=\"govuk-link\" href=\"/search?filters%5Btopic%5D=Defence\">Defence</a>, <a class=\"govuk-link\" href=\"/search?filters%5Btopic%5D=Education\">Education</a>, <a class=\"govuk-link\" href=\"/search?filters%5Btopic%5D=Environment\">Environment</a>, <a class=\"govuk-link\" href=\"/search?filters%5Btopic%5D=Government\">Government</a>, <a class=\"govuk-link\" href=\"/search?filters%5Btopic%5D=Government+spending\">Government spending</a>, <a class=\"govuk-link\" href=\"/search?filters%5Btopic%5D=Health\">Health</a>, <a class=\"govuk-link\" href=\"/search?filters%5Btopic%5D=Mapping\">Mapping</a>, <a class=\"govuk-link\" href=\"/search?filters%5Btopic%5D=Society\">Society</a>, <a class=\"govuk-link\" href=\"/search?filters%5Btopic%5D=Towns+and+cities\">Towns and cities</a>, <a class=\"govuk-link\" href=\"/search?filters%5Btopic%5D=Transport\">Transport</a>, <a class=\"govuk-link\" href=\"/search?filters%5Btopic%5D=Digital+service+performance\">Digital service performance</a>, <a class=\"govuk-link\" href=\"/search?filters%5Btopic%5D=Government+reference+data\">Government reference data</a>]\n",
      "14\n",
      "<class 'list'>\n"
     ]
    },
    {
     "data": {
      "text/plain": [
       "['Business and economy',\n",
       " 'Crime and justice',\n",
       " 'Defence',\n",
       " 'Education',\n",
       " 'Environment',\n",
       " 'Government',\n",
       " 'Government spending',\n",
       " 'Health',\n",
       " 'Mapping',\n",
       " 'Society',\n",
       " 'Towns and cities',\n",
       " 'Transport',\n",
       " 'Digital service performance',\n",
       " 'Government reference data']"
      ]
     },
     "execution_count": 26,
     "metadata": {},
     "output_type": "execute_result"
    }
   ],
   "source": [
    "# This is the url you will scrape in this exercise\n",
    "url_uk = 'https://data.gov.uk/'\n",
    "page = requests.get(url_uk)\n",
    "soup = BeautifulSoup(page.content, \"html\")\n",
    "subjects = soup.find_all('a', {'class': 'govuk-link'})\n",
    "print(subjects[4:])\n",
    "print(len(subjects[4:]))\n",
    "print(type(subjects[4:]))\n",
    "[x for e in subjects[4:] for x in e]"
   ]
  },
  {
   "cell_type": "markdown",
   "metadata": {},
   "source": [
    "#### Display the top 10 languages by number of native speakers stored in a pandas dataframe."
   ]
  },
  {
   "cell_type": "code",
   "execution_count": 27,
   "metadata": {},
   "outputs": [
    {
     "name": "stdout",
     "output_type": "stream",
     "text": [
      "[('Language', 'Speakers(millions)'), ('Mandarin Chinese', '918'), ('Spanish', '480'), ('English', '379'), ('Hindi (sanskritised Hindustani)', '341'), ('Bengali', '228'), ('Portuguese', '221'), ('Russian', '154'), ('Japanese', '128'), ('Western Punjabi', '92.7'), ('Marathi', '83.1')]\n"
     ]
    },
    {
     "data": {
      "text/html": [
       "<div>\n",
       "<style scoped>\n",
       "    .dataframe tbody tr th:only-of-type {\n",
       "        vertical-align: middle;\n",
       "    }\n",
       "\n",
       "    .dataframe tbody tr th {\n",
       "        vertical-align: top;\n",
       "    }\n",
       "\n",
       "    .dataframe thead th {\n",
       "        text-align: right;\n",
       "    }\n",
       "</style>\n",
       "<table border=\"1\" class=\"dataframe\">\n",
       "  <thead>\n",
       "    <tr style=\"text-align: right;\">\n",
       "      <th></th>\n",
       "      <th>Language</th>\n",
       "      <th>Speakers(millions)</th>\n",
       "    </tr>\n",
       "  </thead>\n",
       "  <tbody>\n",
       "    <tr>\n",
       "      <th>0</th>\n",
       "      <td>Mandarin Chinese</td>\n",
       "      <td>918</td>\n",
       "    </tr>\n",
       "    <tr>\n",
       "      <th>1</th>\n",
       "      <td>Spanish</td>\n",
       "      <td>480</td>\n",
       "    </tr>\n",
       "    <tr>\n",
       "      <th>2</th>\n",
       "      <td>English</td>\n",
       "      <td>379</td>\n",
       "    </tr>\n",
       "    <tr>\n",
       "      <th>3</th>\n",
       "      <td>Hindi (sanskritised Hindustani)</td>\n",
       "      <td>341</td>\n",
       "    </tr>\n",
       "    <tr>\n",
       "      <th>4</th>\n",
       "      <td>Bengali</td>\n",
       "      <td>228</td>\n",
       "    </tr>\n",
       "    <tr>\n",
       "      <th>5</th>\n",
       "      <td>Portuguese</td>\n",
       "      <td>221</td>\n",
       "    </tr>\n",
       "    <tr>\n",
       "      <th>6</th>\n",
       "      <td>Russian</td>\n",
       "      <td>154</td>\n",
       "    </tr>\n",
       "    <tr>\n",
       "      <th>7</th>\n",
       "      <td>Japanese</td>\n",
       "      <td>128</td>\n",
       "    </tr>\n",
       "    <tr>\n",
       "      <th>8</th>\n",
       "      <td>Western Punjabi</td>\n",
       "      <td>92.7</td>\n",
       "    </tr>\n",
       "    <tr>\n",
       "      <th>9</th>\n",
       "      <td>Marathi</td>\n",
       "      <td>83.1</td>\n",
       "    </tr>\n",
       "  </tbody>\n",
       "</table>\n",
       "</div>"
      ],
      "text/plain": [
       "                          Language Speakers(millions)\n",
       "0                 Mandarin Chinese                918\n",
       "1                          Spanish                480\n",
       "2                          English                379\n",
       "3  Hindi (sanskritised Hindustani)                341\n",
       "4                          Bengali                228\n",
       "5                       Portuguese                221\n",
       "6                          Russian                154\n",
       "7                         Japanese                128\n",
       "8                  Western Punjabi               92.7\n",
       "9                          Marathi               83.1"
      ]
     },
     "execution_count": 27,
     "metadata": {},
     "output_type": "execute_result"
    }
   ],
   "source": [
    "# This is the url you will scrape in this exercise\n",
    "url_speak = 'https://en.wikipedia.org/wiki/List_of_languages_by_number_of_native_speakers'\n",
    "# your code here\n",
    "page = requests.get(url_speak)\n",
    "soup = BeautifulSoup(page.content, \"html\")\n",
    "table = soup.find_all('table', {'class': 'wikitable sortable'})[0]\n",
    "\n",
    "rows = table.find_all('tr')\n",
    "rows2 = [row.text.split('\\n') for row in rows][:11]\n",
    "mylist = [(rg[3].strip('[]910'),rg[5]) for rg in rows2]\n",
    "print(mylist)\n",
    "import pandas as pd\n",
    "colnames = mylist[0]\n",
    "df = pd.DataFrame(mylist[1:], columns=colnames)\n",
    "df"
   ]
  },
  {
   "cell_type": "markdown",
   "metadata": {},
   "source": [
    "## Bonus"
   ]
  },
  {
   "cell_type": "markdown",
   "metadata": {},
   "source": [
    "#### Find the book name, price and stock availability as a pandas dataframe."
   ]
  },
  {
   "cell_type": "code",
   "execution_count": 28,
   "metadata": {},
   "outputs": [
    {
     "name": "stdout",
     "output_type": "stream",
     "text": [
      "20\n",
      "[<a href=\"catalogue/a-light-in-the-attic_1000/index.html\"><img alt=\"A Light in the Attic\" class=\"thumbnail\" src=\"media/cache/2c/da/2cdad67c44b002e7ead0cc35693c0e8b.jpg\"/></a>, <a href=\"catalogue/a-light-in-the-attic_1000/index.html\" title=\"A Light in the Attic\">A Light in the ...</a>]\n"
     ]
    }
   ],
   "source": [
    "# This is the url you will scrape in this exercise. \n",
    "# It is a fictional bookstore created to be scraped. \n",
    "url_b = 'http://books.toscrape.com/'\n",
    "# your code here\n",
    "page = requests.get(url_b)\n",
    "soup = BeautifulSoup(page.content, 'html')\n",
    "book_soup = soup.find_all('article',{'class':'product_pod'})\n",
    "alist=[e.find_all('a') for e in book_soup]\n",
    "print(len(alist))\n",
    "print(alist[0])"
   ]
  },
  {
   "cell_type": "code",
   "execution_count": 29,
   "metadata": {},
   "outputs": [
    {
     "name": "stdout",
     "output_type": "stream",
     "text": [
      "['A Light in the Attic', 'Tipping the Velvet', 'Soumission', 'Sharp Objects', 'Sapiens: A Brief History of Humankind', 'The Requiem Red', 'The Dirty Little Secrets of Getting Your Dream Job', 'The Coming Woman: A Novel Based on the Life of the Infamous Feminist, Victoria Woodhull', 'The Boys in the Boat: Nine Americans and Their Epic Quest for Gold at the 1936 Berlin Olympics', 'The Black Maria', 'Starving Hearts (Triangular Trade Trilogy, #1)', \"Shakespeare's Sonnets\", 'Set Me Free', \"Scott Pilgrim's Precious Little Life (Scott Pilgrim #1)\", 'Rip it Up and Start Again', 'Our Band Could Be Your Life: Scenes from the American Indie Underground, 1981-1991', 'Olio', 'Mesaerion: The Best Science Fiction Stories 1800-1849', 'Libertarianism for Beginners', \"It's Only the Himalayas\"]\n"
     ]
    }
   ],
   "source": [
    "booktitles=[e[1]['title'] for e in alist]\n",
    "print(booktitles)"
   ]
  },
  {
   "cell_type": "code",
   "execution_count": 30,
   "metadata": {},
   "outputs": [
    {
     "name": "stdout",
     "output_type": "stream",
     "text": [
      "20\n",
      "['£51.77', '£53.74', '£50.10', '£47.82', '£54.23', '£22.65', '£33.34', '£17.93', '£22.60', '£52.15', '£13.99', '£20.66', '£17.46', '£52.29', '£35.02', '£57.25', '£23.88', '£37.59', '£51.33', '£45.17']\n"
     ]
    }
   ],
   "source": [
    "plist = [e.find_all('p',{'class':'price_color'}) for e in book_soup]\n",
    "pricelist = [x.text for p in plist for x in p]\n",
    "print(len(pricelist))\n",
    "print(pricelist)"
   ]
  },
  {
   "cell_type": "code",
   "execution_count": 31,
   "metadata": {},
   "outputs": [
    {
     "name": "stdout",
     "output_type": "stream",
     "text": [
      "['In stock', 'In stock', 'In stock', 'In stock', 'In stock', 'In stock', 'In stock', 'In stock', 'In stock', 'In stock', 'In stock', 'In stock', 'In stock', 'In stock', 'In stock', 'In stock', 'In stock', 'In stock', 'In stock', 'In stock']\n",
      "20\n"
     ]
    }
   ],
   "source": [
    "availlist = [e.find_all('p',{'class':'instock availability'}) for e in book_soup]\n",
    "book_avail_lst = [z.strip('\\n ') for z in [x.text for p in availlist for x in p]]\n",
    "print(book_avail_lst)\n",
    "print(len(book_avail_lst))"
   ]
  },
  {
   "cell_type": "code",
   "execution_count": 32,
   "metadata": {},
   "outputs": [
    {
     "data": {
      "text/html": [
       "<div>\n",
       "<style scoped>\n",
       "    .dataframe tbody tr th:only-of-type {\n",
       "        vertical-align: middle;\n",
       "    }\n",
       "\n",
       "    .dataframe tbody tr th {\n",
       "        vertical-align: top;\n",
       "    }\n",
       "\n",
       "    .dataframe thead th {\n",
       "        text-align: right;\n",
       "    }\n",
       "</style>\n",
       "<table border=\"1\" class=\"dataframe\">\n",
       "  <thead>\n",
       "    <tr style=\"text-align: right;\">\n",
       "      <th></th>\n",
       "      <th>Book Title</th>\n",
       "      <th>Book Price</th>\n",
       "      <th>Book Availability</th>\n",
       "    </tr>\n",
       "  </thead>\n",
       "  <tbody>\n",
       "    <tr>\n",
       "      <th>0</th>\n",
       "      <td>A Light in the Attic</td>\n",
       "      <td>£51.77</td>\n",
       "      <td>In stock</td>\n",
       "    </tr>\n",
       "    <tr>\n",
       "      <th>1</th>\n",
       "      <td>Tipping the Velvet</td>\n",
       "      <td>£53.74</td>\n",
       "      <td>In stock</td>\n",
       "    </tr>\n",
       "    <tr>\n",
       "      <th>2</th>\n",
       "      <td>Soumission</td>\n",
       "      <td>£50.10</td>\n",
       "      <td>In stock</td>\n",
       "    </tr>\n",
       "    <tr>\n",
       "      <th>3</th>\n",
       "      <td>Sharp Objects</td>\n",
       "      <td>£47.82</td>\n",
       "      <td>In stock</td>\n",
       "    </tr>\n",
       "    <tr>\n",
       "      <th>4</th>\n",
       "      <td>Sapiens: A Brief History of Humankind</td>\n",
       "      <td>£54.23</td>\n",
       "      <td>In stock</td>\n",
       "    </tr>\n",
       "    <tr>\n",
       "      <th>5</th>\n",
       "      <td>The Requiem Red</td>\n",
       "      <td>£22.65</td>\n",
       "      <td>In stock</td>\n",
       "    </tr>\n",
       "    <tr>\n",
       "      <th>6</th>\n",
       "      <td>The Dirty Little Secrets of Getting Your Dream...</td>\n",
       "      <td>£33.34</td>\n",
       "      <td>In stock</td>\n",
       "    </tr>\n",
       "    <tr>\n",
       "      <th>7</th>\n",
       "      <td>The Coming Woman: A Novel Based on the Life of...</td>\n",
       "      <td>£17.93</td>\n",
       "      <td>In stock</td>\n",
       "    </tr>\n",
       "    <tr>\n",
       "      <th>8</th>\n",
       "      <td>The Boys in the Boat: Nine Americans and Their...</td>\n",
       "      <td>£22.60</td>\n",
       "      <td>In stock</td>\n",
       "    </tr>\n",
       "    <tr>\n",
       "      <th>9</th>\n",
       "      <td>The Black Maria</td>\n",
       "      <td>£52.15</td>\n",
       "      <td>In stock</td>\n",
       "    </tr>\n",
       "    <tr>\n",
       "      <th>10</th>\n",
       "      <td>Starving Hearts (Triangular Trade Trilogy, #1)</td>\n",
       "      <td>£13.99</td>\n",
       "      <td>In stock</td>\n",
       "    </tr>\n",
       "    <tr>\n",
       "      <th>11</th>\n",
       "      <td>Shakespeare's Sonnets</td>\n",
       "      <td>£20.66</td>\n",
       "      <td>In stock</td>\n",
       "    </tr>\n",
       "    <tr>\n",
       "      <th>12</th>\n",
       "      <td>Set Me Free</td>\n",
       "      <td>£17.46</td>\n",
       "      <td>In stock</td>\n",
       "    </tr>\n",
       "    <tr>\n",
       "      <th>13</th>\n",
       "      <td>Scott Pilgrim's Precious Little Life (Scott Pi...</td>\n",
       "      <td>£52.29</td>\n",
       "      <td>In stock</td>\n",
       "    </tr>\n",
       "    <tr>\n",
       "      <th>14</th>\n",
       "      <td>Rip it Up and Start Again</td>\n",
       "      <td>£35.02</td>\n",
       "      <td>In stock</td>\n",
       "    </tr>\n",
       "    <tr>\n",
       "      <th>15</th>\n",
       "      <td>Our Band Could Be Your Life: Scenes from the A...</td>\n",
       "      <td>£57.25</td>\n",
       "      <td>In stock</td>\n",
       "    </tr>\n",
       "    <tr>\n",
       "      <th>16</th>\n",
       "      <td>Olio</td>\n",
       "      <td>£23.88</td>\n",
       "      <td>In stock</td>\n",
       "    </tr>\n",
       "    <tr>\n",
       "      <th>17</th>\n",
       "      <td>Mesaerion: The Best Science Fiction Stories 18...</td>\n",
       "      <td>£37.59</td>\n",
       "      <td>In stock</td>\n",
       "    </tr>\n",
       "    <tr>\n",
       "      <th>18</th>\n",
       "      <td>Libertarianism for Beginners</td>\n",
       "      <td>£51.33</td>\n",
       "      <td>In stock</td>\n",
       "    </tr>\n",
       "    <tr>\n",
       "      <th>19</th>\n",
       "      <td>It's Only the Himalayas</td>\n",
       "      <td>£45.17</td>\n",
       "      <td>In stock</td>\n",
       "    </tr>\n",
       "  </tbody>\n",
       "</table>\n",
       "</div>"
      ],
      "text/plain": [
       "                                           Book Title Book Price  \\\n",
       "0                                A Light in the Attic     £51.77   \n",
       "1                                  Tipping the Velvet     £53.74   \n",
       "2                                          Soumission     £50.10   \n",
       "3                                       Sharp Objects     £47.82   \n",
       "4               Sapiens: A Brief History of Humankind     £54.23   \n",
       "5                                     The Requiem Red     £22.65   \n",
       "6   The Dirty Little Secrets of Getting Your Dream...     £33.34   \n",
       "7   The Coming Woman: A Novel Based on the Life of...     £17.93   \n",
       "8   The Boys in the Boat: Nine Americans and Their...     £22.60   \n",
       "9                                     The Black Maria     £52.15   \n",
       "10     Starving Hearts (Triangular Trade Trilogy, #1)     £13.99   \n",
       "11                              Shakespeare's Sonnets     £20.66   \n",
       "12                                        Set Me Free     £17.46   \n",
       "13  Scott Pilgrim's Precious Little Life (Scott Pi...     £52.29   \n",
       "14                          Rip it Up and Start Again     £35.02   \n",
       "15  Our Band Could Be Your Life: Scenes from the A...     £57.25   \n",
       "16                                               Olio     £23.88   \n",
       "17  Mesaerion: The Best Science Fiction Stories 18...     £37.59   \n",
       "18                       Libertarianism for Beginners     £51.33   \n",
       "19                            It's Only the Himalayas     £45.17   \n",
       "\n",
       "   Book Availability  \n",
       "0           In stock  \n",
       "1           In stock  \n",
       "2           In stock  \n",
       "3           In stock  \n",
       "4           In stock  \n",
       "5           In stock  \n",
       "6           In stock  \n",
       "7           In stock  \n",
       "8           In stock  \n",
       "9           In stock  \n",
       "10          In stock  \n",
       "11          In stock  \n",
       "12          In stock  \n",
       "13          In stock  \n",
       "14          In stock  \n",
       "15          In stock  \n",
       "16          In stock  \n",
       "17          In stock  \n",
       "18          In stock  \n",
       "19          In stock  "
      ]
     },
     "execution_count": 32,
     "metadata": {},
     "output_type": "execute_result"
    }
   ],
   "source": [
    "mydict = {'Book Title':booktitles, 'Book Price':pricelist, 'Book Availability':book_avail_lst}\n",
    "pd.DataFrame(mydict)"
   ]
  },
  {
   "cell_type": "markdown",
   "metadata": {},
   "source": [
    "#### Scrape a certain number of tweets of a given Twitter account."
   ]
  },
  {
   "cell_type": "code",
   "execution_count": 33,
   "metadata": {},
   "outputs": [],
   "source": [
    "# This is the url you will scrape in this exercise \n",
    "# You will need to add the account credentials to this url\n",
    "url = 'https://twitter.com/'\n",
    "# your code here\n"
   ]
  },
  {
   "cell_type": "markdown",
   "metadata": {},
   "source": [
    "#### Display IMDB's top 250 data (movie name, initial release, director name and stars) as a pandas dataframe."
   ]
  },
  {
   "cell_type": "code",
   "execution_count": 34,
   "metadata": {},
   "outputs": [],
   "source": [
    "# your code here"
   ]
  },
  {
   "cell_type": "markdown",
   "metadata": {},
   "source": [
    "#### Display the movie name, year and a brief summary of the top 10 random movies (IMDB) as a pandas dataframe."
   ]
  },
  {
   "cell_type": "code",
   "execution_count": 35,
   "metadata": {},
   "outputs": [],
   "source": [
    "#This is the url you will scrape in this exercise\n",
    "url = 'http://www.imdb.com/chart/top'\n",
    "# your code here\n"
   ]
  },
  {
   "cell_type": "markdown",
   "metadata": {},
   "source": [
    "#### Find the live weather report (temperature, wind speed, description and weather) of a given city."
   ]
  },
  {
   "cell_type": "code",
   "execution_count": null,
   "metadata": {},
   "outputs": [],
   "source": [
    "#https://openweathermap.org/current\n",
    "city = input('Enter the city: ')\n",
    "url = 'http://api.openweathermap.org/data/2.5/weather?'+'q='+city+'&APPID=b35975e18dc93725acb092f7272cc6b8&units=metric'\n",
    "# your code here\n"
   ]
  },
  {
   "cell_type": "code",
   "execution_count": null,
   "metadata": {},
   "outputs": [],
   "source": []
  }
 ],
 "metadata": {
  "kernelspec": {
   "display_name": "Python 3",
   "language": "python",
   "name": "python3"
  },
  "language_info": {
   "codemirror_mode": {
    "name": "ipython",
    "version": 3
   },
   "file_extension": ".py",
   "mimetype": "text/x-python",
   "name": "python",
   "nbconvert_exporter": "python",
   "pygments_lexer": "ipython3",
   "version": "3.8.5"
  }
 },
 "nbformat": 4,
 "nbformat_minor": 4
}
