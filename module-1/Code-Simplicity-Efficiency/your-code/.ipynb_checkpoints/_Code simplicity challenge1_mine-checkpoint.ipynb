{
 "cells": [
  {
   "cell_type": "markdown",
   "metadata": {},
   "source": [
    "# Code Simplicity-Efficiency / Challenge 1"
   ]
  },
  {
   "cell_type": "code",
   "execution_count": null,
   "metadata": {},
   "outputs": [],
   "source": [
    "while True:\n",
    "    \n",
    "    a = input('Please choose your first number (zero to five): ')\n",
    "    b = input('What do you want to do? plus or minus: ')\n",
    "    c = input('Please choose your second number (zero to five): ')\n",
    "\n",
    "    numdict = {\"zero\" : 0, \"one\" : 1, \"two\" : 2, \"three\" : 3, \"four\" : 4, \"five\" : 5, \"six\" : 6, \"seven\" : 7, \"eight\" : 8, \"nine\" : 9, \"ten\" : 10}\n",
    "    print(numdict[a]) \n",
    "    print(numdict[c])\n",
    "    \n",
    "    def calc(x,op,y):  \n",
    "        if op == \"plus\":\n",
    "            return x+y\n",
    "        elif op == \"minus\":\n",
    "            return x-y\n",
    "        else:\n",
    "            raise ValueError(\"Please write plus or minus\")\n",
    "    \n",
    "    print({a}, {b}, {c}, \"equals\" {calc(numdict[a], b, numdict[c])})\n",
    "\n",
    "    print(\"Thanks for using this calculator, goodbye :)\")"
   ]
  },
  {
   "cell_type": "code",
   "execution_count": null,
   "metadata": {},
   "outputs": [],
   "source": []
  },
  {
   "cell_type": "raw",
   "metadata": {},
   "source": []
  }
 ],
 "metadata": {
  "kernelspec": {
   "display_name": "Python 3",
   "language": "python",
   "name": "python3"
  },
  "language_info": {
   "codemirror_mode": {
    "name": "ipython",
    "version": 3
   },
   "file_extension": ".py",
   "mimetype": "text/x-python",
   "name": "python",
   "nbconvert_exporter": "python",
   "pygments_lexer": "ipython3",
   "version": "3.8.5"
  }
 },
 "nbformat": 4,
 "nbformat_minor": 4
}
