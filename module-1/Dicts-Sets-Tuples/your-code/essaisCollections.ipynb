{
 "cells": [
  {
   "cell_type": "markdown",
   "metadata": {},
   "source": [
    "# Ceci est un titre de niveau 1"
   ]
  },
  {
   "cell_type": "markdown",
   "metadata": {},
   "source": [
    "Observations"
   ]
  },
  {
   "cell_type": "code",
   "execution_count": null,
   "metadata": {},
   "outputs": [],
   "source": [
    "salutation = \"Hey\"\n",
    "nom = \"Sidonie\"\n",
    "question=\"quel temps fait-il\"\n",
    "date = \"aujourd'hui\"\n",
    "\n",
    "out = \"%s %s, %s %s ?\" % (salutation, nom, question, date)\n",
    "out"
   ]
  },
  {
   "cell_type": "code",
   "execution_count": null,
   "metadata": {},
   "outputs": [],
   "source": [
    "salutation = \"Hello\"\n",
    "nom = \"Jacques\"\n",
    "question=\"ça va\"\n",
    "date = \"aujourd'hui\"\n",
    "\n",
    "out = f\"{salutation}, {nom}, {question} {date} ?\"\n",
    "out"
   ]
  },
  {
   "cell_type": "code",
   "execution_count": null,
   "metadata": {},
   "outputs": [],
   "source": [
    "nom=\"Bob\"\n",
    "âge=\"22\"\n",
    "print(\"Bonjour \" + nom + \", j'ai \" + âge + \" ans, et toi ?\")\n",
    "print(f\"Bonjour {nom}, j'ai {âge} ans, et toi ?\")\n",
    "print(\"Bonjour %s, j'ai %s ans, et toi ?\" % (nom, âge))"
   ]
  },
  {
   "cell_type": "code",
   "execution_count": null,
   "metadata": {},
   "outputs": [],
   "source": [
    "y=\"waoou\"\n",
    "def addition(arg1, arg2=2):\n",
    "    x = arg1**3 , arg2*\"youpi \"\n",
    "    return x, y\n",
    "    \n",
    "print(addition(4))\n",
    "print(addition(4,6))"
   ]
  },
  {
   "cell_type": "code",
   "execution_count": null,
   "metadata": {},
   "outputs": [],
   "source": [
    "var=''\n",
    "type(var)"
   ]
  },
  {
   "cell_type": "code",
   "execution_count": null,
   "metadata": {},
   "outputs": [],
   "source": [
    "if var:\n",
    "    print(\"'if var:' means 'if var==True'\")\n",
    "else:\n",
    "    print(\"An empty var is always false\")"
   ]
  },
  {
   "cell_type": "code",
   "execution_count": null,
   "metadata": {},
   "outputs": [],
   "source": [
    "var=1\n",
    "\n",
    "print(var==2)\n",
    "print(any([var!=2,var>=2]))\n",
    "print(all([var!=2,var>=2]))"
   ]
  },
  {
   "cell_type": "code",
   "execution_count": null,
   "metadata": {},
   "outputs": [],
   "source": [
    "mystr=\"hello\"\n",
    "print(mystr.isupper())\n",
    "print(mystr in \"Je vous dis hello!\")\n",
    "print(any([mystr.startswith(\"H\"), mystr.isdigit()]))\n",
    "print(all([mystr.isdigit, mystr.islower()]))"
   ]
  },
  {
   "cell_type": "code",
   "execution_count": null,
   "metadata": {},
   "outputs": [],
   "source": [
    "print(sorted([5,0,9]))\n",
    "print(sorted([5,0,91],reverse=True))\n",
    "print(sorted(mystr))\n",
    "print(sorted(mystr,reverse=True))"
   ]
  },
  {
   "cell_type": "code",
   "execution_count": null,
   "metadata": {},
   "outputs": [],
   "source": [
    "import re\n",
    "text= \"a&3T312\""
   ]
  },
  {
   "cell_type": "code",
   "execution_count": null,
   "metadata": {},
   "outputs": [],
   "source": [
    "print(re.findall(\"([A-Z]+.*[a-z]+.*\\d+.*)|([a-z]+.*[A-Z]+.*\\d+.*)|(\\d+.*[A-Z]+.*[a-z]+.*)|(\\d+.*[a-z]+.*[A-Z]+.*)\", text))"
   ]
  },
  {
   "cell_type": "code",
   "execution_count": null,
   "metadata": {},
   "outputs": [],
   "source": [
    "print(re.findall(\"([^A-Za-z0-9]+[A-Z]+.*[a-z]+.*\\d+.*)|([^A-Za-z0-9]+[a-z]+.*[A-Z]+.*\\d+.*)|(\\d+.*[A-Z]+.*[a-z]+.*)|[^A-Za-z0-9](\\d+.*[a-z]+.*[A-Z]+.*)\", text))"
   ]
  },
  {
   "cell_type": "code",
   "execution_count": null,
   "metadata": {},
   "outputs": [],
   "source": [
    "n = 4\n",
    "[n for n in range(n + 1)]"
   ]
  },
  {
   "cell_type": "code",
   "execution_count": 14,
   "metadata": {},
   "outputs": [],
   "source": [
    "import re\n",
    "text = 'Ms Rogers, my so-called neighbor, has 5 dogs!!'\n",
    "re.findall(\"[^0-5]+\", text)"
   ]
  },
  {
   "cell_type": "code",
   "execution_count": 15,
   "metadata": {},
   "outputs": [
    {
     "data": {
      "text/plain": [
       "[' ', ',', ' ', ' ', '-', ' ', ',', ' ', ' ', ' ', '!', '!']"
      ]
     },
     "execution_count": 15,
     "metadata": {},
     "output_type": "execute_result"
    }
   ],
   "source": [
    "re.findall(\"\\W\", text)"
   ]
  },
  {
   "cell_type": "code",
   "execution_count": null,
   "metadata": {},
   "outputs": [],
   "source": []
  },
  {
   "cell_type": "code",
   "execution_count": 16,
   "metadata": {},
   "outputs": [
    {
     "name": "stdout",
     "output_type": "stream",
     "text": [
      "['Je suis en pleine forme.\\n', \"- Tu n'as pas faim ?\\n\", '- Non.', '']\n",
      "['Je suis en pleine forme.', '', \"- Tu n'as pas faim ?\", '', '- Non.', '']\n"
     ]
    }
   ],
   "source": [
    "text= '''Je suis en pleine forme.\n",
    "- Tu n'as pas faim ?\n",
    "- Non.'''\n",
    "\n",
    "# best\n",
    "print(re.findall(\".*\\n*\",text))\n",
    "# as compared with (does not include newline)\n",
    "print(re.findall(\".*\",text))"
   ]
  },
  {
   "cell_type": "code",
   "execution_count": 17,
   "metadata": {},
   "outputs": [
    {
     "name": "stdout",
     "output_type": "stream",
     "text": [
      "{'dark': 'Lindt', 'milk': 'Kinder', 'white': 'Galak'}\n",
      "{'dark': 'Lindt', 'milk': 'Kinder', 'white': 'Galak'}\n",
      "{'dark': 'Lindt', 'milk': 'Kinder', 'white': 'Galak'}\n"
     ]
    }
   ],
   "source": [
    "list1=[\"dark\",\"milk\",\"white\"]\n",
    "list2=[\"Lindt\",\"Kinder\",\"Galak\"]\n",
    "\n",
    "print({k:v for k,v in zip(list1,list2)})\n",
    "# or\n",
    "print({list1[i]:list2[i] for i in range(len(list1))})\n",
    "\n",
    "# instead of \n",
    "mydict={}\n",
    "for k,v in zip(list1,list2):\n",
    "    mydict.update({k:v})\n",
    "print(mydict)"
   ]
  },
  {
   "cell_type": "code",
   "execution_count": 18,
   "metadata": {},
   "outputs": [
    {
     "data": {
      "text/plain": [
       "{0: 'dark', 1: 'milk', 2: 'white'}"
      ]
     },
     "execution_count": 18,
     "metadata": {},
     "output_type": "execute_result"
    }
   ],
   "source": [
    "{k:v for k,v in enumerate(list1)}"
   ]
  },
  {
   "cell_type": "code",
   "execution_count": 19,
   "metadata": {},
   "outputs": [
    {
     "name": "stdout",
     "output_type": "stream",
     "text": [
      "{'arbre': 4, 'poussin': 2, 'barbe': 1}\n"
     ]
    }
   ],
   "source": [
    "mylist = [\"arbre\",\"poussin\",\"arbre\",\"arbre\",\"arbre\",\"barbe\",\"poussin\"]\n",
    "print({i:mylist.count(i) for i in mylist})"
   ]
  },
  {
   "cell_type": "code",
   "execution_count": 20,
   "metadata": {},
   "outputs": [
    {
     "data": {
      "text/plain": [
       "True"
      ]
     },
     "execution_count": 20,
     "metadata": {},
     "output_type": "execute_result"
    }
   ],
   "source": [
    "\"arbre\" in set(mylist)\n",
    "# plus rapide que\n",
    "\"arbre\" in mylist"
   ]
  },
  {
   "cell_type": "code",
   "execution_count": 22,
   "metadata": {},
   "outputs": [
    {
     "data": {
      "text/plain": [
       "'123'"
      ]
     },
     "execution_count": 22,
     "metadata": {},
     "output_type": "execute_result"
    }
   ],
   "source": [
    "str(123)"
   ]
  },
  {
   "cell_type": "code",
   "execution_count": null,
   "metadata": {},
   "outputs": [],
   "source": [
    "while True:\n",
    "    choice=input(\"Please choose a number between 0 and 9. Your choice: \")\n",
    "    if not choice.isdigit:\n",
    "        print(\"Not recognized. Please choose again.\")\n",
    "    else:\n",
    "        print(\"Thank you!\")\n",
    "        break\n",
    "\n",
    "print(\"Let's move to our next lesson.\")"
   ]
  },
  {
   "cell_type": "code",
   "execution_count": null,
   "metadata": {},
   "outputs": [],
   "source": [
    "while True:\n",
    "    choice=input(\"Please choose a number between 0 and 9. Your choice: \")\n",
    "    if int(choice) in list(range(10)):\n",
    "        print(\"Thank you!\")\n",
    "        break"
   ]
  },
  {
   "cell_type": "code",
   "execution_count": null,
   "metadata": {},
   "outputs": [],
   "source": []
  }
 ],
 "metadata": {
  "kernelspec": {
   "display_name": "Python 3",
   "language": "python",
   "name": "python3"
  },
  "language_info": {
   "codemirror_mode": {
    "name": "ipython",
    "version": 3
   },
   "file_extension": ".py",
   "mimetype": "text/x-python",
   "name": "python",
   "nbconvert_exporter": "python",
   "pygments_lexer": "ipython3",
   "version": "3.8.5"
  }
 },
 "nbformat": 4,
 "nbformat_minor": 4
}
