{
 "cells": [
  {
   "cell_type": "markdown",
   "metadata": {},
   "source": [
    "# Working with RSS Feeds Lab\n",
    "\n",
    "Complete the following set of exercises to solidify your knowledge of parsing RSS feeds and extracting information from them."
   ]
  },
  {
   "cell_type": "markdown",
   "metadata": {},
   "source": [
    "### 1. Use feedparser to parse the following RSS feed URL."
   ]
  },
  {
   "cell_type": "code",
   "execution_count": 1,
   "metadata": {},
   "outputs": [],
   "source": [
    "url = 'https://www.francetvinfo.fr/titres.rss'\n",
    "\n",
    "import feedparser\n",
    "from pprint import pprint\n",
    "\n",
    "ffeed = feedparser.parse(url)"
   ]
  },
  {
   "cell_type": "markdown",
   "metadata": {},
   "source": [
    "### 2. Obtain a list of components (keys) that are available for this feed."
   ]
  },
  {
   "cell_type": "code",
   "execution_count": 2,
   "metadata": {},
   "outputs": [
    {
     "data": {
      "text/plain": [
       "dict_keys(['bozo', 'entries', 'feed', 'headers', 'etag', 'updated', 'updated_parsed', 'href', 'status', 'encoding', 'version', 'namespaces'])"
      ]
     },
     "execution_count": 2,
     "metadata": {},
     "output_type": "execute_result"
    }
   ],
   "source": [
    "ffeed.keys()"
   ]
  },
  {
   "cell_type": "markdown",
   "metadata": {},
   "source": [
    "### 3. Obtain a list of components (keys) that are available for the *feed* component of this RSS feed."
   ]
  },
  {
   "cell_type": "code",
   "execution_count": 4,
   "metadata": {},
   "outputs": [
    {
     "name": "stdout",
     "output_type": "stream",
     "text": [
      "<class 'feedparser.util.FeedParserDict'>\n"
     ]
    }
   ],
   "source": [
    "print(type(ffeed.feed))"
   ]
  },
  {
   "cell_type": "code",
   "execution_count": 5,
   "metadata": {},
   "outputs": [
    {
     "name": "stdout",
     "output_type": "stream",
     "text": [
      "dict_keys(['title', 'title_detail', 'subtitle', 'subtitle_detail', 'published', 'published_parsed', 'generator_detail', 'generator', 'links', 'link'])\n"
     ]
    }
   ],
   "source": [
    "print(ffeed.feed.keys())"
   ]
  },
  {
   "cell_type": "markdown",
   "metadata": {},
   "source": [
    "### 4. Extract and print the feed title, published, published_parsed and link."
   ]
  },
  {
   "cell_type": "code",
   "execution_count": 21,
   "metadata": {},
   "outputs": [
    {
     "name": "stdout",
     "output_type": "stream",
     "text": [
      "Franceinfo - Les Titres\n",
      "Thu, 08 Apr 2021 12:33:04 +0200\n",
      "time.struct_time(tm_year=2021, tm_mon=4, tm_mday=8, tm_hour=10, tm_min=33, tm_sec=4, tm_wday=3, tm_yday=98, tm_isdst=0)\n",
      "https://www.francetvinfo.fr/titres/\n"
     ]
    }
   ],
   "source": [
    "print(ffeed.feed['title'])\n",
    "print(ffeed.feed['published'])\n",
    "print(ffeed.feed['published_parsed'])\n",
    "print(ffeed.feed['link'])    "
   ]
  },
  {
   "cell_type": "markdown",
   "metadata": {},
   "source": [
    "### 5. Count the number of entries that are contained in this RSS feed."
   ]
  },
  {
   "cell_type": "code",
   "execution_count": 7,
   "metadata": {},
   "outputs": [
    {
     "name": "stdout",
     "output_type": "stream",
     "text": [
      "<class 'list'>\n",
      "34\n",
      "{'guidislink': False,\n",
      " 'id': 'https://www.francetvinfo.fr/societe/euthanasie/fin-de-vie-comment-la-crise-du-covid-19-a-fait-resurgir-le-debat-sur-le-suicide-assiste-et-l-euthanasie_4346873.html#xtor=RSS-3-[lestitres]',\n",
      " 'link': 'https://www.francetvinfo.fr/societe/euthanasie/fin-de-vie-comment-la-crise-du-covid-19-a-fait-resurgir-le-debat-sur-le-suicide-assiste-et-l-euthanasie_4346873.html#xtor=RSS-3-[lestitres]',\n",
      " 'links': [{'href': 'https://www.francetvinfo.fr/societe/euthanasie/fin-de-vie-comment-la-crise-du-covid-19-a-fait-resurgir-le-debat-sur-le-suicide-assiste-et-l-euthanasie_4346873.html#xtor=RSS-3-[lestitres]',\n",
      "            'rel': 'alternate',\n",
      "            'type': 'text/html'},\n",
      "           {'href': 'https://www.francetvinfo.fr/image/75whucv4j-308d/500/281/23395429.png',\n",
      "            'length': '29001',\n",
      "            'rel': 'enclosure',\n",
      "            'type': 'image/jpeg'}],\n",
      " 'published': 'Thu, 08 Apr 2021 11:34:08 +0200',\n",
      " 'published_parsed': time.struct_time(tm_year=2021, tm_mon=4, tm_mday=8, tm_hour=9, tm_min=34, tm_sec=8, tm_wday=3, tm_yday=98, tm_isdst=0),\n",
      " 'summary': 'Une proposition de loi pour une \"fin de vie libre et choisie\" est '\n",
      "            \"débattue jeudi 8 avril à l'Assemblée nationale. Des \"\n",
      "            \"parlementaires de divers bords politiques s'allient pour faire \"\n",
      "            'évoluer la législation, mais le gouvernement y est défavorable.',\n",
      " 'summary_detail': {'base': 'https://www.francetvinfo.fr/titres.rss',\n",
      "                    'language': None,\n",
      "                    'type': 'text/html',\n",
      "                    'value': 'Une proposition de loi pour une \"fin de vie '\n",
      "                             'libre et choisie\" est débattue jeudi 8 avril à '\n",
      "                             \"l'Assemblée nationale. Des parlementaires de \"\n",
      "                             \"divers bords politiques s'allient pour faire \"\n",
      "                             'évoluer la législation, mais le gouvernement y '\n",
      "                             'est défavorable.'},\n",
      " 'title': 'Fin de vie : comment la crise du Covid-19 a fait resurgir le débat '\n",
      "          \"sur le suicide assisté et l'euthanasie\",\n",
      " 'title_detail': {'base': 'https://www.francetvinfo.fr/titres.rss',\n",
      "                  'language': None,\n",
      "                  'type': 'text/plain',\n",
      "                  'value': 'Fin de vie : comment la crise du Covid-19 a fait '\n",
      "                           'resurgir le débat sur le suicide assisté et '\n",
      "                           \"l'euthanasie\"}}\n"
     ]
    }
   ],
   "source": [
    "print(type(ffeed['entries']))\n",
    "print(len(ffeed['entries']))\n",
    "for entry in ffeed.entries:\n",
    "    pprint(entry)\n",
    "    break"
   ]
  },
  {
   "cell_type": "markdown",
   "metadata": {},
   "source": [
    "### 6. Obtain a list of components (keys) available for an entry.\n",
    "\n",
    "*Hint: Remember to index first before requesting the keys*"
   ]
  },
  {
   "cell_type": "code",
   "execution_count": 8,
   "metadata": {},
   "outputs": [
    {
     "data": {
      "text/plain": [
       "dict_keys(['title', 'title_detail', 'summary', 'summary_detail', 'published', 'published_parsed', 'links', 'link', 'id', 'guidislink'])"
      ]
     },
     "execution_count": 8,
     "metadata": {},
     "output_type": "execute_result"
    }
   ],
   "source": [
    "ffeed.entries[0].keys()"
   ]
  },
  {
   "cell_type": "markdown",
   "metadata": {},
   "source": [
    "### 7. Extract a list of entry titles."
   ]
  },
  {
   "cell_type": "code",
   "execution_count": 9,
   "metadata": {},
   "outputs": [
    {
     "name": "stdout",
     "output_type": "stream",
     "text": [
      "34\n"
     ]
    },
    {
     "data": {
      "text/plain": [
       "[\"Fin de vie : comment la crise du Covid-19 a fait resurgir le débat sur le suicide assisté et l'euthanasie\",\n",
       " 'VIDEO. Christiane, atteinte de la maladie de Charcot, a choisi de se faire euthanasier en Belgique',\n",
       " 'Euthanasie : \"Il faut trouver une solution en France\", affirme un médecin belge qui voit arriver des Français \"au bout du bout\"',\n",
       " 'Euthanasie : \"Quand quelqu\\'un est incurable, c\\'est inhumain de ne pas abréger ses souffrances\", juge Françoise Hardy',\n",
       " 'REPORTAGE. Débat sur l’euthanasie : plongée dans une unité de soins palliatifs',\n",
       " 'Euthanasie : \"Il y a d\\'autres voies\" pour le député-médecin Marc Delatte, qui soulève un problème \"éthique\"',\n",
       " \"Emmanuel Macron va annoncer la suppression de l'ENA cet après-midi\",\n",
       " 'Enseignement à distance : le Cned annonce être de nouveau victime de cyberattaques',\n",
       " 'Vrai ou faux \"Salvator Mundi\" ? : révélations autour du \"tableau le plus cher au monde\" dans un documentaire diffusé sur France 5',\n",
       " \"Tennis : le tournoi de Roland-Garros reporté d'une semaine du fait de l'épidémie de Covid-19\",\n",
       " \"Vaccin AstraZeneca : quelles conséquences en France après le rapport de l'Agence européenne du médicament ?\",\n",
       " \"Nouvelle-Calédonie : les indépendantistes demandent l'organisation d'un troisième référendum\",\n",
       " \"APPEL A TEMOIGNAGES. Covid-19 : l'un de vos proches a été emporté par la maladie et vous voulez lui rendre hommage ? Contactez-nous\",\n",
       " 'DIRECT. Covid-19 : plus de 5\\xa0700 malades dans les services de soins critiques',\n",
       " 'Avec la parution des \"75 Feuillets et autres manuscrits inédits\" de Proust, les origines de \"A la recherche du temps perdu\" enfin dévoilées',\n",
       " '\"Personne n\\'a envie de tuer des moulins...\"\\xa0: le sort des moulins à eau embrase les débats à l\\'Assemblée nationale',\n",
       " \"Béziers : la jeune femme soupçonnée d'avoir voulu commettre un attentat a été présentée à la justice en vue de sa mise en examen\",\n",
       " 'VIDEO. François Bayrou est \"pleinement engagé dans le soutien à ce que le président de la République fait\"',\n",
       " \"Birmanie : des diplomates pro-junte se sont emparés de l'ambassade à Londres, évinçant l'ambassadeur favorable à Aung San Suu Kyi\",\n",
       " 'REPORTAGE. Orléans : dans le théâtre occupé, des intermittents se mobilisent pour mettre en lumière la situation de tous les précaires',\n",
       " 'Face au déferlement de manuscrits, Gallimard freine les ardeurs des aspirants écrivains',\n",
       " '\"Punk, dépressif... héros\" : le portrait décalé de Napoléon par Philippe Perfettini, spécialiste de l’Empereur',\n",
       " 'Quatre régions françaises passent une première commande de trains à hydrogène',\n",
       " \"Vaccination contre le Covid-19 : ce que dit l'Institut Pasteur à propos d'une possible fin des gestes barrières à l'automne\",\n",
       " \"Ligue des champions : miraculé, le PSG fait tomber l'invincible Bayern Munich en quart de finale aller\",\n",
       " \"Ce que l'on sait du lien entre le vaccin AstraZeneca et les très rares cas de thromboses après la mise au point de l'Agence européenne des médicaments\",\n",
       " \"Covid-19 : la Belgique réserve le vaccin AstraZeneca aux plus de 55 ans, l'Italie et l'Espagne aux plus de 60 ans\",\n",
       " 'INFO FRANCEINFO. Covid-19 : 38% des salariés du privé ont télétravaillé partiellement la semaine dernière, selon une enquête',\n",
       " 'Les Etats-Unis annoncent la reprise de leur aide aux Palestiniens, tout en défendant une solution à deux Etats',\n",
       " 'Dîners clandestins : une perquisition menée chez le cuisinier Christophe Leroy',\n",
       " 'Comment un affront infligé à Ursula von der Leyen en Turquie a provoqué une controverse en Europe',\n",
       " \"Facebook : cinq questions sur la fuite de données de 533 millions d'utilisateurs à travers le monde, dont 20 millions de Français\",\n",
       " 'Dîners clandestins ou soirées privées entre amis\\xa0? On vous explique comment la loi les distingue',\n",
       " 'APPEL A TEMOIGNAGES. Confinement : familles monoparentales, vous avez du mal à concilier la garde de vos enfants avec votre travail ? Contactez-nous']"
      ]
     },
     "execution_count": 9,
     "metadata": {},
     "output_type": "execute_result"
    }
   ],
   "source": [
    "listoftitles = [ffeed.entries[i]['title'] for i in range(len(ffeed.entries))]\n",
    "print(len(listoftitles))\n",
    "listoftitles"
   ]
  },
  {
   "cell_type": "markdown",
   "metadata": {},
   "source": [
    "### 8. Calculate the percentage of entry titles that start with the word \"Covid\"."
   ]
  },
  {
   "cell_type": "code",
   "execution_count": 10,
   "metadata": {},
   "outputs": [
    {
     "name": "stdout",
     "output_type": "stream",
     "text": [
      "3 %\n"
     ]
    }
   ],
   "source": [
    "perc = round(len([i for i in listoftitles if i.startswith(\"Covid\")])*100/len(listoftitles))\n",
    "print(f'{perc} %')"
   ]
  },
  {
   "cell_type": "markdown",
   "metadata": {},
   "source": [
    "### 9. Create a list of entry titles whose summary includes the word \"vaccin\"."
   ]
  },
  {
   "cell_type": "code",
   "execution_count": 11,
   "metadata": {},
   "outputs": [
    {
     "name": "stdout",
     "output_type": "stream",
     "text": [
      "5\n"
     ]
    },
    {
     "data": {
      "text/plain": [
       "[\"Vaccin AstraZeneca : quelles conséquences en France après le rapport de l'Agence européenne du médicament ?\",\n",
       " 'DIRECT. Covid-19 : plus de 5\\xa0700 malades dans les services de soins critiques',\n",
       " \"Vaccination contre le Covid-19 : ce que dit l'Institut Pasteur à propos d'une possible fin des gestes barrières à l'automne\",\n",
       " \"Ce que l'on sait du lien entre le vaccin AstraZeneca et les très rares cas de thromboses après la mise au point de l'Agence européenne des médicaments\",\n",
       " \"Covid-19 : la Belgique réserve le vaccin AstraZeneca aux plus de 55 ans, l'Italie et l'Espagne aux plus de 60 ans\"]"
      ]
     },
     "execution_count": 11,
     "metadata": {},
     "output_type": "execute_result"
    }
   ],
   "source": [
    "titlelist = [listoftitles[i] for i in range(len(listoftitles)) if \"vaccin\" in ffeed.entries[i].summary]\n",
    "print(len(titlelist))\n",
    "titlelist"
   ]
  },
  {
   "cell_type": "markdown",
   "metadata": {},
   "source": [
    "### 10. Create a Pandas data frame from the feed's entries."
   ]
  },
  {
   "cell_type": "code",
   "execution_count": 12,
   "metadata": {},
   "outputs": [
    {
     "data": {
      "text/html": [
       "<div>\n",
       "<style scoped>\n",
       "    .dataframe tbody tr th:only-of-type {\n",
       "        vertical-align: middle;\n",
       "    }\n",
       "\n",
       "    .dataframe tbody tr th {\n",
       "        vertical-align: top;\n",
       "    }\n",
       "\n",
       "    .dataframe thead th {\n",
       "        text-align: right;\n",
       "    }\n",
       "</style>\n",
       "<table border=\"1\" class=\"dataframe\">\n",
       "  <thead>\n",
       "    <tr style=\"text-align: right;\">\n",
       "      <th></th>\n",
       "      <th>title</th>\n",
       "      <th>title_detail</th>\n",
       "      <th>summary</th>\n",
       "      <th>summary_detail</th>\n",
       "      <th>published</th>\n",
       "      <th>published_parsed</th>\n",
       "      <th>links</th>\n",
       "      <th>link</th>\n",
       "      <th>id</th>\n",
       "      <th>guidislink</th>\n",
       "    </tr>\n",
       "  </thead>\n",
       "  <tbody>\n",
       "    <tr>\n",
       "      <th>0</th>\n",
       "      <td>Fin de vie : comment la crise du Covid-19 a fa...</td>\n",
       "      <td>{'type': 'text/plain', 'language': None, 'base...</td>\n",
       "      <td>Une proposition de loi pour une \"fin de vie li...</td>\n",
       "      <td>{'type': 'text/html', 'language': None, 'base'...</td>\n",
       "      <td>Thu, 08 Apr 2021 11:34:08 +0200</td>\n",
       "      <td>(2021, 4, 8, 9, 34, 8, 3, 98, 0)</td>\n",
       "      <td>[{'rel': 'alternate', 'type': 'text/html', 'hr...</td>\n",
       "      <td>https://www.francetvinfo.fr/societe/euthanasie...</td>\n",
       "      <td>https://www.francetvinfo.fr/societe/euthanasie...</td>\n",
       "      <td>False</td>\n",
       "    </tr>\n",
       "    <tr>\n",
       "      <th>1</th>\n",
       "      <td>VIDEO. Christiane, atteinte de la maladie de C...</td>\n",
       "      <td>{'type': 'text/plain', 'language': None, 'base...</td>\n",
       "      <td>Le débat à l'Assemblée nationale ce jeudi 8&amp;nb...</td>\n",
       "      <td>{'type': 'text/html', 'language': None, 'base'...</td>\n",
       "      <td>Thu, 08 Apr 2021 11:18:12 +0200</td>\n",
       "      <td>(2021, 4, 8, 9, 18, 12, 3, 98, 0)</td>\n",
       "      <td>[{'rel': 'alternate', 'type': 'text/html', 'hr...</td>\n",
       "      <td>https://www.francetvinfo.fr/sante/maladie/vide...</td>\n",
       "      <td>https://www.francetvinfo.fr/sante/maladie/vide...</td>\n",
       "      <td>False</td>\n",
       "    </tr>\n",
       "    <tr>\n",
       "      <th>2</th>\n",
       "      <td>Euthanasie : \"Il faut trouver une solution en ...</td>\n",
       "      <td>{'type': 'text/plain', 'language': None, 'base...</td>\n",
       "      <td>Médecin généraliste à Bruxelles, il pratique l...</td>\n",
       "      <td>{'type': 'text/html', 'language': None, 'base'...</td>\n",
       "      <td>Thu, 08 Apr 2021 09:37:05 +0200</td>\n",
       "      <td>(2021, 4, 8, 7, 37, 5, 3, 98, 0)</td>\n",
       "      <td>[{'rel': 'alternate', 'type': 'text/html', 'hr...</td>\n",
       "      <td>https://www.francetvinfo.fr/societe/euthanasie...</td>\n",
       "      <td>https://www.francetvinfo.fr/societe/euthanasie...</td>\n",
       "      <td>False</td>\n",
       "    </tr>\n",
       "    <tr>\n",
       "      <th>3</th>\n",
       "      <td>Euthanasie : \"Quand quelqu'un est incurable, c...</td>\n",
       "      <td>{'type': 'text/plain', 'language': None, 'base...</td>\n",
       "      <td>Les députés examinent&amp;nbsp;jeudi 8 avril une p...</td>\n",
       "      <td>{'type': 'text/html', 'language': None, 'base'...</td>\n",
       "      <td>Thu, 08 Apr 2021 08:59:26 +0200</td>\n",
       "      <td>(2021, 4, 8, 6, 59, 26, 3, 98, 0)</td>\n",
       "      <td>[{'rel': 'alternate', 'type': 'text/html', 'hr...</td>\n",
       "      <td>https://www.francetvinfo.fr/societe/euthanasie...</td>\n",
       "      <td>https://www.francetvinfo.fr/societe/euthanasie...</td>\n",
       "      <td>False</td>\n",
       "    </tr>\n",
       "    <tr>\n",
       "      <th>4</th>\n",
       "      <td>REPORTAGE. Débat sur l’euthanasie : plongée da...</td>\n",
       "      <td>{'type': 'text/plain', 'language': None, 'base...</td>\n",
       "      <td>Les députés examineront, jeudi, un texte pour ...</td>\n",
       "      <td>{'type': 'text/html', 'language': None, 'base'...</td>\n",
       "      <td>Wed, 07 Apr 2021 23:28:46 +0200</td>\n",
       "      <td>(2021, 4, 7, 21, 28, 46, 2, 97, 0)</td>\n",
       "      <td>[{'rel': 'alternate', 'type': 'text/html', 'hr...</td>\n",
       "      <td>https://www.francetvinfo.fr/societe/euthanasie...</td>\n",
       "      <td>https://www.francetvinfo.fr/societe/euthanasie...</td>\n",
       "      <td>False</td>\n",
       "    </tr>\n",
       "  </tbody>\n",
       "</table>\n",
       "</div>"
      ],
      "text/plain": [
       "                                               title  \\\n",
       "0  Fin de vie : comment la crise du Covid-19 a fa...   \n",
       "1  VIDEO. Christiane, atteinte de la maladie de C...   \n",
       "2  Euthanasie : \"Il faut trouver une solution en ...   \n",
       "3  Euthanasie : \"Quand quelqu'un est incurable, c...   \n",
       "4  REPORTAGE. Débat sur l’euthanasie : plongée da...   \n",
       "\n",
       "                                        title_detail  \\\n",
       "0  {'type': 'text/plain', 'language': None, 'base...   \n",
       "1  {'type': 'text/plain', 'language': None, 'base...   \n",
       "2  {'type': 'text/plain', 'language': None, 'base...   \n",
       "3  {'type': 'text/plain', 'language': None, 'base...   \n",
       "4  {'type': 'text/plain', 'language': None, 'base...   \n",
       "\n",
       "                                             summary  \\\n",
       "0  Une proposition de loi pour une \"fin de vie li...   \n",
       "1  Le débat à l'Assemblée nationale ce jeudi 8&nb...   \n",
       "2  Médecin généraliste à Bruxelles, il pratique l...   \n",
       "3  Les députés examinent&nbsp;jeudi 8 avril une p...   \n",
       "4  Les députés examineront, jeudi, un texte pour ...   \n",
       "\n",
       "                                      summary_detail  \\\n",
       "0  {'type': 'text/html', 'language': None, 'base'...   \n",
       "1  {'type': 'text/html', 'language': None, 'base'...   \n",
       "2  {'type': 'text/html', 'language': None, 'base'...   \n",
       "3  {'type': 'text/html', 'language': None, 'base'...   \n",
       "4  {'type': 'text/html', 'language': None, 'base'...   \n",
       "\n",
       "                         published                    published_parsed  \\\n",
       "0  Thu, 08 Apr 2021 11:34:08 +0200    (2021, 4, 8, 9, 34, 8, 3, 98, 0)   \n",
       "1  Thu, 08 Apr 2021 11:18:12 +0200   (2021, 4, 8, 9, 18, 12, 3, 98, 0)   \n",
       "2  Thu, 08 Apr 2021 09:37:05 +0200    (2021, 4, 8, 7, 37, 5, 3, 98, 0)   \n",
       "3  Thu, 08 Apr 2021 08:59:26 +0200   (2021, 4, 8, 6, 59, 26, 3, 98, 0)   \n",
       "4  Wed, 07 Apr 2021 23:28:46 +0200  (2021, 4, 7, 21, 28, 46, 2, 97, 0)   \n",
       "\n",
       "                                               links  \\\n",
       "0  [{'rel': 'alternate', 'type': 'text/html', 'hr...   \n",
       "1  [{'rel': 'alternate', 'type': 'text/html', 'hr...   \n",
       "2  [{'rel': 'alternate', 'type': 'text/html', 'hr...   \n",
       "3  [{'rel': 'alternate', 'type': 'text/html', 'hr...   \n",
       "4  [{'rel': 'alternate', 'type': 'text/html', 'hr...   \n",
       "\n",
       "                                                link  \\\n",
       "0  https://www.francetvinfo.fr/societe/euthanasie...   \n",
       "1  https://www.francetvinfo.fr/sante/maladie/vide...   \n",
       "2  https://www.francetvinfo.fr/societe/euthanasie...   \n",
       "3  https://www.francetvinfo.fr/societe/euthanasie...   \n",
       "4  https://www.francetvinfo.fr/societe/euthanasie...   \n",
       "\n",
       "                                                  id  guidislink  \n",
       "0  https://www.francetvinfo.fr/societe/euthanasie...       False  \n",
       "1  https://www.francetvinfo.fr/sante/maladie/vide...       False  \n",
       "2  https://www.francetvinfo.fr/societe/euthanasie...       False  \n",
       "3  https://www.francetvinfo.fr/societe/euthanasie...       False  \n",
       "4  https://www.francetvinfo.fr/societe/euthanasie...       False  "
      ]
     },
     "execution_count": 12,
     "metadata": {},
     "output_type": "execute_result"
    }
   ],
   "source": [
    "import pandas as pd\n",
    "df = pd.DataFrame(ffeed.entries)\n",
    "df.head()"
   ]
  },
  {
   "cell_type": "code",
   "execution_count": 13,
   "metadata": {},
   "outputs": [
    {
     "data": {
      "text/html": [
       "<div>\n",
       "<style scoped>\n",
       "    .dataframe tbody tr th:only-of-type {\n",
       "        vertical-align: middle;\n",
       "    }\n",
       "\n",
       "    .dataframe tbody tr th {\n",
       "        vertical-align: top;\n",
       "    }\n",
       "\n",
       "    .dataframe thead th {\n",
       "        text-align: right;\n",
       "    }\n",
       "</style>\n",
       "<table border=\"1\" class=\"dataframe\">\n",
       "  <thead>\n",
       "    <tr style=\"text-align: right;\">\n",
       "      <th></th>\n",
       "      <th>title</th>\n",
       "      <th>summary</th>\n",
       "      <th>published</th>\n",
       "      <th>published_parsed</th>\n",
       "      <th>links</th>\n",
       "      <th>link</th>\n",
       "      <th>id</th>\n",
       "      <th>guidislink</th>\n",
       "      <th>title_detail.type</th>\n",
       "      <th>title_detail.language</th>\n",
       "      <th>title_detail.base</th>\n",
       "      <th>title_detail.value</th>\n",
       "      <th>summary_detail.type</th>\n",
       "      <th>summary_detail.language</th>\n",
       "      <th>summary_detail.base</th>\n",
       "      <th>summary_detail.value</th>\n",
       "    </tr>\n",
       "  </thead>\n",
       "  <tbody>\n",
       "    <tr>\n",
       "      <th>0</th>\n",
       "      <td>Fin de vie : comment la crise du Covid-19 a fa...</td>\n",
       "      <td>Une proposition de loi pour une \"fin de vie li...</td>\n",
       "      <td>Thu, 08 Apr 2021 11:34:08 +0200</td>\n",
       "      <td>(2021, 4, 8, 9, 34, 8, 3, 98, 0)</td>\n",
       "      <td>[{'rel': 'alternate', 'type': 'text/html', 'hr...</td>\n",
       "      <td>https://www.francetvinfo.fr/societe/euthanasie...</td>\n",
       "      <td>https://www.francetvinfo.fr/societe/euthanasie...</td>\n",
       "      <td>False</td>\n",
       "      <td>text/plain</td>\n",
       "      <td>None</td>\n",
       "      <td>https://www.francetvinfo.fr/titres.rss</td>\n",
       "      <td>Fin de vie : comment la crise du Covid-19 a fa...</td>\n",
       "      <td>text/html</td>\n",
       "      <td>None</td>\n",
       "      <td>https://www.francetvinfo.fr/titres.rss</td>\n",
       "      <td>Une proposition de loi pour une \"fin de vie li...</td>\n",
       "    </tr>\n",
       "  </tbody>\n",
       "</table>\n",
       "</div>"
      ],
      "text/plain": [
       "                                               title  \\\n",
       "0  Fin de vie : comment la crise du Covid-19 a fa...   \n",
       "\n",
       "                                             summary  \\\n",
       "0  Une proposition de loi pour une \"fin de vie li...   \n",
       "\n",
       "                         published                  published_parsed  \\\n",
       "0  Thu, 08 Apr 2021 11:34:08 +0200  (2021, 4, 8, 9, 34, 8, 3, 98, 0)   \n",
       "\n",
       "                                               links  \\\n",
       "0  [{'rel': 'alternate', 'type': 'text/html', 'hr...   \n",
       "\n",
       "                                                link  \\\n",
       "0  https://www.francetvinfo.fr/societe/euthanasie...   \n",
       "\n",
       "                                                  id  guidislink  \\\n",
       "0  https://www.francetvinfo.fr/societe/euthanasie...       False   \n",
       "\n",
       "  title_detail.type title_detail.language  \\\n",
       "0        text/plain                  None   \n",
       "\n",
       "                        title_detail.base  \\\n",
       "0  https://www.francetvinfo.fr/titres.rss   \n",
       "\n",
       "                                  title_detail.value summary_detail.type  \\\n",
       "0  Fin de vie : comment la crise du Covid-19 a fa...           text/html   \n",
       "\n",
       "  summary_detail.language                     summary_detail.base  \\\n",
       "0                    None  https://www.francetvinfo.fr/titres.rss   \n",
       "\n",
       "                                summary_detail.value  \n",
       "0  Une proposition de loi pour une \"fin de vie li...  "
      ]
     },
     "execution_count": 13,
     "metadata": {},
     "output_type": "execute_result"
    }
   ],
   "source": [
    "# or\n",
    "from pandas import json_normalize\n",
    "df2 = json_normalize(ffeed.entries)\n",
    "df2.head(1)"
   ]
  },
  {
   "cell_type": "markdown",
   "metadata": {},
   "source": [
    "### 11. Sort the DataFrame by title name in ascending order, then descending order."
   ]
  },
  {
   "cell_type": "code",
   "execution_count": 14,
   "metadata": {},
   "outputs": [
    {
     "data": {
      "text/html": [
       "<div>\n",
       "<style scoped>\n",
       "    .dataframe tbody tr th:only-of-type {\n",
       "        vertical-align: middle;\n",
       "    }\n",
       "\n",
       "    .dataframe tbody tr th {\n",
       "        vertical-align: top;\n",
       "    }\n",
       "\n",
       "    .dataframe thead th {\n",
       "        text-align: right;\n",
       "    }\n",
       "</style>\n",
       "<table border=\"1\" class=\"dataframe\">\n",
       "  <thead>\n",
       "    <tr style=\"text-align: right;\">\n",
       "      <th></th>\n",
       "      <th>title</th>\n",
       "      <th>title_detail</th>\n",
       "      <th>summary</th>\n",
       "      <th>summary_detail</th>\n",
       "      <th>published</th>\n",
       "      <th>published_parsed</th>\n",
       "      <th>links</th>\n",
       "      <th>link</th>\n",
       "      <th>id</th>\n",
       "      <th>guidislink</th>\n",
       "    </tr>\n",
       "  </thead>\n",
       "  <tbody>\n",
       "    <tr>\n",
       "      <th>15</th>\n",
       "      <td>\"Personne n'a envie de tuer des moulins...\" : ...</td>\n",
       "      <td>{'type': 'text/plain', 'language': None, 'base...</td>\n",
       "      <td>Les députés ont adopté mercredi un amendement ...</td>\n",
       "      <td>{'type': 'text/html', 'language': None, 'base'...</td>\n",
       "      <td>Thu, 08 Apr 2021 12:22:28 +0200</td>\n",
       "      <td>(2021, 4, 8, 10, 22, 28, 3, 98, 0)</td>\n",
       "      <td>[{'rel': 'alternate', 'type': 'text/html', 'hr...</td>\n",
       "      <td>https://www.francetvinfo.fr/monde/environnemen...</td>\n",
       "      <td>https://www.francetvinfo.fr/monde/environnemen...</td>\n",
       "      <td>False</td>\n",
       "    </tr>\n",
       "    <tr>\n",
       "      <th>21</th>\n",
       "      <td>\"Punk, dépressif... héros\" : le portrait décal...</td>\n",
       "      <td>{'type': 'text/plain', 'language': None, 'base...</td>\n",
       "      <td>C’est sans doute l’un des ouvrages les plus in...</td>\n",
       "      <td>{'type': 'text/html', 'language': None, 'base'...</td>\n",
       "      <td>Thu, 08 Apr 2021 09:56:33 +0200</td>\n",
       "      <td>(2021, 4, 8, 7, 56, 33, 3, 98, 0)</td>\n",
       "      <td>[{'rel': 'alternate', 'type': 'text/html', 'hr...</td>\n",
       "      <td>https://www.francetvinfo.fr/culture/patrimoine...</td>\n",
       "      <td>https://www.francetvinfo.fr/culture/patrimoine...</td>\n",
       "      <td>False</td>\n",
       "    </tr>\n",
       "    <tr>\n",
       "      <th>33</th>\n",
       "      <td>APPEL A TEMOIGNAGES. Confinement : familles mo...</td>\n",
       "      <td>{'type': 'text/plain', 'language': None, 'base...</td>\n",
       "      <td>En raison de la fermeture des écoles, les fami...</td>\n",
       "      <td>{'type': 'text/html', 'language': None, 'base'...</td>\n",
       "      <td>Wed, 07 Apr 2021 19:09:38 +0200</td>\n",
       "      <td>(2021, 4, 7, 17, 9, 38, 2, 97, 0)</td>\n",
       "      <td>[{'rel': 'alternate', 'type': 'text/html', 'hr...</td>\n",
       "      <td>https://www.francetvinfo.fr/sante/maladie/coro...</td>\n",
       "      <td>https://www.francetvinfo.fr/sante/maladie/coro...</td>\n",
       "      <td>False</td>\n",
       "    </tr>\n",
       "    <tr>\n",
       "      <th>12</th>\n",
       "      <td>APPEL A TEMOIGNAGES. Covid-19 : l'un de vos pr...</td>\n",
       "      <td>{'type': 'text/plain', 'language': None, 'base...</td>\n",
       "      <td>Depuis le début de la pandémie, le Covid-19 a ...</td>\n",
       "      <td>{'type': 'text/html', 'language': None, 'base'...</td>\n",
       "      <td>Tue, 06 Apr 2021 19:02:59 +0200</td>\n",
       "      <td>(2021, 4, 6, 17, 2, 59, 1, 96, 0)</td>\n",
       "      <td>[{'rel': 'alternate', 'type': 'text/html', 'hr...</td>\n",
       "      <td>https://www.francetvinfo.fr/sante/maladie/coro...</td>\n",
       "      <td>https://www.francetvinfo.fr/sante/maladie/coro...</td>\n",
       "      <td>False</td>\n",
       "    </tr>\n",
       "    <tr>\n",
       "      <th>14</th>\n",
       "      <td>Avec la parution des \"75 Feuillets et autres m...</td>\n",
       "      <td>{'type': 'text/plain', 'language': None, 'base...</td>\n",
       "      <td>Ces manuscrits étaient restés cachés depuis pr...</td>\n",
       "      <td>{'type': 'text/html', 'language': None, 'base'...</td>\n",
       "      <td>Thu, 08 Apr 2021 12:12:21 +0200</td>\n",
       "      <td>(2021, 4, 8, 10, 12, 21, 3, 98, 0)</td>\n",
       "      <td>[{'rel': 'alternate', 'type': 'text/html', 'hr...</td>\n",
       "      <td>https://www.francetvinfo.fr/culture/livres/rom...</td>\n",
       "      <td>https://www.francetvinfo.fr/culture/livres/rom...</td>\n",
       "      <td>False</td>\n",
       "    </tr>\n",
       "  </tbody>\n",
       "</table>\n",
       "</div>"
      ],
      "text/plain": [
       "                                                title  \\\n",
       "15  \"Personne n'a envie de tuer des moulins...\" : ...   \n",
       "21  \"Punk, dépressif... héros\" : le portrait décal...   \n",
       "33  APPEL A TEMOIGNAGES. Confinement : familles mo...   \n",
       "12  APPEL A TEMOIGNAGES. Covid-19 : l'un de vos pr...   \n",
       "14  Avec la parution des \"75 Feuillets et autres m...   \n",
       "\n",
       "                                         title_detail  \\\n",
       "15  {'type': 'text/plain', 'language': None, 'base...   \n",
       "21  {'type': 'text/plain', 'language': None, 'base...   \n",
       "33  {'type': 'text/plain', 'language': None, 'base...   \n",
       "12  {'type': 'text/plain', 'language': None, 'base...   \n",
       "14  {'type': 'text/plain', 'language': None, 'base...   \n",
       "\n",
       "                                              summary  \\\n",
       "15  Les députés ont adopté mercredi un amendement ...   \n",
       "21  C’est sans doute l’un des ouvrages les plus in...   \n",
       "33  En raison de la fermeture des écoles, les fami...   \n",
       "12  Depuis le début de la pandémie, le Covid-19 a ...   \n",
       "14  Ces manuscrits étaient restés cachés depuis pr...   \n",
       "\n",
       "                                       summary_detail  \\\n",
       "15  {'type': 'text/html', 'language': None, 'base'...   \n",
       "21  {'type': 'text/html', 'language': None, 'base'...   \n",
       "33  {'type': 'text/html', 'language': None, 'base'...   \n",
       "12  {'type': 'text/html', 'language': None, 'base'...   \n",
       "14  {'type': 'text/html', 'language': None, 'base'...   \n",
       "\n",
       "                          published                    published_parsed  \\\n",
       "15  Thu, 08 Apr 2021 12:22:28 +0200  (2021, 4, 8, 10, 22, 28, 3, 98, 0)   \n",
       "21  Thu, 08 Apr 2021 09:56:33 +0200   (2021, 4, 8, 7, 56, 33, 3, 98, 0)   \n",
       "33  Wed, 07 Apr 2021 19:09:38 +0200   (2021, 4, 7, 17, 9, 38, 2, 97, 0)   \n",
       "12  Tue, 06 Apr 2021 19:02:59 +0200   (2021, 4, 6, 17, 2, 59, 1, 96, 0)   \n",
       "14  Thu, 08 Apr 2021 12:12:21 +0200  (2021, 4, 8, 10, 12, 21, 3, 98, 0)   \n",
       "\n",
       "                                                links  \\\n",
       "15  [{'rel': 'alternate', 'type': 'text/html', 'hr...   \n",
       "21  [{'rel': 'alternate', 'type': 'text/html', 'hr...   \n",
       "33  [{'rel': 'alternate', 'type': 'text/html', 'hr...   \n",
       "12  [{'rel': 'alternate', 'type': 'text/html', 'hr...   \n",
       "14  [{'rel': 'alternate', 'type': 'text/html', 'hr...   \n",
       "\n",
       "                                                 link  \\\n",
       "15  https://www.francetvinfo.fr/monde/environnemen...   \n",
       "21  https://www.francetvinfo.fr/culture/patrimoine...   \n",
       "33  https://www.francetvinfo.fr/sante/maladie/coro...   \n",
       "12  https://www.francetvinfo.fr/sante/maladie/coro...   \n",
       "14  https://www.francetvinfo.fr/culture/livres/rom...   \n",
       "\n",
       "                                                   id  guidislink  \n",
       "15  https://www.francetvinfo.fr/monde/environnemen...       False  \n",
       "21  https://www.francetvinfo.fr/culture/patrimoine...       False  \n",
       "33  https://www.francetvinfo.fr/sante/maladie/coro...       False  \n",
       "12  https://www.francetvinfo.fr/sante/maladie/coro...       False  \n",
       "14  https://www.francetvinfo.fr/culture/livres/rom...       False  "
      ]
     },
     "execution_count": 14,
     "metadata": {},
     "output_type": "execute_result"
    }
   ],
   "source": [
    "df.sort_values(by = 'title').head()"
   ]
  },
  {
   "cell_type": "code",
   "execution_count": 15,
   "metadata": {},
   "outputs": [
    {
     "data": {
      "text/html": [
       "<div>\n",
       "<style scoped>\n",
       "    .dataframe tbody tr th:only-of-type {\n",
       "        vertical-align: middle;\n",
       "    }\n",
       "\n",
       "    .dataframe tbody tr th {\n",
       "        vertical-align: top;\n",
       "    }\n",
       "\n",
       "    .dataframe thead th {\n",
       "        text-align: right;\n",
       "    }\n",
       "</style>\n",
       "<table border=\"1\" class=\"dataframe\">\n",
       "  <thead>\n",
       "    <tr style=\"text-align: right;\">\n",
       "      <th></th>\n",
       "      <th>title</th>\n",
       "      <th>title_detail</th>\n",
       "      <th>summary</th>\n",
       "      <th>summary_detail</th>\n",
       "      <th>published</th>\n",
       "      <th>published_parsed</th>\n",
       "      <th>links</th>\n",
       "      <th>link</th>\n",
       "      <th>id</th>\n",
       "      <th>guidislink</th>\n",
       "    </tr>\n",
       "  </thead>\n",
       "  <tbody>\n",
       "    <tr>\n",
       "      <th>8</th>\n",
       "      <td>Vrai ou faux \"Salvator Mundi\" ? : révélations ...</td>\n",
       "      <td>{'type': 'text/plain', 'language': None, 'base...</td>\n",
       "      <td>Authentifié dans le passé comme un vrai Vinci,...</td>\n",
       "      <td>{'type': 'text/html', 'language': None, 'base'...</td>\n",
       "      <td>Thu, 08 Apr 2021 12:08:26 +0200</td>\n",
       "      <td>(2021, 4, 8, 10, 8, 26, 3, 98, 0)</td>\n",
       "      <td>[{'rel': 'alternate', 'type': 'text/html', 'hr...</td>\n",
       "      <td>https://www.francetvinfo.fr/culture/arts-expos...</td>\n",
       "      <td>https://www.francetvinfo.fr/culture/arts-expos...</td>\n",
       "      <td>False</td>\n",
       "    </tr>\n",
       "    <tr>\n",
       "      <th>23</th>\n",
       "      <td>Vaccination contre le Covid-19 : ce que dit l'...</td>\n",
       "      <td>{'type': 'text/plain', 'language': None, 'base...</td>\n",
       "      <td>Des chercheurs&amp;nbsp;ont déterminé le taux de c...</td>\n",
       "      <td>{'type': 'text/html', 'language': None, 'base'...</td>\n",
       "      <td>Wed, 07 Apr 2021 17:00:49 +0200</td>\n",
       "      <td>(2021, 4, 7, 15, 0, 49, 2, 97, 0)</td>\n",
       "      <td>[{'rel': 'alternate', 'type': 'text/html', 'hr...</td>\n",
       "      <td>https://www.francetvinfo.fr/sante/maladie/coro...</td>\n",
       "      <td>https://www.francetvinfo.fr/sante/maladie/coro...</td>\n",
       "      <td>False</td>\n",
       "    </tr>\n",
       "    <tr>\n",
       "      <th>10</th>\n",
       "      <td>Vaccin AstraZeneca : quelles conséquences en F...</td>\n",
       "      <td>{'type': 'text/plain', 'language': None, 'base...</td>\n",
       "      <td>Mercredi 7 avril, l'Agence européenne du médic...</td>\n",
       "      <td>{'type': 'text/html', 'language': None, 'base'...</td>\n",
       "      <td>Thu, 08 Apr 2021 11:51:27 +0200</td>\n",
       "      <td>(2021, 4, 8, 9, 51, 27, 3, 98, 0)</td>\n",
       "      <td>[{'rel': 'alternate', 'type': 'text/html', 'hr...</td>\n",
       "      <td>https://www.francetvinfo.fr/sante/vaccin-astra...</td>\n",
       "      <td>https://www.francetvinfo.fr/sante/vaccin-astra...</td>\n",
       "      <td>False</td>\n",
       "    </tr>\n",
       "    <tr>\n",
       "      <th>17</th>\n",
       "      <td>VIDEO. François Bayrou est \"pleinement engagé ...</td>\n",
       "      <td>{'type': 'text/plain', 'language': None, 'base...</td>\n",
       "      <td>\"Ma certitude, c'est que cet homme-là est à la...</td>\n",
       "      <td>{'type': 'text/html', 'language': None, 'base'...</td>\n",
       "      <td>Thu, 08 Apr 2021 10:23:18 +0200</td>\n",
       "      <td>(2021, 4, 8, 8, 23, 18, 3, 98, 0)</td>\n",
       "      <td>[{'rel': 'alternate', 'type': 'text/html', 'hr...</td>\n",
       "      <td>https://www.francetvinfo.fr/politique/emmanuel...</td>\n",
       "      <td>https://www.francetvinfo.fr/politique/emmanuel...</td>\n",
       "      <td>False</td>\n",
       "    </tr>\n",
       "    <tr>\n",
       "      <th>1</th>\n",
       "      <td>VIDEO. Christiane, atteinte de la maladie de C...</td>\n",
       "      <td>{'type': 'text/plain', 'language': None, 'base...</td>\n",
       "      <td>Le débat à l'Assemblée nationale ce jeudi 8&amp;nb...</td>\n",
       "      <td>{'type': 'text/html', 'language': None, 'base'...</td>\n",
       "      <td>Thu, 08 Apr 2021 11:18:12 +0200</td>\n",
       "      <td>(2021, 4, 8, 9, 18, 12, 3, 98, 0)</td>\n",
       "      <td>[{'rel': 'alternate', 'type': 'text/html', 'hr...</td>\n",
       "      <td>https://www.francetvinfo.fr/sante/maladie/vide...</td>\n",
       "      <td>https://www.francetvinfo.fr/sante/maladie/vide...</td>\n",
       "      <td>False</td>\n",
       "    </tr>\n",
       "  </tbody>\n",
       "</table>\n",
       "</div>"
      ],
      "text/plain": [
       "                                                title  \\\n",
       "8   Vrai ou faux \"Salvator Mundi\" ? : révélations ...   \n",
       "23  Vaccination contre le Covid-19 : ce que dit l'...   \n",
       "10  Vaccin AstraZeneca : quelles conséquences en F...   \n",
       "17  VIDEO. François Bayrou est \"pleinement engagé ...   \n",
       "1   VIDEO. Christiane, atteinte de la maladie de C...   \n",
       "\n",
       "                                         title_detail  \\\n",
       "8   {'type': 'text/plain', 'language': None, 'base...   \n",
       "23  {'type': 'text/plain', 'language': None, 'base...   \n",
       "10  {'type': 'text/plain', 'language': None, 'base...   \n",
       "17  {'type': 'text/plain', 'language': None, 'base...   \n",
       "1   {'type': 'text/plain', 'language': None, 'base...   \n",
       "\n",
       "                                              summary  \\\n",
       "8   Authentifié dans le passé comme un vrai Vinci,...   \n",
       "23  Des chercheurs&nbsp;ont déterminé le taux de c...   \n",
       "10  Mercredi 7 avril, l'Agence européenne du médic...   \n",
       "17  \"Ma certitude, c'est que cet homme-là est à la...   \n",
       "1   Le débat à l'Assemblée nationale ce jeudi 8&nb...   \n",
       "\n",
       "                                       summary_detail  \\\n",
       "8   {'type': 'text/html', 'language': None, 'base'...   \n",
       "23  {'type': 'text/html', 'language': None, 'base'...   \n",
       "10  {'type': 'text/html', 'language': None, 'base'...   \n",
       "17  {'type': 'text/html', 'language': None, 'base'...   \n",
       "1   {'type': 'text/html', 'language': None, 'base'...   \n",
       "\n",
       "                          published                   published_parsed  \\\n",
       "8   Thu, 08 Apr 2021 12:08:26 +0200  (2021, 4, 8, 10, 8, 26, 3, 98, 0)   \n",
       "23  Wed, 07 Apr 2021 17:00:49 +0200  (2021, 4, 7, 15, 0, 49, 2, 97, 0)   \n",
       "10  Thu, 08 Apr 2021 11:51:27 +0200  (2021, 4, 8, 9, 51, 27, 3, 98, 0)   \n",
       "17  Thu, 08 Apr 2021 10:23:18 +0200  (2021, 4, 8, 8, 23, 18, 3, 98, 0)   \n",
       "1   Thu, 08 Apr 2021 11:18:12 +0200  (2021, 4, 8, 9, 18, 12, 3, 98, 0)   \n",
       "\n",
       "                                                links  \\\n",
       "8   [{'rel': 'alternate', 'type': 'text/html', 'hr...   \n",
       "23  [{'rel': 'alternate', 'type': 'text/html', 'hr...   \n",
       "10  [{'rel': 'alternate', 'type': 'text/html', 'hr...   \n",
       "17  [{'rel': 'alternate', 'type': 'text/html', 'hr...   \n",
       "1   [{'rel': 'alternate', 'type': 'text/html', 'hr...   \n",
       "\n",
       "                                                 link  \\\n",
       "8   https://www.francetvinfo.fr/culture/arts-expos...   \n",
       "23  https://www.francetvinfo.fr/sante/maladie/coro...   \n",
       "10  https://www.francetvinfo.fr/sante/vaccin-astra...   \n",
       "17  https://www.francetvinfo.fr/politique/emmanuel...   \n",
       "1   https://www.francetvinfo.fr/sante/maladie/vide...   \n",
       "\n",
       "                                                   id  guidislink  \n",
       "8   https://www.francetvinfo.fr/culture/arts-expos...       False  \n",
       "23  https://www.francetvinfo.fr/sante/maladie/coro...       False  \n",
       "10  https://www.francetvinfo.fr/sante/vaccin-astra...       False  \n",
       "17  https://www.francetvinfo.fr/politique/emmanuel...       False  \n",
       "1   https://www.francetvinfo.fr/sante/maladie/vide...       False  "
      ]
     },
     "execution_count": 15,
     "metadata": {},
     "output_type": "execute_result"
    }
   ],
   "source": [
    "df.sort_values(by = 'title', ascending = False).head()"
   ]
  },
  {
   "cell_type": "markdown",
   "metadata": {},
   "source": [
    "### 12. Add a new column to the data frame that contains the length (number of characters) of each entry title. Return a data frame that contains the title and title length of each entry in descending order (longest title length at the top)."
   ]
  },
  {
   "cell_type": "code",
   "execution_count": 16,
   "metadata": {},
   "outputs": [
    {
     "data": {
      "text/html": [
       "<div>\n",
       "<style scoped>\n",
       "    .dataframe tbody tr th:only-of-type {\n",
       "        vertical-align: middle;\n",
       "    }\n",
       "\n",
       "    .dataframe tbody tr th {\n",
       "        vertical-align: top;\n",
       "    }\n",
       "\n",
       "    .dataframe thead th {\n",
       "        text-align: right;\n",
       "    }\n",
       "</style>\n",
       "<table border=\"1\" class=\"dataframe\">\n",
       "  <thead>\n",
       "    <tr style=\"text-align: right;\">\n",
       "      <th></th>\n",
       "      <th>title</th>\n",
       "      <th>title length</th>\n",
       "    </tr>\n",
       "  </thead>\n",
       "  <tbody>\n",
       "    <tr>\n",
       "      <th>25</th>\n",
       "      <td>Ce que l'on sait du lien entre le vaccin Astra...</td>\n",
       "      <td>150</td>\n",
       "    </tr>\n",
       "    <tr>\n",
       "      <th>33</th>\n",
       "      <td>APPEL A TEMOIGNAGES. Confinement : familles mo...</td>\n",
       "      <td>148</td>\n",
       "    </tr>\n",
       "    <tr>\n",
       "      <th>14</th>\n",
       "      <td>Avec la parution des \"75 Feuillets et autres m...</td>\n",
       "      <td>139</td>\n",
       "    </tr>\n",
       "    <tr>\n",
       "      <th>19</th>\n",
       "      <td>REPORTAGE. Orléans : dans le théâtre occupé, d...</td>\n",
       "      <td>134</td>\n",
       "    </tr>\n",
       "    <tr>\n",
       "      <th>12</th>\n",
       "      <td>APPEL A TEMOIGNAGES. Covid-19 : l'un de vos pr...</td>\n",
       "      <td>131</td>\n",
       "    </tr>\n",
       "  </tbody>\n",
       "</table>\n",
       "</div>"
      ],
      "text/plain": [
       "                                                title  title length\n",
       "25  Ce que l'on sait du lien entre le vaccin Astra...           150\n",
       "33  APPEL A TEMOIGNAGES. Confinement : familles mo...           148\n",
       "14  Avec la parution des \"75 Feuillets et autres m...           139\n",
       "19  REPORTAGE. Orléans : dans le théâtre occupé, d...           134\n",
       "12  APPEL A TEMOIGNAGES. Covid-19 : l'un de vos pr...           131"
      ]
     },
     "execution_count": 16,
     "metadata": {},
     "output_type": "execute_result"
    }
   ],
   "source": [
    "df['title length'] = df['title'].apply(len)\n",
    "df[['title', 'title length']].sort_values(by = 'title length', ascending=False).head()"
   ]
  },
  {
   "cell_type": "markdown",
   "metadata": {},
   "source": [
    "### 13. Count the number of titles per date and sort them in descending order."
   ]
  },
  {
   "cell_type": "code",
   "execution_count": 17,
   "metadata": {},
   "outputs": [
    {
     "data": {
      "text/html": [
       "<div>\n",
       "<style scoped>\n",
       "    .dataframe tbody tr th:only-of-type {\n",
       "        vertical-align: middle;\n",
       "    }\n",
       "\n",
       "    .dataframe tbody tr th {\n",
       "        vertical-align: top;\n",
       "    }\n",
       "\n",
       "    .dataframe thead th {\n",
       "        text-align: right;\n",
       "    }\n",
       "</style>\n",
       "<table border=\"1\" class=\"dataframe\">\n",
       "  <thead>\n",
       "    <tr style=\"text-align: right;\">\n",
       "      <th></th>\n",
       "      <th>title</th>\n",
       "    </tr>\n",
       "    <tr>\n",
       "      <th>day_published</th>\n",
       "      <th></th>\n",
       "    </tr>\n",
       "  </thead>\n",
       "  <tbody>\n",
       "    <tr>\n",
       "      <th>Thu, 08 Apr</th>\n",
       "      <td>24</td>\n",
       "    </tr>\n",
       "    <tr>\n",
       "      <th>Wed, 07 Apr</th>\n",
       "      <td>9</td>\n",
       "    </tr>\n",
       "    <tr>\n",
       "      <th>Tue, 06 Apr</th>\n",
       "      <td>1</td>\n",
       "    </tr>\n",
       "  </tbody>\n",
       "</table>\n",
       "</div>"
      ],
      "text/plain": [
       "               title\n",
       "day_published       \n",
       "Thu, 08 Apr       24\n",
       "Wed, 07 Apr        9\n",
       "Tue, 06 Apr        1"
      ]
     },
     "execution_count": 17,
     "metadata": {},
     "output_type": "execute_result"
    }
   ],
   "source": [
    "df['day_published'] = df['published'].apply(lambda x:x[:12])\n",
    "df2 = df.groupby('day_published').agg({'title':'count'})\n",
    "df2.sort_values('title', ascending = False)"
   ]
  },
  {
   "cell_type": "code",
   "execution_count": 18,
   "metadata": {},
   "outputs": [
    {
     "data": {
      "text/html": [
       "<div>\n",
       "<style scoped>\n",
       "    .dataframe tbody tr th:only-of-type {\n",
       "        vertical-align: middle;\n",
       "    }\n",
       "\n",
       "    .dataframe tbody tr th {\n",
       "        vertical-align: top;\n",
       "    }\n",
       "\n",
       "    .dataframe thead th {\n",
       "        text-align: right;\n",
       "    }\n",
       "</style>\n",
       "<table border=\"1\" class=\"dataframe\">\n",
       "  <thead>\n",
       "    <tr style=\"text-align: right;\">\n",
       "      <th></th>\n",
       "      <th>day_published</th>\n",
       "      <th>title</th>\n",
       "    </tr>\n",
       "  </thead>\n",
       "  <tbody>\n",
       "    <tr>\n",
       "      <th>0</th>\n",
       "      <td>Thu, 08 Apr</td>\n",
       "      <td>24</td>\n",
       "    </tr>\n",
       "    <tr>\n",
       "      <th>2</th>\n",
       "      <td>Wed, 07 Apr</td>\n",
       "      <td>9</td>\n",
       "    </tr>\n",
       "    <tr>\n",
       "      <th>1</th>\n",
       "      <td>Tue, 06 Apr</td>\n",
       "      <td>1</td>\n",
       "    </tr>\n",
       "  </tbody>\n",
       "</table>\n",
       "</div>"
      ],
      "text/plain": [
       "  day_published  title\n",
       "0  Thu, 08 Apr      24\n",
       "2  Wed, 07 Apr       9\n",
       "1  Tue, 06 Apr       1"
      ]
     },
     "execution_count": 18,
     "metadata": {},
     "output_type": "execute_result"
    }
   ],
   "source": [
    "df2 = df.groupby('day_published', as_index=False).agg({'title':'count'})\n",
    "df2.sort_values('title', ascending = False)"
   ]
  },
  {
   "cell_type": "code",
   "execution_count": null,
   "metadata": {},
   "outputs": [],
   "source": []
  }
 ],
 "metadata": {
  "kernelspec": {
   "display_name": "Python 3",
   "language": "python",
   "name": "python3"
  },
  "language_info": {
   "codemirror_mode": {
    "name": "ipython",
    "version": 3
   },
   "file_extension": ".py",
   "mimetype": "text/x-python",
   "name": "python",
   "nbconvert_exporter": "python",
   "pygments_lexer": "ipython3",
   "version": "3.8.5"
  }
 },
 "nbformat": 4,
 "nbformat_minor": 4
}
