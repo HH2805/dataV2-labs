{
 "cells": [
  {
   "cell_type": "markdown",
   "metadata": {},
   "source": [
    "# Pandas course"
   ]
  },
  {
   "cell_type": "markdown",
   "metadata": {},
   "source": [
    "Let's continue the import export first."
   ]
  },
  {
   "cell_type": "markdown",
   "metadata": {},
   "source": [
    "# JSON"
   ]
  },
  {
   "cell_type": "markdown",
   "metadata": {},
   "source": [
    "JSON is JavaScript Object Notation which can be considered as NoSQL database. Usually NoSQL databases use JSON formating to display the data.\n",
    "\n",
    "In Python it can be considered as dictionary of dictionaries of lists of dicts, etc.."
   ]
  },
  {
   "cell_type": "code",
   "execution_count": 5,
   "metadata": {},
   "outputs": [],
   "source": [
    "import pandas as pd\n",
    "import os"
   ]
  },
  {
   "cell_type": "code",
   "execution_count": 6,
   "metadata": {},
   "outputs": [],
   "source": [
    "os.chdir('C:\\\\Users\\\\mailb\\\\Documents_Administrateur\\\\Ironhack\\\\DA_BOOTCAMP\\\\2.Cours\\\\Student_Portal\\\\week2\\\\vehicles')\n",
    "df=pd.read_json('vehicles.json')"
   ]
  },
  {
   "cell_type": "code",
   "execution_count": 7,
   "metadata": {},
   "outputs": [
    {
     "data": {
      "text/html": [
       "<div>\n",
       "<style scoped>\n",
       "    .dataframe tbody tr th:only-of-type {\n",
       "        vertical-align: middle;\n",
       "    }\n",
       "\n",
       "    .dataframe tbody tr th {\n",
       "        vertical-align: top;\n",
       "    }\n",
       "\n",
       "    .dataframe thead th {\n",
       "        text-align: right;\n",
       "    }\n",
       "</style>\n",
       "<table border=\"1\" class=\"dataframe\">\n",
       "  <thead>\n",
       "    <tr style=\"text-align: right;\">\n",
       "      <th></th>\n",
       "      <th>Make</th>\n",
       "      <th>Model</th>\n",
       "      <th>Year</th>\n",
       "      <th>Engine Displacement</th>\n",
       "      <th>Cylinders</th>\n",
       "      <th>Transmission</th>\n",
       "      <th>Drivetrain</th>\n",
       "      <th>Vehicle Class</th>\n",
       "      <th>Fuel Type</th>\n",
       "      <th>Fuel Barrels/Year</th>\n",
       "      <th>City MPG</th>\n",
       "      <th>Highway MPG</th>\n",
       "      <th>Combined MPG</th>\n",
       "      <th>CO2 Emission Grams/Mile</th>\n",
       "      <th>Fuel Cost/Year</th>\n",
       "    </tr>\n",
       "  </thead>\n",
       "  <tbody>\n",
       "    <tr>\n",
       "      <th>0</th>\n",
       "      <td>AM General</td>\n",
       "      <td>DJ Po Vehicle 2WD</td>\n",
       "      <td>1984</td>\n",
       "      <td>2.5</td>\n",
       "      <td>4</td>\n",
       "      <td>Automatic 3-spd</td>\n",
       "      <td>2-Wheel Drive</td>\n",
       "      <td>Special Purpose Vehicle 2WD</td>\n",
       "      <td>Regular</td>\n",
       "      <td>19.388824</td>\n",
       "      <td>18</td>\n",
       "      <td>17</td>\n",
       "      <td>17</td>\n",
       "      <td>522.764706</td>\n",
       "      <td>1950</td>\n",
       "    </tr>\n",
       "    <tr>\n",
       "      <th>1</th>\n",
       "      <td>AM General</td>\n",
       "      <td>FJ8c Post Office</td>\n",
       "      <td>1984</td>\n",
       "      <td>4.2</td>\n",
       "      <td>6</td>\n",
       "      <td>Automatic 3-spd</td>\n",
       "      <td>2-Wheel Drive</td>\n",
       "      <td>Special Purpose Vehicle 2WD</td>\n",
       "      <td>Regular</td>\n",
       "      <td>25.354615</td>\n",
       "      <td>13</td>\n",
       "      <td>13</td>\n",
       "      <td>13</td>\n",
       "      <td>683.615385</td>\n",
       "      <td>2550</td>\n",
       "    </tr>\n",
       "    <tr>\n",
       "      <th>2</th>\n",
       "      <td>AM General</td>\n",
       "      <td>Post Office DJ5 2WD</td>\n",
       "      <td>1985</td>\n",
       "      <td>2.5</td>\n",
       "      <td>4</td>\n",
       "      <td>Automatic 3-spd</td>\n",
       "      <td>Rear-Wheel Drive</td>\n",
       "      <td>Special Purpose Vehicle 2WD</td>\n",
       "      <td>Regular</td>\n",
       "      <td>20.600625</td>\n",
       "      <td>16</td>\n",
       "      <td>17</td>\n",
       "      <td>16</td>\n",
       "      <td>555.437500</td>\n",
       "      <td>2100</td>\n",
       "    </tr>\n",
       "    <tr>\n",
       "      <th>3</th>\n",
       "      <td>AM General</td>\n",
       "      <td>Post Office DJ8 2WD</td>\n",
       "      <td>1985</td>\n",
       "      <td>4.2</td>\n",
       "      <td>6</td>\n",
       "      <td>Automatic 3-spd</td>\n",
       "      <td>Rear-Wheel Drive</td>\n",
       "      <td>Special Purpose Vehicle 2WD</td>\n",
       "      <td>Regular</td>\n",
       "      <td>25.354615</td>\n",
       "      <td>13</td>\n",
       "      <td>13</td>\n",
       "      <td>13</td>\n",
       "      <td>683.615385</td>\n",
       "      <td>2550</td>\n",
       "    </tr>\n",
       "    <tr>\n",
       "      <th>4</th>\n",
       "      <td>ASC Incorporated</td>\n",
       "      <td>GNX</td>\n",
       "      <td>1987</td>\n",
       "      <td>3.8</td>\n",
       "      <td>6</td>\n",
       "      <td>Automatic 4-spd</td>\n",
       "      <td>Rear-Wheel Drive</td>\n",
       "      <td>Midsize Cars</td>\n",
       "      <td>Premium</td>\n",
       "      <td>20.600625</td>\n",
       "      <td>14</td>\n",
       "      <td>21</td>\n",
       "      <td>16</td>\n",
       "      <td>555.437500</td>\n",
       "      <td>2550</td>\n",
       "    </tr>\n",
       "    <tr>\n",
       "      <th>...</th>\n",
       "      <td>...</td>\n",
       "      <td>...</td>\n",
       "      <td>...</td>\n",
       "      <td>...</td>\n",
       "      <td>...</td>\n",
       "      <td>...</td>\n",
       "      <td>...</td>\n",
       "      <td>...</td>\n",
       "      <td>...</td>\n",
       "      <td>...</td>\n",
       "      <td>...</td>\n",
       "      <td>...</td>\n",
       "      <td>...</td>\n",
       "      <td>...</td>\n",
       "      <td>...</td>\n",
       "    </tr>\n",
       "    <tr>\n",
       "      <th>35947</th>\n",
       "      <td>smart</td>\n",
       "      <td>fortwo coupe</td>\n",
       "      <td>2013</td>\n",
       "      <td>1.0</td>\n",
       "      <td>3</td>\n",
       "      <td>Auto(AM5)</td>\n",
       "      <td>Rear-Wheel Drive</td>\n",
       "      <td>Two Seaters</td>\n",
       "      <td>Premium</td>\n",
       "      <td>9.155833</td>\n",
       "      <td>34</td>\n",
       "      <td>38</td>\n",
       "      <td>36</td>\n",
       "      <td>244.000000</td>\n",
       "      <td>1100</td>\n",
       "    </tr>\n",
       "    <tr>\n",
       "      <th>35948</th>\n",
       "      <td>smart</td>\n",
       "      <td>fortwo coupe</td>\n",
       "      <td>2014</td>\n",
       "      <td>1.0</td>\n",
       "      <td>3</td>\n",
       "      <td>Auto(AM5)</td>\n",
       "      <td>Rear-Wheel Drive</td>\n",
       "      <td>Two Seaters</td>\n",
       "      <td>Premium</td>\n",
       "      <td>9.155833</td>\n",
       "      <td>34</td>\n",
       "      <td>38</td>\n",
       "      <td>36</td>\n",
       "      <td>243.000000</td>\n",
       "      <td>1100</td>\n",
       "    </tr>\n",
       "    <tr>\n",
       "      <th>35949</th>\n",
       "      <td>smart</td>\n",
       "      <td>fortwo coupe</td>\n",
       "      <td>2015</td>\n",
       "      <td>1.0</td>\n",
       "      <td>3</td>\n",
       "      <td>Auto(AM5)</td>\n",
       "      <td>Rear-Wheel Drive</td>\n",
       "      <td>Two Seaters</td>\n",
       "      <td>Premium</td>\n",
       "      <td>9.155833</td>\n",
       "      <td>34</td>\n",
       "      <td>38</td>\n",
       "      <td>36</td>\n",
       "      <td>244.000000</td>\n",
       "      <td>1100</td>\n",
       "    </tr>\n",
       "    <tr>\n",
       "      <th>35950</th>\n",
       "      <td>smart</td>\n",
       "      <td>fortwo coupe</td>\n",
       "      <td>2016</td>\n",
       "      <td>0.9</td>\n",
       "      <td>3</td>\n",
       "      <td>Auto(AM6)</td>\n",
       "      <td>Rear-Wheel Drive</td>\n",
       "      <td>Two Seaters</td>\n",
       "      <td>Premium</td>\n",
       "      <td>9.155833</td>\n",
       "      <td>34</td>\n",
       "      <td>39</td>\n",
       "      <td>36</td>\n",
       "      <td>246.000000</td>\n",
       "      <td>1100</td>\n",
       "    </tr>\n",
       "    <tr>\n",
       "      <th>35951</th>\n",
       "      <td>smart</td>\n",
       "      <td>fortwo coupe</td>\n",
       "      <td>2016</td>\n",
       "      <td>0.9</td>\n",
       "      <td>3</td>\n",
       "      <td>Manual 5-spd</td>\n",
       "      <td>Rear-Wheel Drive</td>\n",
       "      <td>Two Seaters</td>\n",
       "      <td>Premium</td>\n",
       "      <td>9.417429</td>\n",
       "      <td>32</td>\n",
       "      <td>39</td>\n",
       "      <td>35</td>\n",
       "      <td>255.000000</td>\n",
       "      <td>1150</td>\n",
       "    </tr>\n",
       "  </tbody>\n",
       "</table>\n",
       "<p>35952 rows × 15 columns</p>\n",
       "</div>"
      ],
      "text/plain": [
       "                   Make                Model  Year  Engine Displacement  \\\n",
       "0            AM General    DJ Po Vehicle 2WD  1984                  2.5   \n",
       "1            AM General     FJ8c Post Office  1984                  4.2   \n",
       "2            AM General  Post Office DJ5 2WD  1985                  2.5   \n",
       "3            AM General  Post Office DJ8 2WD  1985                  4.2   \n",
       "4      ASC Incorporated                  GNX  1987                  3.8   \n",
       "...                 ...                  ...   ...                  ...   \n",
       "35947             smart         fortwo coupe  2013                  1.0   \n",
       "35948             smart         fortwo coupe  2014                  1.0   \n",
       "35949             smart         fortwo coupe  2015                  1.0   \n",
       "35950             smart         fortwo coupe  2016                  0.9   \n",
       "35951             smart         fortwo coupe  2016                  0.9   \n",
       "\n",
       "       Cylinders     Transmission        Drivetrain  \\\n",
       "0              4  Automatic 3-spd     2-Wheel Drive   \n",
       "1              6  Automatic 3-spd     2-Wheel Drive   \n",
       "2              4  Automatic 3-spd  Rear-Wheel Drive   \n",
       "3              6  Automatic 3-spd  Rear-Wheel Drive   \n",
       "4              6  Automatic 4-spd  Rear-Wheel Drive   \n",
       "...          ...              ...               ...   \n",
       "35947          3        Auto(AM5)  Rear-Wheel Drive   \n",
       "35948          3        Auto(AM5)  Rear-Wheel Drive   \n",
       "35949          3        Auto(AM5)  Rear-Wheel Drive   \n",
       "35950          3        Auto(AM6)  Rear-Wheel Drive   \n",
       "35951          3     Manual 5-spd  Rear-Wheel Drive   \n",
       "\n",
       "                     Vehicle Class Fuel Type  Fuel Barrels/Year  City MPG  \\\n",
       "0      Special Purpose Vehicle 2WD   Regular          19.388824        18   \n",
       "1      Special Purpose Vehicle 2WD   Regular          25.354615        13   \n",
       "2      Special Purpose Vehicle 2WD   Regular          20.600625        16   \n",
       "3      Special Purpose Vehicle 2WD   Regular          25.354615        13   \n",
       "4                     Midsize Cars   Premium          20.600625        14   \n",
       "...                            ...       ...                ...       ...   \n",
       "35947                  Two Seaters   Premium           9.155833        34   \n",
       "35948                  Two Seaters   Premium           9.155833        34   \n",
       "35949                  Two Seaters   Premium           9.155833        34   \n",
       "35950                  Two Seaters   Premium           9.155833        34   \n",
       "35951                  Two Seaters   Premium           9.417429        32   \n",
       "\n",
       "       Highway MPG  Combined MPG  CO2 Emission Grams/Mile  Fuel Cost/Year  \n",
       "0               17            17               522.764706            1950  \n",
       "1               13            13               683.615385            2550  \n",
       "2               17            16               555.437500            2100  \n",
       "3               13            13               683.615385            2550  \n",
       "4               21            16               555.437500            2550  \n",
       "...            ...           ...                      ...             ...  \n",
       "35947           38            36               244.000000            1100  \n",
       "35948           38            36               243.000000            1100  \n",
       "35949           38            36               244.000000            1100  \n",
       "35950           39            36               246.000000            1100  \n",
       "35951           39            35               255.000000            1150  \n",
       "\n",
       "[35952 rows x 15 columns]"
      ]
     },
     "execution_count": 7,
     "metadata": {},
     "output_type": "execute_result"
    }
   ],
   "source": [
    "df"
   ]
  },
  {
   "cell_type": "code",
   "execution_count": 8,
   "metadata": {},
   "outputs": [],
   "source": [
    "df.to_json('new_json.json', orient='split')"
   ]
  },
  {
   "cell_type": "markdown",
   "metadata": {},
   "source": [
    "# CSV file"
   ]
  },
  {
   "cell_type": "code",
   "execution_count": 34,
   "metadata": {},
   "outputs": [],
   "source": [
    "os.chdir('C:\\\\Users\\\\mailb\\\\Documents_Administrateur\\\\Ironhack\\\\DA_BOOTCAMP\\\\2.Cours\\\\Student_Portal\\\\week2\\\\vehicles')"
   ]
  },
  {
   "cell_type": "code",
   "execution_count": 35,
   "metadata": {},
   "outputs": [
    {
     "data": {
      "text/html": [
       "<div>\n",
       "<style scoped>\n",
       "    .dataframe tbody tr th:only-of-type {\n",
       "        vertical-align: middle;\n",
       "    }\n",
       "\n",
       "    .dataframe tbody tr th {\n",
       "        vertical-align: top;\n",
       "    }\n",
       "\n",
       "    .dataframe thead th {\n",
       "        text-align: right;\n",
       "    }\n",
       "</style>\n",
       "<table border=\"1\" class=\"dataframe\">\n",
       "  <thead>\n",
       "    <tr style=\"text-align: right;\">\n",
       "      <th></th>\n",
       "      <th>Make</th>\n",
       "      <th>Model</th>\n",
       "      <th>Year</th>\n",
       "      <th>Engine Displacement</th>\n",
       "      <th>Cylinders</th>\n",
       "      <th>Transmission</th>\n",
       "      <th>Drivetrain</th>\n",
       "      <th>Vehicle Class</th>\n",
       "      <th>Fuel Type</th>\n",
       "      <th>Fuel Barrels/Year</th>\n",
       "      <th>City MPG</th>\n",
       "      <th>Highway MPG</th>\n",
       "      <th>Combined MPG</th>\n",
       "      <th>CO2 Emission Grams/Mile</th>\n",
       "      <th>Fuel Cost/Year</th>\n",
       "    </tr>\n",
       "  </thead>\n",
       "  <tbody>\n",
       "    <tr>\n",
       "      <th>0</th>\n",
       "      <td>AM General</td>\n",
       "      <td>DJ Po Vehicle 2WD</td>\n",
       "      <td>1984</td>\n",
       "      <td>2.5</td>\n",
       "      <td>4.0</td>\n",
       "      <td>Automatic 3-spd</td>\n",
       "      <td>2-Wheel Drive</td>\n",
       "      <td>Special Purpose Vehicle 2WD</td>\n",
       "      <td>Regular</td>\n",
       "      <td>19.388824</td>\n",
       "      <td>18</td>\n",
       "      <td>17</td>\n",
       "      <td>17</td>\n",
       "      <td>522.764706</td>\n",
       "      <td>1950</td>\n",
       "    </tr>\n",
       "    <tr>\n",
       "      <th>1</th>\n",
       "      <td>AM General</td>\n",
       "      <td>FJ8c Post Office</td>\n",
       "      <td>1984</td>\n",
       "      <td>4.2</td>\n",
       "      <td>6.0</td>\n",
       "      <td>Automatic 3-spd</td>\n",
       "      <td>2-Wheel Drive</td>\n",
       "      <td>Special Purpose Vehicle 2WD</td>\n",
       "      <td>Regular</td>\n",
       "      <td>25.354615</td>\n",
       "      <td>13</td>\n",
       "      <td>13</td>\n",
       "      <td>13</td>\n",
       "      <td>683.615385</td>\n",
       "      <td>2550</td>\n",
       "    </tr>\n",
       "    <tr>\n",
       "      <th>2</th>\n",
       "      <td>AM General</td>\n",
       "      <td>Post Office DJ5 2WD</td>\n",
       "      <td>1985</td>\n",
       "      <td>2.5</td>\n",
       "      <td>4.0</td>\n",
       "      <td>Automatic 3-spd</td>\n",
       "      <td>Rear-Wheel Drive</td>\n",
       "      <td>Special Purpose Vehicle 2WD</td>\n",
       "      <td>Regular</td>\n",
       "      <td>20.600625</td>\n",
       "      <td>16</td>\n",
       "      <td>17</td>\n",
       "      <td>16</td>\n",
       "      <td>555.437500</td>\n",
       "      <td>2100</td>\n",
       "    </tr>\n",
       "    <tr>\n",
       "      <th>3</th>\n",
       "      <td>AM General</td>\n",
       "      <td>Post Office DJ8 2WD</td>\n",
       "      <td>1985</td>\n",
       "      <td>4.2</td>\n",
       "      <td>6.0</td>\n",
       "      <td>Automatic 3-spd</td>\n",
       "      <td>Rear-Wheel Drive</td>\n",
       "      <td>Special Purpose Vehicle 2WD</td>\n",
       "      <td>Regular</td>\n",
       "      <td>25.354615</td>\n",
       "      <td>13</td>\n",
       "      <td>13</td>\n",
       "      <td>13</td>\n",
       "      <td>683.615385</td>\n",
       "      <td>2550</td>\n",
       "    </tr>\n",
       "    <tr>\n",
       "      <th>4</th>\n",
       "      <td>ASC Incorporated</td>\n",
       "      <td>GNX</td>\n",
       "      <td>1987</td>\n",
       "      <td>3.8</td>\n",
       "      <td>6.0</td>\n",
       "      <td>Automatic 4-spd</td>\n",
       "      <td>Rear-Wheel Drive</td>\n",
       "      <td>Midsize Cars</td>\n",
       "      <td>Premium</td>\n",
       "      <td>20.600625</td>\n",
       "      <td>14</td>\n",
       "      <td>21</td>\n",
       "      <td>16</td>\n",
       "      <td>555.437500</td>\n",
       "      <td>2550</td>\n",
       "    </tr>\n",
       "    <tr>\n",
       "      <th>...</th>\n",
       "      <td>...</td>\n",
       "      <td>...</td>\n",
       "      <td>...</td>\n",
       "      <td>...</td>\n",
       "      <td>...</td>\n",
       "      <td>...</td>\n",
       "      <td>...</td>\n",
       "      <td>...</td>\n",
       "      <td>...</td>\n",
       "      <td>...</td>\n",
       "      <td>...</td>\n",
       "      <td>...</td>\n",
       "      <td>...</td>\n",
       "      <td>...</td>\n",
       "      <td>...</td>\n",
       "    </tr>\n",
       "    <tr>\n",
       "      <th>35947</th>\n",
       "      <td>smart</td>\n",
       "      <td>fortwo coupe</td>\n",
       "      <td>2013</td>\n",
       "      <td>1.0</td>\n",
       "      <td>3.0</td>\n",
       "      <td>Auto(AM5)</td>\n",
       "      <td>Rear-Wheel Drive</td>\n",
       "      <td>Two Seaters</td>\n",
       "      <td>Premium</td>\n",
       "      <td>9.155833</td>\n",
       "      <td>34</td>\n",
       "      <td>38</td>\n",
       "      <td>36</td>\n",
       "      <td>244.000000</td>\n",
       "      <td>1100</td>\n",
       "    </tr>\n",
       "    <tr>\n",
       "      <th>35948</th>\n",
       "      <td>smart</td>\n",
       "      <td>fortwo coupe</td>\n",
       "      <td>2014</td>\n",
       "      <td>1.0</td>\n",
       "      <td>3.0</td>\n",
       "      <td>Auto(AM5)</td>\n",
       "      <td>Rear-Wheel Drive</td>\n",
       "      <td>Two Seaters</td>\n",
       "      <td>Premium</td>\n",
       "      <td>9.155833</td>\n",
       "      <td>34</td>\n",
       "      <td>38</td>\n",
       "      <td>36</td>\n",
       "      <td>243.000000</td>\n",
       "      <td>1100</td>\n",
       "    </tr>\n",
       "    <tr>\n",
       "      <th>35949</th>\n",
       "      <td>smart</td>\n",
       "      <td>fortwo coupe</td>\n",
       "      <td>2015</td>\n",
       "      <td>1.0</td>\n",
       "      <td>3.0</td>\n",
       "      <td>Auto(AM5)</td>\n",
       "      <td>Rear-Wheel Drive</td>\n",
       "      <td>Two Seaters</td>\n",
       "      <td>Premium</td>\n",
       "      <td>9.155833</td>\n",
       "      <td>34</td>\n",
       "      <td>38</td>\n",
       "      <td>36</td>\n",
       "      <td>244.000000</td>\n",
       "      <td>1100</td>\n",
       "    </tr>\n",
       "    <tr>\n",
       "      <th>35950</th>\n",
       "      <td>smart</td>\n",
       "      <td>fortwo coupe</td>\n",
       "      <td>2016</td>\n",
       "      <td>0.9</td>\n",
       "      <td>3.0</td>\n",
       "      <td>Auto(AM6)</td>\n",
       "      <td>Rear-Wheel Drive</td>\n",
       "      <td>Two Seaters</td>\n",
       "      <td>Premium</td>\n",
       "      <td>9.155833</td>\n",
       "      <td>34</td>\n",
       "      <td>39</td>\n",
       "      <td>36</td>\n",
       "      <td>246.000000</td>\n",
       "      <td>1100</td>\n",
       "    </tr>\n",
       "    <tr>\n",
       "      <th>35951</th>\n",
       "      <td>smart</td>\n",
       "      <td>fortwo coupe</td>\n",
       "      <td>2016</td>\n",
       "      <td>0.9</td>\n",
       "      <td>3.0</td>\n",
       "      <td>Manual 5-spd</td>\n",
       "      <td>Rear-Wheel Drive</td>\n",
       "      <td>Two Seaters</td>\n",
       "      <td>Premium</td>\n",
       "      <td>9.417429</td>\n",
       "      <td>32</td>\n",
       "      <td>39</td>\n",
       "      <td>35</td>\n",
       "      <td>255.000000</td>\n",
       "      <td>1150</td>\n",
       "    </tr>\n",
       "  </tbody>\n",
       "</table>\n",
       "<p>35952 rows × 15 columns</p>\n",
       "</div>"
      ],
      "text/plain": [
       "                   Make                Model  Year  Engine Displacement  \\\n",
       "0            AM General    DJ Po Vehicle 2WD  1984                  2.5   \n",
       "1            AM General     FJ8c Post Office  1984                  4.2   \n",
       "2            AM General  Post Office DJ5 2WD  1985                  2.5   \n",
       "3            AM General  Post Office DJ8 2WD  1985                  4.2   \n",
       "4      ASC Incorporated                  GNX  1987                  3.8   \n",
       "...                 ...                  ...   ...                  ...   \n",
       "35947             smart         fortwo coupe  2013                  1.0   \n",
       "35948             smart         fortwo coupe  2014                  1.0   \n",
       "35949             smart         fortwo coupe  2015                  1.0   \n",
       "35950             smart         fortwo coupe  2016                  0.9   \n",
       "35951             smart         fortwo coupe  2016                  0.9   \n",
       "\n",
       "       Cylinders     Transmission        Drivetrain  \\\n",
       "0            4.0  Automatic 3-spd     2-Wheel Drive   \n",
       "1            6.0  Automatic 3-spd     2-Wheel Drive   \n",
       "2            4.0  Automatic 3-spd  Rear-Wheel Drive   \n",
       "3            6.0  Automatic 3-spd  Rear-Wheel Drive   \n",
       "4            6.0  Automatic 4-spd  Rear-Wheel Drive   \n",
       "...          ...              ...               ...   \n",
       "35947        3.0        Auto(AM5)  Rear-Wheel Drive   \n",
       "35948        3.0        Auto(AM5)  Rear-Wheel Drive   \n",
       "35949        3.0        Auto(AM5)  Rear-Wheel Drive   \n",
       "35950        3.0        Auto(AM6)  Rear-Wheel Drive   \n",
       "35951        3.0     Manual 5-spd  Rear-Wheel Drive   \n",
       "\n",
       "                     Vehicle Class Fuel Type  Fuel Barrels/Year  City MPG  \\\n",
       "0      Special Purpose Vehicle 2WD   Regular          19.388824        18   \n",
       "1      Special Purpose Vehicle 2WD   Regular          25.354615        13   \n",
       "2      Special Purpose Vehicle 2WD   Regular          20.600625        16   \n",
       "3      Special Purpose Vehicle 2WD   Regular          25.354615        13   \n",
       "4                     Midsize Cars   Premium          20.600625        14   \n",
       "...                            ...       ...                ...       ...   \n",
       "35947                  Two Seaters   Premium           9.155833        34   \n",
       "35948                  Two Seaters   Premium           9.155833        34   \n",
       "35949                  Two Seaters   Premium           9.155833        34   \n",
       "35950                  Two Seaters   Premium           9.155833        34   \n",
       "35951                  Two Seaters   Premium           9.417429        32   \n",
       "\n",
       "       Highway MPG  Combined MPG  CO2 Emission Grams/Mile  Fuel Cost/Year  \n",
       "0               17            17               522.764706            1950  \n",
       "1               13            13               683.615385            2550  \n",
       "2               17            16               555.437500            2100  \n",
       "3               13            13               683.615385            2550  \n",
       "4               21            16               555.437500            2550  \n",
       "...            ...           ...                      ...             ...  \n",
       "35947           38            36               244.000000            1100  \n",
       "35948           38            36               243.000000            1100  \n",
       "35949           38            36               244.000000            1100  \n",
       "35950           39            36               246.000000            1100  \n",
       "35951           39            35               255.000000            1150  \n",
       "\n",
       "[35952 rows x 15 columns]"
      ]
     },
     "execution_count": 35,
     "metadata": {},
     "output_type": "execute_result"
    }
   ],
   "source": [
    "data = pd.read_csv('vehicles.csv')\n",
    "data"
   ]
  },
  {
   "cell_type": "code",
   "execution_count": 36,
   "metadata": {},
   "outputs": [
    {
     "data": {
      "text/plain": [
       "5.765075656430796"
      ]
     },
     "execution_count": 36,
     "metadata": {},
     "output_type": "execute_result"
    }
   ],
   "source": [
    "data['Cylinders'].mean()"
   ]
  },
  {
   "cell_type": "markdown",
   "metadata": {},
   "source": [
    "# MySQL"
   ]
  },
  {
   "cell_type": "code",
   "execution_count": 12,
   "metadata": {},
   "outputs": [],
   "source": [
    "os.chdir('C:\\\\Users\\\\mailb\\\\Anaconda3\\\\Lib\\\\site-packages')"
   ]
  },
  {
   "cell_type": "code",
   "execution_count": 13,
   "metadata": {},
   "outputs": [],
   "source": [
    "import pymysql\n",
    "from sqlalchemy import create_engine\n",
    "import getpass"
   ]
  },
  {
   "cell_type": "code",
   "execution_count": 14,
   "metadata": {},
   "outputs": [
    {
     "name": "stdin",
     "output_type": "stream",
     "text": [
      " ·········\n"
     ]
    }
   ],
   "source": [
    "Hostname='localhost'\n",
    "username='root'\n",
    "password=getpass.getpass()\n",
    "database='publications'"
   ]
  },
  {
   "cell_type": "code",
   "execution_count": 23,
   "metadata": {},
   "outputs": [],
   "source": [
    "engine=create_engine(f\"mysql+pymysql://{username}:{password}@{Hostname}/{database}\")"
   ]
  },
  {
   "cell_type": "code",
   "execution_count": 24,
   "metadata": {},
   "outputs": [
    {
     "data": {
      "text/html": [
       "<div>\n",
       "<style scoped>\n",
       "    .dataframe tbody tr th:only-of-type {\n",
       "        vertical-align: middle;\n",
       "    }\n",
       "\n",
       "    .dataframe tbody tr th {\n",
       "        vertical-align: top;\n",
       "    }\n",
       "\n",
       "    .dataframe thead th {\n",
       "        text-align: right;\n",
       "    }\n",
       "</style>\n",
       "<table border=\"1\" class=\"dataframe\">\n",
       "  <thead>\n",
       "    <tr style=\"text-align: right;\">\n",
       "      <th></th>\n",
       "      <th>title_id</th>\n",
       "      <th>title</th>\n",
       "      <th>type</th>\n",
       "      <th>pub_id</th>\n",
       "      <th>price</th>\n",
       "      <th>advance</th>\n",
       "      <th>royalty</th>\n",
       "      <th>ytd_sales</th>\n",
       "      <th>notes</th>\n",
       "      <th>pubdate</th>\n",
       "    </tr>\n",
       "  </thead>\n",
       "  <tbody>\n",
       "    <tr>\n",
       "      <th>0</th>\n",
       "      <td>BU1032</td>\n",
       "      <td>The Busy Executive's Database Guide</td>\n",
       "      <td>business</td>\n",
       "      <td>1389</td>\n",
       "      <td>19.99</td>\n",
       "      <td>5000.0</td>\n",
       "      <td>10.0</td>\n",
       "      <td>4095.0</td>\n",
       "      <td>An overview of available database systems with...</td>\n",
       "      <td>1991-06-12 00:00:00</td>\n",
       "    </tr>\n",
       "    <tr>\n",
       "      <th>1</th>\n",
       "      <td>BU1111</td>\n",
       "      <td>Cooking with Computers: Surreptitious Balance ...</td>\n",
       "      <td>business</td>\n",
       "      <td>1389</td>\n",
       "      <td>11.95</td>\n",
       "      <td>5000.0</td>\n",
       "      <td>10.0</td>\n",
       "      <td>3876.0</td>\n",
       "      <td>Helpful hints on how to use your electronic re...</td>\n",
       "      <td>1991-06-09 00:00:00</td>\n",
       "    </tr>\n",
       "    <tr>\n",
       "      <th>2</th>\n",
       "      <td>BU2075</td>\n",
       "      <td>You Can Combat Computer Stress!</td>\n",
       "      <td>business</td>\n",
       "      <td>0736</td>\n",
       "      <td>2.99</td>\n",
       "      <td>10125.0</td>\n",
       "      <td>24.0</td>\n",
       "      <td>18722.0</td>\n",
       "      <td>The latest medical and psychological technique...</td>\n",
       "      <td>1991-06-30 00:00:00</td>\n",
       "    </tr>\n",
       "    <tr>\n",
       "      <th>3</th>\n",
       "      <td>BU7832</td>\n",
       "      <td>Straight Talk About Computers</td>\n",
       "      <td>business</td>\n",
       "      <td>1389</td>\n",
       "      <td>19.99</td>\n",
       "      <td>5000.0</td>\n",
       "      <td>10.0</td>\n",
       "      <td>4095.0</td>\n",
       "      <td>Annotated analysis of what computers can do fo...</td>\n",
       "      <td>1991-06-22 00:00:00</td>\n",
       "    </tr>\n",
       "    <tr>\n",
       "      <th>4</th>\n",
       "      <td>MC2222</td>\n",
       "      <td>Silicon Valley Gastronomic Treats</td>\n",
       "      <td>mod_cook</td>\n",
       "      <td>0877</td>\n",
       "      <td>19.99</td>\n",
       "      <td>0.0</td>\n",
       "      <td>12.0</td>\n",
       "      <td>2032.0</td>\n",
       "      <td>Favorite recipes for quick, easy, and elegant ...</td>\n",
       "      <td>1991-06-09 00:00:00</td>\n",
       "    </tr>\n",
       "    <tr>\n",
       "      <th>5</th>\n",
       "      <td>MC3021</td>\n",
       "      <td>The Gourmet Microwave</td>\n",
       "      <td>mod_cook</td>\n",
       "      <td>0877</td>\n",
       "      <td>2.99</td>\n",
       "      <td>15000.0</td>\n",
       "      <td>24.0</td>\n",
       "      <td>22246.0</td>\n",
       "      <td>Traditional French gourmet recipes adapted for...</td>\n",
       "      <td>1991-06-18 00:00:00</td>\n",
       "    </tr>\n",
       "    <tr>\n",
       "      <th>6</th>\n",
       "      <td>MC3026</td>\n",
       "      <td>The Psychology of Computer Cooking</td>\n",
       "      <td>UNDECIDED</td>\n",
       "      <td>0877</td>\n",
       "      <td>NaN</td>\n",
       "      <td>NaN</td>\n",
       "      <td>NaN</td>\n",
       "      <td>NaN</td>\n",
       "      <td>None</td>\n",
       "      <td>2014-11-07 10:39:37</td>\n",
       "    </tr>\n",
       "    <tr>\n",
       "      <th>7</th>\n",
       "      <td>PC1035</td>\n",
       "      <td>But Is It User Friendly?</td>\n",
       "      <td>popular_comp</td>\n",
       "      <td>1389</td>\n",
       "      <td>22.95</td>\n",
       "      <td>7000.0</td>\n",
       "      <td>16.0</td>\n",
       "      <td>8780.0</td>\n",
       "      <td>A survey of software for the naive user, focus...</td>\n",
       "      <td>1991-06-30 00:00:00</td>\n",
       "    </tr>\n",
       "    <tr>\n",
       "      <th>8</th>\n",
       "      <td>PC8888</td>\n",
       "      <td>Secrets of Silicon Valley</td>\n",
       "      <td>popular_comp</td>\n",
       "      <td>1389</td>\n",
       "      <td>20.00</td>\n",
       "      <td>8000.0</td>\n",
       "      <td>10.0</td>\n",
       "      <td>4095.0</td>\n",
       "      <td>Muckraking reporting on the world's largest co...</td>\n",
       "      <td>1994-06-12 00:00:00</td>\n",
       "    </tr>\n",
       "    <tr>\n",
       "      <th>9</th>\n",
       "      <td>PC9999</td>\n",
       "      <td>Net Etiquette</td>\n",
       "      <td>popular_comp</td>\n",
       "      <td>1389</td>\n",
       "      <td>NaN</td>\n",
       "      <td>NaN</td>\n",
       "      <td>NaN</td>\n",
       "      <td>NaN</td>\n",
       "      <td>A must-read for computer conferencing.</td>\n",
       "      <td>2014-11-07 10:39:37</td>\n",
       "    </tr>\n",
       "    <tr>\n",
       "      <th>10</th>\n",
       "      <td>PS1372</td>\n",
       "      <td>Computer Phobic AND Non-Phobic Individuals: Be...</td>\n",
       "      <td>psychology</td>\n",
       "      <td>0877</td>\n",
       "      <td>21.59</td>\n",
       "      <td>7000.0</td>\n",
       "      <td>10.0</td>\n",
       "      <td>375.0</td>\n",
       "      <td>A must for the specialist, this book examines ...</td>\n",
       "      <td>1991-10-21 00:00:00</td>\n",
       "    </tr>\n",
       "    <tr>\n",
       "      <th>11</th>\n",
       "      <td>PS2091</td>\n",
       "      <td>Is Anger the Enemy?</td>\n",
       "      <td>psychology</td>\n",
       "      <td>0736</td>\n",
       "      <td>10.95</td>\n",
       "      <td>2275.0</td>\n",
       "      <td>12.0</td>\n",
       "      <td>2045.0</td>\n",
       "      <td>Carefully researched study of the effects of s...</td>\n",
       "      <td>1991-06-15 00:00:00</td>\n",
       "    </tr>\n",
       "    <tr>\n",
       "      <th>12</th>\n",
       "      <td>PS2106</td>\n",
       "      <td>Life Without Fear</td>\n",
       "      <td>psychology</td>\n",
       "      <td>0736</td>\n",
       "      <td>7.00</td>\n",
       "      <td>6000.0</td>\n",
       "      <td>10.0</td>\n",
       "      <td>111.0</td>\n",
       "      <td>New exercise, meditation, and nutritional tech...</td>\n",
       "      <td>1991-10-05 00:00:00</td>\n",
       "    </tr>\n",
       "    <tr>\n",
       "      <th>13</th>\n",
       "      <td>PS3333</td>\n",
       "      <td>Prolonged Data Deprivation: Four Case Studies</td>\n",
       "      <td>psychology</td>\n",
       "      <td>0736</td>\n",
       "      <td>19.99</td>\n",
       "      <td>2000.0</td>\n",
       "      <td>10.0</td>\n",
       "      <td>4072.0</td>\n",
       "      <td>What happens when the data runs dry?  Searchin...</td>\n",
       "      <td>1991-06-12 00:00:00</td>\n",
       "    </tr>\n",
       "    <tr>\n",
       "      <th>14</th>\n",
       "      <td>PS7777</td>\n",
       "      <td>Emotional Security: A New Algorithm</td>\n",
       "      <td>psychology</td>\n",
       "      <td>0736</td>\n",
       "      <td>7.99</td>\n",
       "      <td>4000.0</td>\n",
       "      <td>10.0</td>\n",
       "      <td>3336.0</td>\n",
       "      <td>Protecting yourself and your loved ones from u...</td>\n",
       "      <td>1991-06-12 00:00:00</td>\n",
       "    </tr>\n",
       "    <tr>\n",
       "      <th>15</th>\n",
       "      <td>TC3218</td>\n",
       "      <td>Onions, Leeks, and Garlic: Cooking Secrets of ...</td>\n",
       "      <td>trad_cook</td>\n",
       "      <td>0877</td>\n",
       "      <td>20.95</td>\n",
       "      <td>7000.0</td>\n",
       "      <td>10.0</td>\n",
       "      <td>375.0</td>\n",
       "      <td>Profusely illustrated in color, this makes a w...</td>\n",
       "      <td>1991-10-21 00:00:00</td>\n",
       "    </tr>\n",
       "    <tr>\n",
       "      <th>16</th>\n",
       "      <td>TC4203</td>\n",
       "      <td>Fifty Years in Buckingham Palace Kitchens</td>\n",
       "      <td>trad_cook</td>\n",
       "      <td>0877</td>\n",
       "      <td>11.95</td>\n",
       "      <td>4000.0</td>\n",
       "      <td>14.0</td>\n",
       "      <td>15096.0</td>\n",
       "      <td>More anecdotes from the Queen's favorite cook ...</td>\n",
       "      <td>1991-06-12 00:00:00</td>\n",
       "    </tr>\n",
       "    <tr>\n",
       "      <th>17</th>\n",
       "      <td>TC7777</td>\n",
       "      <td>Sushi, Anyone?</td>\n",
       "      <td>trad_cook</td>\n",
       "      <td>0877</td>\n",
       "      <td>14.99</td>\n",
       "      <td>8000.0</td>\n",
       "      <td>10.0</td>\n",
       "      <td>4095.0</td>\n",
       "      <td>Detailed instructions on how to make authentic...</td>\n",
       "      <td>1991-06-12 00:00:00</td>\n",
       "    </tr>\n",
       "  </tbody>\n",
       "</table>\n",
       "</div>"
      ],
      "text/plain": [
       "   title_id                                              title          type  \\\n",
       "0    BU1032                The Busy Executive's Database Guide      business   \n",
       "1    BU1111  Cooking with Computers: Surreptitious Balance ...      business   \n",
       "2    BU2075                    You Can Combat Computer Stress!      business   \n",
       "3    BU7832                      Straight Talk About Computers      business   \n",
       "4    MC2222                  Silicon Valley Gastronomic Treats      mod_cook   \n",
       "5    MC3021                              The Gourmet Microwave      mod_cook   \n",
       "6    MC3026                 The Psychology of Computer Cooking     UNDECIDED   \n",
       "7    PC1035                           But Is It User Friendly?  popular_comp   \n",
       "8    PC8888                          Secrets of Silicon Valley  popular_comp   \n",
       "9    PC9999                                      Net Etiquette  popular_comp   \n",
       "10   PS1372  Computer Phobic AND Non-Phobic Individuals: Be...    psychology   \n",
       "11   PS2091                                Is Anger the Enemy?    psychology   \n",
       "12   PS2106                                  Life Without Fear    psychology   \n",
       "13   PS3333      Prolonged Data Deprivation: Four Case Studies    psychology   \n",
       "14   PS7777                Emotional Security: A New Algorithm    psychology   \n",
       "15   TC3218  Onions, Leeks, and Garlic: Cooking Secrets of ...     trad_cook   \n",
       "16   TC4203          Fifty Years in Buckingham Palace Kitchens     trad_cook   \n",
       "17   TC7777                                     Sushi, Anyone?     trad_cook   \n",
       "\n",
       "   pub_id  price  advance  royalty  ytd_sales  \\\n",
       "0    1389  19.99   5000.0     10.0     4095.0   \n",
       "1    1389  11.95   5000.0     10.0     3876.0   \n",
       "2    0736   2.99  10125.0     24.0    18722.0   \n",
       "3    1389  19.99   5000.0     10.0     4095.0   \n",
       "4    0877  19.99      0.0     12.0     2032.0   \n",
       "5    0877   2.99  15000.0     24.0    22246.0   \n",
       "6    0877    NaN      NaN      NaN        NaN   \n",
       "7    1389  22.95   7000.0     16.0     8780.0   \n",
       "8    1389  20.00   8000.0     10.0     4095.0   \n",
       "9    1389    NaN      NaN      NaN        NaN   \n",
       "10   0877  21.59   7000.0     10.0      375.0   \n",
       "11   0736  10.95   2275.0     12.0     2045.0   \n",
       "12   0736   7.00   6000.0     10.0      111.0   \n",
       "13   0736  19.99   2000.0     10.0     4072.0   \n",
       "14   0736   7.99   4000.0     10.0     3336.0   \n",
       "15   0877  20.95   7000.0     10.0      375.0   \n",
       "16   0877  11.95   4000.0     14.0    15096.0   \n",
       "17   0877  14.99   8000.0     10.0     4095.0   \n",
       "\n",
       "                                                notes             pubdate  \n",
       "0   An overview of available database systems with... 1991-06-12 00:00:00  \n",
       "1   Helpful hints on how to use your electronic re... 1991-06-09 00:00:00  \n",
       "2   The latest medical and psychological technique... 1991-06-30 00:00:00  \n",
       "3   Annotated analysis of what computers can do fo... 1991-06-22 00:00:00  \n",
       "4   Favorite recipes for quick, easy, and elegant ... 1991-06-09 00:00:00  \n",
       "5   Traditional French gourmet recipes adapted for... 1991-06-18 00:00:00  \n",
       "6                                                None 2014-11-07 10:39:37  \n",
       "7   A survey of software for the naive user, focus... 1991-06-30 00:00:00  \n",
       "8   Muckraking reporting on the world's largest co... 1994-06-12 00:00:00  \n",
       "9              A must-read for computer conferencing. 2014-11-07 10:39:37  \n",
       "10  A must for the specialist, this book examines ... 1991-10-21 00:00:00  \n",
       "11  Carefully researched study of the effects of s... 1991-06-15 00:00:00  \n",
       "12  New exercise, meditation, and nutritional tech... 1991-10-05 00:00:00  \n",
       "13  What happens when the data runs dry?  Searchin... 1991-06-12 00:00:00  \n",
       "14  Protecting yourself and your loved ones from u... 1991-06-12 00:00:00  \n",
       "15  Profusely illustrated in color, this makes a w... 1991-10-21 00:00:00  \n",
       "16  More anecdotes from the Queen's favorite cook ... 1991-06-12 00:00:00  \n",
       "17  Detailed instructions on how to make authentic... 1991-06-12 00:00:00  "
      ]
     },
     "execution_count": 24,
     "metadata": {},
     "output_type": "execute_result"
    }
   ],
   "source": [
    "pd.read_sql_table('titles', engine)"
   ]
  },
  {
   "cell_type": "code",
   "execution_count": 25,
   "metadata": {},
   "outputs": [
    {
     "data": {
      "text/html": [
       "<div>\n",
       "<style scoped>\n",
       "    .dataframe tbody tr th:only-of-type {\n",
       "        vertical-align: middle;\n",
       "    }\n",
       "\n",
       "    .dataframe tbody tr th {\n",
       "        vertical-align: top;\n",
       "    }\n",
       "\n",
       "    .dataframe thead th {\n",
       "        text-align: right;\n",
       "    }\n",
       "</style>\n",
       "<table border=\"1\" class=\"dataframe\">\n",
       "  <thead>\n",
       "    <tr style=\"text-align: right;\">\n",
       "      <th></th>\n",
       "      <th>au_id</th>\n",
       "      <th>au_lname</th>\n",
       "      <th>au_fname</th>\n",
       "      <th>phone</th>\n",
       "      <th>address</th>\n",
       "      <th>city</th>\n",
       "      <th>state</th>\n",
       "      <th>zip</th>\n",
       "      <th>contract</th>\n",
       "      <th>au_id</th>\n",
       "      <th>title_id</th>\n",
       "      <th>au_ord</th>\n",
       "      <th>royaltyper</th>\n",
       "    </tr>\n",
       "  </thead>\n",
       "  <tbody>\n",
       "    <tr>\n",
       "      <th>0</th>\n",
       "      <td>172-32-1176</td>\n",
       "      <td>White</td>\n",
       "      <td>Johnson</td>\n",
       "      <td>408 496-7223</td>\n",
       "      <td>10932 Bigge Rd.</td>\n",
       "      <td>Menlo Park</td>\n",
       "      <td>CA</td>\n",
       "      <td>94025</td>\n",
       "      <td>1</td>\n",
       "      <td>172-32-1176</td>\n",
       "      <td>PS3333</td>\n",
       "      <td>1</td>\n",
       "      <td>100</td>\n",
       "    </tr>\n",
       "    <tr>\n",
       "      <th>1</th>\n",
       "      <td>213-46-8915</td>\n",
       "      <td>Green</td>\n",
       "      <td>Marjorie</td>\n",
       "      <td>415 986-7020</td>\n",
       "      <td>309 63rd St. #411</td>\n",
       "      <td>Oakland</td>\n",
       "      <td>CA</td>\n",
       "      <td>94618</td>\n",
       "      <td>1</td>\n",
       "      <td>213-46-8915</td>\n",
       "      <td>BU1032</td>\n",
       "      <td>2</td>\n",
       "      <td>40</td>\n",
       "    </tr>\n",
       "    <tr>\n",
       "      <th>2</th>\n",
       "      <td>213-46-8915</td>\n",
       "      <td>Green</td>\n",
       "      <td>Marjorie</td>\n",
       "      <td>415 986-7020</td>\n",
       "      <td>309 63rd St. #411</td>\n",
       "      <td>Oakland</td>\n",
       "      <td>CA</td>\n",
       "      <td>94618</td>\n",
       "      <td>1</td>\n",
       "      <td>213-46-8915</td>\n",
       "      <td>BU2075</td>\n",
       "      <td>1</td>\n",
       "      <td>100</td>\n",
       "    </tr>\n",
       "    <tr>\n",
       "      <th>3</th>\n",
       "      <td>238-95-7766</td>\n",
       "      <td>Carson</td>\n",
       "      <td>Cheryl</td>\n",
       "      <td>415 548-7723</td>\n",
       "      <td>589 Darwin Ln.</td>\n",
       "      <td>Berkeley</td>\n",
       "      <td>CA</td>\n",
       "      <td>94705</td>\n",
       "      <td>1</td>\n",
       "      <td>238-95-7766</td>\n",
       "      <td>PC1035</td>\n",
       "      <td>1</td>\n",
       "      <td>100</td>\n",
       "    </tr>\n",
       "    <tr>\n",
       "      <th>4</th>\n",
       "      <td>267-41-2394</td>\n",
       "      <td>O'Leary</td>\n",
       "      <td>Michael</td>\n",
       "      <td>408 286-2428</td>\n",
       "      <td>22 Cleveland Av. #14</td>\n",
       "      <td>San Jose</td>\n",
       "      <td>CA</td>\n",
       "      <td>95128</td>\n",
       "      <td>1</td>\n",
       "      <td>267-41-2394</td>\n",
       "      <td>BU1111</td>\n",
       "      <td>2</td>\n",
       "      <td>40</td>\n",
       "    </tr>\n",
       "    <tr>\n",
       "      <th>5</th>\n",
       "      <td>267-41-2394</td>\n",
       "      <td>O'Leary</td>\n",
       "      <td>Michael</td>\n",
       "      <td>408 286-2428</td>\n",
       "      <td>22 Cleveland Av. #14</td>\n",
       "      <td>San Jose</td>\n",
       "      <td>CA</td>\n",
       "      <td>95128</td>\n",
       "      <td>1</td>\n",
       "      <td>267-41-2394</td>\n",
       "      <td>TC7777</td>\n",
       "      <td>2</td>\n",
       "      <td>30</td>\n",
       "    </tr>\n",
       "    <tr>\n",
       "      <th>6</th>\n",
       "      <td>274-80-9391</td>\n",
       "      <td>Straight</td>\n",
       "      <td>Dean</td>\n",
       "      <td>415 834-2919</td>\n",
       "      <td>5420 College Av.</td>\n",
       "      <td>Oakland</td>\n",
       "      <td>CA</td>\n",
       "      <td>94609</td>\n",
       "      <td>1</td>\n",
       "      <td>274-80-9391</td>\n",
       "      <td>BU7832</td>\n",
       "      <td>1</td>\n",
       "      <td>100</td>\n",
       "    </tr>\n",
       "    <tr>\n",
       "      <th>7</th>\n",
       "      <td>409-56-7008</td>\n",
       "      <td>Bennet</td>\n",
       "      <td>Abraham</td>\n",
       "      <td>415 658-9932</td>\n",
       "      <td>6223 Bateman St.</td>\n",
       "      <td>Berkeley</td>\n",
       "      <td>CA</td>\n",
       "      <td>94705</td>\n",
       "      <td>1</td>\n",
       "      <td>409-56-7008</td>\n",
       "      <td>BU1032</td>\n",
       "      <td>1</td>\n",
       "      <td>60</td>\n",
       "    </tr>\n",
       "    <tr>\n",
       "      <th>8</th>\n",
       "      <td>427-17-2319</td>\n",
       "      <td>Dull</td>\n",
       "      <td>Ann</td>\n",
       "      <td>415 836-7128</td>\n",
       "      <td>3410 Blonde St.</td>\n",
       "      <td>Palo Alto</td>\n",
       "      <td>CA</td>\n",
       "      <td>94301</td>\n",
       "      <td>1</td>\n",
       "      <td>427-17-2319</td>\n",
       "      <td>PC8888</td>\n",
       "      <td>1</td>\n",
       "      <td>50</td>\n",
       "    </tr>\n",
       "    <tr>\n",
       "      <th>9</th>\n",
       "      <td>472-27-2349</td>\n",
       "      <td>Gringlesby</td>\n",
       "      <td>Burt</td>\n",
       "      <td>707 938-6445</td>\n",
       "      <td>PO Box 792</td>\n",
       "      <td>Covelo</td>\n",
       "      <td>CA</td>\n",
       "      <td>95428</td>\n",
       "      <td>1</td>\n",
       "      <td>472-27-2349</td>\n",
       "      <td>TC7777</td>\n",
       "      <td>3</td>\n",
       "      <td>30</td>\n",
       "    </tr>\n",
       "    <tr>\n",
       "      <th>10</th>\n",
       "      <td>486-29-1786</td>\n",
       "      <td>Locksley</td>\n",
       "      <td>Charlene</td>\n",
       "      <td>415 585-4620</td>\n",
       "      <td>18 Broadway Av.</td>\n",
       "      <td>San Francisco</td>\n",
       "      <td>CA</td>\n",
       "      <td>94130</td>\n",
       "      <td>1</td>\n",
       "      <td>486-29-1786</td>\n",
       "      <td>PC9999</td>\n",
       "      <td>1</td>\n",
       "      <td>100</td>\n",
       "    </tr>\n",
       "    <tr>\n",
       "      <th>11</th>\n",
       "      <td>486-29-1786</td>\n",
       "      <td>Locksley</td>\n",
       "      <td>Charlene</td>\n",
       "      <td>415 585-4620</td>\n",
       "      <td>18 Broadway Av.</td>\n",
       "      <td>San Francisco</td>\n",
       "      <td>CA</td>\n",
       "      <td>94130</td>\n",
       "      <td>1</td>\n",
       "      <td>486-29-1786</td>\n",
       "      <td>PS7777</td>\n",
       "      <td>1</td>\n",
       "      <td>100</td>\n",
       "    </tr>\n",
       "    <tr>\n",
       "      <th>12</th>\n",
       "      <td>648-92-1872</td>\n",
       "      <td>Blotchet-Halls</td>\n",
       "      <td>Reginald</td>\n",
       "      <td>503 745-6402</td>\n",
       "      <td>55 Hillsdale Bl.</td>\n",
       "      <td>Corvallis</td>\n",
       "      <td>OR</td>\n",
       "      <td>97330</td>\n",
       "      <td>1</td>\n",
       "      <td>648-92-1872</td>\n",
       "      <td>TC4203</td>\n",
       "      <td>1</td>\n",
       "      <td>100</td>\n",
       "    </tr>\n",
       "    <tr>\n",
       "      <th>13</th>\n",
       "      <td>672-71-3249</td>\n",
       "      <td>Yokomoto</td>\n",
       "      <td>Akiko</td>\n",
       "      <td>415 935-4228</td>\n",
       "      <td>3 Silver Ct.</td>\n",
       "      <td>Walnut Creek</td>\n",
       "      <td>CA</td>\n",
       "      <td>94595</td>\n",
       "      <td>1</td>\n",
       "      <td>672-71-3249</td>\n",
       "      <td>TC7777</td>\n",
       "      <td>1</td>\n",
       "      <td>40</td>\n",
       "    </tr>\n",
       "    <tr>\n",
       "      <th>14</th>\n",
       "      <td>712-45-1867</td>\n",
       "      <td>del Castillo</td>\n",
       "      <td>Innes</td>\n",
       "      <td>615 996-8275</td>\n",
       "      <td>2286 Cram Pl. #86</td>\n",
       "      <td>Ann Arbor</td>\n",
       "      <td>MI</td>\n",
       "      <td>48105</td>\n",
       "      <td>1</td>\n",
       "      <td>712-45-1867</td>\n",
       "      <td>MC2222</td>\n",
       "      <td>1</td>\n",
       "      <td>100</td>\n",
       "    </tr>\n",
       "    <tr>\n",
       "      <th>15</th>\n",
       "      <td>722-51-5454</td>\n",
       "      <td>DeFrance</td>\n",
       "      <td>Michel</td>\n",
       "      <td>219 547-9982</td>\n",
       "      <td>3 Balding Pl.</td>\n",
       "      <td>Gary</td>\n",
       "      <td>IN</td>\n",
       "      <td>46403</td>\n",
       "      <td>1</td>\n",
       "      <td>722-51-5454</td>\n",
       "      <td>MC3021</td>\n",
       "      <td>1</td>\n",
       "      <td>75</td>\n",
       "    </tr>\n",
       "    <tr>\n",
       "      <th>16</th>\n",
       "      <td>724-80-9391</td>\n",
       "      <td>MacFeather</td>\n",
       "      <td>Stearns</td>\n",
       "      <td>415 354-7128</td>\n",
       "      <td>44 Upland Hts.</td>\n",
       "      <td>Oakland</td>\n",
       "      <td>CA</td>\n",
       "      <td>94612</td>\n",
       "      <td>1</td>\n",
       "      <td>724-80-9391</td>\n",
       "      <td>BU1111</td>\n",
       "      <td>1</td>\n",
       "      <td>60</td>\n",
       "    </tr>\n",
       "    <tr>\n",
       "      <th>17</th>\n",
       "      <td>724-80-9391</td>\n",
       "      <td>MacFeather</td>\n",
       "      <td>Stearns</td>\n",
       "      <td>415 354-7128</td>\n",
       "      <td>44 Upland Hts.</td>\n",
       "      <td>Oakland</td>\n",
       "      <td>CA</td>\n",
       "      <td>94612</td>\n",
       "      <td>1</td>\n",
       "      <td>724-80-9391</td>\n",
       "      <td>PS1372</td>\n",
       "      <td>2</td>\n",
       "      <td>25</td>\n",
       "    </tr>\n",
       "    <tr>\n",
       "      <th>18</th>\n",
       "      <td>756-30-7391</td>\n",
       "      <td>Karsen</td>\n",
       "      <td>Livia</td>\n",
       "      <td>415 534-9219</td>\n",
       "      <td>5720 McAuley St.</td>\n",
       "      <td>Oakland</td>\n",
       "      <td>CA</td>\n",
       "      <td>94609</td>\n",
       "      <td>1</td>\n",
       "      <td>756-30-7391</td>\n",
       "      <td>PS1372</td>\n",
       "      <td>1</td>\n",
       "      <td>75</td>\n",
       "    </tr>\n",
       "    <tr>\n",
       "      <th>19</th>\n",
       "      <td>807-91-6654</td>\n",
       "      <td>Panteley</td>\n",
       "      <td>Sylvia</td>\n",
       "      <td>301 946-8853</td>\n",
       "      <td>1956 Arlington Pl.</td>\n",
       "      <td>Rockville</td>\n",
       "      <td>MD</td>\n",
       "      <td>20853</td>\n",
       "      <td>1</td>\n",
       "      <td>807-91-6654</td>\n",
       "      <td>TC3218</td>\n",
       "      <td>1</td>\n",
       "      <td>100</td>\n",
       "    </tr>\n",
       "    <tr>\n",
       "      <th>20</th>\n",
       "      <td>846-92-7186</td>\n",
       "      <td>Hunter</td>\n",
       "      <td>Sheryl</td>\n",
       "      <td>415 836-7128</td>\n",
       "      <td>3410 Blonde St.</td>\n",
       "      <td>Palo Alto</td>\n",
       "      <td>CA</td>\n",
       "      <td>94301</td>\n",
       "      <td>1</td>\n",
       "      <td>846-92-7186</td>\n",
       "      <td>PC8888</td>\n",
       "      <td>2</td>\n",
       "      <td>50</td>\n",
       "    </tr>\n",
       "    <tr>\n",
       "      <th>21</th>\n",
       "      <td>899-46-2035</td>\n",
       "      <td>Ringer</td>\n",
       "      <td>Anne</td>\n",
       "      <td>801 826-0752</td>\n",
       "      <td>67 Seventh Av.</td>\n",
       "      <td>Salt Lake City</td>\n",
       "      <td>UT</td>\n",
       "      <td>84152</td>\n",
       "      <td>1</td>\n",
       "      <td>899-46-2035</td>\n",
       "      <td>MC3021</td>\n",
       "      <td>2</td>\n",
       "      <td>25</td>\n",
       "    </tr>\n",
       "    <tr>\n",
       "      <th>22</th>\n",
       "      <td>899-46-2035</td>\n",
       "      <td>Ringer</td>\n",
       "      <td>Anne</td>\n",
       "      <td>801 826-0752</td>\n",
       "      <td>67 Seventh Av.</td>\n",
       "      <td>Salt Lake City</td>\n",
       "      <td>UT</td>\n",
       "      <td>84152</td>\n",
       "      <td>1</td>\n",
       "      <td>899-46-2035</td>\n",
       "      <td>PS2091</td>\n",
       "      <td>2</td>\n",
       "      <td>50</td>\n",
       "    </tr>\n",
       "    <tr>\n",
       "      <th>23</th>\n",
       "      <td>998-72-3567</td>\n",
       "      <td>Ringer</td>\n",
       "      <td>Albert</td>\n",
       "      <td>801 826-0752</td>\n",
       "      <td>67 Seventh Av.</td>\n",
       "      <td>Salt Lake City</td>\n",
       "      <td>UT</td>\n",
       "      <td>84152</td>\n",
       "      <td>1</td>\n",
       "      <td>998-72-3567</td>\n",
       "      <td>PS2091</td>\n",
       "      <td>1</td>\n",
       "      <td>50</td>\n",
       "    </tr>\n",
       "    <tr>\n",
       "      <th>24</th>\n",
       "      <td>998-72-3567</td>\n",
       "      <td>Ringer</td>\n",
       "      <td>Albert</td>\n",
       "      <td>801 826-0752</td>\n",
       "      <td>67 Seventh Av.</td>\n",
       "      <td>Salt Lake City</td>\n",
       "      <td>UT</td>\n",
       "      <td>84152</td>\n",
       "      <td>1</td>\n",
       "      <td>998-72-3567</td>\n",
       "      <td>PS2106</td>\n",
       "      <td>1</td>\n",
       "      <td>100</td>\n",
       "    </tr>\n",
       "  </tbody>\n",
       "</table>\n",
       "</div>"
      ],
      "text/plain": [
       "          au_id        au_lname  au_fname         phone               address  \\\n",
       "0   172-32-1176           White   Johnson  408 496-7223       10932 Bigge Rd.   \n",
       "1   213-46-8915           Green  Marjorie  415 986-7020     309 63rd St. #411   \n",
       "2   213-46-8915           Green  Marjorie  415 986-7020     309 63rd St. #411   \n",
       "3   238-95-7766          Carson    Cheryl  415 548-7723        589 Darwin Ln.   \n",
       "4   267-41-2394         O'Leary   Michael  408 286-2428  22 Cleveland Av. #14   \n",
       "5   267-41-2394         O'Leary   Michael  408 286-2428  22 Cleveland Av. #14   \n",
       "6   274-80-9391        Straight      Dean  415 834-2919      5420 College Av.   \n",
       "7   409-56-7008          Bennet   Abraham  415 658-9932      6223 Bateman St.   \n",
       "8   427-17-2319            Dull       Ann  415 836-7128       3410 Blonde St.   \n",
       "9   472-27-2349      Gringlesby      Burt  707 938-6445            PO Box 792   \n",
       "10  486-29-1786        Locksley  Charlene  415 585-4620       18 Broadway Av.   \n",
       "11  486-29-1786        Locksley  Charlene  415 585-4620       18 Broadway Av.   \n",
       "12  648-92-1872  Blotchet-Halls  Reginald  503 745-6402      55 Hillsdale Bl.   \n",
       "13  672-71-3249        Yokomoto     Akiko  415 935-4228          3 Silver Ct.   \n",
       "14  712-45-1867    del Castillo     Innes  615 996-8275     2286 Cram Pl. #86   \n",
       "15  722-51-5454        DeFrance    Michel  219 547-9982         3 Balding Pl.   \n",
       "16  724-80-9391      MacFeather   Stearns  415 354-7128        44 Upland Hts.   \n",
       "17  724-80-9391      MacFeather   Stearns  415 354-7128        44 Upland Hts.   \n",
       "18  756-30-7391          Karsen     Livia  415 534-9219      5720 McAuley St.   \n",
       "19  807-91-6654        Panteley    Sylvia  301 946-8853    1956 Arlington Pl.   \n",
       "20  846-92-7186          Hunter    Sheryl  415 836-7128       3410 Blonde St.   \n",
       "21  899-46-2035          Ringer      Anne  801 826-0752        67 Seventh Av.   \n",
       "22  899-46-2035          Ringer      Anne  801 826-0752        67 Seventh Av.   \n",
       "23  998-72-3567          Ringer    Albert  801 826-0752        67 Seventh Av.   \n",
       "24  998-72-3567          Ringer    Albert  801 826-0752        67 Seventh Av.   \n",
       "\n",
       "              city state    zip  contract        au_id title_id  au_ord  \\\n",
       "0       Menlo Park    CA  94025         1  172-32-1176   PS3333       1   \n",
       "1          Oakland    CA  94618         1  213-46-8915   BU1032       2   \n",
       "2          Oakland    CA  94618         1  213-46-8915   BU2075       1   \n",
       "3         Berkeley    CA  94705         1  238-95-7766   PC1035       1   \n",
       "4         San Jose    CA  95128         1  267-41-2394   BU1111       2   \n",
       "5         San Jose    CA  95128         1  267-41-2394   TC7777       2   \n",
       "6          Oakland    CA  94609         1  274-80-9391   BU7832       1   \n",
       "7         Berkeley    CA  94705         1  409-56-7008   BU1032       1   \n",
       "8        Palo Alto    CA  94301         1  427-17-2319   PC8888       1   \n",
       "9           Covelo    CA  95428         1  472-27-2349   TC7777       3   \n",
       "10   San Francisco    CA  94130         1  486-29-1786   PC9999       1   \n",
       "11   San Francisco    CA  94130         1  486-29-1786   PS7777       1   \n",
       "12       Corvallis    OR  97330         1  648-92-1872   TC4203       1   \n",
       "13    Walnut Creek    CA  94595         1  672-71-3249   TC7777       1   \n",
       "14       Ann Arbor    MI  48105         1  712-45-1867   MC2222       1   \n",
       "15            Gary    IN  46403         1  722-51-5454   MC3021       1   \n",
       "16         Oakland    CA  94612         1  724-80-9391   BU1111       1   \n",
       "17         Oakland    CA  94612         1  724-80-9391   PS1372       2   \n",
       "18         Oakland    CA  94609         1  756-30-7391   PS1372       1   \n",
       "19       Rockville    MD  20853         1  807-91-6654   TC3218       1   \n",
       "20       Palo Alto    CA  94301         1  846-92-7186   PC8888       2   \n",
       "21  Salt Lake City    UT  84152         1  899-46-2035   MC3021       2   \n",
       "22  Salt Lake City    UT  84152         1  899-46-2035   PS2091       2   \n",
       "23  Salt Lake City    UT  84152         1  998-72-3567   PS2091       1   \n",
       "24  Salt Lake City    UT  84152         1  998-72-3567   PS2106       1   \n",
       "\n",
       "    royaltyper  \n",
       "0          100  \n",
       "1           40  \n",
       "2          100  \n",
       "3          100  \n",
       "4           40  \n",
       "5           30  \n",
       "6          100  \n",
       "7           60  \n",
       "8           50  \n",
       "9           30  \n",
       "10         100  \n",
       "11         100  \n",
       "12         100  \n",
       "13          40  \n",
       "14         100  \n",
       "15          75  \n",
       "16          60  \n",
       "17          25  \n",
       "18          75  \n",
       "19         100  \n",
       "20          50  \n",
       "21          25  \n",
       "22          50  \n",
       "23          50  \n",
       "24         100  "
      ]
     },
     "execution_count": 25,
     "metadata": {},
     "output_type": "execute_result"
    }
   ],
   "source": [
    "query=\"\"\"\n",
    "select * from authors  a\n",
    "inner join titleauthor ta\n",
    "on a.au_id=ta.au_id\n",
    "\"\"\"\n",
    "\n",
    "pd.read_sql_query(query, engine)"
   ]
  },
  {
   "cell_type": "code",
   "execution_count": 26,
   "metadata": {},
   "outputs": [
    {
     "data": {
      "text/html": [
       "<div>\n",
       "<style scoped>\n",
       "    .dataframe tbody tr th:only-of-type {\n",
       "        vertical-align: middle;\n",
       "    }\n",
       "\n",
       "    .dataframe tbody tr th {\n",
       "        vertical-align: top;\n",
       "    }\n",
       "\n",
       "    .dataframe thead th {\n",
       "        text-align: right;\n",
       "    }\n",
       "</style>\n",
       "<table border=\"1\" class=\"dataframe\">\n",
       "  <thead>\n",
       "    <tr style=\"text-align: right;\">\n",
       "      <th></th>\n",
       "      <th>au_id</th>\n",
       "      <th>au_lname</th>\n",
       "      <th>au_fname</th>\n",
       "      <th>phone</th>\n",
       "      <th>address</th>\n",
       "      <th>city</th>\n",
       "      <th>state</th>\n",
       "      <th>zip</th>\n",
       "      <th>contract</th>\n",
       "      <th>au_id</th>\n",
       "      <th>title_id</th>\n",
       "      <th>au_ord</th>\n",
       "      <th>royaltyper</th>\n",
       "    </tr>\n",
       "  </thead>\n",
       "  <tbody>\n",
       "    <tr>\n",
       "      <th>0</th>\n",
       "      <td>172-32-1176</td>\n",
       "      <td>White</td>\n",
       "      <td>Johnson</td>\n",
       "      <td>408 496-7223</td>\n",
       "      <td>10932 Bigge Rd.</td>\n",
       "      <td>Menlo Park</td>\n",
       "      <td>CA</td>\n",
       "      <td>94025</td>\n",
       "      <td>1</td>\n",
       "      <td>172-32-1176</td>\n",
       "      <td>PS3333</td>\n",
       "      <td>1</td>\n",
       "      <td>100</td>\n",
       "    </tr>\n",
       "    <tr>\n",
       "      <th>1</th>\n",
       "      <td>213-46-8915</td>\n",
       "      <td>Green</td>\n",
       "      <td>Marjorie</td>\n",
       "      <td>415 986-7020</td>\n",
       "      <td>309 63rd St. #411</td>\n",
       "      <td>Oakland</td>\n",
       "      <td>CA</td>\n",
       "      <td>94618</td>\n",
       "      <td>1</td>\n",
       "      <td>213-46-8915</td>\n",
       "      <td>BU1032</td>\n",
       "      <td>2</td>\n",
       "      <td>40</td>\n",
       "    </tr>\n",
       "    <tr>\n",
       "      <th>2</th>\n",
       "      <td>213-46-8915</td>\n",
       "      <td>Green</td>\n",
       "      <td>Marjorie</td>\n",
       "      <td>415 986-7020</td>\n",
       "      <td>309 63rd St. #411</td>\n",
       "      <td>Oakland</td>\n",
       "      <td>CA</td>\n",
       "      <td>94618</td>\n",
       "      <td>1</td>\n",
       "      <td>213-46-8915</td>\n",
       "      <td>BU2075</td>\n",
       "      <td>1</td>\n",
       "      <td>100</td>\n",
       "    </tr>\n",
       "    <tr>\n",
       "      <th>3</th>\n",
       "      <td>238-95-7766</td>\n",
       "      <td>Carson</td>\n",
       "      <td>Cheryl</td>\n",
       "      <td>415 548-7723</td>\n",
       "      <td>589 Darwin Ln.</td>\n",
       "      <td>Berkeley</td>\n",
       "      <td>CA</td>\n",
       "      <td>94705</td>\n",
       "      <td>1</td>\n",
       "      <td>238-95-7766</td>\n",
       "      <td>PC1035</td>\n",
       "      <td>1</td>\n",
       "      <td>100</td>\n",
       "    </tr>\n",
       "    <tr>\n",
       "      <th>4</th>\n",
       "      <td>267-41-2394</td>\n",
       "      <td>O'Leary</td>\n",
       "      <td>Michael</td>\n",
       "      <td>408 286-2428</td>\n",
       "      <td>22 Cleveland Av. #14</td>\n",
       "      <td>San Jose</td>\n",
       "      <td>CA</td>\n",
       "      <td>95128</td>\n",
       "      <td>1</td>\n",
       "      <td>267-41-2394</td>\n",
       "      <td>BU1111</td>\n",
       "      <td>2</td>\n",
       "      <td>40</td>\n",
       "    </tr>\n",
       "    <tr>\n",
       "      <th>5</th>\n",
       "      <td>267-41-2394</td>\n",
       "      <td>O'Leary</td>\n",
       "      <td>Michael</td>\n",
       "      <td>408 286-2428</td>\n",
       "      <td>22 Cleveland Av. #14</td>\n",
       "      <td>San Jose</td>\n",
       "      <td>CA</td>\n",
       "      <td>95128</td>\n",
       "      <td>1</td>\n",
       "      <td>267-41-2394</td>\n",
       "      <td>TC7777</td>\n",
       "      <td>2</td>\n",
       "      <td>30</td>\n",
       "    </tr>\n",
       "    <tr>\n",
       "      <th>6</th>\n",
       "      <td>274-80-9391</td>\n",
       "      <td>Straight</td>\n",
       "      <td>Dean</td>\n",
       "      <td>415 834-2919</td>\n",
       "      <td>5420 College Av.</td>\n",
       "      <td>Oakland</td>\n",
       "      <td>CA</td>\n",
       "      <td>94609</td>\n",
       "      <td>1</td>\n",
       "      <td>274-80-9391</td>\n",
       "      <td>BU7832</td>\n",
       "      <td>1</td>\n",
       "      <td>100</td>\n",
       "    </tr>\n",
       "    <tr>\n",
       "      <th>7</th>\n",
       "      <td>409-56-7008</td>\n",
       "      <td>Bennet</td>\n",
       "      <td>Abraham</td>\n",
       "      <td>415 658-9932</td>\n",
       "      <td>6223 Bateman St.</td>\n",
       "      <td>Berkeley</td>\n",
       "      <td>CA</td>\n",
       "      <td>94705</td>\n",
       "      <td>1</td>\n",
       "      <td>409-56-7008</td>\n",
       "      <td>BU1032</td>\n",
       "      <td>1</td>\n",
       "      <td>60</td>\n",
       "    </tr>\n",
       "    <tr>\n",
       "      <th>8</th>\n",
       "      <td>427-17-2319</td>\n",
       "      <td>Dull</td>\n",
       "      <td>Ann</td>\n",
       "      <td>415 836-7128</td>\n",
       "      <td>3410 Blonde St.</td>\n",
       "      <td>Palo Alto</td>\n",
       "      <td>CA</td>\n",
       "      <td>94301</td>\n",
       "      <td>1</td>\n",
       "      <td>427-17-2319</td>\n",
       "      <td>PC8888</td>\n",
       "      <td>1</td>\n",
       "      <td>50</td>\n",
       "    </tr>\n",
       "    <tr>\n",
       "      <th>9</th>\n",
       "      <td>472-27-2349</td>\n",
       "      <td>Gringlesby</td>\n",
       "      <td>Burt</td>\n",
       "      <td>707 938-6445</td>\n",
       "      <td>PO Box 792</td>\n",
       "      <td>Covelo</td>\n",
       "      <td>CA</td>\n",
       "      <td>95428</td>\n",
       "      <td>1</td>\n",
       "      <td>472-27-2349</td>\n",
       "      <td>TC7777</td>\n",
       "      <td>3</td>\n",
       "      <td>30</td>\n",
       "    </tr>\n",
       "    <tr>\n",
       "      <th>10</th>\n",
       "      <td>486-29-1786</td>\n",
       "      <td>Locksley</td>\n",
       "      <td>Charlene</td>\n",
       "      <td>415 585-4620</td>\n",
       "      <td>18 Broadway Av.</td>\n",
       "      <td>San Francisco</td>\n",
       "      <td>CA</td>\n",
       "      <td>94130</td>\n",
       "      <td>1</td>\n",
       "      <td>486-29-1786</td>\n",
       "      <td>PC9999</td>\n",
       "      <td>1</td>\n",
       "      <td>100</td>\n",
       "    </tr>\n",
       "    <tr>\n",
       "      <th>11</th>\n",
       "      <td>486-29-1786</td>\n",
       "      <td>Locksley</td>\n",
       "      <td>Charlene</td>\n",
       "      <td>415 585-4620</td>\n",
       "      <td>18 Broadway Av.</td>\n",
       "      <td>San Francisco</td>\n",
       "      <td>CA</td>\n",
       "      <td>94130</td>\n",
       "      <td>1</td>\n",
       "      <td>486-29-1786</td>\n",
       "      <td>PS7777</td>\n",
       "      <td>1</td>\n",
       "      <td>100</td>\n",
       "    </tr>\n",
       "    <tr>\n",
       "      <th>12</th>\n",
       "      <td>648-92-1872</td>\n",
       "      <td>Blotchet-Halls</td>\n",
       "      <td>Reginald</td>\n",
       "      <td>503 745-6402</td>\n",
       "      <td>55 Hillsdale Bl.</td>\n",
       "      <td>Corvallis</td>\n",
       "      <td>OR</td>\n",
       "      <td>97330</td>\n",
       "      <td>1</td>\n",
       "      <td>648-92-1872</td>\n",
       "      <td>TC4203</td>\n",
       "      <td>1</td>\n",
       "      <td>100</td>\n",
       "    </tr>\n",
       "    <tr>\n",
       "      <th>13</th>\n",
       "      <td>672-71-3249</td>\n",
       "      <td>Yokomoto</td>\n",
       "      <td>Akiko</td>\n",
       "      <td>415 935-4228</td>\n",
       "      <td>3 Silver Ct.</td>\n",
       "      <td>Walnut Creek</td>\n",
       "      <td>CA</td>\n",
       "      <td>94595</td>\n",
       "      <td>1</td>\n",
       "      <td>672-71-3249</td>\n",
       "      <td>TC7777</td>\n",
       "      <td>1</td>\n",
       "      <td>40</td>\n",
       "    </tr>\n",
       "    <tr>\n",
       "      <th>14</th>\n",
       "      <td>712-45-1867</td>\n",
       "      <td>del Castillo</td>\n",
       "      <td>Innes</td>\n",
       "      <td>615 996-8275</td>\n",
       "      <td>2286 Cram Pl. #86</td>\n",
       "      <td>Ann Arbor</td>\n",
       "      <td>MI</td>\n",
       "      <td>48105</td>\n",
       "      <td>1</td>\n",
       "      <td>712-45-1867</td>\n",
       "      <td>MC2222</td>\n",
       "      <td>1</td>\n",
       "      <td>100</td>\n",
       "    </tr>\n",
       "    <tr>\n",
       "      <th>15</th>\n",
       "      <td>722-51-5454</td>\n",
       "      <td>DeFrance</td>\n",
       "      <td>Michel</td>\n",
       "      <td>219 547-9982</td>\n",
       "      <td>3 Balding Pl.</td>\n",
       "      <td>Gary</td>\n",
       "      <td>IN</td>\n",
       "      <td>46403</td>\n",
       "      <td>1</td>\n",
       "      <td>722-51-5454</td>\n",
       "      <td>MC3021</td>\n",
       "      <td>1</td>\n",
       "      <td>75</td>\n",
       "    </tr>\n",
       "    <tr>\n",
       "      <th>16</th>\n",
       "      <td>724-80-9391</td>\n",
       "      <td>MacFeather</td>\n",
       "      <td>Stearns</td>\n",
       "      <td>415 354-7128</td>\n",
       "      <td>44 Upland Hts.</td>\n",
       "      <td>Oakland</td>\n",
       "      <td>CA</td>\n",
       "      <td>94612</td>\n",
       "      <td>1</td>\n",
       "      <td>724-80-9391</td>\n",
       "      <td>BU1111</td>\n",
       "      <td>1</td>\n",
       "      <td>60</td>\n",
       "    </tr>\n",
       "    <tr>\n",
       "      <th>17</th>\n",
       "      <td>724-80-9391</td>\n",
       "      <td>MacFeather</td>\n",
       "      <td>Stearns</td>\n",
       "      <td>415 354-7128</td>\n",
       "      <td>44 Upland Hts.</td>\n",
       "      <td>Oakland</td>\n",
       "      <td>CA</td>\n",
       "      <td>94612</td>\n",
       "      <td>1</td>\n",
       "      <td>724-80-9391</td>\n",
       "      <td>PS1372</td>\n",
       "      <td>2</td>\n",
       "      <td>25</td>\n",
       "    </tr>\n",
       "    <tr>\n",
       "      <th>18</th>\n",
       "      <td>756-30-7391</td>\n",
       "      <td>Karsen</td>\n",
       "      <td>Livia</td>\n",
       "      <td>415 534-9219</td>\n",
       "      <td>5720 McAuley St.</td>\n",
       "      <td>Oakland</td>\n",
       "      <td>CA</td>\n",
       "      <td>94609</td>\n",
       "      <td>1</td>\n",
       "      <td>756-30-7391</td>\n",
       "      <td>PS1372</td>\n",
       "      <td>1</td>\n",
       "      <td>75</td>\n",
       "    </tr>\n",
       "    <tr>\n",
       "      <th>19</th>\n",
       "      <td>807-91-6654</td>\n",
       "      <td>Panteley</td>\n",
       "      <td>Sylvia</td>\n",
       "      <td>301 946-8853</td>\n",
       "      <td>1956 Arlington Pl.</td>\n",
       "      <td>Rockville</td>\n",
       "      <td>MD</td>\n",
       "      <td>20853</td>\n",
       "      <td>1</td>\n",
       "      <td>807-91-6654</td>\n",
       "      <td>TC3218</td>\n",
       "      <td>1</td>\n",
       "      <td>100</td>\n",
       "    </tr>\n",
       "    <tr>\n",
       "      <th>20</th>\n",
       "      <td>846-92-7186</td>\n",
       "      <td>Hunter</td>\n",
       "      <td>Sheryl</td>\n",
       "      <td>415 836-7128</td>\n",
       "      <td>3410 Blonde St.</td>\n",
       "      <td>Palo Alto</td>\n",
       "      <td>CA</td>\n",
       "      <td>94301</td>\n",
       "      <td>1</td>\n",
       "      <td>846-92-7186</td>\n",
       "      <td>PC8888</td>\n",
       "      <td>2</td>\n",
       "      <td>50</td>\n",
       "    </tr>\n",
       "    <tr>\n",
       "      <th>21</th>\n",
       "      <td>899-46-2035</td>\n",
       "      <td>Ringer</td>\n",
       "      <td>Anne</td>\n",
       "      <td>801 826-0752</td>\n",
       "      <td>67 Seventh Av.</td>\n",
       "      <td>Salt Lake City</td>\n",
       "      <td>UT</td>\n",
       "      <td>84152</td>\n",
       "      <td>1</td>\n",
       "      <td>899-46-2035</td>\n",
       "      <td>MC3021</td>\n",
       "      <td>2</td>\n",
       "      <td>25</td>\n",
       "    </tr>\n",
       "    <tr>\n",
       "      <th>22</th>\n",
       "      <td>899-46-2035</td>\n",
       "      <td>Ringer</td>\n",
       "      <td>Anne</td>\n",
       "      <td>801 826-0752</td>\n",
       "      <td>67 Seventh Av.</td>\n",
       "      <td>Salt Lake City</td>\n",
       "      <td>UT</td>\n",
       "      <td>84152</td>\n",
       "      <td>1</td>\n",
       "      <td>899-46-2035</td>\n",
       "      <td>PS2091</td>\n",
       "      <td>2</td>\n",
       "      <td>50</td>\n",
       "    </tr>\n",
       "    <tr>\n",
       "      <th>23</th>\n",
       "      <td>998-72-3567</td>\n",
       "      <td>Ringer</td>\n",
       "      <td>Albert</td>\n",
       "      <td>801 826-0752</td>\n",
       "      <td>67 Seventh Av.</td>\n",
       "      <td>Salt Lake City</td>\n",
       "      <td>UT</td>\n",
       "      <td>84152</td>\n",
       "      <td>1</td>\n",
       "      <td>998-72-3567</td>\n",
       "      <td>PS2091</td>\n",
       "      <td>1</td>\n",
       "      <td>50</td>\n",
       "    </tr>\n",
       "    <tr>\n",
       "      <th>24</th>\n",
       "      <td>998-72-3567</td>\n",
       "      <td>Ringer</td>\n",
       "      <td>Albert</td>\n",
       "      <td>801 826-0752</td>\n",
       "      <td>67 Seventh Av.</td>\n",
       "      <td>Salt Lake City</td>\n",
       "      <td>UT</td>\n",
       "      <td>84152</td>\n",
       "      <td>1</td>\n",
       "      <td>998-72-3567</td>\n",
       "      <td>PS2106</td>\n",
       "      <td>1</td>\n",
       "      <td>100</td>\n",
       "    </tr>\n",
       "  </tbody>\n",
       "</table>\n",
       "</div>"
      ],
      "text/plain": [
       "          au_id        au_lname  au_fname         phone               address  \\\n",
       "0   172-32-1176           White   Johnson  408 496-7223       10932 Bigge Rd.   \n",
       "1   213-46-8915           Green  Marjorie  415 986-7020     309 63rd St. #411   \n",
       "2   213-46-8915           Green  Marjorie  415 986-7020     309 63rd St. #411   \n",
       "3   238-95-7766          Carson    Cheryl  415 548-7723        589 Darwin Ln.   \n",
       "4   267-41-2394         O'Leary   Michael  408 286-2428  22 Cleveland Av. #14   \n",
       "5   267-41-2394         O'Leary   Michael  408 286-2428  22 Cleveland Av. #14   \n",
       "6   274-80-9391        Straight      Dean  415 834-2919      5420 College Av.   \n",
       "7   409-56-7008          Bennet   Abraham  415 658-9932      6223 Bateman St.   \n",
       "8   427-17-2319            Dull       Ann  415 836-7128       3410 Blonde St.   \n",
       "9   472-27-2349      Gringlesby      Burt  707 938-6445            PO Box 792   \n",
       "10  486-29-1786        Locksley  Charlene  415 585-4620       18 Broadway Av.   \n",
       "11  486-29-1786        Locksley  Charlene  415 585-4620       18 Broadway Av.   \n",
       "12  648-92-1872  Blotchet-Halls  Reginald  503 745-6402      55 Hillsdale Bl.   \n",
       "13  672-71-3249        Yokomoto     Akiko  415 935-4228          3 Silver Ct.   \n",
       "14  712-45-1867    del Castillo     Innes  615 996-8275     2286 Cram Pl. #86   \n",
       "15  722-51-5454        DeFrance    Michel  219 547-9982         3 Balding Pl.   \n",
       "16  724-80-9391      MacFeather   Stearns  415 354-7128        44 Upland Hts.   \n",
       "17  724-80-9391      MacFeather   Stearns  415 354-7128        44 Upland Hts.   \n",
       "18  756-30-7391          Karsen     Livia  415 534-9219      5720 McAuley St.   \n",
       "19  807-91-6654        Panteley    Sylvia  301 946-8853    1956 Arlington Pl.   \n",
       "20  846-92-7186          Hunter    Sheryl  415 836-7128       3410 Blonde St.   \n",
       "21  899-46-2035          Ringer      Anne  801 826-0752        67 Seventh Av.   \n",
       "22  899-46-2035          Ringer      Anne  801 826-0752        67 Seventh Av.   \n",
       "23  998-72-3567          Ringer    Albert  801 826-0752        67 Seventh Av.   \n",
       "24  998-72-3567          Ringer    Albert  801 826-0752        67 Seventh Av.   \n",
       "\n",
       "              city state    zip  contract        au_id title_id  au_ord  \\\n",
       "0       Menlo Park    CA  94025         1  172-32-1176   PS3333       1   \n",
       "1          Oakland    CA  94618         1  213-46-8915   BU1032       2   \n",
       "2          Oakland    CA  94618         1  213-46-8915   BU2075       1   \n",
       "3         Berkeley    CA  94705         1  238-95-7766   PC1035       1   \n",
       "4         San Jose    CA  95128         1  267-41-2394   BU1111       2   \n",
       "5         San Jose    CA  95128         1  267-41-2394   TC7777       2   \n",
       "6          Oakland    CA  94609         1  274-80-9391   BU7832       1   \n",
       "7         Berkeley    CA  94705         1  409-56-7008   BU1032       1   \n",
       "8        Palo Alto    CA  94301         1  427-17-2319   PC8888       1   \n",
       "9           Covelo    CA  95428         1  472-27-2349   TC7777       3   \n",
       "10   San Francisco    CA  94130         1  486-29-1786   PC9999       1   \n",
       "11   San Francisco    CA  94130         1  486-29-1786   PS7777       1   \n",
       "12       Corvallis    OR  97330         1  648-92-1872   TC4203       1   \n",
       "13    Walnut Creek    CA  94595         1  672-71-3249   TC7777       1   \n",
       "14       Ann Arbor    MI  48105         1  712-45-1867   MC2222       1   \n",
       "15            Gary    IN  46403         1  722-51-5454   MC3021       1   \n",
       "16         Oakland    CA  94612         1  724-80-9391   BU1111       1   \n",
       "17         Oakland    CA  94612         1  724-80-9391   PS1372       2   \n",
       "18         Oakland    CA  94609         1  756-30-7391   PS1372       1   \n",
       "19       Rockville    MD  20853         1  807-91-6654   TC3218       1   \n",
       "20       Palo Alto    CA  94301         1  846-92-7186   PC8888       2   \n",
       "21  Salt Lake City    UT  84152         1  899-46-2035   MC3021       2   \n",
       "22  Salt Lake City    UT  84152         1  899-46-2035   PS2091       2   \n",
       "23  Salt Lake City    UT  84152         1  998-72-3567   PS2091       1   \n",
       "24  Salt Lake City    UT  84152         1  998-72-3567   PS2106       1   \n",
       "\n",
       "    royaltyper  \n",
       "0          100  \n",
       "1           40  \n",
       "2          100  \n",
       "3          100  \n",
       "4           40  \n",
       "5           30  \n",
       "6          100  \n",
       "7           60  \n",
       "8           50  \n",
       "9           30  \n",
       "10         100  \n",
       "11         100  \n",
       "12         100  \n",
       "13          40  \n",
       "14         100  \n",
       "15          75  \n",
       "16          60  \n",
       "17          25  \n",
       "18          75  \n",
       "19         100  \n",
       "20          50  \n",
       "21          25  \n",
       "22          50  \n",
       "23          50  \n",
       "24         100  "
      ]
     },
     "execution_count": 26,
     "metadata": {},
     "output_type": "execute_result"
    }
   ],
   "source": [
    "pd.read_sql_query(\n",
    "\"\"\"\n",
    "select * from authors  a\n",
    "inner join titleauthor ta\n",
    "on a.au_id=ta.au_id\n",
    "\"\"\", engine)"
   ]
  },
  {
   "cell_type": "code",
   "execution_count": 27,
   "metadata": {},
   "outputs": [],
   "source": [
    "df=pd.read_sql_table('employee',engine)"
   ]
  },
  {
   "cell_type": "code",
   "execution_count": 29,
   "metadata": {},
   "outputs": [],
   "source": [
    "df.to_sql('new_employee_2', engine)"
   ]
  },
  {
   "cell_type": "code",
   "execution_count": null,
   "metadata": {},
   "outputs": [],
   "source": []
  },
  {
   "cell_type": "code",
   "execution_count": 30,
   "metadata": {},
   "outputs": [],
   "source": [
    "import os"
   ]
  },
  {
   "cell_type": "code",
   "execution_count": 31,
   "metadata": {},
   "outputs": [
    {
     "ename": "FileNotFoundError",
     "evalue": "[WinError 3] Le chemin d’accès spécifié est introuvable: '../../../Downloads/czech'",
     "output_type": "error",
     "traceback": [
      "\u001b[1;31m-------------------------------------\u001b[0m",
      "\u001b[1;31mFileNotFoundError\u001b[0mTraceback (most recent call last)",
      "\u001b[1;32m<ipython-input-31-130bb432494d>\u001b[0m in \u001b[0;36m<module>\u001b[1;34m\u001b[0m\n\u001b[1;32m----> 1\u001b[1;33m \u001b[0mos\u001b[0m\u001b[1;33m.\u001b[0m\u001b[0mlistdir\u001b[0m\u001b[1;33m(\u001b[0m\u001b[1;34m'../../../Downloads/czech'\u001b[0m\u001b[1;33m)\u001b[0m\u001b[1;33m\u001b[0m\u001b[1;33m\u001b[0m\u001b[0m\n\u001b[0m",
      "\u001b[1;31mFileNotFoundError\u001b[0m: [WinError 3] Le chemin d’accès spécifié est introuvable: '../../../Downloads/czech'"
     ]
    }
   ],
   "source": [
    "os.listdir('../../../Downloads/czech')"
   ]
  },
  {
   "cell_type": "code",
   "execution_count": null,
   "metadata": {},
   "outputs": [],
   "source": [
    "pd.read_csv(\"../../../Downloads/czech/account.asc\", sep=';')"
   ]
  },
  {
   "cell_type": "code",
   "execution_count": null,
   "metadata": {},
   "outputs": [],
   "source": [
    "path=\"../../../Downloads/czech/\""
   ]
  },
  {
   "cell_type": "code",
   "execution_count": null,
   "metadata": {},
   "outputs": [],
   "source": [
    "card=pd.read_csv(path+'card.asc', sep=';')\n",
    "account=pd.read_csv(path+'account.asc', sep=';')\n",
    "client=pd.read_csv(path+'client.asc', sep=';')\n"
   ]
  },
  {
   "cell_type": "code",
   "execution_count": null,
   "metadata": {},
   "outputs": [],
   "source": [
    "d={name[:-4]:pd.read_csv(path+name, sep=';') for name in os.listdir(path) if name.endswith('.asc')}"
   ]
  },
  {
   "cell_type": "code",
   "execution_count": null,
   "metadata": {},
   "outputs": [],
   "source": [
    "d.keys()"
   ]
  },
  {
   "cell_type": "code",
   "execution_count": null,
   "metadata": {},
   "outputs": [],
   "source": [
    "d[\"card\"]"
   ]
  },
  {
   "cell_type": "code",
   "execution_count": null,
   "metadata": {},
   "outputs": [],
   "source": [
    "engine=create_engine(f\"mysql+pymysql://{username}:{password}@{Hostname}/finance\")"
   ]
  },
  {
   "cell_type": "code",
   "execution_count": null,
   "metadata": {},
   "outputs": [],
   "source": [
    "for name, data in d.items():\n",
    "    print(name, 'is processing...')\n",
    "    data.to_sql(name, engine)\n",
    "    print(name, 'is finished!') "
   ]
  },
  {
   "cell_type": "code",
   "execution_count": null,
   "metadata": {},
   "outputs": [],
   "source": [
    "?pd.read_json"
   ]
  },
  {
   "cell_type": "code",
   "execution_count": null,
   "metadata": {},
   "outputs": [],
   "source": []
  },
  {
   "cell_type": "markdown",
   "metadata": {},
   "source": [
    "# Data Manipulations"
   ]
  },
  {
   "cell_type": "code",
   "execution_count": null,
   "metadata": {},
   "outputs": [],
   "source": [
    "import pandas as pd\n",
    "url='https://studio.ironhack.school/asset-v1:IRONHACK+DAFT+202006_PAR+type@asset+block@datasets_674388_1186156_tv_shows.csv'\n"
   ]
  },
  {
   "cell_type": "code",
   "execution_count": null,
   "metadata": {},
   "outputs": [],
   "source": [
    "df=pd.read_csv(url, index_col='Unnamed: 0')\n",
    "df.head()"
   ]
  },
  {
   "cell_type": "markdown",
   "metadata": {},
   "source": [
    "## Brief Information about DataFrame"
   ]
  },
  {
   "cell_type": "code",
   "execution_count": null,
   "metadata": {},
   "outputs": [],
   "source": [
    "df.info()"
   ]
  },
  {
   "cell_type": "markdown",
   "metadata": {},
   "source": [
    "## Rename columns"
   ]
  },
  {
   "cell_type": "code",
   "execution_count": null,
   "metadata": {},
   "outputs": [],
   "source": [
    "df.columns"
   ]
  },
  {
   "cell_type": "code",
   "execution_count": null,
   "metadata": {},
   "outputs": [],
   "source": [
    "#dumb\n",
    "df.columns=['Title', 'Year', 'Age_restriction', 'IMDb', 'Rotten Tomatoes', 'Netflix', 'Hulu', 'Prime Video', 'Disney+', 'type']"
   ]
  },
  {
   "cell_type": "code",
   "execution_count": null,
   "metadata": {},
   "outputs": [],
   "source": [
    "df.columns"
   ]
  },
  {
   "cell_type": "code",
   "execution_count": null,
   "metadata": {},
   "outputs": [],
   "source": [
    "df.head()"
   ]
  },
  {
   "cell_type": "code",
   "execution_count": null,
   "metadata": {},
   "outputs": [],
   "source": [
    "#good solution\n",
    "\n",
    "#df.rename(columns={\"old_name\":\"new_name\"})\n",
    "df.rename(columns={\"Age_restriction\":\"Age\"})"
   ]
  },
  {
   "cell_type": "code",
   "execution_count": null,
   "metadata": {},
   "outputs": [],
   "source": [
    "df.head()"
   ]
  },
  {
   "cell_type": "code",
   "execution_count": null,
   "metadata": {},
   "outputs": [],
   "source": [
    "df=df.rename(columns={\"Age_restriction\":\"Age\"})"
   ]
  },
  {
   "cell_type": "code",
   "execution_count": null,
   "metadata": {},
   "outputs": [],
   "source": [
    "df.head()"
   ]
  },
  {
   "cell_type": "code",
   "execution_count": null,
   "metadata": {},
   "outputs": [],
   "source": [
    "df.rename(columns={\"Age\":\"Age_restriction\"}, inplace=True)"
   ]
  },
  {
   "cell_type": "code",
   "execution_count": null,
   "metadata": {},
   "outputs": [],
   "source": [
    "df.head()"
   ]
  },
  {
   "cell_type": "markdown",
   "metadata": {},
   "source": [
    "## Change the order of columns"
   ]
  },
  {
   "cell_type": "code",
   "execution_count": null,
   "metadata": {},
   "outputs": [],
   "source": [
    "df.columns"
   ]
  },
  {
   "cell_type": "code",
   "execution_count": null,
   "metadata": {},
   "outputs": [],
   "source": [
    "df[['type', 'Title', 'Year', 'Age_restriction', 'IMDb', 'Rotten Tomatoes',\n",
    "       'Netflix', 'Hulu', 'Prime Video', 'Disney+']]"
   ]
  },
  {
   "cell_type": "markdown",
   "metadata": {},
   "source": [
    "## New column"
   ]
  },
  {
   "cell_type": "code",
   "execution_count": null,
   "metadata": {},
   "outputs": [],
   "source": [
    "df['new_column']=4"
   ]
  },
  {
   "cell_type": "code",
   "execution_count": null,
   "metadata": {},
   "outputs": [],
   "source": [
    "df.head()"
   ]
  },
  {
   "cell_type": "code",
   "execution_count": null,
   "metadata": {},
   "outputs": [],
   "source": [
    "df['duplicated_column']=df.Title"
   ]
  },
  {
   "cell_type": "code",
   "execution_count": null,
   "metadata": {},
   "outputs": [],
   "source": [
    "df.head()"
   ]
  },
  {
   "cell_type": "markdown",
   "metadata": {},
   "source": [
    "I want to create a column which indicates my watchlist.  \n",
    "I would like to add all the series wth average IMDb rating above 9.2 into it. \n",
    "\n",
    "So, series that follow the condition above will be added as 'to watch', while the rest will be added as 'skip'"
   ]
  },
  {
   "cell_type": "code",
   "execution_count": null,
   "metadata": {},
   "outputs": [],
   "source": [
    "#select the series that follow the condition\n",
    "df.IMDb>9.2\n",
    "\n",
    "#well know it is the time to actually select the rows\n",
    "df.loc[df.IMDb>9.2]\n",
    "\n",
    "#assign the value \"to watch\" for those rows into a new column @watchlist\n",
    "df.loc[df.IMDb>9.2, 'watchlist']='to watch'\n",
    "\n",
    "#assign the value \"skip\" for the rest \n",
    "df.loc[df.IMDb<=9.2, 'watchlist']='skip'\n"
   ]
  },
  {
   "cell_type": "code",
   "execution_count": null,
   "metadata": {},
   "outputs": [],
   "source": [
    "df.head()"
   ]
  },
  {
   "cell_type": "markdown",
   "metadata": {},
   "source": [
    "## Unique values"
   ]
  },
  {
   "cell_type": "code",
   "execution_count": null,
   "metadata": {},
   "outputs": [],
   "source": [
    "#number of unique values per column\n",
    "df.nunique()"
   ]
  },
  {
   "cell_type": "code",
   "execution_count": null,
   "metadata": {},
   "outputs": [],
   "source": [
    "#get a list of unique values for 1 column\n",
    "df.watchlist.unique()"
   ]
  },
  {
   "cell_type": "markdown",
   "metadata": {},
   "source": [
    "## frequency"
   ]
  },
  {
   "cell_type": "code",
   "execution_count": null,
   "metadata": {},
   "outputs": [],
   "source": [
    "df.watchlist.value_counts()"
   ]
  },
  {
   "cell_type": "code",
   "execution_count": null,
   "metadata": {},
   "outputs": [],
   "source": [
    "df['Prime Video'].value_counts()"
   ]
  },
  {
   "cell_type": "code",
   "execution_count": null,
   "metadata": {},
   "outputs": [],
   "source": [
    "df.head()"
   ]
  },
  {
   "cell_type": "code",
   "execution_count": null,
   "metadata": {},
   "outputs": [],
   "source": [
    "df['Disney+'].value_counts()"
   ]
  },
  {
   "cell_type": "markdown",
   "metadata": {},
   "source": [
    "## Descriptive Stats"
   ]
  },
  {
   "cell_type": "markdown",
   "metadata": {},
   "source": [
    "Metrics are:\n",
    "* mean\n",
    "* median\n",
    "* max\n",
    "* min\n",
    "* standard deviation\n",
    "* percentiles\n",
    "* mode\n",
    "* support (count)"
   ]
  },
  {
   "cell_type": "code",
   "execution_count": null,
   "metadata": {},
   "outputs": [],
   "source": [
    "df.mean()"
   ]
  },
  {
   "cell_type": "code",
   "execution_count": null,
   "metadata": {},
   "outputs": [],
   "source": [
    "df.mean(axis=1)"
   ]
  },
  {
   "cell_type": "code",
   "execution_count": null,
   "metadata": {},
   "outputs": [],
   "source": [
    "df.mean().mean()"
   ]
  },
  {
   "cell_type": "code",
   "execution_count": null,
   "metadata": {},
   "outputs": [],
   "source": [
    "df.median()"
   ]
  },
  {
   "cell_type": "code",
   "execution_count": null,
   "metadata": {},
   "outputs": [],
   "source": [
    "df.min()"
   ]
  },
  {
   "cell_type": "code",
   "execution_count": null,
   "metadata": {},
   "outputs": [],
   "source": [
    "df.max()"
   ]
  },
  {
   "cell_type": "code",
   "execution_count": null,
   "metadata": {},
   "outputs": [],
   "source": [
    "df.quantile(q=0.25)"
   ]
  },
  {
   "cell_type": "code",
   "execution_count": null,
   "metadata": {},
   "outputs": [],
   "source": [
    "df.quantile(q=0.75)"
   ]
  },
  {
   "cell_type": "code",
   "execution_count": null,
   "metadata": {},
   "outputs": [],
   "source": [
    "df.count()"
   ]
  },
  {
   "cell_type": "code",
   "execution_count": null,
   "metadata": {},
   "outputs": [],
   "source": [
    "df.std()"
   ]
  },
  {
   "cell_type": "code",
   "execution_count": null,
   "metadata": {},
   "outputs": [],
   "source": [
    "df.var()"
   ]
  },
  {
   "cell_type": "code",
   "execution_count": null,
   "metadata": {},
   "outputs": [],
   "source": [
    "df.mode()"
   ]
  },
  {
   "cell_type": "code",
   "execution_count": null,
   "metadata": {},
   "outputs": [],
   "source": [
    "df.describe()"
   ]
  },
  {
   "cell_type": "markdown",
   "metadata": {},
   "source": [
    "# Calculations"
   ]
  },
  {
   "cell_type": "code",
   "execution_count": null,
   "metadata": {},
   "outputs": [],
   "source": [
    "df.sum()"
   ]
  },
  {
   "cell_type": "code",
   "execution_count": null,
   "metadata": {},
   "outputs": [],
   "source": [
    "df.sum(axis=1)"
   ]
  },
  {
   "cell_type": "code",
   "execution_count": null,
   "metadata": {},
   "outputs": [],
   "source": [
    "#dumb way\n",
    "df.Netflix+df['Disney+']"
   ]
  },
  {
   "cell_type": "code",
   "execution_count": null,
   "metadata": {},
   "outputs": [],
   "source": [
    "#pandas way\n",
    "\n",
    "df['Netflix'].add(df['Disney+'])"
   ]
  },
  {
   "cell_type": "code",
   "execution_count": null,
   "metadata": {},
   "outputs": [],
   "source": [
    "import numpy as np\n",
    "4+np.nan"
   ]
  },
  {
   "cell_type": "code",
   "execution_count": null,
   "metadata": {},
   "outputs": [],
   "source": [
    "df.IMDb+df.Hulu"
   ]
  },
  {
   "cell_type": "code",
   "execution_count": null,
   "metadata": {},
   "outputs": [],
   "source": [
    "df.IMDb.add(df.Hulu, fill_value=0)"
   ]
  },
  {
   "cell_type": "code",
   "execution_count": null,
   "metadata": {},
   "outputs": [],
   "source": [
    "df.Netflix-df.Hulu"
   ]
  },
  {
   "cell_type": "code",
   "execution_count": null,
   "metadata": {},
   "outputs": [],
   "source": [
    "df.Netflix.sub(df.Hulu)"
   ]
  },
  {
   "cell_type": "code",
   "execution_count": null,
   "metadata": {},
   "outputs": [],
   "source": [
    "df.Netflix*df.Hulu"
   ]
  },
  {
   "cell_type": "code",
   "execution_count": null,
   "metadata": {},
   "outputs": [],
   "source": [
    "df.Netflix.mul(df.Hulu)"
   ]
  },
  {
   "cell_type": "code",
   "execution_count": null,
   "metadata": {},
   "outputs": [],
   "source": [
    "df.Netflix/df.Hulu"
   ]
  },
  {
   "cell_type": "code",
   "execution_count": null,
   "metadata": {},
   "outputs": [],
   "source": [
    "df.Netflix.div(df.Hulu)"
   ]
  },
  {
   "cell_type": "markdown",
   "metadata": {},
   "source": [
    "# Missing values"
   ]
  },
  {
   "cell_type": "code",
   "execution_count": null,
   "metadata": {},
   "outputs": [],
   "source": [
    "df.isna()"
   ]
  },
  {
   "cell_type": "code",
   "execution_count": null,
   "metadata": {},
   "outputs": [],
   "source": [
    "df_missing=df.isna()"
   ]
  },
  {
   "cell_type": "code",
   "execution_count": null,
   "metadata": {},
   "outputs": [],
   "source": [
    "df_missing.IMDb.value_counts()"
   ]
  },
  {
   "cell_type": "code",
   "execution_count": null,
   "metadata": {},
   "outputs": [],
   "source": [
    "df.isna().sum()"
   ]
  },
  {
   "cell_type": "markdown",
   "metadata": {},
   "source": [
    "# Transpose"
   ]
  },
  {
   "cell_type": "code",
   "execution_count": null,
   "metadata": {},
   "outputs": [],
   "source": [
    "df.describe().T"
   ]
  },
  {
   "cell_type": "code",
   "execution_count": null,
   "metadata": {},
   "outputs": [],
   "source": [
    "df.describe().transpose()"
   ]
  },
  {
   "cell_type": "markdown",
   "metadata": {},
   "source": [
    "## Sort values"
   ]
  },
  {
   "cell_type": "code",
   "execution_count": null,
   "metadata": {},
   "outputs": [],
   "source": [
    "df.sort_values('IMDb', ascending=False)"
   ]
  },
  {
   "cell_type": "code",
   "execution_count": null,
   "metadata": {},
   "outputs": [],
   "source": [
    "df=df.sort_values(['IMDb', 'Year'], ascending=False)"
   ]
  },
  {
   "cell_type": "code",
   "execution_count": null,
   "metadata": {},
   "outputs": [],
   "source": [
    "df.head()"
   ]
  },
  {
   "cell_type": "markdown",
   "metadata": {},
   "source": [
    "## Sort index"
   ]
  },
  {
   "cell_type": "code",
   "execution_count": null,
   "metadata": {},
   "outputs": [],
   "source": [
    "df.sort_index()"
   ]
  },
  {
   "cell_type": "markdown",
   "metadata": {},
   "source": [
    "# Drop columns"
   ]
  },
  {
   "cell_type": "code",
   "execution_count": null,
   "metadata": {},
   "outputs": [],
   "source": [
    "df.drop('duplicated_column', axis=1)"
   ]
  },
  {
   "cell_type": "code",
   "execution_count": null,
   "metadata": {},
   "outputs": [],
   "source": [
    "df.drop(0) #drop row"
   ]
  },
  {
   "cell_type": "code",
   "execution_count": null,
   "metadata": {},
   "outputs": [],
   "source": [
    "df.drop(['duplicated_column', 'new_column','type'], axis=1, inplace=True)"
   ]
  },
  {
   "cell_type": "markdown",
   "metadata": {},
   "source": [
    "## Duplicates"
   ]
  },
  {
   "cell_type": "code",
   "execution_count": null,
   "metadata": {},
   "outputs": [],
   "source": [
    "df.duplicated().sum()"
   ]
  },
  {
   "cell_type": "code",
   "execution_count": null,
   "metadata": {},
   "outputs": [],
   "source": [
    "df"
   ]
  },
  {
   "cell_type": "code",
   "execution_count": null,
   "metadata": {},
   "outputs": [],
   "source": [
    "df.duplicated(subset='Year')"
   ]
  },
  {
   "cell_type": "code",
   "execution_count": null,
   "metadata": {},
   "outputs": [],
   "source": [
    "df.duplicated(subset=['Year', 'Netflix'])"
   ]
  },
  {
   "cell_type": "markdown",
   "metadata": {},
   "source": [
    "## Drop duplicates"
   ]
  },
  {
   "cell_type": "code",
   "execution_count": null,
   "metadata": {},
   "outputs": [],
   "source": [
    "df.drop_duplicates(subset=['Netflix','watchlist'])"
   ]
  },
  {
   "cell_type": "code",
   "execution_count": null,
   "metadata": {},
   "outputs": [],
   "source": [
    "df"
   ]
  },
  {
   "cell_type": "markdown",
   "metadata": {},
   "source": [
    "## Dropna"
   ]
  },
  {
   "cell_type": "code",
   "execution_count": null,
   "metadata": {},
   "outputs": [],
   "source": [
    "df.dropna()"
   ]
  },
  {
   "cell_type": "markdown",
   "metadata": {},
   "source": [
    "# Copy"
   ]
  },
  {
   "cell_type": "code",
   "execution_count": null,
   "metadata": {},
   "outputs": [],
   "source": [
    "df1=df"
   ]
  },
  {
   "cell_type": "code",
   "execution_count": null,
   "metadata": {},
   "outputs": [],
   "source": [
    "df2=df.copy()"
   ]
  },
  {
   "cell_type": "code",
   "execution_count": null,
   "metadata": {},
   "outputs": [],
   "source": [
    "df2"
   ]
  },
  {
   "cell_type": "code",
   "execution_count": null,
   "metadata": {},
   "outputs": [],
   "source": [
    "df1 is df"
   ]
  },
  {
   "cell_type": "code",
   "execution_count": null,
   "metadata": {},
   "outputs": [],
   "source": [
    "df2 is df"
   ]
  },
  {
   "cell_type": "markdown",
   "metadata": {},
   "source": [
    "## Fill missing values"
   ]
  },
  {
   "cell_type": "code",
   "execution_count": null,
   "metadata": {},
   "outputs": [],
   "source": [
    "df.Age_restriction.fillna('18+')"
   ]
  },
  {
   "cell_type": "markdown",
   "metadata": {},
   "source": [
    "## isin"
   ]
  },
  {
   "cell_type": "code",
   "execution_count": null,
   "metadata": {},
   "outputs": [],
   "source": [
    "df.Age_restriction.value_counts()"
   ]
  },
  {
   "cell_type": "markdown",
   "metadata": {},
   "source": [
    "I want to select all the series that my young sister is allowed to watch. She is 13 years old."
   ]
  },
  {
   "cell_type": "markdown",
   "metadata": {},
   "source": [
    "- 7+\n",
    "* all\n",
    "* 13+"
   ]
  },
  {
   "cell_type": "code",
   "execution_count": null,
   "metadata": {},
   "outputs": [],
   "source": [
    "df.loc[(df.Age_restriction=='7+')| (df.Age_restriction=='13+') | (df.Age_restriction=='all')]"
   ]
  },
  {
   "cell_type": "code",
   "execution_count": null,
   "metadata": {},
   "outputs": [],
   "source": [
    "df.loc[df.Age_restriction.isin(['7+','all','13+'])]"
   ]
  },
  {
   "cell_type": "markdown",
   "metadata": {},
   "source": [
    "# String manipulations"
   ]
  },
  {
   "cell_type": "code",
   "execution_count": null,
   "metadata": {},
   "outputs": [],
   "source": [
    "df.Title.str.lower()"
   ]
  },
  {
   "cell_type": "code",
   "execution_count": null,
   "metadata": {},
   "outputs": [],
   "source": [
    "df.Title.str.upper()"
   ]
  },
  {
   "cell_type": "code",
   "execution_count": null,
   "metadata": {},
   "outputs": [],
   "source": [
    "df.Title.str.title()"
   ]
  },
  {
   "cell_type": "code",
   "execution_count": null,
   "metadata": {},
   "outputs": [],
   "source": [
    "df.Title.str.capitalize()"
   ]
  },
  {
   "cell_type": "code",
   "execution_count": null,
   "metadata": {},
   "outputs": [],
   "source": [
    "df.Title.str.len()"
   ]
  },
  {
   "cell_type": "code",
   "execution_count": null,
   "metadata": {},
   "outputs": [],
   "source": [
    "df.Title.str.replace('a','b')"
   ]
  },
  {
   "cell_type": "code",
   "execution_count": null,
   "metadata": {},
   "outputs": [],
   "source": [
    "df.Title.str.split()"
   ]
  },
  {
   "cell_type": "code",
   "execution_count": null,
   "metadata": {},
   "outputs": [],
   "source": [
    "df.Title.str.strip('y')"
   ]
  },
  {
   "cell_type": "code",
   "execution_count": null,
   "metadata": {},
   "outputs": [],
   "source": [
    "df.columns.str.replace('+','').str.replace(' ','_')"
   ]
  },
  {
   "cell_type": "code",
   "execution_count": null,
   "metadata": {},
   "outputs": [],
   "source": [
    "df.Title.str.split().str.get(0)"
   ]
  },
  {
   "cell_type": "code",
   "execution_count": null,
   "metadata": {},
   "outputs": [],
   "source": [
    "df.Title.str.split().str.get(1)"
   ]
  },
  {
   "cell_type": "code",
   "execution_count": null,
   "metadata": {},
   "outputs": [],
   "source": [
    "df.Title.str.split(expand=True)"
   ]
  },
  {
   "cell_type": "code",
   "execution_count": null,
   "metadata": {},
   "outputs": [],
   "source": [
    "df['Rotten Tomatoes'].str.strip('%').astype(float).fillna(0)"
   ]
  },
  {
   "cell_type": "code",
   "execution_count": null,
   "metadata": {},
   "outputs": [],
   "source": [
    "df"
   ]
  }
 ],
 "metadata": {
  "kernelspec": {
   "display_name": "Python 3",
   "language": "python",
   "name": "python3"
  },
  "language_info": {
   "codemirror_mode": {
    "name": "ipython",
    "version": 3
   },
   "file_extension": ".py",
   "mimetype": "text/x-python",
   "name": "python",
   "nbconvert_exporter": "python",
   "pygments_lexer": "ipython3",
   "version": "3.8.5"
  }
 },
 "nbformat": 4,
 "nbformat_minor": 4
}
