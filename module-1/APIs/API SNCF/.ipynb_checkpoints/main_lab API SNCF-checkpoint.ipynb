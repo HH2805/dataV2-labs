{
 "cells": [
  {
   "cell_type": "markdown",
   "metadata": {},
   "source": [
    "# 2A.eco - Exercice API SNCF\n",
    "\n",
    "Manipulation d'une [API REST](https://fr.wikipedia.org/wiki/Representational_state_transfer), celle de la SNCF est prise comme exemple. Exercices."
   ]
  },
  {
   "cell_type": "markdown",
   "metadata": {},
   "source": [
    "API signifie Application Programming Interface. Le mot le plus important est “interface”, et c’est le mot le plus simple, car nous utilisons tous des interfaces au quotidien. Par exemple une télécommande de la TV. Vous avez un groupe de boutons et interrupteurs qui vous permettent de faire différentes opérations. Vous savez quel bouton correspond à quelle action. Par exemple, vous ne pouvez pas allumer votre TV avec le bouton de volume. Pour que cela marche, vous devez respecter l'interface et interagir avec elle de la façon qui a été prévue lors de sa conception.\n",
    "\n",
    "Une API est une interface pour les applications. Une API vient presque toujours avec une documentation. La documentation du code est un texte écrit par les développeurs qui rend plus facile l’utilisation du code de cette API. Elle explique comment le code fonctionne, pourquoi il a été écrit d’une certaine façon et pas d’une autre, comment contribuer au projet, et bien plus encore. Lire la documentation est essentiel pour bien intégrer l’API d’une autre plateforme. Et chaque API a sa propre logique de fonctionnement. \n",
    "\n",
    "Ici, vous allez découvrir l'API de la SNCF qui donne accès à de nombreuses informations liées à la mobilité."
   ]
  },
  {
   "cell_type": "markdown",
   "metadata": {},
   "source": [
    "Ici, comme souvent, il s'agit d'une API [REST](Comment fonctionne une API sans Python ? Ici, on a une api  classique). REST signifie “Representational State Transfer”. Les API REST sont basées sur HTTP, qui signifie Hypertext Transfer Protocol. C’est le protocole au coeur du web. Il définit la communication entre les différentes parties du web. L’échange est basé sur des requêtes client et serveur. Le principe du client-serveur définit les deux entités qui interagissent dans une API REST : un client et un serveur, les mêmes entités qui communiquent sur le web. Un client envoie une requête, et le serveur renvoie une réponse. \n",
    "\n",
    "Les réponses du serveur pour les API REST peuvent être délivrées dans de multiples formats. JSON (JavaScript Object Notation) est souvent utilisé, mais XML, CSV, ou même RSS sont aussi valables. Ici (comme souvent), il s'agit d'un format JSON."
   ]
  },
  {
   "cell_type": "markdown",
   "metadata": {},
   "source": [
    "## Partie 0 - modules recommandés et connexion à l'API \n",
    "\n",
    "Il vous faudra sûrement les modules suivant : \n",
    "\n",
    "- [requests](http://docs.python-requests.org/en/master/)\n",
    "- [datetime](https://docs.python.org/3/library/datetime.html)\n",
    "- [pandas](http://pandas.pydata.org/)\n",
    "- [matplotlib](http://matplotlib.org/)\n",
    "\n",
    "En premier lieu créez une clé d'authentification ('token') pour vous connecter à l'API de la SNCF https://www.digital.sncf.com/startup/api/token-developpeur\n",
    "\n",
    "Il est possible de stocker une clé de façon cachée sur votre ordinateur avec le module [keyring](http://pythonhosted.org/keyring/)."
   ]
  },
  {
   "cell_type": "code",
   "execution_count": null,
   "metadata": {},
   "outputs": [],
   "source": [
    "import getpass\n",
    "password = getpass.getpass()"
   ]
  },
  {
   "cell_type": "markdown",
   "metadata": {},
   "source": [
    "### Requêter une API sans Python "
   ]
  },
  {
   "cell_type": "markdown",
   "metadata": {},
   "source": [
    "Pour faire une requếté via l'API SNCF, il \"suffit\" de passer les bons paramètres dans l'url, au format indiqué par la documentation. Comme souvent, c'est un système clé/valeur : url?key1=value1&key2=value2. \n",
    "\n",
    "Pour savoir quelles clés et quelles valeurs indiquer : il faut lire la [Documentation](http://doc.navitia.io/) (la SNCF n'a pas fait sa propre documentation, mais il suffit de remplacer navitia.io par sncf.com dans les exemples de la Doc).\n",
    "\n",
    "En réponse à la requête, le serveur renvoie un document JSON (JavaScript Object Notation). Cela ressemble à un dictionnaire Python.\n",
    "\n",
    "Exemple : pour requérir la liste des gares SNCF :\n",
    "- allez à : https://api.sncf.com/v1/coverage/sncf/stop_areas (si cela ne fonctionne pas, indiquez votre token de la manière suivante :  https://{token}@api.sncf.com/v1/coverage/sncf/stop_areas.)\n",
    "- puis enregistrez le résultat dans un fichier texte (au même endroit où vous avez ouvert votre notebook tant qu'à faire), et ajoutez l'extension .json.\n",
    "\n",
    "Exemple : [stop_areas.json] (https://raw.githubusercontent.com/sdpython/ensae_teaching_cs/master/_doc/notebooks/td2a_eco/stop_areas.json).\n"
   ]
  },
  {
   "cell_type": "markdown",
   "metadata": {},
   "source": [
    "### Manipuler un fichier json en Python "
   ]
  },
  {
   "cell_type": "markdown",
   "metadata": {},
   "source": [
    "Nous exliquons ci-dessous comment importer et exporter un fichier json en Python :\n",
    "json.load to read json file in Python, \n",
    "json.dump to convert Python file in a json file."
   ]
  },
  {
   "cell_type": "code",
   "execution_count": null,
   "metadata": {},
   "outputs": [],
   "source": [
    "import json\n",
    "with open('stop_areas.json','r') as f:\n",
    "    data = json.load(f)\n",
    "    print(data)"
   ]
  },
  {
   "cell_type": "markdown",
   "metadata": {},
   "source": [
    "On peut voir que json.load a converti le fichier json en un dictionnaire Python.\n",
    "On sait déterminer la longueur du dictionnaire, les clés du dictionnaire, valeurs du dictionnaire..."
   ]
  },
  {
   "cell_type": "code",
   "execution_count": null,
   "metadata": {},
   "outputs": [],
   "source": [
    "print(len(data))"
   ]
  },
  {
   "cell_type": "markdown",
   "metadata": {},
   "source": [
    "Ce n'est pas très lisible. Utilisez le module pretty print."
   ]
  },
  {
   "cell_type": "code",
   "execution_count": null,
   "metadata": {},
   "outputs": [],
   "source": [
    "import pprint\n",
    "pprint.pprint(data)"
   ]
  },
  {
   "cell_type": "markdown",
   "metadata": {},
   "source": [
    "\n",
    "\n",
    "Pour exporter des données en json :"
   ]
  },
  {
   "cell_type": "code",
   "execution_count": null,
   "metadata": {},
   "outputs": [],
   "source": [
    "with open('./data_export.json','w') as f:\n",
    "    json.dump(data,f)"
   ]
  },
  {
   "cell_type": "code",
   "execution_count": null,
   "metadata": {},
   "outputs": [],
   "source": [
    "import os\n",
    "os.listdir()"
   ]
  },
  {
   "cell_type": "markdown",
   "metadata": {},
   "source": [
    "Il est aussi possible de n'importer / exporter qu'une chaine de caractères, avec les fonctions json.dumps et json.loads (attention, avec un \"s\"). Exemple :"
   ]
  },
  {
   "cell_type": "code",
   "execution_count": null,
   "metadata": {},
   "outputs": [],
   "source": [
    "import json\n",
    "\n",
    "mystr = {\n",
    "    'name' : 'Mewtwo',\n",
    "    'pokedex_id' : 150,\n",
    "    'type' : 'psychic',\n",
    "    'location':None,\n",
    "    'best':True\n",
    "}\n",
    "\n",
    "\"\"\" L'encoding JSON gère les types None, bool, int, float, str, lists, tuples et dictionaires.\n",
    "Cet encoding est presque identique à celui de Python, à quelques différences près : \n",
    "Python: None <-> json: null\n",
    "Python: True <-> json: true\n",
    "Python: False <-> json: false\n",
    "\"\"\"\n",
    "\n",
    "json_str = json.dumps(mystr)\n",
    "print(\"JSON :\", json_str)\n",
    "\n",
    "datastr = json.loads(json_str)\n",
    "print(\"DATA :\", datastr)"
   ]
  },
  {
   "cell_type": "markdown",
   "metadata": {},
   "source": [
    "Il est possible de trier les clés d'un JSON."
   ]
  },
  {
   "cell_type": "code",
   "execution_count": null,
   "metadata": {},
   "outputs": [],
   "source": [
    "print(json.dumps(data, sort_keys=True))"
   ]
  },
  {
   "cell_type": "markdown",
   "metadata": {},
   "source": [
    "### Requêter une API avec Python "
   ]
  },
  {
   "cell_type": "code",
   "execution_count": null,
   "metadata": {},
   "outputs": [],
   "source": [
    "# On utilise la bibliothèque requests de Python.\n",
    "\n",
    "import requests\n",
    "import pprint\n",
    "\n",
    "#token_auth='votre token ici, recu dans votre boite mail'\n",
    "token_auth = getpass.getpass()\n",
    "\n",
    "url_avec_params='https://api.sncf.com/v1/coverage/sncf/stop_areas'\n",
    "\n",
    "r = requests.get(url_avec_params, auth=(token_auth,''))\n",
    "\n",
    "print(type(r.content))\n",
    "print()\n",
    "\n",
    "r.json()\n",
    "print()\n",
    "\n",
    "print(type(r.json()))\n",
    "\n",
    "pprint.pprint(r.json())"
   ]
  },
  {
   "cell_type": "markdown",
   "metadata": {},
   "source": [
    "## Partie 1 - Trouver les gares accessibles _via_ la SNCF\n",
    "\n",
    "A vous de jouer.\n",
    "\n",
    "- Trouver l'ensemble des gares disponibles sur l'API et créer un fichier csv avec les codes de la gare, son nom et ses coordonnées latitude et longitude, ainsi que les informations administratives de la région quand elles sont disponibles.\n",
    "\n",
    "- Représentez-les sur un graphique."
   ]
  },
  {
   "cell_type": "code",
   "execution_count": null,
   "metadata": {},
   "outputs": [],
   "source": [
    "url_avec_params = 'https://api.sncf.com/v1/coverage/sncf/stop_points?'\n",
    "page = requests.get(url_avec_params,auth=(token_auth,''))\n",
    "page.json()['pagination']"
   ]
  },
  {
   "cell_type": "code",
   "execution_count": null,
   "metadata": {},
   "outputs": [],
   "source": [
    "# for a given page (25 stop points):\n",
    "\n",
    "url_avec_params = f'https://api.sncf.com/v1/coverage/sncf/stop_points?start_page=4'\n",
    "page = requests.get(url_avec_params,auth=(token_auth,''))\n",
    "print(page.json().keys())\n",
    "print()\n",
    "gares = page.json()['stop_points']\n",
    "\n",
    "names = [gare['name'] for gare in gares]\n",
    "coord = [gare['coord'] for gare in gares]\n",
    "code = [gare['stop_area']['codes'][0]['value'] for gare in gares]\n",
    "adminregion = [gare['administrative_regions'] for gare in gares]\n",
    "print(names)\n",
    "print(coord)\n",
    "print(code)\n",
    "print(adminregion)"
   ]
  },
  {
   "cell_type": "code",
   "execution_count": null,
   "metadata": {},
   "outputs": [],
   "source": [
    "# for all all stop points:\n",
    "\n",
    "namelist = []\n",
    "for i in range(285):\n",
    "    url_avec_params = f'https://api.sncf.com/v1/coverage/sncf/stop_points?start_page={i}'\n",
    "    page = requests.get(url_avec_params,auth=(token_auth,''))\n",
    "    gares = page.json()['stop_points']\n",
    "    names = [gare['name'] for gare in gares]\n",
    "    namelist.append(names)\n",
    "    nameflatlist = [y for x in namelist for y in x]\n",
    "print(len(nameflatlist))\n",
    "print(nameflatlist)"
   ]
  },
  {
   "cell_type": "code",
   "execution_count": null,
   "metadata": {},
   "outputs": [],
   "source": [
    "coordlist = []\n",
    "for i in range(285):\n",
    "    url_avec_params = f'https://api.sncf.com/v1/coverage/sncf/stop_points?start_page={i}'\n",
    "    page = requests.get(url_avec_params,auth=(token_auth,''))\n",
    "    gares = page.json()['stop_points']\n",
    "    coord = [gare['coord'] for gare in gares]\n",
    "    coordlist.append(coord)\n",
    "    coordflatlist = [y for x in coordlist for y in x]\n",
    "print(len(coordflatlist))\n"
   ]
  },
  {
   "cell_type": "code",
   "execution_count": null,
   "metadata": {},
   "outputs": [],
   "source": [
    "codelist = []\n",
    "for i in range(285):\n",
    "    url_avec_params = f'https://api.sncf.com/v1/coverage/sncf/stop_points?start_page={i}'\n",
    "    page = requests.get(url_avec_params,auth=(token_auth,''))\n",
    "    gares = page.json()['stop_points']\n",
    "    code = [gare['stop_area']['codes'][0]['value'] for gare in gares]\n",
    "    codelist.append(code)\n",
    "    codeflatlist = [y for x in codelist for y in x]\n",
    "print(len(codeflatlist))\n"
   ]
  },
  {
   "cell_type": "code",
   "execution_count": null,
   "metadata": {},
   "outputs": [],
   "source": [
    "regionlist = []\n",
    "for i in range(285):\n",
    "    url_avec_params = f'https://api.sncf.com/v1/coverage/sncf/stop_points?start_page={i}'\n",
    "    page = requests.get(url_avec_params,auth=(token_auth,''))\n",
    "    gares = page.json()['stop_points']\n",
    "    adminregion = [gare['administrative_regions'] if i>1 else 'NA' for gare in gares]\n",
    "    regionlist.append(adminregion)\n",
    "    regionflatlist = [y for x in regionlist for y in x]\n",
    "print(len(regionflatlist))\n"
   ]
  },
  {
   "cell_type": "code",
   "execution_count": null,
   "metadata": {},
   "outputs": [],
   "source": [
    "mydict = {\"Names of stop points\":nameflatlist[5:], \"Longitude, Latitude\":coordflatlist[5:], 'Stop point code':codeflatlist[5:], \"Admin Region details\":[x[0] for x in regionflatlist[5:]]}"
   ]
  },
  {
   "cell_type": "code",
   "execution_count": null,
   "metadata": {},
   "outputs": [],
   "source": [
    "gares_data = [{'names of stop points':x[0],\n",
    "               'Coord': x[1],\n",
    "               'Stop point code': x[2],\n",
    "               'Admin region details': x[3][0] for x in zip(nameflatlist, coordflatlist, codeflatlist, regionflatlist)]"
   ]
  },
  {
   "cell_type": "code",
   "execution_count": null,
   "metadata": {},
   "outputs": [],
   "source": [
    "import pandas as pd\n",
    "from pandas import json_normalize\n",
    "\n",
    "df = json_normalize(gares_data)\n",
    "print(df.shape)\n",
    "df"
   ]
  },
  {
   "cell_type": "markdown",
   "metadata": {},
   "source": [
    "## Les trajets depuis la Gare de Lyon"
   ]
  },
  {
   "cell_type": "markdown",
   "metadata": {},
   "source": [
    "### Partons à Lyon : le 17 mai 2021 à 19h57\n",
    "\n",
    "Imaginez que vous vouliez un peu voyager hors de Paris, et il se trouve que justement on vous propose de passer quelques jours à Lyon. Vous partez le 17 novembre vers 19h50 pour ne pas trop écourter votre journée de travail. "
   ]
  },
  {
   "cell_type": "markdown",
   "metadata": {},
   "source": [
    "#### Question 1\n",
    "\n",
    "- Commencez par récupérer les informations sur le trajet entre Paris Gare de Lyon et Lyon Perrache  le 17 mai 2021 à 19h57\n",
    "\n",
    "    - Paris - Gare de Lyon (code de la gare : \"id\":\"admin:fr:75056\")\n",
    "\n",
    "    - Lyon - Gare Lyon Perrache (code de la gare : \"id\":\"admin:fr:69123\")\n",
    "    \n",
    "    - Indice : utiliser la requête \"journeys\"\n",
    "    \n",
    "    - Autre indice : le format de la date est AAAAMMJJTHHMMSS (Année, mois, jour, heure, minutes, secondes)\n",
    "    \n",
    "- Répondez aux questions suivantes \n",
    "    - combien y a-t-il d'arrêts entre ces deux gares ? (utilisez la clé 'journeys')\n",
    "    - combien de temps d'arrêt à chacune d'elles ?"
   ]
  },
  {
   "cell_type": "code",
   "execution_count": null,
   "metadata": {},
   "outputs": [],
   "source": [
    "df[df['names of stop points'].str.startswith(\"Paris\")]"
   ]
  },
  {
   "cell_type": "code",
   "execution_count": null,
   "metadata": {},
   "outputs": [],
   "source": [
    "import requests\n",
    "import pprint\n",
    "token_auth=getpass.getpass()\n",
    "url_avec_params='https://api.sncf.com/v1/coverage/sncf/journeys?from=2.373481;48.844945&to=4.827332;45.74912&datetime=20210417T195000&'\n",
    "r=requests.get(url_avec_params,auth=(token_auth,''))\n",
    "\n",
    "\n",
    "print('Departure time =', r.json()['journeys'][0]['sections'][1]['departure_date_time'])\n",
    "print('Arrival time =', r.json()['journeys'][0]['sections'][1]['arrival_date_time'])\n",
    "print('Duration =', r.json()['journeys'][0]['sections'][1]['duration'])\n",
    "print()\n",
    "pprint.pprint(r.json()['journeys'][0]['sections'][1])"
   ]
  },
  {
   "cell_type": "markdown",
   "metadata": {},
   "source": [
    "#### Question 2\n",
    "Vous êtes un peu pressé et vous avez peur de vous tromper en arrivant à la gare car d'autres TGV partent à peu près en même temps (à partir de 19h00) de la gare de Lyon. \n",
    "\n",
    "- Si vous demandez à l'API, combien de résultats vous donne-t-elle ?"
   ]
  },
  {
   "cell_type": "code",
   "execution_count": null,
   "metadata": {},
   "outputs": [],
   "source": [
    "token_auth=getpass.getpass()\n",
    "url_avec_params='https://api.sncf.com/v1/coverage/sncf/coord/2.373481%3B48.844945/departures?from_datetime=20210417T190000&'\n",
    "r=requests.get(url_avec_params,auth=(token_auth,''))\n",
    "\n",
    "print(r.json().keys())"
   ]
  },
  {
   "cell_type": "code",
   "execution_count": null,
   "metadata": {},
   "outputs": [],
   "source": [
    "print(r.json()['pagination']['total_result'])"
   ]
  },
  {
   "cell_type": "markdown",
   "metadata": {},
   "source": [
    "- Quels sont les horaires de départ de ces trains ? "
   ]
  },
  {
   "cell_type": "code",
   "execution_count": null,
   "metadata": {},
   "outputs": [],
   "source": [
    "print([r.json()['departures'][i]['stop_date_time']['departure_date_time'] for i in range(10)])"
   ]
  },
  {
   "cell_type": "markdown",
   "metadata": {},
   "source": [
    "- Parmi ces trains, combien de trains ont pour destination finale Lyon ?"
   ]
  },
  {
   "cell_type": "code",
   "execution_count": null,
   "metadata": {},
   "outputs": [],
   "source": [
    "[r.json()['departures'][i]['route']['direction']['name'] for i in range(10)]"
   ]
  },
  {
   "cell_type": "markdown",
   "metadata": {},
   "source": [
    "### C'est quand qu'on va où ? "
   ]
  },
  {
   "cell_type": "markdown",
   "metadata": {},
   "source": [
    "#### Question 3\n",
    "\n",
    "En fait, vous n'êtes plus très sûr de vouloir aller à Lyon. Mais bon maintenant vous êtes Gare de Lyon et il est 18h00. \n",
    "\n",
    "- Combien de tgv partent entre 18h00 et 20h00 ?\n",
    "- Lequel arrive le plus tôt à sa destination finale ?"
   ]
  },
  {
   "cell_type": "markdown",
   "metadata": {},
   "source": [
    "### Et les correspondances ? "
   ]
  },
  {
   "cell_type": "markdown",
   "metadata": {},
   "source": [
    "#### Question 4\n",
    "\n",
    "- On va essayer de voir jusqu'où on peut aller, en prenant des trains au départ de la Gare de Lyon : \n",
    "    - Quelles sont toutes les gares atteignables en partant le 17 novembre, sans faire de changement et sans partir après minuit ?\n",
    "    - Si on prend un de ces trains, jusqu'où peut-on aller, avec une correspondance, sans partir après 8h le lendemain matin ?"
   ]
  },
  {
   "cell_type": "markdown",
   "metadata": {},
   "source": [
    "##### Etape 1 : trouver toutes les correspondances possibles depuis le trajet entre les gares de Paris et de Perpignan\n",
    "\n",
    "Essayer de trouver toutes les correspondances possibles depuis un trajet entre Paris et Perpignan"
   ]
  },
  {
   "cell_type": "markdown",
   "metadata": {},
   "source": [
    "##### Etape 2 : Généraliser et trouver toutes les correspondances possibles depuis les trains qu'on prend de la Gare de Lyon, le 17 novembre au soir\n",
    "\n",
    "Maintenant qu'on a fait un exemple, on le fait pour tous les trajets qui partent de la Gare de Lyon entre 18h et 20h de la Gare de Lyon\n",
    "\n",
    "Les correspondances elles devront partir avant 8h00 du matin le lendemain"
   ]
  },
  {
   "cell_type": "markdown",
   "metadata": {},
   "source": [
    "#### Question 5\n",
    "- Représenter toutes les gares atteignables avec un graphique type scatter. Distinguer les gares atteintes en un seul trajet et celles atteintes avec une correspondance."
   ]
  },
  {
   "cell_type": "code",
   "execution_count": null,
   "metadata": {},
   "outputs": [],
   "source": []
  },
  {
   "cell_type": "code",
   "execution_count": null,
   "metadata": {},
   "outputs": [],
   "source": []
  }
 ],
 "metadata": {
  "anaconda-cloud": {},
  "kernelspec": {
   "display_name": "Python 3",
   "language": "python",
   "name": "python3"
  },
  "language_info": {
   "codemirror_mode": {
    "name": "ipython",
    "version": 3
   },
   "file_extension": ".py",
   "mimetype": "text/x-python",
   "name": "python",
   "nbconvert_exporter": "python",
   "pygments_lexer": "ipython3",
   "version": "3.8.5"
  }
 },
 "nbformat": 4,
 "nbformat_minor": 4
}
