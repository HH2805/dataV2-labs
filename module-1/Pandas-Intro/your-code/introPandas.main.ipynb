{
 "cells": [
  {
   "cell_type": "markdown",
   "metadata": {},
   "source": [
    "# Introduction to Pandas\n",
    "\n",
    "Complete the following set of exercises to solidify your knowledge of Pandas fundamentals."
   ]
  },
  {
   "cell_type": "markdown",
   "metadata": {},
   "source": [
    "#### 1. Import Numpy and Pandas and alias them to `np` and `pd` respectively."
   ]
  },
  {
   "cell_type": "code",
   "execution_count": 1,
   "metadata": {},
   "outputs": [],
   "source": [
    "# your code here\n",
    "import numpy as np\n",
    "import pandas as pd"
   ]
  },
  {
   "cell_type": "markdown",
   "metadata": {},
   "source": [
    "## Challenge 1"
   ]
  },
  {
   "cell_type": "markdown",
   "metadata": {},
   "source": [
    "#### 2. Create a Numpy array, a Pandas Series and a Pandas DataFrame containing the elements of the list below."
   ]
  },
  {
   "cell_type": "code",
   "execution_count": 2,
   "metadata": {},
   "outputs": [],
   "source": [
    "lst = [5.7, 75.2, 74.4, 84.0, 66.5, 66.3, 55.8, 75.7, 29.1, 43.7]"
   ]
  },
  {
   "cell_type": "code",
   "execution_count": 3,
   "metadata": {},
   "outputs": [
    {
     "name": "stdout",
     "output_type": "stream",
     "text": [
      "[ 5.7 75.2 74.4 84.  66.5 66.3 55.8 75.7 29.1 43.7]\n",
      "(10,)\n"
     ]
    }
   ],
   "source": [
    "# your code here\n",
    "a = np.array(lst)\n",
    "print(a)\n",
    "print(a.shape)"
   ]
  },
  {
   "cell_type": "code",
   "execution_count": 4,
   "metadata": {},
   "outputs": [
    {
     "name": "stdout",
     "output_type": "stream",
     "text": [
      "0     5.7\n",
      "1    75.2\n",
      "2    74.4\n",
      "3    84.0\n",
      "4    66.5\n",
      "5    66.3\n",
      "6    55.8\n",
      "7    75.7\n",
      "8    29.1\n",
      "9    43.7\n",
      "dtype: float64\n"
     ]
    }
   ],
   "source": [
    "s = pd.Series(lst)\n",
    "print(s)"
   ]
  },
  {
   "cell_type": "code",
   "execution_count": 5,
   "metadata": {},
   "outputs": [
    {
     "name": "stdout",
     "output_type": "stream",
     "text": [
      "      0\n",
      "0   5.7\n",
      "1  75.2\n",
      "2  74.4\n",
      "3  84.0\n",
      "4  66.5\n",
      "5  66.3\n",
      "6  55.8\n",
      "7  75.7\n",
      "8  29.1\n",
      "9  43.7\n"
     ]
    }
   ],
   "source": [
    "df_s = pd.DataFrame(lst)\n",
    "print(df_s)"
   ]
  },
  {
   "cell_type": "markdown",
   "metadata": {},
   "source": [
    "#### 3. Use indexing to return the third value in the array/Series/DataFrame above.\n",
    "*Hint: Remember that indexing begins at 0.*"
   ]
  },
  {
   "cell_type": "code",
   "execution_count": 6,
   "metadata": {},
   "outputs": [
    {
     "name": "stdout",
     "output_type": "stream",
     "text": [
      "74.4\n",
      "74.4\n",
      "74.4\n",
      "74.4\n"
     ]
    }
   ],
   "source": [
    "# your code here\n",
    "print(a[2,])\n",
    "print(a[2])\n",
    "print(s[2])\n",
    "print(df_s.iloc[2,0])"
   ]
  },
  {
   "cell_type": "markdown",
   "metadata": {},
   "source": [
    "#### 4. Create a Pandas DataFrame from the list of lists below. Each sublist should be represented as a row."
   ]
  },
  {
   "cell_type": "code",
   "execution_count": 7,
   "metadata": {},
   "outputs": [
    {
     "data": {
      "text/html": [
       "<div>\n",
       "<style scoped>\n",
       "    .dataframe tbody tr th:only-of-type {\n",
       "        vertical-align: middle;\n",
       "    }\n",
       "\n",
       "    .dataframe tbody tr th {\n",
       "        vertical-align: top;\n",
       "    }\n",
       "\n",
       "    .dataframe thead th {\n",
       "        text-align: right;\n",
       "    }\n",
       "</style>\n",
       "<table border=\"1\" class=\"dataframe\">\n",
       "  <thead>\n",
       "    <tr style=\"text-align: right;\">\n",
       "      <th></th>\n",
       "      <th>0</th>\n",
       "      <th>1</th>\n",
       "      <th>2</th>\n",
       "      <th>3</th>\n",
       "      <th>4</th>\n",
       "    </tr>\n",
       "  </thead>\n",
       "  <tbody>\n",
       "    <tr>\n",
       "      <th>0</th>\n",
       "      <td>53.1</td>\n",
       "      <td>95.0</td>\n",
       "      <td>67.5</td>\n",
       "      <td>35.0</td>\n",
       "      <td>78.4</td>\n",
       "    </tr>\n",
       "    <tr>\n",
       "      <th>1</th>\n",
       "      <td>61.3</td>\n",
       "      <td>40.8</td>\n",
       "      <td>30.8</td>\n",
       "      <td>37.8</td>\n",
       "      <td>87.6</td>\n",
       "    </tr>\n",
       "    <tr>\n",
       "      <th>2</th>\n",
       "      <td>20.6</td>\n",
       "      <td>73.2</td>\n",
       "      <td>44.2</td>\n",
       "      <td>14.6</td>\n",
       "      <td>91.8</td>\n",
       "    </tr>\n",
       "    <tr>\n",
       "      <th>3</th>\n",
       "      <td>57.4</td>\n",
       "      <td>0.1</td>\n",
       "      <td>96.1</td>\n",
       "      <td>4.2</td>\n",
       "      <td>69.5</td>\n",
       "    </tr>\n",
       "    <tr>\n",
       "      <th>4</th>\n",
       "      <td>83.6</td>\n",
       "      <td>20.5</td>\n",
       "      <td>85.4</td>\n",
       "      <td>22.8</td>\n",
       "      <td>35.9</td>\n",
       "    </tr>\n",
       "    <tr>\n",
       "      <th>5</th>\n",
       "      <td>49.0</td>\n",
       "      <td>69.0</td>\n",
       "      <td>0.1</td>\n",
       "      <td>31.8</td>\n",
       "      <td>89.1</td>\n",
       "    </tr>\n",
       "    <tr>\n",
       "      <th>6</th>\n",
       "      <td>23.3</td>\n",
       "      <td>40.7</td>\n",
       "      <td>95.0</td>\n",
       "      <td>83.8</td>\n",
       "      <td>26.9</td>\n",
       "    </tr>\n",
       "    <tr>\n",
       "      <th>7</th>\n",
       "      <td>27.6</td>\n",
       "      <td>26.4</td>\n",
       "      <td>53.8</td>\n",
       "      <td>88.8</td>\n",
       "      <td>68.5</td>\n",
       "    </tr>\n",
       "    <tr>\n",
       "      <th>8</th>\n",
       "      <td>96.6</td>\n",
       "      <td>96.4</td>\n",
       "      <td>53.4</td>\n",
       "      <td>72.4</td>\n",
       "      <td>50.1</td>\n",
       "    </tr>\n",
       "    <tr>\n",
       "      <th>9</th>\n",
       "      <td>73.7</td>\n",
       "      <td>39.0</td>\n",
       "      <td>43.2</td>\n",
       "      <td>81.6</td>\n",
       "      <td>34.7</td>\n",
       "    </tr>\n",
       "  </tbody>\n",
       "</table>\n",
       "</div>"
      ],
      "text/plain": [
       "      0     1     2     3     4\n",
       "0  53.1  95.0  67.5  35.0  78.4\n",
       "1  61.3  40.8  30.8  37.8  87.6\n",
       "2  20.6  73.2  44.2  14.6  91.8\n",
       "3  57.4   0.1  96.1   4.2  69.5\n",
       "4  83.6  20.5  85.4  22.8  35.9\n",
       "5  49.0  69.0   0.1  31.8  89.1\n",
       "6  23.3  40.7  95.0  83.8  26.9\n",
       "7  27.6  26.4  53.8  88.8  68.5\n",
       "8  96.6  96.4  53.4  72.4  50.1\n",
       "9  73.7  39.0  43.2  81.6  34.7"
      ]
     },
     "execution_count": 7,
     "metadata": {},
     "output_type": "execute_result"
    }
   ],
   "source": [
    "b = [[53.1, 95.0, 67.5, 35.0, 78.4],\n",
    "     [61.3, 40.8, 30.8, 37.8, 87.6],\n",
    "     [20.6, 73.2, 44.2, 14.6, 91.8],\n",
    "     [57.4, 0.1, 96.1, 4.2, 69.5],\n",
    "     [83.6, 20.5, 85.4, 22.8, 35.9],\n",
    "     [49.0, 69.0, 0.1, 31.8, 89.1],\n",
    "     [23.3, 40.7, 95.0, 83.8, 26.9],\n",
    "     [27.6, 26.4, 53.8, 88.8, 68.5],\n",
    "     [96.6, 96.4, 53.4, 72.4, 50.1],\n",
    "     [73.7, 39.0, 43.2, 81.6, 34.7]]\n",
    "\n",
    "# your code here\n",
    "b_df = pd.DataFrame(b)\n",
    "b_df"
   ]
  },
  {
   "cell_type": "code",
   "execution_count": 8,
   "metadata": {},
   "outputs": [
    {
     "name": "stdout",
     "output_type": "stream",
     "text": [
      "(10, 5)\n",
      "50\n",
      "10\n"
     ]
    }
   ],
   "source": [
    "print(b_df.shape)\n",
    "print(b_df.size)\n",
    "print(len(b_df))"
   ]
  },
  {
   "cell_type": "markdown",
   "metadata": {},
   "source": [
    "#### 4bis. Use indexing to return column 1.\n",
    "*Hint: Remember that indexing begins at 0.*"
   ]
  },
  {
   "cell_type": "code",
   "execution_count": 9,
   "metadata": {},
   "outputs": [
    {
     "data": {
      "text/plain": [
       "0    53.1\n",
       "1    61.3\n",
       "2    20.6\n",
       "3    57.4\n",
       "4    83.6\n",
       "5    49.0\n",
       "6    23.3\n",
       "7    27.6\n",
       "8    96.6\n",
       "9    73.7\n",
       "Name: 0, dtype: float64"
      ]
     },
     "execution_count": 9,
     "metadata": {},
     "output_type": "execute_result"
    }
   ],
   "source": [
    "b_df[0]"
   ]
  },
  {
   "cell_type": "code",
   "execution_count": 10,
   "metadata": {},
   "outputs": [
    {
     "data": {
      "text/plain": [
       "0    53.1\n",
       "1    61.3\n",
       "2    20.6\n",
       "3    57.4\n",
       "4    83.6\n",
       "5    49.0\n",
       "6    23.3\n",
       "7    27.6\n",
       "8    96.6\n",
       "9    73.7\n",
       "Name: 0, dtype: float64"
      ]
     },
     "execution_count": 10,
     "metadata": {},
     "output_type": "execute_result"
    }
   ],
   "source": [
    "b_df.iloc[:,0]"
   ]
  },
  {
   "cell_type": "code",
   "execution_count": 11,
   "metadata": {},
   "outputs": [
    {
     "data": {
      "text/plain": [
       "0    53.1\n",
       "1    61.3\n",
       "2    20.6\n",
       "3    57.4\n",
       "4    83.6\n",
       "5    49.0\n",
       "6    23.3\n",
       "7    27.6\n",
       "8    96.6\n",
       "9    73.7\n",
       "Name: 0, dtype: float64"
      ]
     },
     "execution_count": 11,
     "metadata": {},
     "output_type": "execute_result"
    }
   ],
   "source": [
    "b_df.loc[:,0]"
   ]
  },
  {
   "cell_type": "markdown",
   "metadata": {},
   "source": [
    "#### 4bis. Use indexing to return line 1.\n",
    "*Hint: Remember that indexing begins at 0.*"
   ]
  },
  {
   "cell_type": "code",
   "execution_count": 12,
   "metadata": {},
   "outputs": [
    {
     "data": {
      "text/plain": [
       "0    53.1\n",
       "1    95.0\n",
       "2    67.5\n",
       "3    35.0\n",
       "4    78.4\n",
       "Name: 0, dtype: float64"
      ]
     },
     "execution_count": 12,
     "metadata": {},
     "output_type": "execute_result"
    }
   ],
   "source": [
    "b_df.iloc[0]"
   ]
  },
  {
   "cell_type": "code",
   "execution_count": 13,
   "metadata": {},
   "outputs": [
    {
     "data": {
      "text/plain": [
       "0    53.1\n",
       "1    95.0\n",
       "2    67.5\n",
       "3    35.0\n",
       "4    78.4\n",
       "Name: 0, dtype: float64"
      ]
     },
     "execution_count": 13,
     "metadata": {},
     "output_type": "execute_result"
    }
   ],
   "source": [
    "b_df.iloc[0,]"
   ]
  },
  {
   "cell_type": "code",
   "execution_count": 14,
   "metadata": {},
   "outputs": [
    {
     "data": {
      "text/plain": [
       "0    53.1\n",
       "1    95.0\n",
       "2    67.5\n",
       "3    35.0\n",
       "4    78.4\n",
       "Name: 0, dtype: float64"
      ]
     },
     "execution_count": 14,
     "metadata": {},
     "output_type": "execute_result"
    }
   ],
   "source": [
    "b_df.iloc[0,:]"
   ]
  },
  {
   "cell_type": "code",
   "execution_count": 15,
   "metadata": {},
   "outputs": [
    {
     "data": {
      "text/plain": [
       "0    53.1\n",
       "1    95.0\n",
       "2    67.5\n",
       "3    35.0\n",
       "4    78.4\n",
       "Name: 0, dtype: float64"
      ]
     },
     "execution_count": 15,
     "metadata": {},
     "output_type": "execute_result"
    }
   ],
   "source": [
    "b_df.loc[0]"
   ]
  },
  {
   "cell_type": "code",
   "execution_count": 16,
   "metadata": {},
   "outputs": [
    {
     "data": {
      "text/plain": [
       "0    53.1\n",
       "1    95.0\n",
       "2    67.5\n",
       "3    35.0\n",
       "4    78.4\n",
       "Name: 0, dtype: float64"
      ]
     },
     "execution_count": 16,
     "metadata": {},
     "output_type": "execute_result"
    }
   ],
   "source": [
    "b_df.loc[0,]"
   ]
  },
  {
   "cell_type": "code",
   "execution_count": 17,
   "metadata": {},
   "outputs": [
    {
     "data": {
      "text/plain": [
       "0    53.1\n",
       "1    95.0\n",
       "2    67.5\n",
       "3    35.0\n",
       "4    78.4\n",
       "Name: 0, dtype: float64"
      ]
     },
     "execution_count": 17,
     "metadata": {},
     "output_type": "execute_result"
    }
   ],
   "source": [
    "b_df.loc[0,:]"
   ]
  },
  {
   "cell_type": "markdown",
   "metadata": {},
   "source": [
    "#### 5. Rename the data frame columns based on the names in the list below."
   ]
  },
  {
   "cell_type": "code",
   "execution_count": 18,
   "metadata": {},
   "outputs": [
    {
     "data": {
      "text/html": [
       "<div>\n",
       "<style scoped>\n",
       "    .dataframe tbody tr th:only-of-type {\n",
       "        vertical-align: middle;\n",
       "    }\n",
       "\n",
       "    .dataframe tbody tr th {\n",
       "        vertical-align: top;\n",
       "    }\n",
       "\n",
       "    .dataframe thead th {\n",
       "        text-align: right;\n",
       "    }\n",
       "</style>\n",
       "<table border=\"1\" class=\"dataframe\">\n",
       "  <thead>\n",
       "    <tr style=\"text-align: right;\">\n",
       "      <th></th>\n",
       "      <th>Score_1</th>\n",
       "      <th>Score_2</th>\n",
       "      <th>Score_3</th>\n",
       "      <th>Score_4</th>\n",
       "      <th>Score 5</th>\n",
       "    </tr>\n",
       "  </thead>\n",
       "  <tbody>\n",
       "    <tr>\n",
       "      <th>0</th>\n",
       "      <td>53.1</td>\n",
       "      <td>95.0</td>\n",
       "      <td>67.5</td>\n",
       "      <td>35.0</td>\n",
       "      <td>78.4</td>\n",
       "    </tr>\n",
       "    <tr>\n",
       "      <th>1</th>\n",
       "      <td>61.3</td>\n",
       "      <td>40.8</td>\n",
       "      <td>30.8</td>\n",
       "      <td>37.8</td>\n",
       "      <td>87.6</td>\n",
       "    </tr>\n",
       "    <tr>\n",
       "      <th>2</th>\n",
       "      <td>20.6</td>\n",
       "      <td>73.2</td>\n",
       "      <td>44.2</td>\n",
       "      <td>14.6</td>\n",
       "      <td>91.8</td>\n",
       "    </tr>\n",
       "    <tr>\n",
       "      <th>3</th>\n",
       "      <td>57.4</td>\n",
       "      <td>0.1</td>\n",
       "      <td>96.1</td>\n",
       "      <td>4.2</td>\n",
       "      <td>69.5</td>\n",
       "    </tr>\n",
       "    <tr>\n",
       "      <th>4</th>\n",
       "      <td>83.6</td>\n",
       "      <td>20.5</td>\n",
       "      <td>85.4</td>\n",
       "      <td>22.8</td>\n",
       "      <td>35.9</td>\n",
       "    </tr>\n",
       "    <tr>\n",
       "      <th>5</th>\n",
       "      <td>49.0</td>\n",
       "      <td>69.0</td>\n",
       "      <td>0.1</td>\n",
       "      <td>31.8</td>\n",
       "      <td>89.1</td>\n",
       "    </tr>\n",
       "    <tr>\n",
       "      <th>6</th>\n",
       "      <td>23.3</td>\n",
       "      <td>40.7</td>\n",
       "      <td>95.0</td>\n",
       "      <td>83.8</td>\n",
       "      <td>26.9</td>\n",
       "    </tr>\n",
       "    <tr>\n",
       "      <th>7</th>\n",
       "      <td>27.6</td>\n",
       "      <td>26.4</td>\n",
       "      <td>53.8</td>\n",
       "      <td>88.8</td>\n",
       "      <td>68.5</td>\n",
       "    </tr>\n",
       "    <tr>\n",
       "      <th>8</th>\n",
       "      <td>96.6</td>\n",
       "      <td>96.4</td>\n",
       "      <td>53.4</td>\n",
       "      <td>72.4</td>\n",
       "      <td>50.1</td>\n",
       "    </tr>\n",
       "    <tr>\n",
       "      <th>9</th>\n",
       "      <td>73.7</td>\n",
       "      <td>39.0</td>\n",
       "      <td>43.2</td>\n",
       "      <td>81.6</td>\n",
       "      <td>34.7</td>\n",
       "    </tr>\n",
       "  </tbody>\n",
       "</table>\n",
       "</div>"
      ],
      "text/plain": [
       "   Score_1  Score_2  Score_3  Score_4  Score 5\n",
       "0     53.1     95.0     67.5     35.0     78.4\n",
       "1     61.3     40.8     30.8     37.8     87.6\n",
       "2     20.6     73.2     44.2     14.6     91.8\n",
       "3     57.4      0.1     96.1      4.2     69.5\n",
       "4     83.6     20.5     85.4     22.8     35.9\n",
       "5     49.0     69.0      0.1     31.8     89.1\n",
       "6     23.3     40.7     95.0     83.8     26.9\n",
       "7     27.6     26.4     53.8     88.8     68.5\n",
       "8     96.6     96.4     53.4     72.4     50.1\n",
       "9     73.7     39.0     43.2     81.6     34.7"
      ]
     },
     "execution_count": 18,
     "metadata": {},
     "output_type": "execute_result"
    }
   ],
   "source": [
    "colnames = ['Score_1', 'Score_2', 'Score_3', 'Score_4', 'Score 5']\n",
    "# your code here\n",
    "df = b_df.copy()\n",
    "df.columns = colnames\n",
    "df"
   ]
  },
  {
   "cell_type": "markdown",
   "metadata": {},
   "source": [
    "#### 5bis. Rename the \"Score 5\" column as \"Score_5\"."
   ]
  },
  {
   "cell_type": "code",
   "execution_count": 19,
   "metadata": {},
   "outputs": [
    {
     "data": {
      "text/html": [
       "<div>\n",
       "<style scoped>\n",
       "    .dataframe tbody tr th:only-of-type {\n",
       "        vertical-align: middle;\n",
       "    }\n",
       "\n",
       "    .dataframe tbody tr th {\n",
       "        vertical-align: top;\n",
       "    }\n",
       "\n",
       "    .dataframe thead th {\n",
       "        text-align: right;\n",
       "    }\n",
       "</style>\n",
       "<table border=\"1\" class=\"dataframe\">\n",
       "  <thead>\n",
       "    <tr style=\"text-align: right;\">\n",
       "      <th></th>\n",
       "      <th>Score_1</th>\n",
       "      <th>Score_2</th>\n",
       "      <th>Score_3</th>\n",
       "      <th>Score_4</th>\n",
       "      <th>Score_5</th>\n",
       "    </tr>\n",
       "  </thead>\n",
       "  <tbody>\n",
       "    <tr>\n",
       "      <th>0</th>\n",
       "      <td>53.1</td>\n",
       "      <td>95.0</td>\n",
       "      <td>67.5</td>\n",
       "      <td>35.0</td>\n",
       "      <td>78.4</td>\n",
       "    </tr>\n",
       "    <tr>\n",
       "      <th>1</th>\n",
       "      <td>61.3</td>\n",
       "      <td>40.8</td>\n",
       "      <td>30.8</td>\n",
       "      <td>37.8</td>\n",
       "      <td>87.6</td>\n",
       "    </tr>\n",
       "    <tr>\n",
       "      <th>2</th>\n",
       "      <td>20.6</td>\n",
       "      <td>73.2</td>\n",
       "      <td>44.2</td>\n",
       "      <td>14.6</td>\n",
       "      <td>91.8</td>\n",
       "    </tr>\n",
       "    <tr>\n",
       "      <th>3</th>\n",
       "      <td>57.4</td>\n",
       "      <td>0.1</td>\n",
       "      <td>96.1</td>\n",
       "      <td>4.2</td>\n",
       "      <td>69.5</td>\n",
       "    </tr>\n",
       "    <tr>\n",
       "      <th>4</th>\n",
       "      <td>83.6</td>\n",
       "      <td>20.5</td>\n",
       "      <td>85.4</td>\n",
       "      <td>22.8</td>\n",
       "      <td>35.9</td>\n",
       "    </tr>\n",
       "    <tr>\n",
       "      <th>5</th>\n",
       "      <td>49.0</td>\n",
       "      <td>69.0</td>\n",
       "      <td>0.1</td>\n",
       "      <td>31.8</td>\n",
       "      <td>89.1</td>\n",
       "    </tr>\n",
       "    <tr>\n",
       "      <th>6</th>\n",
       "      <td>23.3</td>\n",
       "      <td>40.7</td>\n",
       "      <td>95.0</td>\n",
       "      <td>83.8</td>\n",
       "      <td>26.9</td>\n",
       "    </tr>\n",
       "    <tr>\n",
       "      <th>7</th>\n",
       "      <td>27.6</td>\n",
       "      <td>26.4</td>\n",
       "      <td>53.8</td>\n",
       "      <td>88.8</td>\n",
       "      <td>68.5</td>\n",
       "    </tr>\n",
       "    <tr>\n",
       "      <th>8</th>\n",
       "      <td>96.6</td>\n",
       "      <td>96.4</td>\n",
       "      <td>53.4</td>\n",
       "      <td>72.4</td>\n",
       "      <td>50.1</td>\n",
       "    </tr>\n",
       "    <tr>\n",
       "      <th>9</th>\n",
       "      <td>73.7</td>\n",
       "      <td>39.0</td>\n",
       "      <td>43.2</td>\n",
       "      <td>81.6</td>\n",
       "      <td>34.7</td>\n",
       "    </tr>\n",
       "  </tbody>\n",
       "</table>\n",
       "</div>"
      ],
      "text/plain": [
       "   Score_1  Score_2  Score_3  Score_4  Score_5\n",
       "0     53.1     95.0     67.5     35.0     78.4\n",
       "1     61.3     40.8     30.8     37.8     87.6\n",
       "2     20.6     73.2     44.2     14.6     91.8\n",
       "3     57.4      0.1     96.1      4.2     69.5\n",
       "4     83.6     20.5     85.4     22.8     35.9\n",
       "5     49.0     69.0      0.1     31.8     89.1\n",
       "6     23.3     40.7     95.0     83.8     26.9\n",
       "7     27.6     26.4     53.8     88.8     68.5\n",
       "8     96.6     96.4     53.4     72.4     50.1\n",
       "9     73.7     39.0     43.2     81.6     34.7"
      ]
     },
     "execution_count": 19,
     "metadata": {},
     "output_type": "execute_result"
    }
   ],
   "source": [
    "# your code here\n",
    "df.rename(columns={'Score 5':'Score_5'}, inplace=True)\n",
    "df"
   ]
  },
  {
   "cell_type": "markdown",
   "metadata": {},
   "source": [
    "#### 6. Use indexing to return the 0.1 value in df above.\n",
    "*Hint: Remember that indexing begins at 0.*"
   ]
  },
  {
   "cell_type": "code",
   "execution_count": 20,
   "metadata": {},
   "outputs": [
    {
     "name": "stdout",
     "output_type": "stream",
     "text": [
      "0.1\n",
      "0.1\n",
      "0.1\n"
     ]
    }
   ],
   "source": [
    "print(df.iloc[3,1])\n",
    "print(df.loc[3,'Score_2'])\n",
    "print(df['Score_2'][3])"
   ]
  },
  {
   "cell_type": "code",
   "execution_count": 21,
   "metadata": {},
   "outputs": [
    {
     "name": "stdout",
     "output_type": "stream",
     "text": [
      "0    53.1\n",
      "1    61.3\n",
      "2    20.6\n",
      "3    57.4\n",
      "4    83.6\n",
      "5    49.0\n",
      "6    23.3\n",
      "7    27.6\n",
      "8    96.6\n",
      "9    73.7\n",
      "Name: Score_1, dtype: float64\n",
      "0    53.1\n",
      "1    61.3\n",
      "2    20.6\n",
      "3    57.4\n",
      "4    83.6\n",
      "5    49.0\n",
      "6    23.3\n",
      "7    27.6\n",
      "8    96.6\n",
      "9    73.7\n",
      "Name: Score_1, dtype: float64\n",
      "0    53.1\n",
      "1    61.3\n",
      "2    20.6\n",
      "3    57.4\n",
      "4    83.6\n",
      "5    49.0\n",
      "6    23.3\n",
      "7    27.6\n",
      "8    96.6\n",
      "9    73.7\n",
      "Name: Score_1, dtype: float64\n"
     ]
    }
   ],
   "source": [
    "print(df['Score_1'])\n",
    "print(df.loc[:,'Score_1'])\n",
    "print(df.iloc[:,0])"
   ]
  },
  {
   "cell_type": "code",
   "execution_count": 22,
   "metadata": {},
   "outputs": [
    {
     "name": "stdout",
     "output_type": "stream",
     "text": [
      "   Score_1  Score_2  Score_3  Score_4  Score_5\n",
      "1     61.3     40.8     30.8     37.8     87.6\n",
      "2     20.6     73.2     44.2     14.6     91.8\n"
     ]
    }
   ],
   "source": [
    "print(df[1:3])\n"
   ]
  },
  {
   "cell_type": "code",
   "execution_count": 23,
   "metadata": {},
   "outputs": [
    {
     "name": "stdout",
     "output_type": "stream",
     "text": [
      "   Score_1  Score_2  Score_3  Score_4  Score_5\n",
      "1     61.3     40.8     30.8     37.8     87.6\n",
      "2     20.6     73.2     44.2     14.6     91.8\n",
      "   Score_1  Score_2  Score_3\n",
      "1     61.3     40.8     30.8\n",
      "2     20.6     73.2     44.2\n",
      "   Score_2  Score_4\n",
      "1     40.8     37.8\n",
      "3      0.1      4.2\n"
     ]
    }
   ],
   "source": [
    "print(df.iloc[1:3])\n",
    "print(df.iloc[1:3,:3])\n",
    "print(df.iloc[[1,3],[1,3]])"
   ]
  },
  {
   "cell_type": "markdown",
   "metadata": {},
   "source": [
    "#### 7. From the original data frame, calculate the average Score_3 value."
   ]
  },
  {
   "cell_type": "code",
   "execution_count": 24,
   "metadata": {},
   "outputs": [
    {
     "data": {
      "text/plain": [
       "56.95000000000001"
      ]
     },
     "execution_count": 24,
     "metadata": {},
     "output_type": "execute_result"
    }
   ],
   "source": [
    "# your code here\n",
    "df['Score_3'].mean()"
   ]
  },
  {
   "cell_type": "markdown",
   "metadata": {},
   "source": [
    "#### 8. From the original data frame, calculate the maximum Score_4 value."
   ]
  },
  {
   "cell_type": "code",
   "execution_count": 25,
   "metadata": {},
   "outputs": [
    {
     "data": {
      "text/plain": [
       "88.8"
      ]
     },
     "execution_count": 25,
     "metadata": {},
     "output_type": "execute_result"
    }
   ],
   "source": [
    "# your code here\n",
    "df['Score_4'].max()"
   ]
  },
  {
   "cell_type": "markdown",
   "metadata": {},
   "source": [
    "#### 9. From the original data frame, calculate the median Score 2 value."
   ]
  },
  {
   "cell_type": "code",
   "execution_count": 26,
   "metadata": {},
   "outputs": [
    {
     "data": {
      "text/plain": [
       "40.75"
      ]
     },
     "execution_count": 26,
     "metadata": {},
     "output_type": "execute_result"
    }
   ],
   "source": [
    "# your code here\n",
    "df['Score_2'].median()"
   ]
  },
  {
   "cell_type": "markdown",
   "metadata": {},
   "source": [
    "#### 10. Create a subset of df that contains only the Score 1, 3, and 5 columns."
   ]
  },
  {
   "cell_type": "code",
   "execution_count": 27,
   "metadata": {},
   "outputs": [
    {
     "data": {
      "text/html": [
       "<div>\n",
       "<style scoped>\n",
       "    .dataframe tbody tr th:only-of-type {\n",
       "        vertical-align: middle;\n",
       "    }\n",
       "\n",
       "    .dataframe tbody tr th {\n",
       "        vertical-align: top;\n",
       "    }\n",
       "\n",
       "    .dataframe thead th {\n",
       "        text-align: right;\n",
       "    }\n",
       "</style>\n",
       "<table border=\"1\" class=\"dataframe\">\n",
       "  <thead>\n",
       "    <tr style=\"text-align: right;\">\n",
       "      <th></th>\n",
       "      <th>Score_1</th>\n",
       "      <th>Score_3</th>\n",
       "      <th>Score_5</th>\n",
       "    </tr>\n",
       "  </thead>\n",
       "  <tbody>\n",
       "    <tr>\n",
       "      <th>0</th>\n",
       "      <td>53.1</td>\n",
       "      <td>67.5</td>\n",
       "      <td>78.4</td>\n",
       "    </tr>\n",
       "    <tr>\n",
       "      <th>1</th>\n",
       "      <td>61.3</td>\n",
       "      <td>30.8</td>\n",
       "      <td>87.6</td>\n",
       "    </tr>\n",
       "    <tr>\n",
       "      <th>2</th>\n",
       "      <td>20.6</td>\n",
       "      <td>44.2</td>\n",
       "      <td>91.8</td>\n",
       "    </tr>\n",
       "    <tr>\n",
       "      <th>3</th>\n",
       "      <td>57.4</td>\n",
       "      <td>96.1</td>\n",
       "      <td>69.5</td>\n",
       "    </tr>\n",
       "    <tr>\n",
       "      <th>4</th>\n",
       "      <td>83.6</td>\n",
       "      <td>85.4</td>\n",
       "      <td>35.9</td>\n",
       "    </tr>\n",
       "    <tr>\n",
       "      <th>5</th>\n",
       "      <td>49.0</td>\n",
       "      <td>0.1</td>\n",
       "      <td>89.1</td>\n",
       "    </tr>\n",
       "    <tr>\n",
       "      <th>6</th>\n",
       "      <td>23.3</td>\n",
       "      <td>95.0</td>\n",
       "      <td>26.9</td>\n",
       "    </tr>\n",
       "    <tr>\n",
       "      <th>7</th>\n",
       "      <td>27.6</td>\n",
       "      <td>53.8</td>\n",
       "      <td>68.5</td>\n",
       "    </tr>\n",
       "    <tr>\n",
       "      <th>8</th>\n",
       "      <td>96.6</td>\n",
       "      <td>53.4</td>\n",
       "      <td>50.1</td>\n",
       "    </tr>\n",
       "    <tr>\n",
       "      <th>9</th>\n",
       "      <td>73.7</td>\n",
       "      <td>43.2</td>\n",
       "      <td>34.7</td>\n",
       "    </tr>\n",
       "  </tbody>\n",
       "</table>\n",
       "</div>"
      ],
      "text/plain": [
       "   Score_1  Score_3  Score_5\n",
       "0     53.1     67.5     78.4\n",
       "1     61.3     30.8     87.6\n",
       "2     20.6     44.2     91.8\n",
       "3     57.4     96.1     69.5\n",
       "4     83.6     85.4     35.9\n",
       "5     49.0      0.1     89.1\n",
       "6     23.3     95.0     26.9\n",
       "7     27.6     53.8     68.5\n",
       "8     96.6     53.4     50.1\n",
       "9     73.7     43.2     34.7"
      ]
     },
     "execution_count": 27,
     "metadata": {},
     "output_type": "execute_result"
    }
   ],
   "source": [
    "# your code here\n",
    "sub_df = df[['Score_1','Score_3', 'Score_5']]\n",
    "sub_df"
   ]
  },
  {
   "cell_type": "markdown",
   "metadata": {},
   "source": [
    "#### 10bis. Create a subset of df that contains only the Score 3 to 5 columns."
   ]
  },
  {
   "cell_type": "code",
   "execution_count": 28,
   "metadata": {},
   "outputs": [
    {
     "data": {
      "text/html": [
       "<div>\n",
       "<style scoped>\n",
       "    .dataframe tbody tr th:only-of-type {\n",
       "        vertical-align: middle;\n",
       "    }\n",
       "\n",
       "    .dataframe tbody tr th {\n",
       "        vertical-align: top;\n",
       "    }\n",
       "\n",
       "    .dataframe thead th {\n",
       "        text-align: right;\n",
       "    }\n",
       "</style>\n",
       "<table border=\"1\" class=\"dataframe\">\n",
       "  <thead>\n",
       "    <tr style=\"text-align: right;\">\n",
       "      <th></th>\n",
       "      <th>Score_3</th>\n",
       "      <th>Score_4</th>\n",
       "      <th>Score_5</th>\n",
       "    </tr>\n",
       "  </thead>\n",
       "  <tbody>\n",
       "    <tr>\n",
       "      <th>0</th>\n",
       "      <td>67.5</td>\n",
       "      <td>35.0</td>\n",
       "      <td>78.4</td>\n",
       "    </tr>\n",
       "    <tr>\n",
       "      <th>1</th>\n",
       "      <td>30.8</td>\n",
       "      <td>37.8</td>\n",
       "      <td>87.6</td>\n",
       "    </tr>\n",
       "    <tr>\n",
       "      <th>2</th>\n",
       "      <td>44.2</td>\n",
       "      <td>14.6</td>\n",
       "      <td>91.8</td>\n",
       "    </tr>\n",
       "    <tr>\n",
       "      <th>3</th>\n",
       "      <td>96.1</td>\n",
       "      <td>4.2</td>\n",
       "      <td>69.5</td>\n",
       "    </tr>\n",
       "    <tr>\n",
       "      <th>4</th>\n",
       "      <td>85.4</td>\n",
       "      <td>22.8</td>\n",
       "      <td>35.9</td>\n",
       "    </tr>\n",
       "    <tr>\n",
       "      <th>5</th>\n",
       "      <td>0.1</td>\n",
       "      <td>31.8</td>\n",
       "      <td>89.1</td>\n",
       "    </tr>\n",
       "    <tr>\n",
       "      <th>6</th>\n",
       "      <td>95.0</td>\n",
       "      <td>83.8</td>\n",
       "      <td>26.9</td>\n",
       "    </tr>\n",
       "    <tr>\n",
       "      <th>7</th>\n",
       "      <td>53.8</td>\n",
       "      <td>88.8</td>\n",
       "      <td>68.5</td>\n",
       "    </tr>\n",
       "    <tr>\n",
       "      <th>8</th>\n",
       "      <td>53.4</td>\n",
       "      <td>72.4</td>\n",
       "      <td>50.1</td>\n",
       "    </tr>\n",
       "    <tr>\n",
       "      <th>9</th>\n",
       "      <td>43.2</td>\n",
       "      <td>81.6</td>\n",
       "      <td>34.7</td>\n",
       "    </tr>\n",
       "  </tbody>\n",
       "</table>\n",
       "</div>"
      ],
      "text/plain": [
       "   Score_3  Score_4  Score_5\n",
       "0     67.5     35.0     78.4\n",
       "1     30.8     37.8     87.6\n",
       "2     44.2     14.6     91.8\n",
       "3     96.1      4.2     69.5\n",
       "4     85.4     22.8     35.9\n",
       "5      0.1     31.8     89.1\n",
       "6     95.0     83.8     26.9\n",
       "7     53.8     88.8     68.5\n",
       "8     53.4     72.4     50.1\n",
       "9     43.2     81.6     34.7"
      ]
     },
     "execution_count": 28,
     "metadata": {},
     "output_type": "execute_result"
    }
   ],
   "source": [
    "# your code here\n",
    "sub_df = df.loc[:,'Score_3':'Score_5']\n",
    "sub_df"
   ]
  },
  {
   "cell_type": "markdown",
   "metadata": {},
   "source": [
    "#### 10ter. Create a subset of df that contains only the Score 1, 3, and 5 columns and rows indexed 0 and 3."
   ]
  },
  {
   "cell_type": "code",
   "execution_count": 29,
   "metadata": {},
   "outputs": [
    {
     "data": {
      "text/html": [
       "<div>\n",
       "<style scoped>\n",
       "    .dataframe tbody tr th:only-of-type {\n",
       "        vertical-align: middle;\n",
       "    }\n",
       "\n",
       "    .dataframe tbody tr th {\n",
       "        vertical-align: top;\n",
       "    }\n",
       "\n",
       "    .dataframe thead th {\n",
       "        text-align: right;\n",
       "    }\n",
       "</style>\n",
       "<table border=\"1\" class=\"dataframe\">\n",
       "  <thead>\n",
       "    <tr style=\"text-align: right;\">\n",
       "      <th></th>\n",
       "      <th>Score_1</th>\n",
       "      <th>Score_3</th>\n",
       "      <th>Score_5</th>\n",
       "    </tr>\n",
       "  </thead>\n",
       "  <tbody>\n",
       "    <tr>\n",
       "      <th>0</th>\n",
       "      <td>53.1</td>\n",
       "      <td>67.5</td>\n",
       "      <td>78.4</td>\n",
       "    </tr>\n",
       "    <tr>\n",
       "      <th>3</th>\n",
       "      <td>57.4</td>\n",
       "      <td>96.1</td>\n",
       "      <td>69.5</td>\n",
       "    </tr>\n",
       "  </tbody>\n",
       "</table>\n",
       "</div>"
      ],
      "text/plain": [
       "   Score_1  Score_3  Score_5\n",
       "0     53.1     67.5     78.4\n",
       "3     57.4     96.1     69.5"
      ]
     },
     "execution_count": 29,
     "metadata": {},
     "output_type": "execute_result"
    }
   ],
   "source": [
    "# your code here\n",
    "subdf2 = df.loc[[0,3],['Score_1','Score_3', 'Score_5']]\n",
    "subdf2"
   ]
  },
  {
   "cell_type": "markdown",
   "metadata": {},
   "source": [
    "## Challenge 2"
   ]
  },
  {
   "cell_type": "markdown",
   "metadata": {},
   "source": [
    "#### 1. Create a Pandas DataFrame from the dictionary of product orders below."
   ]
  },
  {
   "cell_type": "code",
   "execution_count": 30,
   "metadata": {},
   "outputs": [
    {
     "data": {
      "text/html": [
       "<div>\n",
       "<style scoped>\n",
       "    .dataframe tbody tr th:only-of-type {\n",
       "        vertical-align: middle;\n",
       "    }\n",
       "\n",
       "    .dataframe tbody tr th {\n",
       "        vertical-align: top;\n",
       "    }\n",
       "\n",
       "    .dataframe thead th {\n",
       "        text-align: right;\n",
       "    }\n",
       "</style>\n",
       "<table border=\"1\" class=\"dataframe\">\n",
       "  <thead>\n",
       "    <tr style=\"text-align: right;\">\n",
       "      <th></th>\n",
       "      <th>Description</th>\n",
       "      <th>Quantity</th>\n",
       "      <th>UnitPrice</th>\n",
       "      <th>Revenue</th>\n",
       "    </tr>\n",
       "  </thead>\n",
       "  <tbody>\n",
       "    <tr>\n",
       "      <th>0</th>\n",
       "      <td>LUNCH BAG APPLE DESIGN</td>\n",
       "      <td>1</td>\n",
       "      <td>1.65</td>\n",
       "      <td>1.65</td>\n",
       "    </tr>\n",
       "    <tr>\n",
       "      <th>1</th>\n",
       "      <td>SET OF 60 VINTAGE LEAF CAKE CASES</td>\n",
       "      <td>24</td>\n",
       "      <td>0.55</td>\n",
       "      <td>13.20</td>\n",
       "    </tr>\n",
       "    <tr>\n",
       "      <th>2</th>\n",
       "      <td>RIBBON REEL STRIPES DESIGN</td>\n",
       "      <td>2</td>\n",
       "      <td>1.65</td>\n",
       "      <td>1.65</td>\n",
       "    </tr>\n",
       "    <tr>\n",
       "      <th>3</th>\n",
       "      <td>WORLD WAR 2 GLIDERS ASSTD DESIGNS</td>\n",
       "      <td>288</td>\n",
       "      <td>0.18</td>\n",
       "      <td>518.40</td>\n",
       "    </tr>\n",
       "    <tr>\n",
       "      <th>4</th>\n",
       "      <td>PLAYING CARDS JUBILEE UNION JACK</td>\n",
       "      <td>2</td>\n",
       "      <td>1.25</td>\n",
       "      <td>2.50</td>\n",
       "    </tr>\n",
       "    <tr>\n",
       "      <th>5</th>\n",
       "      <td>POPCORN HOLDER</td>\n",
       "      <td>7</td>\n",
       "      <td>0.85</td>\n",
       "      <td>5.95</td>\n",
       "    </tr>\n",
       "    <tr>\n",
       "      <th>6</th>\n",
       "      <td>BOX OF VINTAGE ALPHABET BLOCKS</td>\n",
       "      <td>1</td>\n",
       "      <td>1.65</td>\n",
       "      <td>11.95</td>\n",
       "    </tr>\n",
       "    <tr>\n",
       "      <th>7</th>\n",
       "      <td>PARTY BUNTING</td>\n",
       "      <td>2</td>\n",
       "      <td>4.95</td>\n",
       "      <td>19.80</td>\n",
       "    </tr>\n",
       "    <tr>\n",
       "      <th>8</th>\n",
       "      <td>JAZZ HEARTS ADDRESS BOOK</td>\n",
       "      <td>1</td>\n",
       "      <td>0.19</td>\n",
       "      <td>1.90</td>\n",
       "    </tr>\n",
       "    <tr>\n",
       "      <th>9</th>\n",
       "      <td>SET OF 4 SANTA PLACE SETTINGS</td>\n",
       "      <td>2</td>\n",
       "      <td>1.25</td>\n",
       "      <td>60.00</td>\n",
       "    </tr>\n",
       "  </tbody>\n",
       "</table>\n",
       "</div>"
      ],
      "text/plain": [
       "                          Description  Quantity  UnitPrice  Revenue\n",
       "0              LUNCH BAG APPLE DESIGN         1       1.65     1.65\n",
       "1  SET OF 60 VINTAGE LEAF CAKE CASES         24       0.55    13.20\n",
       "2         RIBBON REEL STRIPES DESIGN          2       1.65     1.65\n",
       "3   WORLD WAR 2 GLIDERS ASSTD DESIGNS       288       0.18   518.40\n",
       "4    PLAYING CARDS JUBILEE UNION JACK         2       1.25     2.50\n",
       "5                      POPCORN HOLDER         7       0.85     5.95\n",
       "6      BOX OF VINTAGE ALPHABET BLOCKS         1       1.65    11.95\n",
       "7                       PARTY BUNTING         2       4.95    19.80\n",
       "8            JAZZ HEARTS ADDRESS BOOK         1       0.19     1.90\n",
       "9       SET OF 4 SANTA PLACE SETTINGS         2       1.25    60.00"
      ]
     },
     "execution_count": 30,
     "metadata": {},
     "output_type": "execute_result"
    }
   ],
   "source": [
    "orders = {'Description': ['LUNCH BAG APPLE DESIGN',\n",
    "  'SET OF 60 VINTAGE LEAF CAKE CASES ',\n",
    "  'RIBBON REEL STRIPES DESIGN ',\n",
    "  'WORLD WAR 2 GLIDERS ASSTD DESIGNS',\n",
    "  'PLAYING CARDS JUBILEE UNION JACK',\n",
    "  'POPCORN HOLDER',\n",
    "  'BOX OF VINTAGE ALPHABET BLOCKS',\n",
    "  'PARTY BUNTING',\n",
    "  'JAZZ HEARTS ADDRESS BOOK',\n",
    "  'SET OF 4 SANTA PLACE SETTINGS'],\n",
    " 'Quantity': [1, 24, 2, 288, 2, 7, 1, 2, 1, 2],\n",
    " 'UnitPrice': [1.65, 0.55, 1.65, 0.18, 1.25, 0.85, 1.65, 4.95, 0.19, 1.25],\n",
    " 'Revenue': [1.65, 13.2, 1.65, 518.4, 2.5, 5.95, 11.95, 19.8, 1.9, 60.0]}\n",
    "\n",
    "# your code here\n",
    "dictdf = pd.DataFrame(orders)\n",
    "dictdf"
   ]
  },
  {
   "cell_type": "markdown",
   "metadata": {},
   "source": [
    "#### 2. Sum up revenue by number of items sold."
   ]
  },
  {
   "cell_type": "code",
   "execution_count": 31,
   "metadata": {},
   "outputs": [
    {
     "data": {
      "text/html": [
       "<div>\n",
       "<style scoped>\n",
       "    .dataframe tbody tr th:only-of-type {\n",
       "        vertical-align: middle;\n",
       "    }\n",
       "\n",
       "    .dataframe tbody tr th {\n",
       "        vertical-align: top;\n",
       "    }\n",
       "\n",
       "    .dataframe thead th {\n",
       "        text-align: right;\n",
       "    }\n",
       "</style>\n",
       "<table border=\"1\" class=\"dataframe\">\n",
       "  <thead>\n",
       "    <tr style=\"text-align: right;\">\n",
       "      <th></th>\n",
       "      <th>Revenue</th>\n",
       "    </tr>\n",
       "    <tr>\n",
       "      <th>Quantity</th>\n",
       "      <th></th>\n",
       "    </tr>\n",
       "  </thead>\n",
       "  <tbody>\n",
       "    <tr>\n",
       "      <th>1</th>\n",
       "      <td>15.50</td>\n",
       "    </tr>\n",
       "    <tr>\n",
       "      <th>2</th>\n",
       "      <td>83.95</td>\n",
       "    </tr>\n",
       "    <tr>\n",
       "      <th>7</th>\n",
       "      <td>5.95</td>\n",
       "    </tr>\n",
       "    <tr>\n",
       "      <th>24</th>\n",
       "      <td>13.20</td>\n",
       "    </tr>\n",
       "    <tr>\n",
       "      <th>288</th>\n",
       "      <td>518.40</td>\n",
       "    </tr>\n",
       "  </tbody>\n",
       "</table>\n",
       "</div>"
      ],
      "text/plain": [
       "          Revenue\n",
       "Quantity         \n",
       "1           15.50\n",
       "2           83.95\n",
       "7            5.95\n",
       "24          13.20\n",
       "288        518.40"
      ]
     },
     "execution_count": 31,
     "metadata": {},
     "output_type": "execute_result"
    }
   ],
   "source": [
    "df_revenue = dictdf.groupby('Quantity').agg({'Revenue':'sum'})\n",
    "df_revenue"
   ]
  },
  {
   "cell_type": "markdown",
   "metadata": {},
   "source": [
    "#### 3. Transpose the df under a new name, and calculate the total quantity ordered and revenue generated from these orders."
   ]
  },
  {
   "cell_type": "code",
   "execution_count": 32,
   "metadata": {},
   "outputs": [
    {
     "name": "stdout",
     "output_type": "stream",
     "text": [
      "                                  0                                   1  \\\n",
      "Description  LUNCH BAG APPLE DESIGN  SET OF 60 VINTAGE LEAF CAKE CASES    \n",
      "Quantity                          1                                  24   \n",
      "UnitPrice                      1.65                                0.55   \n",
      "Revenue                        1.65                                13.2   \n",
      "\n",
      "                                       2                                  3  \\\n",
      "Description  RIBBON REEL STRIPES DESIGN   WORLD WAR 2 GLIDERS ASSTD DESIGNS   \n",
      "Quantity                               2                                288   \n",
      "UnitPrice                           1.65                               0.18   \n",
      "Revenue                             1.65                              518.4   \n",
      "\n",
      "                                            4               5  \\\n",
      "Description  PLAYING CARDS JUBILEE UNION JACK  POPCORN HOLDER   \n",
      "Quantity                                    2               7   \n",
      "UnitPrice                                1.25            0.85   \n",
      "Revenue                                   2.5            5.95   \n",
      "\n",
      "                                          6              7  \\\n",
      "Description  BOX OF VINTAGE ALPHABET BLOCKS  PARTY BUNTING   \n",
      "Quantity                                  1              2   \n",
      "UnitPrice                              1.65           4.95   \n",
      "Revenue                               11.95           19.8   \n",
      "\n",
      "                                    8                              9  \n",
      "Description  JAZZ HEARTS ADDRESS BOOK  SET OF 4 SANTA PLACE SETTINGS  \n",
      "Quantity                            1                              2  \n",
      "UnitPrice                        0.19                           1.25  \n",
      "Revenue                           1.9                             60  \n"
     ]
    }
   ],
   "source": [
    "### your code here\n",
    "newdictdf = dictdf.copy().T\n",
    "print(newdictdf)"
   ]
  },
  {
   "cell_type": "code",
   "execution_count": 33,
   "metadata": {},
   "outputs": [
    {
     "name": "stdout",
     "output_type": "stream",
     "text": [
      "Total Quantity Ordered = 330\n",
      "Total Revenue = 637.0\n"
     ]
    }
   ],
   "source": [
    "### your code here\n",
    "\n",
    "print(\"Total Quantity Ordered =\", dictdf['Quantity'].sum())\n",
    "print(\"Total Revenue =\", dictdf['Revenue'].sum())"
   ]
  },
  {
   "cell_type": "markdown",
   "metadata": {},
   "source": [
    "#### 4. Obtain the prices of the most expensive and least expensive items ordered and print the difference."
   ]
  },
  {
   "cell_type": "code",
   "execution_count": 34,
   "metadata": {},
   "outputs": [
    {
     "name": "stdout",
     "output_type": "stream",
     "text": [
      "Most expensive item: 4.95\n",
      "Least expensive item; 0.18\n",
      "Price gap: 4.7700000000000005\n"
     ]
    }
   ],
   "source": [
    "# your code here\n",
    "print(\"Most expensive item:\", dictdf[\"UnitPrice\"].max())\n",
    "print(\"Least expensive item;\", dictdf[\"UnitPrice\"].min())\n",
    "print(\"Price gap:\", dictdf[\"UnitPrice\"].max() - dictdf[\"UnitPrice\"].min())"
   ]
  },
  {
   "cell_type": "code",
   "execution_count": 35,
   "metadata": {},
   "outputs": [
    {
     "data": {
      "text/plain": [
       "2      4\n",
       "1      3\n",
       "24     1\n",
       "7      1\n",
       "288    1\n",
       "Name: Quantity, dtype: int64"
      ]
     },
     "execution_count": 35,
     "metadata": {},
     "output_type": "execute_result"
    }
   ],
   "source": [
    "dictdf[\"Quantity\"].value_counts()"
   ]
  },
  {
   "cell_type": "code",
   "execution_count": 36,
   "metadata": {},
   "outputs": [
    {
     "data": {
      "text/plain": [
       "10"
      ]
     },
     "execution_count": 36,
     "metadata": {},
     "output_type": "execute_result"
    }
   ],
   "source": [
    "dictdf[\"Quantity\"].count()"
   ]
  },
  {
   "cell_type": "code",
   "execution_count": 37,
   "metadata": {},
   "outputs": [
    {
     "data": {
      "text/plain": [
       "2.0"
      ]
     },
     "execution_count": 37,
     "metadata": {},
     "output_type": "execute_result"
    }
   ],
   "source": [
    "dictdf[\"Quantity\"].quantile()\n",
    "# par défaut, médiane"
   ]
  },
  {
   "cell_type": "code",
   "execution_count": 38,
   "metadata": {},
   "outputs": [
    {
     "data": {
      "text/plain": [
       "Quantity      5.75\n",
       "UnitPrice     1.65\n",
       "Revenue      18.15\n",
       "Name: 0.75, dtype: float64"
      ]
     },
     "execution_count": 38,
     "metadata": {},
     "output_type": "execute_result"
    }
   ],
   "source": [
    "dictdf.quantile(.75)"
   ]
  },
  {
   "cell_type": "code",
   "execution_count": 39,
   "metadata": {},
   "outputs": [
    {
     "data": {
      "text/plain": [
       "5.75"
      ]
     },
     "execution_count": 39,
     "metadata": {},
     "output_type": "execute_result"
    }
   ],
   "source": [
    "dictdf[\"Quantity\"].quantile(.75)"
   ]
  },
  {
   "cell_type": "code",
   "execution_count": 40,
   "metadata": {},
   "outputs": [
    {
     "data": {
      "text/plain": [
       "0    1.65\n",
       "dtype: float64"
      ]
     },
     "execution_count": 40,
     "metadata": {},
     "output_type": "execute_result"
    }
   ],
   "source": [
    "dictdf['UnitPrice'].mode()"
   ]
  },
  {
   "cell_type": "code",
   "execution_count": null,
   "metadata": {},
   "outputs": [],
   "source": []
  },
  {
   "cell_type": "code",
   "execution_count": 45,
   "metadata": {},
   "outputs": [
    {
     "data": {
      "text/html": [
       "<div>\n",
       "<style scoped>\n",
       "    .dataframe tbody tr th:only-of-type {\n",
       "        vertical-align: middle;\n",
       "    }\n",
       "\n",
       "    .dataframe tbody tr th {\n",
       "        vertical-align: top;\n",
       "    }\n",
       "\n",
       "    .dataframe thead th {\n",
       "        text-align: right;\n",
       "    }\n",
       "</style>\n",
       "<table border=\"1\" class=\"dataframe\">\n",
       "  <thead>\n",
       "    <tr style=\"text-align: right;\">\n",
       "      <th></th>\n",
       "      <th>Description</th>\n",
       "      <th>Quantity</th>\n",
       "      <th>UnitPrice</th>\n",
       "      <th>Revenue</th>\n",
       "    </tr>\n",
       "  </thead>\n",
       "  <tbody>\n",
       "    <tr>\n",
       "      <th>0</th>\n",
       "      <td>LUNCH BAG APPLE DESIGN</td>\n",
       "      <td>1</td>\n",
       "      <td>1.65</td>\n",
       "      <td>1.65</td>\n",
       "    </tr>\n",
       "    <tr>\n",
       "      <th>1</th>\n",
       "      <td>SET OF 60 VINTAGE LEAF CAKE CASES</td>\n",
       "      <td>24</td>\n",
       "      <td>0.55</td>\n",
       "      <td>13.20</td>\n",
       "    </tr>\n",
       "    <tr>\n",
       "      <th>2</th>\n",
       "      <td>RIBBON REEL STRIPES DESIGN</td>\n",
       "      <td>2</td>\n",
       "      <td>1.65</td>\n",
       "      <td>1.65</td>\n",
       "    </tr>\n",
       "    <tr>\n",
       "      <th>3</th>\n",
       "      <td>WORLD WAR 2 GLIDERS ASSTD DESIGNS</td>\n",
       "      <td>288</td>\n",
       "      <td>0.18</td>\n",
       "      <td>518.40</td>\n",
       "    </tr>\n",
       "    <tr>\n",
       "      <th>4</th>\n",
       "      <td>PLAYING CARDS JUBILEE UNION JACK</td>\n",
       "      <td>2</td>\n",
       "      <td>1.25</td>\n",
       "      <td>2.50</td>\n",
       "    </tr>\n",
       "    <tr>\n",
       "      <th>5</th>\n",
       "      <td>POPCORN HOLDER</td>\n",
       "      <td>7</td>\n",
       "      <td>0.85</td>\n",
       "      <td>5.95</td>\n",
       "    </tr>\n",
       "    <tr>\n",
       "      <th>6</th>\n",
       "      <td>BOX OF VINTAGE ALPHABET BLOCKS</td>\n",
       "      <td>1</td>\n",
       "      <td>1.65</td>\n",
       "      <td>11.95</td>\n",
       "    </tr>\n",
       "    <tr>\n",
       "      <th>7</th>\n",
       "      <td>PARTY BUNTING</td>\n",
       "      <td>2</td>\n",
       "      <td>4.95</td>\n",
       "      <td>19.80</td>\n",
       "    </tr>\n",
       "    <tr>\n",
       "      <th>8</th>\n",
       "      <td>JAZZ HEARTS ADDRESS BOOK</td>\n",
       "      <td>1</td>\n",
       "      <td>0.19</td>\n",
       "      <td>1.90</td>\n",
       "    </tr>\n",
       "    <tr>\n",
       "      <th>9</th>\n",
       "      <td>SET OF 4 SANTA PLACE SETTINGS</td>\n",
       "      <td>2</td>\n",
       "      <td>1.25</td>\n",
       "      <td>60.00</td>\n",
       "    </tr>\n",
       "    <tr>\n",
       "      <th>0</th>\n",
       "      <td>LUNCH BAG APPLE DESIGN</td>\n",
       "      <td>1</td>\n",
       "      <td>1.65</td>\n",
       "      <td>1.65</td>\n",
       "    </tr>\n",
       "    <tr>\n",
       "      <th>1</th>\n",
       "      <td>SET OF 60 VINTAGE LEAF CAKE CASES</td>\n",
       "      <td>24</td>\n",
       "      <td>0.55</td>\n",
       "      <td>13.20</td>\n",
       "    </tr>\n",
       "    <tr>\n",
       "      <th>2</th>\n",
       "      <td>RIBBON REEL STRIPES DESIGN</td>\n",
       "      <td>2</td>\n",
       "      <td>1.65</td>\n",
       "      <td>1.65</td>\n",
       "    </tr>\n",
       "    <tr>\n",
       "      <th>3</th>\n",
       "      <td>WORLD WAR 2 GLIDERS ASSTD DESIGNS</td>\n",
       "      <td>288</td>\n",
       "      <td>0.18</td>\n",
       "      <td>518.40</td>\n",
       "    </tr>\n",
       "    <tr>\n",
       "      <th>4</th>\n",
       "      <td>PLAYING CARDS JUBILEE UNION JACK</td>\n",
       "      <td>2</td>\n",
       "      <td>1.25</td>\n",
       "      <td>2.50</td>\n",
       "    </tr>\n",
       "    <tr>\n",
       "      <th>5</th>\n",
       "      <td>POPCORN HOLDER</td>\n",
       "      <td>7</td>\n",
       "      <td>0.85</td>\n",
       "      <td>5.95</td>\n",
       "    </tr>\n",
       "    <tr>\n",
       "      <th>6</th>\n",
       "      <td>BOX OF VINTAGE ALPHABET BLOCKS</td>\n",
       "      <td>1</td>\n",
       "      <td>1.65</td>\n",
       "      <td>11.95</td>\n",
       "    </tr>\n",
       "    <tr>\n",
       "      <th>7</th>\n",
       "      <td>PARTY BUNTING</td>\n",
       "      <td>2</td>\n",
       "      <td>4.95</td>\n",
       "      <td>19.80</td>\n",
       "    </tr>\n",
       "    <tr>\n",
       "      <th>8</th>\n",
       "      <td>JAZZ HEARTS ADDRESS BOOK</td>\n",
       "      <td>1</td>\n",
       "      <td>0.19</td>\n",
       "      <td>1.90</td>\n",
       "    </tr>\n",
       "    <tr>\n",
       "      <th>9</th>\n",
       "      <td>SET OF 4 SANTA PLACE SETTINGS</td>\n",
       "      <td>2</td>\n",
       "      <td>1.25</td>\n",
       "      <td>60.00</td>\n",
       "    </tr>\n",
       "  </tbody>\n",
       "</table>\n",
       "</div>"
      ],
      "text/plain": [
       "                          Description  Quantity  UnitPrice  Revenue\n",
       "0              LUNCH BAG APPLE DESIGN         1       1.65     1.65\n",
       "1  SET OF 60 VINTAGE LEAF CAKE CASES         24       0.55    13.20\n",
       "2         RIBBON REEL STRIPES DESIGN          2       1.65     1.65\n",
       "3   WORLD WAR 2 GLIDERS ASSTD DESIGNS       288       0.18   518.40\n",
       "4    PLAYING CARDS JUBILEE UNION JACK         2       1.25     2.50\n",
       "5                      POPCORN HOLDER         7       0.85     5.95\n",
       "6      BOX OF VINTAGE ALPHABET BLOCKS         1       1.65    11.95\n",
       "7                       PARTY BUNTING         2       4.95    19.80\n",
       "8            JAZZ HEARTS ADDRESS BOOK         1       0.19     1.90\n",
       "9       SET OF 4 SANTA PLACE SETTINGS         2       1.25    60.00\n",
       "0              LUNCH BAG APPLE DESIGN         1       1.65     1.65\n",
       "1  SET OF 60 VINTAGE LEAF CAKE CASES         24       0.55    13.20\n",
       "2         RIBBON REEL STRIPES DESIGN          2       1.65     1.65\n",
       "3   WORLD WAR 2 GLIDERS ASSTD DESIGNS       288       0.18   518.40\n",
       "4    PLAYING CARDS JUBILEE UNION JACK         2       1.25     2.50\n",
       "5                      POPCORN HOLDER         7       0.85     5.95\n",
       "6      BOX OF VINTAGE ALPHABET BLOCKS         1       1.65    11.95\n",
       "7                       PARTY BUNTING         2       4.95    19.80\n",
       "8            JAZZ HEARTS ADDRESS BOOK         1       0.19     1.90\n",
       "9       SET OF 4 SANTA PLACE SETTINGS         2       1.25    60.00"
      ]
     },
     "execution_count": 45,
     "metadata": {},
     "output_type": "execute_result"
    }
   ],
   "source": [
    "df_final = pd.DataFrame()\n",
    "df_final=df_final.append(dictdf)\n",
    "df_final=df_final.append(dictdf)\n",
    "df_final"
   ]
  },
  {
   "cell_type": "code",
   "execution_count": null,
   "metadata": {},
   "outputs": [],
   "source": []
  },
  {
   "cell_type": "code",
   "execution_count": null,
   "metadata": {},
   "outputs": [],
   "source": []
  }
 ],
 "metadata": {
  "kernelspec": {
   "display_name": "Python 3",
   "language": "python",
   "name": "python3"
  },
  "language_info": {
   "codemirror_mode": {
    "name": "ipython",
    "version": 3
   },
   "file_extension": ".py",
   "mimetype": "text/x-python",
   "name": "python",
   "nbconvert_exporter": "python",
   "pygments_lexer": "ipython3",
   "version": "3.8.5"
  }
 },
 "nbformat": 4,
 "nbformat_minor": 4
}
